{
  "nbformat": 4,
  "nbformat_minor": 0,
  "metadata": {
    "colab": {
      "name": "MBA_IML2_Atividade1.ipynb",
      "provenance": [],
      "collapsed_sections": []
    },
    "kernelspec": {
      "name": "python3",
      "display_name": "Python 3"
    },
    "language_info": {
      "name": "python"
    }
  },
  "cells": [
    {
      "cell_type": "markdown",
      "metadata": {
        "id": "sFqO4oVkSTQx"
      },
      "source": [
        "# Seleçao conjunto de dados"
      ]
    },
    {
      "cell_type": "markdown",
      "metadata": {
        "id": "Dj6GC6iwSNa1"
      },
      "source": [
        "Selecionar conjunto de dados adequado para problemas de agrupamento. Se o conjunto selecionado tiver o atributo classe, ele pode ser retirado"
      ]
    },
    {
      "cell_type": "markdown",
      "metadata": {
        "id": "qy4Uow7lUQ2s"
      },
      "source": [
        "http://archive.ics.uci.edu/ml/datasets/Heart+Disease\n",
        "\n",
        "Este banco de dados contém **76 atributos**, mas todos os experimentos publicados referem-se ao uso de um subconjunto de **14** deles. Em particular, o banco de dados de Cleveland é o único que tem sido usado por pesquisadores de ML para esta data.   \n",
        "O campo \"**objetivo**\" refere-se à presença de doença cardíaca no paciente. É um **número inteiro com valor de 0 (sem presença) a 4**. Os experimentos com o banco de dados de Cleveland se concentraram em simplesmente tentar **distinguir a presença (valores 1,2,3,4) da ausência (valor 0)**."
      ]
    },
    {
      "cell_type": "markdown",
      "metadata": {
        "id": "bixm5i9BSZXX"
      },
      "source": [
        "# Ler o conjunto de dados"
      ]
    },
    {
      "cell_type": "markdown",
      "metadata": {
        "id": "uoJV0yTwSWV0"
      },
      "source": [
        "Ler o conjunto de dados no formato .csv coma função read.csv() (biblioteca Pandas)"
      ]
    },
    {
      "cell_type": "code",
      "metadata": {
        "id": "q3p2a3_uXSR7"
      },
      "source": [
        "from google.colab import drive\n",
        "drive.mount('/content/drive')"
      ],
      "execution_count": null,
      "outputs": []
    },
    {
      "cell_type": "code",
      "metadata": {
        "colab": {
          "base_uri": "https://localhost:8080/",
          "height": 204
        },
        "id": "sSiHDCUwVRzZ",
        "outputId": "5bb531c4-f40d-49b7-85c8-a16f24e64cf2"
      },
      "source": [
        "import pandas as pd\n",
        "import io\n",
        "\n",
        "\n",
        "df = pd.read_csv(\"/content/drive/MyDrive/MBA_data/heart.csv\")\n",
        "df.head()"
      ],
      "execution_count": 12,
      "outputs": [
        {
          "output_type": "execute_result",
          "data": {
            "text/html": [
              "<div>\n",
              "<style scoped>\n",
              "    .dataframe tbody tr th:only-of-type {\n",
              "        vertical-align: middle;\n",
              "    }\n",
              "\n",
              "    .dataframe tbody tr th {\n",
              "        vertical-align: top;\n",
              "    }\n",
              "\n",
              "    .dataframe thead th {\n",
              "        text-align: right;\n",
              "    }\n",
              "</style>\n",
              "<table border=\"1\" class=\"dataframe\">\n",
              "  <thead>\n",
              "    <tr style=\"text-align: right;\">\n",
              "      <th></th>\n",
              "      <th>age</th>\n",
              "      <th>sex</th>\n",
              "      <th>cp</th>\n",
              "      <th>trestbps</th>\n",
              "      <th>chol</th>\n",
              "      <th>fbs</th>\n",
              "      <th>restecg</th>\n",
              "      <th>thalach</th>\n",
              "      <th>exang</th>\n",
              "      <th>oldpeak</th>\n",
              "      <th>slope</th>\n",
              "      <th>ca</th>\n",
              "      <th>thal</th>\n",
              "      <th>target</th>\n",
              "    </tr>\n",
              "  </thead>\n",
              "  <tbody>\n",
              "    <tr>\n",
              "      <th>0</th>\n",
              "      <td>63</td>\n",
              "      <td>1</td>\n",
              "      <td>3</td>\n",
              "      <td>145</td>\n",
              "      <td>233</td>\n",
              "      <td>1</td>\n",
              "      <td>0</td>\n",
              "      <td>150</td>\n",
              "      <td>0</td>\n",
              "      <td>2.3</td>\n",
              "      <td>0</td>\n",
              "      <td>0</td>\n",
              "      <td>1</td>\n",
              "      <td>1</td>\n",
              "    </tr>\n",
              "    <tr>\n",
              "      <th>1</th>\n",
              "      <td>37</td>\n",
              "      <td>1</td>\n",
              "      <td>2</td>\n",
              "      <td>130</td>\n",
              "      <td>250</td>\n",
              "      <td>0</td>\n",
              "      <td>1</td>\n",
              "      <td>187</td>\n",
              "      <td>0</td>\n",
              "      <td>3.5</td>\n",
              "      <td>0</td>\n",
              "      <td>0</td>\n",
              "      <td>2</td>\n",
              "      <td>1</td>\n",
              "    </tr>\n",
              "    <tr>\n",
              "      <th>2</th>\n",
              "      <td>41</td>\n",
              "      <td>0</td>\n",
              "      <td>1</td>\n",
              "      <td>130</td>\n",
              "      <td>204</td>\n",
              "      <td>0</td>\n",
              "      <td>0</td>\n",
              "      <td>172</td>\n",
              "      <td>0</td>\n",
              "      <td>1.4</td>\n",
              "      <td>2</td>\n",
              "      <td>0</td>\n",
              "      <td>2</td>\n",
              "      <td>1</td>\n",
              "    </tr>\n",
              "    <tr>\n",
              "      <th>3</th>\n",
              "      <td>56</td>\n",
              "      <td>1</td>\n",
              "      <td>1</td>\n",
              "      <td>120</td>\n",
              "      <td>236</td>\n",
              "      <td>0</td>\n",
              "      <td>1</td>\n",
              "      <td>178</td>\n",
              "      <td>0</td>\n",
              "      <td>0.8</td>\n",
              "      <td>2</td>\n",
              "      <td>0</td>\n",
              "      <td>2</td>\n",
              "      <td>1</td>\n",
              "    </tr>\n",
              "    <tr>\n",
              "      <th>4</th>\n",
              "      <td>57</td>\n",
              "      <td>0</td>\n",
              "      <td>0</td>\n",
              "      <td>120</td>\n",
              "      <td>354</td>\n",
              "      <td>0</td>\n",
              "      <td>1</td>\n",
              "      <td>163</td>\n",
              "      <td>1</td>\n",
              "      <td>0.6</td>\n",
              "      <td>2</td>\n",
              "      <td>0</td>\n",
              "      <td>2</td>\n",
              "      <td>1</td>\n",
              "    </tr>\n",
              "  </tbody>\n",
              "</table>\n",
              "</div>"
            ],
            "text/plain": [
              "   age  sex  cp  trestbps  chol  fbs  ...  exang  oldpeak  slope  ca  thal  target\n",
              "0   63    1   3       145   233    1  ...      0      2.3      0   0     1       1\n",
              "1   37    1   2       130   250    0  ...      0      3.5      0   0     2       1\n",
              "2   41    0   1       130   204    0  ...      0      1.4      2   0     2       1\n",
              "3   56    1   1       120   236    0  ...      0      0.8      2   0     2       1\n",
              "4   57    0   0       120   354    0  ...      1      0.6      2   0     2       1\n",
              "\n",
              "[5 rows x 14 columns]"
            ]
          },
          "metadata": {},
          "execution_count": 12
        }
      ]
    },
    {
      "cell_type": "markdown",
      "metadata": {
        "id": "3BgrHrqtSm7K"
      },
      "source": [
        "# Retirar a coluna referente ao atributo classe"
      ]
    },
    {
      "cell_type": "markdown",
      "metadata": {
        "id": "tSf4089tSj9J"
      },
      "source": [
        "Criar outra tabela de dados retirando a coluna referente às classes, se for necessário"
      ]
    },
    {
      "cell_type": "code",
      "metadata": {
        "id": "MM3U_rskXc7t"
      },
      "source": [
        "y = df[\"target\"]\n",
        "X = df.drop([\"target\"], axis=1)"
      ],
      "execution_count": 13,
      "outputs": []
    },
    {
      "cell_type": "markdown",
      "metadata": {
        "id": "fPekkKfeSy3o"
      },
      "source": [
        "# Transformaçoes necessarias"
      ]
    },
    {
      "cell_type": "markdown",
      "metadata": {
        "id": "71OXBI4nSx56"
      },
      "source": [
        "Fazer as transformações que forem necessárias: transformar atributos nominais em binários com a função get_dummies() e normalizar os atributos contínuos com a função fit() da classe MinMaxScaler (biblioteca sklearn.preprocessing)"
      ]
    },
    {
      "cell_type": "code",
      "metadata": {
        "colab": {
          "base_uri": "https://localhost:8080/"
        },
        "id": "hW8D5xfTXwhl",
        "outputId": "c5bd8431-36eb-4c70-df74-513d8da29955"
      },
      "source": [
        "df.info()"
      ],
      "execution_count": 14,
      "outputs": [
        {
          "output_type": "stream",
          "name": "stdout",
          "text": [
            "<class 'pandas.core.frame.DataFrame'>\n",
            "RangeIndex: 303 entries, 0 to 302\n",
            "Data columns (total 14 columns):\n",
            " #   Column    Non-Null Count  Dtype  \n",
            "---  ------    --------------  -----  \n",
            " 0   age       303 non-null    int64  \n",
            " 1   sex       303 non-null    int64  \n",
            " 2   cp        303 non-null    int64  \n",
            " 3   trestbps  303 non-null    int64  \n",
            " 4   chol      303 non-null    int64  \n",
            " 5   fbs       303 non-null    int64  \n",
            " 6   restecg   303 non-null    int64  \n",
            " 7   thalach   303 non-null    int64  \n",
            " 8   exang     303 non-null    int64  \n",
            " 9   oldpeak   303 non-null    float64\n",
            " 10  slope     303 non-null    int64  \n",
            " 11  ca        303 non-null    int64  \n",
            " 12  thal      303 non-null    int64  \n",
            " 13  target    303 non-null    int64  \n",
            "dtypes: float64(1), int64(13)\n",
            "memory usage: 33.3 KB\n"
          ]
        }
      ]
    },
    {
      "cell_type": "markdown",
      "metadata": {
        "id": "YoQfzN2TYHcA"
      },
      "source": [
        "Dicionarizaçao dos atributos:\n",
        "- age: age in years\n",
        "- sex: sex (1 = male; 0 = female)\n",
        "- cp: chest pain type\n",
        "  - Value 1: typical angina\n",
        "  - Value 2: atypical angina\n",
        "  - Value 3: non-anginal pain\n",
        "  - Value 4: asymptomatic\n",
        "- trestbps: resting blood pressure (in mm Hg on admission to the hospital)\n",
        "- chol: serum cholestoral in mg/dl\n",
        "- fbs: (fasting blood sugar > 120 mg/dl) (1 = true; 0 = false)\n",
        "- restecg: resting electrocardiographic results\n",
        "  - Value 0: normal\n",
        "  - Value 1: having ST-T wave abnormality (T wave inversions and/or ST elevation or depression of > 0.05 mV)\n",
        "  - Value 2: showing probable or definite left ventricular hypertrophy by Estes' criteria\n",
        "- thalach: maximum heart rate achieved\n",
        "- exang: exercise induced angina (1 = yes; 0 = no)\n",
        "- oldpeak = ST depression induced by exercise relative to rest\n",
        "- slope: the slope of the peak exercise ST segment\n",
        "  - Value 1: upsloping\n",
        "  - Value 2: flat\n",
        "  - Value 3: downsloping\n",
        "- ca: number of major vessels (0-3) colored by flourosopy\n",
        "- thal: 3 = normal; 6 = fixed defect; 7 = reversable defect\n"
      ]
    },
    {
      "cell_type": "code",
      "metadata": {
        "id": "1W_T9fNNXy6r"
      },
      "source": [
        "cat_cols = [\"sex\", \"cp\", \"fbs\", \"restecg\", \"exang\", \"slope\", \"thal\"]\n",
        "num_cols = list(set(X.columns) - set(cat_cols))"
      ],
      "execution_count": 15,
      "outputs": []
    },
    {
      "cell_type": "code",
      "metadata": {
        "colab": {
          "base_uri": "https://localhost:8080/",
          "height": 204
        },
        "id": "oiocZ-kWaCx_",
        "outputId": "8566069d-2422-4990-a984-413b8cb1793b"
      },
      "source": [
        "X_encoded = pd.get_dummies(data = X, columns = cat_cols, drop_first = True)\n",
        "X_encoded.head()"
      ],
      "execution_count": 16,
      "outputs": [
        {
          "output_type": "execute_result",
          "data": {
            "text/html": [
              "<div>\n",
              "<style scoped>\n",
              "    .dataframe tbody tr th:only-of-type {\n",
              "        vertical-align: middle;\n",
              "    }\n",
              "\n",
              "    .dataframe tbody tr th {\n",
              "        vertical-align: top;\n",
              "    }\n",
              "\n",
              "    .dataframe thead th {\n",
              "        text-align: right;\n",
              "    }\n",
              "</style>\n",
              "<table border=\"1\" class=\"dataframe\">\n",
              "  <thead>\n",
              "    <tr style=\"text-align: right;\">\n",
              "      <th></th>\n",
              "      <th>age</th>\n",
              "      <th>trestbps</th>\n",
              "      <th>chol</th>\n",
              "      <th>thalach</th>\n",
              "      <th>oldpeak</th>\n",
              "      <th>ca</th>\n",
              "      <th>sex_1</th>\n",
              "      <th>cp_1</th>\n",
              "      <th>cp_2</th>\n",
              "      <th>cp_3</th>\n",
              "      <th>fbs_1</th>\n",
              "      <th>restecg_1</th>\n",
              "      <th>restecg_2</th>\n",
              "      <th>exang_1</th>\n",
              "      <th>slope_1</th>\n",
              "      <th>slope_2</th>\n",
              "      <th>thal_1</th>\n",
              "      <th>thal_2</th>\n",
              "      <th>thal_3</th>\n",
              "    </tr>\n",
              "  </thead>\n",
              "  <tbody>\n",
              "    <tr>\n",
              "      <th>0</th>\n",
              "      <td>63</td>\n",
              "      <td>145</td>\n",
              "      <td>233</td>\n",
              "      <td>150</td>\n",
              "      <td>2.3</td>\n",
              "      <td>0</td>\n",
              "      <td>1</td>\n",
              "      <td>0</td>\n",
              "      <td>0</td>\n",
              "      <td>1</td>\n",
              "      <td>1</td>\n",
              "      <td>0</td>\n",
              "      <td>0</td>\n",
              "      <td>0</td>\n",
              "      <td>0</td>\n",
              "      <td>0</td>\n",
              "      <td>1</td>\n",
              "      <td>0</td>\n",
              "      <td>0</td>\n",
              "    </tr>\n",
              "    <tr>\n",
              "      <th>1</th>\n",
              "      <td>37</td>\n",
              "      <td>130</td>\n",
              "      <td>250</td>\n",
              "      <td>187</td>\n",
              "      <td>3.5</td>\n",
              "      <td>0</td>\n",
              "      <td>1</td>\n",
              "      <td>0</td>\n",
              "      <td>1</td>\n",
              "      <td>0</td>\n",
              "      <td>0</td>\n",
              "      <td>1</td>\n",
              "      <td>0</td>\n",
              "      <td>0</td>\n",
              "      <td>0</td>\n",
              "      <td>0</td>\n",
              "      <td>0</td>\n",
              "      <td>1</td>\n",
              "      <td>0</td>\n",
              "    </tr>\n",
              "    <tr>\n",
              "      <th>2</th>\n",
              "      <td>41</td>\n",
              "      <td>130</td>\n",
              "      <td>204</td>\n",
              "      <td>172</td>\n",
              "      <td>1.4</td>\n",
              "      <td>0</td>\n",
              "      <td>0</td>\n",
              "      <td>1</td>\n",
              "      <td>0</td>\n",
              "      <td>0</td>\n",
              "      <td>0</td>\n",
              "      <td>0</td>\n",
              "      <td>0</td>\n",
              "      <td>0</td>\n",
              "      <td>0</td>\n",
              "      <td>1</td>\n",
              "      <td>0</td>\n",
              "      <td>1</td>\n",
              "      <td>0</td>\n",
              "    </tr>\n",
              "    <tr>\n",
              "      <th>3</th>\n",
              "      <td>56</td>\n",
              "      <td>120</td>\n",
              "      <td>236</td>\n",
              "      <td>178</td>\n",
              "      <td>0.8</td>\n",
              "      <td>0</td>\n",
              "      <td>1</td>\n",
              "      <td>1</td>\n",
              "      <td>0</td>\n",
              "      <td>0</td>\n",
              "      <td>0</td>\n",
              "      <td>1</td>\n",
              "      <td>0</td>\n",
              "      <td>0</td>\n",
              "      <td>0</td>\n",
              "      <td>1</td>\n",
              "      <td>0</td>\n",
              "      <td>1</td>\n",
              "      <td>0</td>\n",
              "    </tr>\n",
              "    <tr>\n",
              "      <th>4</th>\n",
              "      <td>57</td>\n",
              "      <td>120</td>\n",
              "      <td>354</td>\n",
              "      <td>163</td>\n",
              "      <td>0.6</td>\n",
              "      <td>0</td>\n",
              "      <td>0</td>\n",
              "      <td>0</td>\n",
              "      <td>0</td>\n",
              "      <td>0</td>\n",
              "      <td>0</td>\n",
              "      <td>1</td>\n",
              "      <td>0</td>\n",
              "      <td>1</td>\n",
              "      <td>0</td>\n",
              "      <td>1</td>\n",
              "      <td>0</td>\n",
              "      <td>1</td>\n",
              "      <td>0</td>\n",
              "    </tr>\n",
              "  </tbody>\n",
              "</table>\n",
              "</div>"
            ],
            "text/plain": [
              "   age  trestbps  chol  thalach  ...  slope_2  thal_1  thal_2  thal_3\n",
              "0   63       145   233      150  ...        0       1       0       0\n",
              "1   37       130   250      187  ...        0       0       1       0\n",
              "2   41       130   204      172  ...        1       0       1       0\n",
              "3   56       120   236      178  ...        1       0       1       0\n",
              "4   57       120   354      163  ...        1       0       1       0\n",
              "\n",
              "[5 rows x 19 columns]"
            ]
          },
          "metadata": {},
          "execution_count": 16
        }
      ]
    },
    {
      "cell_type": "code",
      "metadata": {
        "colab": {
          "base_uri": "https://localhost:8080/",
          "height": 204
        },
        "id": "KFnm-u97aQxv",
        "outputId": "3606bfeb-2463-4f25-fdbf-c9604e49b354"
      },
      "source": [
        "from sklearn.preprocessing import MinMaxScaler\n",
        "\n",
        "\n",
        "# Normalizar os atributos contínuos com MinMaxScaler()\n",
        "mms = MinMaxScaler()\n",
        "mms.fit(X_encoded)\n",
        "X_transformed = pd.DataFrame(mms.transform(X_encoded), columns=X_encoded.columns)\n",
        "X_transformed.head()"
      ],
      "execution_count": 19,
      "outputs": [
        {
          "output_type": "execute_result",
          "data": {
            "text/html": [
              "<div>\n",
              "<style scoped>\n",
              "    .dataframe tbody tr th:only-of-type {\n",
              "        vertical-align: middle;\n",
              "    }\n",
              "\n",
              "    .dataframe tbody tr th {\n",
              "        vertical-align: top;\n",
              "    }\n",
              "\n",
              "    .dataframe thead th {\n",
              "        text-align: right;\n",
              "    }\n",
              "</style>\n",
              "<table border=\"1\" class=\"dataframe\">\n",
              "  <thead>\n",
              "    <tr style=\"text-align: right;\">\n",
              "      <th></th>\n",
              "      <th>age</th>\n",
              "      <th>trestbps</th>\n",
              "      <th>chol</th>\n",
              "      <th>thalach</th>\n",
              "      <th>oldpeak</th>\n",
              "      <th>ca</th>\n",
              "      <th>sex_1</th>\n",
              "      <th>cp_1</th>\n",
              "      <th>cp_2</th>\n",
              "      <th>cp_3</th>\n",
              "      <th>fbs_1</th>\n",
              "      <th>restecg_1</th>\n",
              "      <th>restecg_2</th>\n",
              "      <th>exang_1</th>\n",
              "      <th>slope_1</th>\n",
              "      <th>slope_2</th>\n",
              "      <th>thal_1</th>\n",
              "      <th>thal_2</th>\n",
              "      <th>thal_3</th>\n",
              "    </tr>\n",
              "  </thead>\n",
              "  <tbody>\n",
              "    <tr>\n",
              "      <th>0</th>\n",
              "      <td>0.708333</td>\n",
              "      <td>0.481132</td>\n",
              "      <td>0.244292</td>\n",
              "      <td>0.603053</td>\n",
              "      <td>0.370968</td>\n",
              "      <td>0.0</td>\n",
              "      <td>1.0</td>\n",
              "      <td>0.0</td>\n",
              "      <td>0.0</td>\n",
              "      <td>1.0</td>\n",
              "      <td>1.0</td>\n",
              "      <td>0.0</td>\n",
              "      <td>0.0</td>\n",
              "      <td>0.0</td>\n",
              "      <td>0.0</td>\n",
              "      <td>0.0</td>\n",
              "      <td>1.0</td>\n",
              "      <td>0.0</td>\n",
              "      <td>0.0</td>\n",
              "    </tr>\n",
              "    <tr>\n",
              "      <th>1</th>\n",
              "      <td>0.166667</td>\n",
              "      <td>0.339623</td>\n",
              "      <td>0.283105</td>\n",
              "      <td>0.885496</td>\n",
              "      <td>0.564516</td>\n",
              "      <td>0.0</td>\n",
              "      <td>1.0</td>\n",
              "      <td>0.0</td>\n",
              "      <td>1.0</td>\n",
              "      <td>0.0</td>\n",
              "      <td>0.0</td>\n",
              "      <td>1.0</td>\n",
              "      <td>0.0</td>\n",
              "      <td>0.0</td>\n",
              "      <td>0.0</td>\n",
              "      <td>0.0</td>\n",
              "      <td>0.0</td>\n",
              "      <td>1.0</td>\n",
              "      <td>0.0</td>\n",
              "    </tr>\n",
              "    <tr>\n",
              "      <th>2</th>\n",
              "      <td>0.250000</td>\n",
              "      <td>0.339623</td>\n",
              "      <td>0.178082</td>\n",
              "      <td>0.770992</td>\n",
              "      <td>0.225806</td>\n",
              "      <td>0.0</td>\n",
              "      <td>0.0</td>\n",
              "      <td>1.0</td>\n",
              "      <td>0.0</td>\n",
              "      <td>0.0</td>\n",
              "      <td>0.0</td>\n",
              "      <td>0.0</td>\n",
              "      <td>0.0</td>\n",
              "      <td>0.0</td>\n",
              "      <td>0.0</td>\n",
              "      <td>1.0</td>\n",
              "      <td>0.0</td>\n",
              "      <td>1.0</td>\n",
              "      <td>0.0</td>\n",
              "    </tr>\n",
              "    <tr>\n",
              "      <th>3</th>\n",
              "      <td>0.562500</td>\n",
              "      <td>0.245283</td>\n",
              "      <td>0.251142</td>\n",
              "      <td>0.816794</td>\n",
              "      <td>0.129032</td>\n",
              "      <td>0.0</td>\n",
              "      <td>1.0</td>\n",
              "      <td>1.0</td>\n",
              "      <td>0.0</td>\n",
              "      <td>0.0</td>\n",
              "      <td>0.0</td>\n",
              "      <td>1.0</td>\n",
              "      <td>0.0</td>\n",
              "      <td>0.0</td>\n",
              "      <td>0.0</td>\n",
              "      <td>1.0</td>\n",
              "      <td>0.0</td>\n",
              "      <td>1.0</td>\n",
              "      <td>0.0</td>\n",
              "    </tr>\n",
              "    <tr>\n",
              "      <th>4</th>\n",
              "      <td>0.583333</td>\n",
              "      <td>0.245283</td>\n",
              "      <td>0.520548</td>\n",
              "      <td>0.702290</td>\n",
              "      <td>0.096774</td>\n",
              "      <td>0.0</td>\n",
              "      <td>0.0</td>\n",
              "      <td>0.0</td>\n",
              "      <td>0.0</td>\n",
              "      <td>0.0</td>\n",
              "      <td>0.0</td>\n",
              "      <td>1.0</td>\n",
              "      <td>0.0</td>\n",
              "      <td>1.0</td>\n",
              "      <td>0.0</td>\n",
              "      <td>1.0</td>\n",
              "      <td>0.0</td>\n",
              "      <td>1.0</td>\n",
              "      <td>0.0</td>\n",
              "    </tr>\n",
              "  </tbody>\n",
              "</table>\n",
              "</div>"
            ],
            "text/plain": [
              "        age  trestbps      chol   thalach  ...  slope_2  thal_1  thal_2  thal_3\n",
              "0  0.708333  0.481132  0.244292  0.603053  ...      0.0     1.0     0.0     0.0\n",
              "1  0.166667  0.339623  0.283105  0.885496  ...      0.0     0.0     1.0     0.0\n",
              "2  0.250000  0.339623  0.178082  0.770992  ...      1.0     0.0     1.0     0.0\n",
              "3  0.562500  0.245283  0.251142  0.816794  ...      1.0     0.0     1.0     0.0\n",
              "4  0.583333  0.245283  0.520548  0.702290  ...      1.0     0.0     1.0     0.0\n",
              "\n",
              "[5 rows x 19 columns]"
            ]
          },
          "metadata": {},
          "execution_count": 19
        }
      ]
    },
    {
      "cell_type": "markdown",
      "metadata": {
        "id": "rNp6bt_cTdOb"
      },
      "source": [
        "# Definir um intervalo de valores para número de grupos"
      ]
    },
    {
      "cell_type": "markdown",
      "metadata": {
        "id": "JA1SeQRuTYr9"
      },
      "source": [
        "Definir um intervalo de valores para número de grupos (por exemplo, de 2 a 15, ou um intervalo maior caso seja necessário para visualizar a variação do índice no gráfico)"
      ]
    },
    {
      "cell_type": "markdown",
      "metadata": {
        "id": "Vhp8EKZUcSIi"
      },
      "source": [
        "**[1, 30]** sera o nosso intervalo. Dependendo da forma da curva do metodo do cotovelo, a gente aumentara ou nao o nosso intervalo."
      ]
    },
    {
      "cell_type": "markdown",
      "metadata": {
        "id": "jTewjtsbTyua"
      },
      "source": [
        "# Método do cotovelo"
      ]
    },
    {
      "cell_type": "markdown",
      "metadata": {
        "id": "XoR8xRsFc56U"
      },
      "source": [
        "Aplicar o algoritmo k-means no conjunto de dados (sem a classe) para todos os valores do intervalo definido usando a classe Kmeans e a função fit() (biblioteca sklearn.cluster)"
      ]
    },
    {
      "cell_type": "markdown",
      "metadata": {
        "id": "ShgPajJac94J"
      },
      "source": [
        "Coletar o valor do índice soma quadrática das distâncias para todos os agrupamentos encontrados usando o atributo inertia_ do algoritmo Kmeans do Python."
      ]
    },
    {
      "cell_type": "markdown",
      "metadata": {
        "id": "YZAtdm--TrKE"
      },
      "source": [
        "Plotar o gráfico dos índices encontrados para cada número de grupos e determinar qual é o melhor de acordo com o método do cotovelo explicado na aula."
      ]
    },
    {
      "cell_type": "code",
      "metadata": {
        "id": "mCunl3JvSQ89"
      },
      "source": [
        "from sklearn.cluster import KMeans\n",
        "import numpy as np\n",
        "import matplotlib.pyplot as plt\n",
        "import seaborn as sns\n",
        "\n",
        "\n",
        "# Find optimal number of clusters\n",
        "def find_optimal_k_elbow(df, chart_name):\n",
        "    # Create empty sse dictionary\n",
        "    sse = {}\n",
        "    \n",
        "    # Fit KMeans algorithm on k values between 1 and 11\n",
        "    for k in range(1, 30):\n",
        "        kmeans = KMeans(n_clusters=k, random_state=333)\n",
        "        kmeans.fit(df)\n",
        "        sse[k] = kmeans.inertia_\n",
        "    \n",
        "    # Add the title to the plot\n",
        "    plt.title('Elbow criterion ' + chart_name + ' data chart')\n",
        "    \n",
        "    # Create and display a scatter plot\n",
        "    xx = list(sse.keys())\n",
        "    yy = list(sse.values())\n",
        "    sns.pointplot(x=xx, y=yy)\n",
        "    plt.show()\n",
        "    return xx,yy\n",
        "\n",
        "def optimal_number_of_clusters(x1, x2, y1, y2, wcss):\n",
        "    distances = []\n",
        "    for i in range(len(wcss)):\n",
        "        x0 = i+2\n",
        "        y0 = wcss[i]\n",
        "        numerator = abs((y2-y1)*x0 - (x2-x1)*y0 + x2*y1 - y2*x1)\n",
        "        denominator = np.sqrt((y2 - y1)**2 + (x2 - x1)**2)\n",
        "        distances.append(numerator/denominator)\n",
        "    \n",
        "    return distances.index(max(distances)) + 2\n",
        "\n",
        "\n",
        "def get_optimal_number_of_clusters(df, chart_name):\n",
        "    xx, yy = find_optimal_k_elbow(df, chart_name)\n",
        "    # calculating the within clusters sum-of-squares for 19 cluster amounts\n",
        "    x1 = xx[0]\n",
        "    y1 = yy[0]\n",
        "    x2 = xx[len(xx)-1]\n",
        "    y2 = yy[len(yy)-1]\n",
        "    \n",
        "    # calculating the optimal number of clusters\n",
        "    n = optimal_number_of_clusters(x1, x2, y1, y2, yy)\n",
        "    return n"
      ],
      "execution_count": 24,
      "outputs": []
    },
    {
      "cell_type": "code",
      "metadata": {
        "colab": {
          "base_uri": "https://localhost:8080/",
          "height": 297
        },
        "id": "qXTPf0wBbPaU",
        "outputId": "b03fdc27-0e12-4a52-ea70-90c80bd4709c"
      },
      "source": [
        "n = get_optimal_number_of_clusters(X_transformed, chart_name=\"Heart Disease\")\n",
        "print(\"Quantidade de clusters otimal: \", n)"
      ],
      "execution_count": 30,
      "outputs": [
        {
          "output_type": "display_data",
          "data": {
            "image/png": "[encoded data removed]",
            "text/plain": [
              "<Figure size 432x288 with 1 Axes>"
            ]
          },
          "metadata": {
            "needs_background": "light"
          }
        },
        {
          "output_type": "stream",
          "name": "stdout",
          "text": [
            "Quantidade de clusters otimal:  10\n"
          ]
        }
      ]
    },
    {
      "cell_type": "code",
      "metadata": {
        "colab": {
          "base_uri": "https://localhost:8080/"
        },
        "id": "PV_rmEa9bYWO",
        "outputId": "305f9c62-7228-4109-d8d5-1887a5fab474"
      },
      "source": [
        "#Agrupar com KMeans e mostrar os centros obtidos\n",
        "km = KMeans(n_clusters=10)\n",
        "km = km.fit(X_transformed)\n",
        "centers = km.cluster_centers_\n",
        "y_pred = km.labels_\n",
        "print(centers)\n",
        "print(y_pred[0])"
      ],
      "execution_count": 29,
      "outputs": [
        {
          "output_type": "stream",
          "name": "stdout",
          "text": [
            "[[ 4.32870370e-01  3.34381551e-01  2.56891595e-01  6.99462822e-01\n",
            "   6.33213859e-02  1.66666667e-01  6.29629630e-01  5.55111512e-17\n",
            "   1.00000000e+00  2.77555756e-17  1.48148148e-01  1.00000000e+00\n",
            "   5.20417043e-18  3.70370370e-02  1.11022302e-16  9.62962963e-01\n",
            "  -4.16333634e-17  1.00000000e+00  5.55111512e-17]\n",
            " [ 5.49537037e-01  3.86373166e-01  3.01319127e-01  4.60559796e-01\n",
            "   3.31182796e-01  2.55555556e-01  8.22222222e-01  1.94289029e-16\n",
            "   8.88888889e-02  2.22222222e-02  1.77777778e-01  4.66666667e-01\n",
            "   2.22222222e-02  1.00000000e+00  8.66666667e-01  0.00000000e+00\n",
            "  -4.85722573e-17 -2.22044605e-16  9.77777778e-01]\n",
            " [ 5.07478632e-01  3.38171263e-01  2.50497600e-01  6.58250147e-01\n",
            "   1.05459057e-01  1.79487179e-01  9.74358974e-01  1.79487179e-01\n",
            "   2.05128205e-01  2.56410256e-02  2.05128205e-01  6.41025641e-01\n",
            "   3.46944695e-18  3.84615385e-01 -5.55111512e-17  9.48717949e-01\n",
            "  -4.16333634e-17 -1.11022302e-16  1.00000000e+00]\n",
            " [ 5.54761905e-01  3.27762803e-01  2.57469015e-01  5.68811341e-01\n",
            "   1.72350230e-01  1.00000000e-01  1.14285714e-01  1.71428571e-01\n",
            "   3.42857143e-01  5.71428571e-02  2.85714286e-02  6.28571429e-01\n",
            "   2.85714286e-02  1.14285714e-01  9.42857143e-01  3.33066907e-16\n",
            "  -4.16333634e-17  1.00000000e+00  1.66533454e-16]\n",
            " [ 5.32291667e-01  3.45283019e-01  2.97146119e-01  7.01145038e-01\n",
            "   8.06451613e-02  1.62500000e-01  2.22044605e-16  6.00000000e-01\n",
            "  -5.55111512e-17  1.00000000e-01  1.00000000e-01  8.00000000e-01\n",
            "   3.46944695e-18  2.00000000e-01  5.55111512e-17  1.00000000e+00\n",
            "  -3.46944695e-17  1.00000000e+00 -1.11022302e-16]\n",
            " [ 4.99421296e-01  3.36215933e-01  3.02321157e-01  6.73452078e-01\n",
            "   5.10752688e-02  1.38888889e-01  5.55555556e-01  1.38777878e-16\n",
            "   5.27777778e-01  1.38888889e-01  1.66666667e-01 -2.22044605e-16\n",
            "   5.20417043e-18  1.66666667e-01  5.55111512e-17  9.16666667e-01\n",
            "  -4.16333634e-17  9.72222222e-01  1.66533454e-16]\n",
            " [ 5.80729167e-01  3.30974843e-01  2.84627093e-01  5.16221374e-01\n",
            "   2.54704301e-01  1.77083333e-01  8.75000000e-01  8.33333333e-02\n",
            "   2.08333333e-01  1.25000000e-01  2.08333333e-01  8.33333333e-02\n",
            "   4.16666667e-02  6.25000000e-01  9.58333333e-01  1.66533454e-16\n",
            "  -3.46944695e-17  1.00000000e+00 -5.55111512e-17]\n",
            " [ 6.13970588e-01  4.10099889e-01  2.94520548e-01  5.57251908e-01\n",
            "   2.67552182e-01  3.08823529e-01  8.23529412e-01  5.88235294e-02\n",
            "   2.94117647e-01  1.76470588e-01  1.17647059e-01  3.82352941e-01\n",
            "   5.20417043e-18  1.11022302e-16  9.41176471e-01  3.33066907e-16\n",
            "  -4.16333634e-17  0.00000000e+00  1.00000000e+00]\n",
            " [ 5.76388889e-01  4.05136268e-01  2.30593607e-01  4.89397795e-01\n",
            "   2.45519713e-01  2.50000000e-01  9.44444444e-01  1.11111111e-01\n",
            "   1.11111111e-01  1.11111111e-01  2.77777778e-01  3.88888889e-01\n",
            "   5.55555556e-02  4.44444444e-01  7.22222222e-01  1.11111111e-01\n",
            "   1.00000000e+00  0.00000000e+00 -1.11022302e-16]\n",
            " [ 4.27500000e-01  3.31320755e-01  2.43926941e-01  7.32213740e-01\n",
            "   3.87096774e-02  5.00000000e-02  1.00000000e+00  7.60000000e-01\n",
            "  -1.11022302e-16  4.00000000e-02  8.00000000e-02  7.60000000e-01\n",
            "   5.20417043e-18  4.00000000e-02  1.11022302e-16  9.60000000e-01\n",
            "  -3.46944695e-17  1.00000000e+00  0.00000000e+00]]\n",
            "8\n"
          ]
        }
      ]
    },
    {
      "cell_type": "code",
      "metadata": {
        "id": "fHgmZpBFb4is"
      },
      "source": [
        ""
      ],
      "execution_count": null,
      "outputs": []
    }
  ]
}
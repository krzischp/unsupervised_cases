{
  "nbformat": 4,
  "nbformat_minor": 0,
  "metadata": {
    "colab": {
      "name": "MBA - ITI IML 2 - Atividade 2",
      "provenance": [],
      "collapsed_sections": [],
      "toc_visible": true
    },
    "kernelspec": {
      "name": "python3",
      "display_name": "Python 3"
    },
    "language_info": {
      "name": "python"
    }
  },
  "cells": [
    {
      "cell_type": "markdown",
      "metadata": {
        "id": "njabNdS74K3I"
      },
      "source": [
        "Certifique-se de ter feito o upload do arquivo kaggle.json antes de continuar"
      ]
    },
    {
      "cell_type": "code",
      "metadata": {
        "colab": {
          "base_uri": "https://localhost:8080/"
        },
        "id": "AfgjdUyMVlok",
        "outputId": "9f758769-5487-4615-b3bc-963cce59f77c"
      },
      "source": [
        "!pip install kaggle"
      ],
      "execution_count": 1,
      "outputs": [
        {
          "output_type": "stream",
          "name": "stdout",
          "text": [
            "Requirement already satisfied: kaggle in /usr/local/lib/python3.7/dist-packages (1.5.12)\n",
            "Requirement already satisfied: urllib3 in /usr/local/lib/python3.7/dist-packages (from kaggle) (1.24.3)\n",
            "Requirement already satisfied: tqdm in /usr/local/lib/python3.7/dist-packages (from kaggle) (4.62.3)\n",
            "Requirement already satisfied: python-slugify in /usr/local/lib/python3.7/dist-packages (from kaggle) (5.0.2)\n",
            "Requirement already satisfied: six>=1.10 in /usr/local/lib/python3.7/dist-packages (from kaggle) (1.15.0)\n",
            "Requirement already satisfied: python-dateutil in /usr/local/lib/python3.7/dist-packages (from kaggle) (2.8.2)\n",
            "Requirement already satisfied: requests in /usr/local/lib/python3.7/dist-packages (from kaggle) (2.23.0)\n",
            "Requirement already satisfied: certifi in /usr/local/lib/python3.7/dist-packages (from kaggle) (2021.5.30)\n",
            "Requirement already satisfied: text-unidecode>=1.3 in /usr/local/lib/python3.7/dist-packages (from python-slugify->kaggle) (1.3)\n",
            "Requirement already satisfied: chardet<4,>=3.0.2 in /usr/local/lib/python3.7/dist-packages (from requests->kaggle) (3.0.4)\n",
            "Requirement already satisfied: idna<3,>=2.5 in /usr/local/lib/python3.7/dist-packages (from requests->kaggle) (2.10)\n"
          ]
        }
      ]
    },
    {
      "cell_type": "code",
      "metadata": {
        "id": "wTaNY4xFV_ED"
      },
      "source": [
        "!chmod 600 ./kaggle.json"
      ],
      "execution_count": 2,
      "outputs": []
    },
    {
      "cell_type": "code",
      "metadata": {
        "id": "JOKKkKVsx7jq",
        "colab": {
          "base_uri": "https://localhost:8080/"
        },
        "outputId": "8b0c3675-d2af-4670-9c34-b5502f4e27a7"
      },
      "source": [
        "%env KAGGLE_CONFIG_DIR=.\n",
        "!kaggle competitions download -c santander-product-recommendation"
      ],
      "execution_count": 3,
      "outputs": [
        {
          "output_type": "stream",
          "name": "stdout",
          "text": [
            "env: KAGGLE_CONFIG_DIR=.\n"
          ]
        }
      ]
    },
    {
      "cell_type": "code",
      "metadata": {
        "id": "vcoMvhtkyERb"
      },
      "source": [
        "!unzip train_ver2.csv.zip"
      ],
      "execution_count": 4,
      "outputs": []
    },
    {
      "cell_type": "code",
      "metadata": {
        "id": "mVm0qBaQyQVs"
      },
      "source": [
        "import pandas as pd"
      ],
      "execution_count": 5,
      "outputs": []
    },
    {
      "cell_type": "code",
      "metadata": {
        "id": "glMP1TsXyhfZ",
        "colab": {
          "base_uri": "https://localhost:8080/"
        },
        "outputId": "85cb56d5-9bd5-4e77-e843-a6b462b6890b"
      },
      "source": [
        "df = pd.read_csv(\"train_ver2.csv\")"
      ],
      "execution_count": 6,
      "outputs": [
        {
          "output_type": "stream",
          "name": "stderr",
          "text": [
            "/usr/local/lib/python3.7/dist-packages/IPython/core/interactiveshell.py:2718: DtypeWarning: Columns (5,8,11,15) have mixed types.Specify dtype option on import or set low_memory=False.\n",
            "  interactivity=interactivity, compiler=compiler, result=result)\n"
          ]
        }
      ]
    },
    {
      "cell_type": "code",
      "metadata": {
        "id": "FjHwv2vUyjWD",
        "colab": {
          "base_uri": "https://localhost:8080/"
        },
        "outputId": "dc7b7175-e8b4-46f3-ac57-7b02277cde94"
      },
      "source": [
        "df['fecha_dato'].value_counts()"
      ],
      "execution_count": 7,
      "outputs": [
        {
          "output_type": "execute_result",
          "data": {
            "text/plain": [
              "2016-05-28    931453\n",
              "2016-04-28    928274\n",
              "2016-03-28    925076\n",
              "2016-02-28    920904\n",
              "2016-01-28    916269\n",
              "2015-12-28    912021\n",
              "2015-11-28    906109\n",
              "2015-10-28    892251\n",
              "2015-09-28    865440\n",
              "2015-08-28    843201\n",
              "2015-07-28    829817\n",
              "2015-06-28    632110\n",
              "2015-05-28    631957\n",
              "2015-04-28    630367\n",
              "2015-03-28    629209\n",
              "2015-02-28    627394\n",
              "2015-01-28    625457\n",
              "Name: fecha_dato, dtype: int64"
            ]
          },
          "metadata": {},
          "execution_count": 7
        }
      ]
    },
    {
      "cell_type": "code",
      "metadata": {
        "id": "9vGMuoUI2U2f",
        "colab": {
          "base_uri": "https://localhost:8080/"
        },
        "outputId": "9c59a0d5-fcce-4c56-fa21-3152c9543475"
      },
      "source": [
        "import gc\n",
        "\n",
        "subset = df[df[\"fecha_dato\"] == \"2016-05-28\"]\n",
        "del df\n",
        "gc.collect()\n",
        "subset.shape"
      ],
      "execution_count": 8,
      "outputs": [
        {
          "output_type": "execute_result",
          "data": {
            "text/plain": [
              "(931453, 48)"
            ]
          },
          "metadata": {},
          "execution_count": 8
        }
      ]
    },
    {
      "cell_type": "code",
      "metadata": {
        "id": "Yt6o8Q2p2bUC"
      },
      "source": [
        "# subset.to_csv(\"data_05-2016.csv\", index=False)"
      ],
      "execution_count": 9,
      "outputs": []
    },
    {
      "cell_type": "markdown",
      "metadata": {
        "id": "Mt6Gzu3-XCo7"
      },
      "source": [
        "# Ler e analisar os dados"
      ]
    },
    {
      "cell_type": "code",
      "metadata": {
        "colab": {
          "base_uri": "https://localhost:8080/",
          "height": 289
        },
        "id": "2HFvdooEWf9b",
        "outputId": "fcac557f-3f1c-495c-c2c3-6599e4df2705"
      },
      "source": [
        "subset.head()"
      ],
      "execution_count": 10,
      "outputs": [
        {
          "output_type": "execute_result",
          "data": {
            "text/html": [
              "<div>\n",
              "<style scoped>\n",
              "    .dataframe tbody tr th:only-of-type {\n",
              "        vertical-align: middle;\n",
              "    }\n",
              "\n",
              "    .dataframe tbody tr th {\n",
              "        vertical-align: top;\n",
              "    }\n",
              "\n",
              "    .dataframe thead th {\n",
              "        text-align: right;\n",
              "    }\n",
              "</style>\n",
              "<table border=\"1\" class=\"dataframe\">\n",
              "  <thead>\n",
              "    <tr style=\"text-align: right;\">\n",
              "      <th></th>\n",
              "      <th>fecha_dato</th>\n",
              "      <th>ncodpers</th>\n",
              "      <th>ind_empleado</th>\n",
              "      <th>pais_residencia</th>\n",
              "      <th>sexo</th>\n",
              "      <th>age</th>\n",
              "      <th>fecha_alta</th>\n",
              "      <th>ind_nuevo</th>\n",
              "      <th>antiguedad</th>\n",
              "      <th>indrel</th>\n",
              "      <th>ult_fec_cli_1t</th>\n",
              "      <th>indrel_1mes</th>\n",
              "      <th>tiprel_1mes</th>\n",
              "      <th>indresi</th>\n",
              "      <th>indext</th>\n",
              "      <th>conyuemp</th>\n",
              "      <th>canal_entrada</th>\n",
              "      <th>indfall</th>\n",
              "      <th>tipodom</th>\n",
              "      <th>cod_prov</th>\n",
              "      <th>nomprov</th>\n",
              "      <th>ind_actividad_cliente</th>\n",
              "      <th>renta</th>\n",
              "      <th>segmento</th>\n",
              "      <th>ind_ahor_fin_ult1</th>\n",
              "      <th>ind_aval_fin_ult1</th>\n",
              "      <th>ind_cco_fin_ult1</th>\n",
              "      <th>ind_cder_fin_ult1</th>\n",
              "      <th>ind_cno_fin_ult1</th>\n",
              "      <th>ind_ctju_fin_ult1</th>\n",
              "      <th>ind_ctma_fin_ult1</th>\n",
              "      <th>ind_ctop_fin_ult1</th>\n",
              "      <th>ind_ctpp_fin_ult1</th>\n",
              "      <th>ind_deco_fin_ult1</th>\n",
              "      <th>ind_deme_fin_ult1</th>\n",
              "      <th>ind_dela_fin_ult1</th>\n",
              "      <th>ind_ecue_fin_ult1</th>\n",
              "      <th>ind_fond_fin_ult1</th>\n",
              "      <th>ind_hip_fin_ult1</th>\n",
              "      <th>ind_plan_fin_ult1</th>\n",
              "      <th>ind_pres_fin_ult1</th>\n",
              "      <th>ind_reca_fin_ult1</th>\n",
              "      <th>ind_tjcr_fin_ult1</th>\n",
              "      <th>ind_valo_fin_ult1</th>\n",
              "      <th>ind_viv_fin_ult1</th>\n",
              "      <th>ind_nomina_ult1</th>\n",
              "      <th>ind_nom_pens_ult1</th>\n",
              "      <th>ind_recibo_ult1</th>\n",
              "    </tr>\n",
              "  </thead>\n",
              "  <tbody>\n",
              "    <tr>\n",
              "      <th>12715856</th>\n",
              "      <td>2016-05-28</td>\n",
              "      <td>657640</td>\n",
              "      <td>N</td>\n",
              "      <td>ES</td>\n",
              "      <td>H</td>\n",
              "      <td>68</td>\n",
              "      <td>2006-11-17</td>\n",
              "      <td>0.0</td>\n",
              "      <td>114</td>\n",
              "      <td>1.0</td>\n",
              "      <td>NaN</td>\n",
              "      <td>1</td>\n",
              "      <td>I</td>\n",
              "      <td>S</td>\n",
              "      <td>N</td>\n",
              "      <td>NaN</td>\n",
              "      <td>KAQ</td>\n",
              "      <td>N</td>\n",
              "      <td>1.0</td>\n",
              "      <td>28.0</td>\n",
              "      <td>MADRID</td>\n",
              "      <td>0.0</td>\n",
              "      <td>147347.97</td>\n",
              "      <td>02 - PARTICULARES</td>\n",
              "      <td>0</td>\n",
              "      <td>0</td>\n",
              "      <td>0</td>\n",
              "      <td>0</td>\n",
              "      <td>0</td>\n",
              "      <td>0</td>\n",
              "      <td>0</td>\n",
              "      <td>0</td>\n",
              "      <td>0</td>\n",
              "      <td>0</td>\n",
              "      <td>0</td>\n",
              "      <td>0</td>\n",
              "      <td>0</td>\n",
              "      <td>0</td>\n",
              "      <td>0</td>\n",
              "      <td>0</td>\n",
              "      <td>0</td>\n",
              "      <td>0</td>\n",
              "      <td>0</td>\n",
              "      <td>0</td>\n",
              "      <td>0</td>\n",
              "      <td>0.0</td>\n",
              "      <td>0.0</td>\n",
              "      <td>0</td>\n",
              "    </tr>\n",
              "    <tr>\n",
              "      <th>12715857</th>\n",
              "      <td>2016-05-28</td>\n",
              "      <td>657788</td>\n",
              "      <td>N</td>\n",
              "      <td>ES</td>\n",
              "      <td>H</td>\n",
              "      <td>42</td>\n",
              "      <td>2006-11-18</td>\n",
              "      <td>0.0</td>\n",
              "      <td>114</td>\n",
              "      <td>1.0</td>\n",
              "      <td>NaN</td>\n",
              "      <td>1</td>\n",
              "      <td>A</td>\n",
              "      <td>S</td>\n",
              "      <td>N</td>\n",
              "      <td>NaN</td>\n",
              "      <td>KBF</td>\n",
              "      <td>N</td>\n",
              "      <td>1.0</td>\n",
              "      <td>28.0</td>\n",
              "      <td>MADRID</td>\n",
              "      <td>1.0</td>\n",
              "      <td>132559.35</td>\n",
              "      <td>02 - PARTICULARES</td>\n",
              "      <td>0</td>\n",
              "      <td>0</td>\n",
              "      <td>1</td>\n",
              "      <td>0</td>\n",
              "      <td>0</td>\n",
              "      <td>0</td>\n",
              "      <td>0</td>\n",
              "      <td>0</td>\n",
              "      <td>0</td>\n",
              "      <td>0</td>\n",
              "      <td>0</td>\n",
              "      <td>0</td>\n",
              "      <td>0</td>\n",
              "      <td>0</td>\n",
              "      <td>0</td>\n",
              "      <td>0</td>\n",
              "      <td>0</td>\n",
              "      <td>0</td>\n",
              "      <td>0</td>\n",
              "      <td>0</td>\n",
              "      <td>0</td>\n",
              "      <td>0.0</td>\n",
              "      <td>0.0</td>\n",
              "      <td>0</td>\n",
              "    </tr>\n",
              "    <tr>\n",
              "      <th>12715858</th>\n",
              "      <td>2016-05-28</td>\n",
              "      <td>657795</td>\n",
              "      <td>N</td>\n",
              "      <td>ES</td>\n",
              "      <td>V</td>\n",
              "      <td>44</td>\n",
              "      <td>2006-11-18</td>\n",
              "      <td>0.0</td>\n",
              "      <td>114</td>\n",
              "      <td>1.0</td>\n",
              "      <td>NaN</td>\n",
              "      <td>1</td>\n",
              "      <td>A</td>\n",
              "      <td>S</td>\n",
              "      <td>N</td>\n",
              "      <td>NaN</td>\n",
              "      <td>KAP</td>\n",
              "      <td>N</td>\n",
              "      <td>1.0</td>\n",
              "      <td>26.0</td>\n",
              "      <td>RIOJA, LA</td>\n",
              "      <td>1.0</td>\n",
              "      <td>81399.57</td>\n",
              "      <td>02 - PARTICULARES</td>\n",
              "      <td>0</td>\n",
              "      <td>0</td>\n",
              "      <td>1</td>\n",
              "      <td>0</td>\n",
              "      <td>0</td>\n",
              "      <td>0</td>\n",
              "      <td>0</td>\n",
              "      <td>0</td>\n",
              "      <td>0</td>\n",
              "      <td>0</td>\n",
              "      <td>0</td>\n",
              "      <td>0</td>\n",
              "      <td>0</td>\n",
              "      <td>0</td>\n",
              "      <td>0</td>\n",
              "      <td>0</td>\n",
              "      <td>0</td>\n",
              "      <td>0</td>\n",
              "      <td>0</td>\n",
              "      <td>0</td>\n",
              "      <td>0</td>\n",
              "      <td>0.0</td>\n",
              "      <td>0.0</td>\n",
              "      <td>0</td>\n",
              "    </tr>\n",
              "    <tr>\n",
              "      <th>12715859</th>\n",
              "      <td>2016-05-28</td>\n",
              "      <td>657790</td>\n",
              "      <td>N</td>\n",
              "      <td>ES</td>\n",
              "      <td>V</td>\n",
              "      <td>42</td>\n",
              "      <td>2006-11-18</td>\n",
              "      <td>0.0</td>\n",
              "      <td>114</td>\n",
              "      <td>1.0</td>\n",
              "      <td>NaN</td>\n",
              "      <td>1</td>\n",
              "      <td>A</td>\n",
              "      <td>S</td>\n",
              "      <td>N</td>\n",
              "      <td>NaN</td>\n",
              "      <td>KBF</td>\n",
              "      <td>N</td>\n",
              "      <td>1.0</td>\n",
              "      <td>48.0</td>\n",
              "      <td>BIZKAIA</td>\n",
              "      <td>1.0</td>\n",
              "      <td>NaN</td>\n",
              "      <td>02 - PARTICULARES</td>\n",
              "      <td>0</td>\n",
              "      <td>0</td>\n",
              "      <td>0</td>\n",
              "      <td>0</td>\n",
              "      <td>1</td>\n",
              "      <td>0</td>\n",
              "      <td>0</td>\n",
              "      <td>0</td>\n",
              "      <td>0</td>\n",
              "      <td>0</td>\n",
              "      <td>0</td>\n",
              "      <td>0</td>\n",
              "      <td>1</td>\n",
              "      <td>0</td>\n",
              "      <td>0</td>\n",
              "      <td>0</td>\n",
              "      <td>0</td>\n",
              "      <td>0</td>\n",
              "      <td>1</td>\n",
              "      <td>0</td>\n",
              "      <td>0</td>\n",
              "      <td>1.0</td>\n",
              "      <td>1.0</td>\n",
              "      <td>1</td>\n",
              "    </tr>\n",
              "    <tr>\n",
              "      <th>12715860</th>\n",
              "      <td>2016-05-28</td>\n",
              "      <td>657794</td>\n",
              "      <td>N</td>\n",
              "      <td>ES</td>\n",
              "      <td>H</td>\n",
              "      <td>49</td>\n",
              "      <td>2006-11-18</td>\n",
              "      <td>0.0</td>\n",
              "      <td>114</td>\n",
              "      <td>1.0</td>\n",
              "      <td>NaN</td>\n",
              "      <td>1</td>\n",
              "      <td>A</td>\n",
              "      <td>S</td>\n",
              "      <td>N</td>\n",
              "      <td>NaN</td>\n",
              "      <td>KAT</td>\n",
              "      <td>N</td>\n",
              "      <td>1.0</td>\n",
              "      <td>8.0</td>\n",
              "      <td>BARCELONA</td>\n",
              "      <td>1.0</td>\n",
              "      <td>102189.00</td>\n",
              "      <td>01 - TOP</td>\n",
              "      <td>0</td>\n",
              "      <td>0</td>\n",
              "      <td>1</td>\n",
              "      <td>0</td>\n",
              "      <td>0</td>\n",
              "      <td>0</td>\n",
              "      <td>0</td>\n",
              "      <td>0</td>\n",
              "      <td>0</td>\n",
              "      <td>0</td>\n",
              "      <td>0</td>\n",
              "      <td>1</td>\n",
              "      <td>0</td>\n",
              "      <td>0</td>\n",
              "      <td>0</td>\n",
              "      <td>0</td>\n",
              "      <td>0</td>\n",
              "      <td>0</td>\n",
              "      <td>0</td>\n",
              "      <td>0</td>\n",
              "      <td>0</td>\n",
              "      <td>0.0</td>\n",
              "      <td>0.0</td>\n",
              "      <td>0</td>\n",
              "    </tr>\n",
              "  </tbody>\n",
              "</table>\n",
              "</div>"
            ],
            "text/plain": [
              "          fecha_dato  ncodpers  ... ind_nom_pens_ult1 ind_recibo_ult1\n",
              "12715856  2016-05-28    657640  ...               0.0               0\n",
              "12715857  2016-05-28    657788  ...               0.0               0\n",
              "12715858  2016-05-28    657795  ...               0.0               0\n",
              "12715859  2016-05-28    657790  ...               1.0               1\n",
              "12715860  2016-05-28    657794  ...               0.0               0\n",
              "\n",
              "[5 rows x 48 columns]"
            ]
          },
          "metadata": {},
          "execution_count": 10
        }
      ]
    },
    {
      "cell_type": "markdown",
      "metadata": {
        "id": "9Ggz4jE6Bw8b"
      },
      "source": [
        "\"These products are the columns named: ind_(xyz)_ult1, which are the columns #25 - #48 in the training data. \""
      ]
    },
    {
      "cell_type": "markdown",
      "metadata": {
        "id": "MkUwIhnECPGD"
      },
      "source": [
        "- `ind_ahor_fin_ult1`\tSaving Account\n",
        "- `ind_aval_fin_ult1`\tGuarantees\n",
        "- `ind_cco_fin_ult1`\tCurrent Accounts\n",
        "- `ind_cder_fin_ult1`\tDerivada Account\n",
        "- `ind_cno_fin_ult1`\tPayroll Account\n",
        "- `ind_ctju_fin_ult1`\tJunior Account\n",
        "- `ind_ctma_fin_ult1`\tMás particular Account\n",
        "- `ind_ctop_fin_ult1`\tparticular Account\n",
        "- `ind_ctpp_fin_ult1`\tparticular Plus Account\n",
        "- `ind_deco_fin_ult1`\tShort-term deposits\n",
        "- `ind_deme_fin_ult1`\tMedium-term deposits\n",
        "- `ind_dela_fin_ult1`\tLong-term deposits\n",
        "- `ind_ecue_fin_ult1`\te-account\n",
        "- `ind_fond_fin_ult1`\tFunds\n",
        "- `ind_hip_fin_ult1`\tMortgage\n",
        "- `ind_plan_fin_ult1`\tPensions\n",
        "- `ind_pres_fin_ult1`\tLoans\n",
        "- `ind_reca_fin_ult1`\tTaxes\n",
        "- `ind_tjcr_fin_ult1`\tCredit Card\n",
        "- `ind_valo_fin_ult1`\tSecurities\n",
        "- `ind_viv_fin_ult1`\tHome Account\n",
        "- `ind_nomina_ult1`\tPayroll\n",
        "- `ind_nom_pens_ult1`\tPensions\n",
        "- `ind_recibo_ult1`\tDirect Debit"
      ]
    },
    {
      "cell_type": "code",
      "metadata": {
        "id": "e3pgNG4tWoF1"
      },
      "source": [
        "# products columns\n",
        "prods = ['ind_ahor_fin_ult1', 'ind_aval_fin_ult1', 'ind_cco_fin_ult1', \n",
        "        'ind_cder_fin_ult1', 'ind_cno_fin_ult1', 'ind_ctju_fin_ult1', \n",
        "        'ind_ctma_fin_ult1', 'ind_ctop_fin_ult1', 'ind_ctpp_fin_ult1', \n",
        "        'ind_deco_fin_ult1', 'ind_deme_fin_ult1', 'ind_dela_fin_ult1', \n",
        "        'ind_ecue_fin_ult1', 'ind_fond_fin_ult1', 'ind_hip_fin_ult1',\n",
        "        'ind_plan_fin_ult1', 'ind_pres_fin_ult1', 'ind_reca_fin_ult1',\n",
        "        'ind_tjcr_fin_ult1', 'ind_valo_fin_ult1', 'ind_viv_fin_ult1',\n",
        "        'ind_nomina_ult1', 'ind_nom_pens_ult1',  'ind_recibo_ult1']"
      ],
      "execution_count": 11,
      "outputs": []
    },
    {
      "cell_type": "code",
      "metadata": {
        "colab": {
          "base_uri": "https://localhost:8080/"
        },
        "id": "6YovAFr2eb7C",
        "outputId": "fd80df9a-9c23-4575-a56a-0af8614bfd61"
      },
      "source": [
        "subset[\"segmento\"].value_counts()"
      ],
      "execution_count": 12,
      "outputs": [
        {
          "output_type": "execute_result",
          "data": {
            "text/plain": [
              "02 - PARTICULARES     542596\n",
              "03 - UNIVERSITARIO    346417\n",
              "01 - TOP               35415\n",
              "Name: segmento, dtype: int64"
            ]
          },
          "metadata": {},
          "execution_count": 12
        }
      ]
    },
    {
      "cell_type": "markdown",
      "metadata": {
        "id": "tchb1t8oDKj9"
      },
      "source": [
        "`segmento`  segmentation: 01 - VIP, 02 - Individuals 03 - college graduated"
      ]
    },
    {
      "cell_type": "markdown",
      "metadata": {
        "id": "FSMwBcJjm9ad"
      },
      "source": [
        "Uma das colunas se chama `segmento` e representa 3 seguimentos de clientes.  \n",
        "Poderiamos testar um agrupamento com 3 *clusters* e utilizar um criterio de **validaçao externo** baseado nessa coluna. Porem, o enunciado da tarefa menciona para utilizar um criterio de **validaçao interno**."
      ]
    },
    {
      "cell_type": "code",
      "metadata": {
        "colab": {
          "base_uri": "https://localhost:8080/"
        },
        "id": "4L4YiCy1lEsB",
        "outputId": "76d45130-7841-4422-ea30-ed4474377ddc"
      },
      "source": [
        "subset.shape"
      ],
      "execution_count": 13,
      "outputs": [
        {
          "output_type": "execute_result",
          "data": {
            "text/plain": [
              "(931453, 48)"
            ]
          },
          "metadata": {},
          "execution_count": 13
        }
      ]
    },
    {
      "cell_type": "code",
      "metadata": {
        "colab": {
          "base_uri": "https://localhost:8080/"
        },
        "id": "oSju8fFBk7ub",
        "outputId": "1a5e1054-e1d8-4da9-8995-cb7f8e2455a4"
      },
      "source": [
        "subset[\"pais_residencia\"].value_counts()"
      ],
      "execution_count": 14,
      "outputs": [
        {
          "output_type": "execute_result",
          "data": {
            "text/plain": [
              "ES    927461\n",
              "FR       312\n",
              "AR       289\n",
              "GB       283\n",
              "DE       280\n",
              "       ...  \n",
              "LY         1\n",
              "GI         1\n",
              "JM         1\n",
              "LV         1\n",
              "IS         1\n",
              "Name: pais_residencia, Length: 118, dtype: int64"
            ]
          },
          "metadata": {},
          "execution_count": 14
        }
      ]
    },
    {
      "cell_type": "markdown",
      "metadata": {
        "id": "W2rARuh3nAvS"
      },
      "source": [
        "A maior parte dos clientes sao da Espanha.  \n",
        "Os clientes da França devem ser da comunidade espanhola, pois a Santander nao existe na França. Depois vem principalmente clientes dos paises onde a Santander existe: Argentina, Inglaterra, Alemanha, etc. Porem, eles sao bem menos representados do que na Espanha.  \n",
        "Como os clientes da **Espanha** correspondem a mais de 99 porcentos dos clientes, vamos desconsiderar os clientes morando fora.  \n",
        "Assim poderemos depois remover a coluna `pais_residencia` sem medo de perder mais informaçoes e minimizando o risco de gerar ruido."
      ]
    },
    {
      "cell_type": "code",
      "metadata": {
        "colab": {
          "base_uri": "https://localhost:8080/"
        },
        "id": "MPMc8G7iuCdM",
        "outputId": "f8db391e-c079-49b6-9653-1aecb8508b47"
      },
      "source": [
        "subset[\"renta\"].describe()"
      ],
      "execution_count": 15,
      "outputs": [
        {
          "output_type": "execute_result",
          "data": {
            "text/plain": [
              "count    7.024350e+05\n",
              "mean     1.340896e+05\n",
              "std      2.322205e+05\n",
              "min      1.202730e+03\n",
              "25%      6.849379e+04\n",
              "50%      1.014934e+05\n",
              "75%      1.555464e+05\n",
              "max      2.889440e+07\n",
              "Name: renta, dtype: float64"
            ]
          },
          "metadata": {},
          "execution_count": 15
        }
      ]
    },
    {
      "cell_type": "code",
      "metadata": {
        "colab": {
          "base_uri": "https://localhost:8080/"
        },
        "id": "FedUpLYxzV9q",
        "outputId": "21a8c7a5-60fa-4059-f5a6-6d4160ca23d4"
      },
      "source": [
        "Q95 = subset.loc[:, \"renta\"].quantile(0.95)\n",
        "Q95"
      ],
      "execution_count": 16,
      "outputs": [
        {
          "output_type": "execute_result",
          "data": {
            "text/plain": [
              "310008.39"
            ]
          },
          "metadata": {},
          "execution_count": 16
        }
      ]
    },
    {
      "cell_type": "markdown",
      "metadata": {
        "id": "a3D5jH8kxh5v"
      },
      "source": [
        "A distribuiçao de renda é muito *skewed*.  \n",
        "Porem temos conhecimento que esse banco costuma ter uma oferta mais focada em pessoas da classe media, media-alta.  \n",
        "O produto o mais \"elite\" que podemos imaginar seria o cartao black. Mas esse tipo de produto muito exclusivo nao é oferecido via um sistema de recomendaçao automatizado.  \n",
        "Para deixar a distribuiçao de renda mais normal e remover os outliers, ou seja os clientes muito ricos, vamos alterar a renda dos 5 porcentos das pessoas as mais ricas para um maximo de **3.1e+05**. Na etapa de preprocessamento, consideremos que os clientes ganhando mais que isso fazem parte da mesma categoria.  \n",
        "Dessa forma, poderemos utilizar essa variavel no algoritmo de agrupamento, ou mesmo no caso contrario, facilitaremos a interpretaçao da relaçao dessa variavel ao resultado do nosso agrupamento. "
      ]
    },
    {
      "cell_type": "code",
      "metadata": {
        "colab": {
          "base_uri": "https://localhost:8080/",
          "height": 265
        },
        "id": "Fsdq4Zq7vR-C",
        "outputId": "a7e8fdb2-c5ec-4e62-af85-9683785c01f3"
      },
      "source": [
        "import matplotlib.pyplot as plt\n",
        "\n",
        "renta_filter_up = (subset.loc[:,\"renta\"] > Q95)\n",
        "subset.loc[~renta_filter_up, \"renta\"].plot.box()\n",
        "plt.show()"
      ],
      "execution_count": 17,
      "outputs": [
        {
          "output_type": "display_data",
          "data": {
            "image/png": "[encoded data removed]",
            "text/plain": [
              "<Figure size 432x288 with 1 Axes>"
            ]
          },
          "metadata": {
            "needs_background": "light"
          }
        }
      ]
    },
    {
      "cell_type": "code",
      "metadata": {
        "colab": {
          "base_uri": "https://localhost:8080/",
          "height": 265
        },
        "id": "0Xh2O1xdreEt",
        "outputId": "ede8b29c-e615-4f66-ba8c-ff296de259d6"
      },
      "source": [
        "subset.loc[~renta_filter_up, \"renta\"].hist(bins=50)\n",
        "plt.show()"
      ],
      "execution_count": 18,
      "outputs": [
        {
          "output_type": "display_data",
          "data": {
            "image/png": "[encoded data removed]",
            "text/plain": [
              "<Figure size 432x288 with 1 Axes>"
            ]
          },
          "metadata": {
            "needs_background": "light"
          }
        }
      ]
    },
    {
      "cell_type": "markdown",
      "metadata": {
        "id": "udGz7-jf8D88"
      },
      "source": [
        "A variavel age é continua. Vamos visualizar a distribuiçao dela, para entender como simplifica-la com binarizaçao mais pra frente."
      ]
    },
    {
      "cell_type": "code",
      "metadata": {
        "colab": {
          "base_uri": "https://localhost:8080/"
        },
        "id": "ejVKEsOi5kTc",
        "outputId": "dc9fc44d-7da8-4dce-a5f6-702338521d1c"
      },
      "source": [
        "subset[\"age\"].astype(int).describe()"
      ],
      "execution_count": 19,
      "outputs": [
        {
          "output_type": "execute_result",
          "data": {
            "text/plain": [
              "count    931453.000000\n",
              "mean         40.168298\n",
              "std          17.185403\n",
              "min           2.000000\n",
              "25%          25.000000\n",
              "50%          38.000000\n",
              "75%          50.000000\n",
              "max         164.000000\n",
              "Name: age, dtype: float64"
            ]
          },
          "metadata": {},
          "execution_count": 19
        }
      ]
    },
    {
      "cell_type": "markdown",
      "metadata": {
        "id": "9Zlqzq_4-SIK"
      },
      "source": [
        "Uma intuiçao é que depois de 70 anos, a maior preocupaçao é a aposentadoria. Ou seja, as recomendaçoes de produto automatizadas devem ser bem similares para essa classe da populaçao. "
      ]
    },
    {
      "cell_type": "code",
      "metadata": {
        "id": "cTTF6PsW94cE"
      },
      "source": [
        "age_filter_up = (subset.loc[:,\"age\"] > 70)"
      ],
      "execution_count": 20,
      "outputs": []
    },
    {
      "cell_type": "code",
      "metadata": {
        "colab": {
          "base_uri": "https://localhost:8080/",
          "height": 265
        },
        "id": "LJEy7bWw70EG",
        "outputId": "8082e700-979d-481b-d6ae-c080a2abbcb3"
      },
      "source": [
        "subset.loc[~age_filter_up, \"age\"].astype(int).hist(bins=100)\n",
        "plt.show()"
      ],
      "execution_count": 21,
      "outputs": [
        {
          "output_type": "display_data",
          "data": {
            "image/png": "[encoded data removed]",
            "text/plain": [
              "<Figure size 432x288 with 1 Axes>"
            ]
          },
          "metadata": {
            "needs_background": "light"
          }
        }
      ]
    },
    {
      "cell_type": "code",
      "metadata": {
        "id": "I51gIpoE8wyy"
      },
      "source": [
        "import numpy as np\n",
        "\n",
        "bins = [0, 20, 30, 40, 70, np.inf]"
      ],
      "execution_count": 22,
      "outputs": []
    },
    {
      "cell_type": "markdown",
      "metadata": {
        "id": "l1cratSsAKY6"
      },
      "source": [
        "Essa separaçao em classes de idade, parece alinhada com o que costuma ser os interesses bancarios da populaçao.  \n",
        "Decidi incluir o intervalo 30-40 anos, pois costuma ser um périodo dedicado a uma maior estabilidade profissional, e mais tempo para planejar a compra de um imovel, começar a investir dinheiro, etc. "
      ]
    },
    {
      "cell_type": "code",
      "metadata": {
        "colab": {
          "base_uri": "https://localhost:8080/"
        },
        "id": "O_y96e-iLRj-",
        "outputId": "9fe2fc7b-0cdc-436c-b12f-f50e04fdd3cf"
      },
      "source": [
        "subset[\"conyuemp\"].unique()"
      ],
      "execution_count": 23,
      "outputs": [
        {
          "output_type": "execute_result",
          "data": {
            "text/plain": [
              "array([nan, 'N', 'S'], dtype=object)"
            ]
          },
          "metadata": {},
          "execution_count": 23
        }
      ]
    },
    {
      "cell_type": "markdown",
      "metadata": {
        "id": "DYWlOlVlFaoW"
      },
      "source": [
        "## Definiçao do objetivo"
      ]
    },
    {
      "cell_type": "markdown",
      "metadata": {
        "id": "73dW60XZFeZH"
      },
      "source": [
        "Vamos realizar um agrupamento nas variaveis de produto, considerando apenas os clientes morando na Espanha, a fim de extrair um seguimento representativo dos comportamentos de consumo dos clientes. Depois disso, interpreteramos as relaçoes entre esse novos seguimentos e outras variaveis do `dataset`.  \n",
        "As variaveis que vamos considerar na etapa de interpretaçao:"
      ]
    },
    {
      "cell_type": "code",
      "metadata": {
        "id": "fScgSCKEGbab"
      },
      "source": [
        "interp_features = [\"segmento\", \"renta\", \"age\", \"ind_nuevo\", \"antiguedad\", \"conyuemp\", \"ind_empleado\"]"
      ],
      "execution_count": 24,
      "outputs": []
    },
    {
      "cell_type": "markdown",
      "metadata": {
        "id": "Vie50mFLHILe"
      },
      "source": [
        "- `segmento`  segmentation: 01 - VIP, 02 - Individuals 03 - college graduated\n",
        "- `renta`\tGross income of the household\n",
        "- `age`   Age\n",
        "- `ind_nuevo`\tNew customer Index. 1 if the customer registered in the last 6 months\n",
        "- `antiguedad`\tCustomer seniority (in months)\n",
        "- `conyuemp`\tSpouse index. 1 if the customer is spouse of an employee\n",
        "- `ind_empleado`\tEmployee index: A active, B ex employed, F filial, N not employee, P pasive"
      ]
    },
    {
      "cell_type": "markdown",
      "metadata": {
        "id": "s4uQS5OQplXO"
      },
      "source": [
        "# Preprocessamento dos dados"
      ]
    },
    {
      "cell_type": "markdown",
      "metadata": {
        "id": "oI10_V8cKPNw"
      },
      "source": [
        "As variaveis que vamos utilizar no agrupamento ja estao no formato adequado. Cada uma representa a quantidade do produto no mes **2016-05**. Porem, vamos processar as outras variaveis para serem interpretadas, a fim de facilitar o entendimento e a visualizaçao."
      ]
    },
    {
      "cell_type": "markdown",
      "metadata": {
        "id": "-WSeDUKw6RZK"
      },
      "source": [
        "## Seleçao de variaveis"
      ]
    },
    {
      "cell_type": "markdown",
      "metadata": {
        "id": "O-wUDFDzqBpT"
      },
      "source": [
        "Selecionamos os atributos de acordo com as nossas consideraçoes anteriores."
      ]
    },
    {
      "cell_type": "code",
      "metadata": {
        "id": "cT1yEsWoF-7e"
      },
      "source": [
        "sel_features = [\"pais_residencia\"] + interp_features + prods"
      ],
      "execution_count": 25,
      "outputs": []
    },
    {
      "cell_type": "code",
      "metadata": {
        "colab": {
          "base_uri": "https://localhost:8080/",
          "height": 289
        },
        "id": "mo2R1Bw1qLK4",
        "outputId": "c812b321-594e-4377-b9e3-f9717faa5d99"
      },
      "source": [
        "transformed_subset = subset[sel_features]\n",
        "del subset\n",
        "gc.collect()\n",
        "\n",
        "transformed_subset.head()"
      ],
      "execution_count": 26,
      "outputs": [
        {
          "output_type": "execute_result",
          "data": {
            "text/html": [
              "<div>\n",
              "<style scoped>\n",
              "    .dataframe tbody tr th:only-of-type {\n",
              "        vertical-align: middle;\n",
              "    }\n",
              "\n",
              "    .dataframe tbody tr th {\n",
              "        vertical-align: top;\n",
              "    }\n",
              "\n",
              "    .dataframe thead th {\n",
              "        text-align: right;\n",
              "    }\n",
              "</style>\n",
              "<table border=\"1\" class=\"dataframe\">\n",
              "  <thead>\n",
              "    <tr style=\"text-align: right;\">\n",
              "      <th></th>\n",
              "      <th>pais_residencia</th>\n",
              "      <th>segmento</th>\n",
              "      <th>renta</th>\n",
              "      <th>age</th>\n",
              "      <th>ind_nuevo</th>\n",
              "      <th>antiguedad</th>\n",
              "      <th>conyuemp</th>\n",
              "      <th>ind_empleado</th>\n",
              "      <th>ind_ahor_fin_ult1</th>\n",
              "      <th>ind_aval_fin_ult1</th>\n",
              "      <th>ind_cco_fin_ult1</th>\n",
              "      <th>ind_cder_fin_ult1</th>\n",
              "      <th>ind_cno_fin_ult1</th>\n",
              "      <th>ind_ctju_fin_ult1</th>\n",
              "      <th>ind_ctma_fin_ult1</th>\n",
              "      <th>ind_ctop_fin_ult1</th>\n",
              "      <th>ind_ctpp_fin_ult1</th>\n",
              "      <th>ind_deco_fin_ult1</th>\n",
              "      <th>ind_deme_fin_ult1</th>\n",
              "      <th>ind_dela_fin_ult1</th>\n",
              "      <th>ind_ecue_fin_ult1</th>\n",
              "      <th>ind_fond_fin_ult1</th>\n",
              "      <th>ind_hip_fin_ult1</th>\n",
              "      <th>ind_plan_fin_ult1</th>\n",
              "      <th>ind_pres_fin_ult1</th>\n",
              "      <th>ind_reca_fin_ult1</th>\n",
              "      <th>ind_tjcr_fin_ult1</th>\n",
              "      <th>ind_valo_fin_ult1</th>\n",
              "      <th>ind_viv_fin_ult1</th>\n",
              "      <th>ind_nomina_ult1</th>\n",
              "      <th>ind_nom_pens_ult1</th>\n",
              "      <th>ind_recibo_ult1</th>\n",
              "    </tr>\n",
              "  </thead>\n",
              "  <tbody>\n",
              "    <tr>\n",
              "      <th>12715856</th>\n",
              "      <td>ES</td>\n",
              "      <td>02 - PARTICULARES</td>\n",
              "      <td>147347.97</td>\n",
              "      <td>68</td>\n",
              "      <td>0.0</td>\n",
              "      <td>114</td>\n",
              "      <td>NaN</td>\n",
              "      <td>N</td>\n",
              "      <td>0</td>\n",
              "      <td>0</td>\n",
              "      <td>0</td>\n",
              "      <td>0</td>\n",
              "      <td>0</td>\n",
              "      <td>0</td>\n",
              "      <td>0</td>\n",
              "      <td>0</td>\n",
              "      <td>0</td>\n",
              "      <td>0</td>\n",
              "      <td>0</td>\n",
              "      <td>0</td>\n",
              "      <td>0</td>\n",
              "      <td>0</td>\n",
              "      <td>0</td>\n",
              "      <td>0</td>\n",
              "      <td>0</td>\n",
              "      <td>0</td>\n",
              "      <td>0</td>\n",
              "      <td>0</td>\n",
              "      <td>0</td>\n",
              "      <td>0.0</td>\n",
              "      <td>0.0</td>\n",
              "      <td>0</td>\n",
              "    </tr>\n",
              "    <tr>\n",
              "      <th>12715857</th>\n",
              "      <td>ES</td>\n",
              "      <td>02 - PARTICULARES</td>\n",
              "      <td>132559.35</td>\n",
              "      <td>42</td>\n",
              "      <td>0.0</td>\n",
              "      <td>114</td>\n",
              "      <td>NaN</td>\n",
              "      <td>N</td>\n",
              "      <td>0</td>\n",
              "      <td>0</td>\n",
              "      <td>1</td>\n",
              "      <td>0</td>\n",
              "      <td>0</td>\n",
              "      <td>0</td>\n",
              "      <td>0</td>\n",
              "      <td>0</td>\n",
              "      <td>0</td>\n",
              "      <td>0</td>\n",
              "      <td>0</td>\n",
              "      <td>0</td>\n",
              "      <td>0</td>\n",
              "      <td>0</td>\n",
              "      <td>0</td>\n",
              "      <td>0</td>\n",
              "      <td>0</td>\n",
              "      <td>0</td>\n",
              "      <td>0</td>\n",
              "      <td>0</td>\n",
              "      <td>0</td>\n",
              "      <td>0.0</td>\n",
              "      <td>0.0</td>\n",
              "      <td>0</td>\n",
              "    </tr>\n",
              "    <tr>\n",
              "      <th>12715858</th>\n",
              "      <td>ES</td>\n",
              "      <td>02 - PARTICULARES</td>\n",
              "      <td>81399.57</td>\n",
              "      <td>44</td>\n",
              "      <td>0.0</td>\n",
              "      <td>114</td>\n",
              "      <td>NaN</td>\n",
              "      <td>N</td>\n",
              "      <td>0</td>\n",
              "      <td>0</td>\n",
              "      <td>1</td>\n",
              "      <td>0</td>\n",
              "      <td>0</td>\n",
              "      <td>0</td>\n",
              "      <td>0</td>\n",
              "      <td>0</td>\n",
              "      <td>0</td>\n",
              "      <td>0</td>\n",
              "      <td>0</td>\n",
              "      <td>0</td>\n",
              "      <td>0</td>\n",
              "      <td>0</td>\n",
              "      <td>0</td>\n",
              "      <td>0</td>\n",
              "      <td>0</td>\n",
              "      <td>0</td>\n",
              "      <td>0</td>\n",
              "      <td>0</td>\n",
              "      <td>0</td>\n",
              "      <td>0.0</td>\n",
              "      <td>0.0</td>\n",
              "      <td>0</td>\n",
              "    </tr>\n",
              "    <tr>\n",
              "      <th>12715859</th>\n",
              "      <td>ES</td>\n",
              "      <td>02 - PARTICULARES</td>\n",
              "      <td>NaN</td>\n",
              "      <td>42</td>\n",
              "      <td>0.0</td>\n",
              "      <td>114</td>\n",
              "      <td>NaN</td>\n",
              "      <td>N</td>\n",
              "      <td>0</td>\n",
              "      <td>0</td>\n",
              "      <td>0</td>\n",
              "      <td>0</td>\n",
              "      <td>1</td>\n",
              "      <td>0</td>\n",
              "      <td>0</td>\n",
              "      <td>0</td>\n",
              "      <td>0</td>\n",
              "      <td>0</td>\n",
              "      <td>0</td>\n",
              "      <td>0</td>\n",
              "      <td>1</td>\n",
              "      <td>0</td>\n",
              "      <td>0</td>\n",
              "      <td>0</td>\n",
              "      <td>0</td>\n",
              "      <td>0</td>\n",
              "      <td>1</td>\n",
              "      <td>0</td>\n",
              "      <td>0</td>\n",
              "      <td>1.0</td>\n",
              "      <td>1.0</td>\n",
              "      <td>1</td>\n",
              "    </tr>\n",
              "    <tr>\n",
              "      <th>12715860</th>\n",
              "      <td>ES</td>\n",
              "      <td>01 - TOP</td>\n",
              "      <td>102189.00</td>\n",
              "      <td>49</td>\n",
              "      <td>0.0</td>\n",
              "      <td>114</td>\n",
              "      <td>NaN</td>\n",
              "      <td>N</td>\n",
              "      <td>0</td>\n",
              "      <td>0</td>\n",
              "      <td>1</td>\n",
              "      <td>0</td>\n",
              "      <td>0</td>\n",
              "      <td>0</td>\n",
              "      <td>0</td>\n",
              "      <td>0</td>\n",
              "      <td>0</td>\n",
              "      <td>0</td>\n",
              "      <td>0</td>\n",
              "      <td>1</td>\n",
              "      <td>0</td>\n",
              "      <td>0</td>\n",
              "      <td>0</td>\n",
              "      <td>0</td>\n",
              "      <td>0</td>\n",
              "      <td>0</td>\n",
              "      <td>0</td>\n",
              "      <td>0</td>\n",
              "      <td>0</td>\n",
              "      <td>0.0</td>\n",
              "      <td>0.0</td>\n",
              "      <td>0</td>\n",
              "    </tr>\n",
              "  </tbody>\n",
              "</table>\n",
              "</div>"
            ],
            "text/plain": [
              "         pais_residencia           segmento  ...  ind_nom_pens_ult1 ind_recibo_ult1\n",
              "12715856              ES  02 - PARTICULARES  ...                0.0               0\n",
              "12715857              ES  02 - PARTICULARES  ...                0.0               0\n",
              "12715858              ES  02 - PARTICULARES  ...                0.0               0\n",
              "12715859              ES  02 - PARTICULARES  ...                1.0               1\n",
              "12715860              ES           01 - TOP  ...                0.0               0\n",
              "\n",
              "[5 rows x 32 columns]"
            ]
          },
          "metadata": {},
          "execution_count": 26
        }
      ]
    },
    {
      "cell_type": "markdown",
      "metadata": {
        "id": "h_Sj1jgRpqwR"
      },
      "source": [
        "Podemos remover os clientes que nao moram na Espanha."
      ]
    },
    {
      "cell_type": "code",
      "metadata": {
        "id": "Rf8eHAI-p6Zr"
      },
      "source": [
        "transformed_subset = transformed_subset[transformed_subset[\"pais_residencia\"] == \"ES\"]\n",
        "transformed_subset.drop([\"pais_residencia\"], axis=1, inplace=True)"
      ],
      "execution_count": 27,
      "outputs": []
    },
    {
      "cell_type": "code",
      "metadata": {
        "colab": {
          "base_uri": "https://localhost:8080/"
        },
        "id": "vryhSMIZfKeI",
        "outputId": "32896288-4cd5-4549-8fef-6ddddd847b21"
      },
      "source": [
        "transformed_subset.columns"
      ],
      "execution_count": 28,
      "outputs": [
        {
          "output_type": "execute_result",
          "data": {
            "text/plain": [
              "Index(['segmento', 'renta', 'age', 'ind_nuevo', 'antiguedad', 'conyuemp',\n",
              "       'ind_empleado', 'ind_ahor_fin_ult1', 'ind_aval_fin_ult1',\n",
              "       'ind_cco_fin_ult1', 'ind_cder_fin_ult1', 'ind_cno_fin_ult1',\n",
              "       'ind_ctju_fin_ult1', 'ind_ctma_fin_ult1', 'ind_ctop_fin_ult1',\n",
              "       'ind_ctpp_fin_ult1', 'ind_deco_fin_ult1', 'ind_deme_fin_ult1',\n",
              "       'ind_dela_fin_ult1', 'ind_ecue_fin_ult1', 'ind_fond_fin_ult1',\n",
              "       'ind_hip_fin_ult1', 'ind_plan_fin_ult1', 'ind_pres_fin_ult1',\n",
              "       'ind_reca_fin_ult1', 'ind_tjcr_fin_ult1', 'ind_valo_fin_ult1',\n",
              "       'ind_viv_fin_ult1', 'ind_nomina_ult1', 'ind_nom_pens_ult1',\n",
              "       'ind_recibo_ult1'],\n",
              "      dtype='object')"
            ]
          },
          "metadata": {},
          "execution_count": 28
        }
      ]
    },
    {
      "cell_type": "markdown",
      "metadata": {
        "id": "xJdjOU_b6Vpz"
      },
      "source": [
        "## Impute dos valores null"
      ]
    },
    {
      "cell_type": "code",
      "metadata": {
        "colab": {
          "base_uri": "https://localhost:8080/"
        },
        "id": "BlnXdVRc6b5X",
        "outputId": "30ac98cf-ad9a-4361-a2a5-a12cf8500dda"
      },
      "source": [
        "transformed_subset.shape"
      ],
      "execution_count": 29,
      "outputs": [
        {
          "output_type": "execute_result",
          "data": {
            "text/plain": [
              "(927461, 31)"
            ]
          },
          "metadata": {},
          "execution_count": 29
        }
      ]
    },
    {
      "cell_type": "code",
      "metadata": {
        "colab": {
          "base_uri": "https://localhost:8080/"
        },
        "id": "1mMOGNTZ6Yoy",
        "outputId": "296c8709-f46b-466d-8f01-178aaa10b95b"
      },
      "source": [
        "transformed_subset.info()"
      ],
      "execution_count": 30,
      "outputs": [
        {
          "output_type": "stream",
          "name": "stdout",
          "text": [
            "<class 'pandas.core.frame.DataFrame'>\n",
            "Int64Index: 927461 entries, 12715856 to 13647308\n",
            "Data columns (total 31 columns):\n",
            " #   Column             Non-Null Count   Dtype  \n",
            "---  ------             --------------   -----  \n",
            " 0   segmento           920457 non-null  object \n",
            " 1   renta              702391 non-null  float64\n",
            " 2   age                927461 non-null  object \n",
            " 3   ind_nuevo          927461 non-null  float64\n",
            " 4   antiguedad         927461 non-null  object \n",
            " 5   conyuemp           114 non-null     object \n",
            " 6   ind_empleado       927461 non-null  object \n",
            " 7   ind_ahor_fin_ult1  927461 non-null  int64  \n",
            " 8   ind_aval_fin_ult1  927461 non-null  int64  \n",
            " 9   ind_cco_fin_ult1   927461 non-null  int64  \n",
            " 10  ind_cder_fin_ult1  927461 non-null  int64  \n",
            " 11  ind_cno_fin_ult1   927461 non-null  int64  \n",
            " 12  ind_ctju_fin_ult1  927461 non-null  int64  \n",
            " 13  ind_ctma_fin_ult1  927461 non-null  int64  \n",
            " 14  ind_ctop_fin_ult1  927461 non-null  int64  \n",
            " 15  ind_ctpp_fin_ult1  927461 non-null  int64  \n",
            " 16  ind_deco_fin_ult1  927461 non-null  int64  \n",
            " 17  ind_deme_fin_ult1  927461 non-null  int64  \n",
            " 18  ind_dela_fin_ult1  927461 non-null  int64  \n",
            " 19  ind_ecue_fin_ult1  927461 non-null  int64  \n",
            " 20  ind_fond_fin_ult1  927461 non-null  int64  \n",
            " 21  ind_hip_fin_ult1   927461 non-null  int64  \n",
            " 22  ind_plan_fin_ult1  927461 non-null  int64  \n",
            " 23  ind_pres_fin_ult1  927461 non-null  int64  \n",
            " 24  ind_reca_fin_ult1  927461 non-null  int64  \n",
            " 25  ind_tjcr_fin_ult1  927461 non-null  int64  \n",
            " 26  ind_valo_fin_ult1  927461 non-null  int64  \n",
            " 27  ind_viv_fin_ult1   927461 non-null  int64  \n",
            " 28  ind_nomina_ult1    927461 non-null  float64\n",
            " 29  ind_nom_pens_ult1  927461 non-null  float64\n",
            " 30  ind_recibo_ult1    927461 non-null  int64  \n",
            "dtypes: float64(4), int64(22), object(5)\n",
            "memory usage: 226.4+ MB\n"
          ]
        }
      ]
    },
    {
      "cell_type": "markdown",
      "metadata": {
        "id": "53JttAPmLmBl"
      },
      "source": [
        "Nenhuma das variaveis de produto contem o valor *null*.  \n",
        "Das variaveis de interpretaçao, so vamos tratar os valores *null* da coluna `conyuemp`.  \n",
        "De fato, podemos assumir que quando a informaçao nao foi preenchida, entao o cliente nao é cônjuge de um funcionário."
      ]
    },
    {
      "cell_type": "code",
      "metadata": {
        "colab": {
          "base_uri": "https://localhost:8080/"
        },
        "id": "_lHJNiUn67Bh",
        "outputId": "85e54b78-5d44-4802-d993-49ab10c7f7cb"
      },
      "source": [
        "transformed_subset.loc[:, \"conyuemp\"] = transformed_subset[\"conyuemp\"].fillna('N')\n",
        "transformed_subset.shape"
      ],
      "execution_count": 31,
      "outputs": [
        {
          "output_type": "execute_result",
          "data": {
            "text/plain": [
              "(927461, 31)"
            ]
          },
          "metadata": {},
          "execution_count": 31
        }
      ]
    },
    {
      "cell_type": "markdown",
      "metadata": {
        "id": "doVITryY7bmr"
      },
      "source": [
        "## Simplificaçao dos dados"
      ]
    },
    {
      "cell_type": "markdown",
      "metadata": {
        "id": "bdTIIrIk4hPn"
      },
      "source": [
        "Alteramos a renda dos 5 porcentos dos clientes os mais ricos, conforme a nossa consideraçao da etapa anterior."
      ]
    },
    {
      "cell_type": "code",
      "metadata": {
        "id": "hC-VWaxcq9vG"
      },
      "source": [
        "transformed_subset.loc[renta_filter_up, \"renta\"] = Q95"
      ],
      "execution_count": 32,
      "outputs": []
    },
    {
      "cell_type": "code",
      "metadata": {
        "id": "cMFQM_n34uUS"
      },
      "source": [
        "transformed_subset[\"binned_age\"] = pd.cut(\n",
        "    transformed_subset[\"age\"], \n",
        "    bins=bins,\n",
        "    labels=[\"0-20\", \"20-30\", \"30-40\", \"40-70\", \"70+\"])\n",
        "transformed_subset.drop([\"age\"], axis=1, inplace=True)"
      ],
      "execution_count": 33,
      "outputs": []
    },
    {
      "cell_type": "markdown",
      "metadata": {
        "id": "beCfz1MONxlH"
      },
      "source": [
        "# Agrupamento"
      ]
    },
    {
      "cell_type": "markdown",
      "metadata": {
        "id": "UxtMo0FqQVDg"
      },
      "source": [
        "## K-means"
      ]
    },
    {
      "cell_type": "code",
      "metadata": {
        "colab": {
          "base_uri": "https://localhost:8080/",
          "height": 297
        },
        "id": "4Zc36uWzGz9H",
        "outputId": "f467f36e-bac9-4760-ae57-869199e56cae"
      },
      "source": [
        "from sklearn.cluster import KMeans\n",
        "import seaborn as sns\n",
        "\n",
        "def find_optimal_k_elbow(df_norm_scaled, chart_name):\n",
        "    # Create empty sse dictionary\n",
        "    sse = {}\n",
        "    \n",
        "    # Fit KMeans algorithm on k values between 1 and 11\n",
        "    for k in range(1, 11):\n",
        "        kmeans = KMeans(n_clusters=k, random_state=333)\n",
        "        kmeans.fit(df_norm_scaled)\n",
        "        sse[k] = kmeans.inertia_\n",
        "    \n",
        "    # Add the title to the plot\n",
        "    plt.title('Elbow criterion ' + chart_name + ' data chart')\n",
        "    \n",
        "    # Create and display a scatter plot\n",
        "    xx = list(sse.keys())\n",
        "    yy = list(sse.values())\n",
        "    sns.pointplot(x=xx, y=yy)\n",
        "    plt.show()\n",
        "    return xx,yy\n",
        "\n",
        "def optimal_number_of_clusters(x1, x2, y1, y2, wcss):\n",
        "    distances = []\n",
        "    for i in range(len(wcss)):\n",
        "        x0 = i+2\n",
        "        y0 = wcss[i]\n",
        "        numerator = abs((y2-y1)*x0 - (x2-x1)*y0 + x2*y1 - y2*x1)\n",
        "        denominator = np.sqrt((y2 - y1)**2 + (x2 - x1)**2)\n",
        "        distances.append(numerator/denominator)\n",
        "    \n",
        "    return distances.index(max(distances)) + 2\n",
        "\n",
        "\n",
        "def get_optimal_number_of_clusters(df_norm_scaled, chart_name):\n",
        "    xx, yy = find_optimal_k_elbow(df_norm_scaled, chart_name)\n",
        "    # calculating the within clusters sum-of-squares for 19 cluster amounts\n",
        "    x1 = xx[0]\n",
        "    y1 = yy[0]\n",
        "    x2 = xx[len(xx)-1]\n",
        "    y2 = yy[len(yy)-1]\n",
        "    \n",
        "    # calculating the optimal number of clusters\n",
        "    n = optimal_number_of_clusters(x1, x2, y1, y2, yy)\n",
        "    return n\n",
        "\n",
        "n = get_optimal_number_of_clusters(transformed_subset[prods], chart_name=\"scaled\")\n",
        "print(\"Quantidade de clusters otimal: \", n)"
      ],
      "execution_count": 34,
      "outputs": [
        {
          "output_type": "display_data",
          "data": {
            "image/png": "[encoded data removed]",
            "text/plain": [
              "<Figure size 432x288 with 1 Axes>"
            ]
          },
          "metadata": {
            "needs_background": "light"
          }
        },
        {
          "output_type": "stream",
          "name": "stdout",
          "text": [
            "Quantidade de clusters otimal:  4\n"
          ]
        }
      ]
    },
    {
      "cell_type": "markdown",
      "metadata": {
        "id": "PGjvyBgKQSle"
      },
      "source": [
        "## Avaliaçao com medidas internas"
      ]
    },
    {
      "cell_type": "markdown",
      "metadata": {
        "id": "Hj2EyuHJ2DGR"
      },
      "source": [
        "A complexidade dos algoritmos de validaçao interna poder ser muito alta. O nosso dataset tem quase um milhao de registros. Vamos considerar um sample de 200k linhas para podermos proseguir."
      ]
    },
    {
      "cell_type": "markdown",
      "metadata": {
        "id": "DjBv1Aa7R3zA"
      },
      "source": [
        "### Coeficiente de silhueta"
      ]
    },
    {
      "cell_type": "code",
      "metadata": {
        "colab": {
          "base_uri": "https://localhost:8080/"
        },
        "id": "aL0f0W8T1tZc",
        "outputId": "7f225951-66f7-456d-ad4b-421292eb69f8"
      },
      "source": [
        "sampled_transformed_subset = transformed_subset.sample(200000)\n",
        "sampled_transformed_subset.shape"
      ],
      "execution_count": 92,
      "outputs": [
        {
          "output_type": "execute_result",
          "data": {
            "text/plain": [
              "(200000, 31)"
            ]
          },
          "metadata": {},
          "execution_count": 92
        }
      ]
    },
    {
      "cell_type": "code",
      "metadata": {
        "id": "dD9ylfuowT4S"
      },
      "source": [
        "from yellowbrick.cluster import SilhouetteVisualizer\n",
        "\n",
        "visualizer = SilhouetteVisualizer(KMeans(4, random_state=42), colors='yellowbrick')\n",
        "\n",
        "visualizer.fit(sampled_transformed_subset[prods])\n",
        "visualizer.show()"
      ],
      "execution_count": 118,
      "outputs": []
    },
    {
      "cell_type": "markdown",
      "metadata": {
        "id": "DA1Rej3KoBcM"
      },
      "source": [
        "![silhueta.png](data:image/png;base64,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)"
      ]
    },
    {
      "cell_type": "markdown",
      "metadata": {
        "id": "KDsjmVaTp7Jl"
      },
      "source": [
        "A estrutura de agrupamento parece razoavel."
      ]
    },
    {
      "cell_type": "markdown",
      "metadata": {
        "id": "iDko3kLMR8eq"
      },
      "source": [
        "### Outras medidas"
      ]
    },
    {
      "cell_type": "code",
      "metadata": {
        "id": "plATijZNqv6q"
      },
      "source": [
        "model = KMeans(4, random_state=42).fit(sampled_transformed_subset[prods])"
      ],
      "execution_count": null,
      "outputs": []
    },
    {
      "cell_type": "code",
      "metadata": {
        "colab": {
          "base_uri": "https://localhost:8080/"
        },
        "id": "ROA2U7QuSHr1",
        "outputId": "18a9333f-2518-4a8b-8a33-28eaf1665da0"
      },
      "source": [
        "from sklearn.metrics import davies_bouldin_score, calinski_harabaz_score\n",
        "\n",
        "dbs = davies_bouldin_score(sampled_transformed_subset[prods], model.labels_)\n",
        "print(\"David Bouldin: %0.3f\" % dbs)\n",
        "\n",
        "ch = calinski_harabaz_score(sampled_transformed_subset[prods], model.labels_)\n",
        "print(\"Calinski Harabaz: %0.3f\" % ch)"
      ],
      "execution_count": 100,
      "outputs": [
        {
          "output_type": "stream",
          "name": "stdout",
          "text": [
            "David Bouldin: 1.178\n",
            "Calinski Harabaz: 75036.209\n"
          ]
        },
        {
          "output_type": "stream",
          "name": "stderr",
          "text": [
            "/usr/local/lib/python3.7/dist-packages/sklearn/utils/deprecation.py:87: FutureWarning: Function calinski_harabaz_score is deprecated; Function 'calinski_harabaz_score' has been renamed to 'calinski_harabasz_score' and will be removed in version 0.23.\n",
            "  warnings.warn(msg, category=FutureWarning)\n"
          ]
        }
      ]
    },
    {
      "cell_type": "code",
      "metadata": {
        "id": "sEBJwB7Gq7Kd"
      },
      "source": [
        "del sampled_transformed_subset\n",
        "gc.collect()"
      ],
      "execution_count": 38,
      "outputs": []
    },
    {
      "cell_type": "markdown",
      "metadata": {
        "id": "tJw0UXp7PvpW"
      },
      "source": [
        "# Interpretaçao dos resultados"
      ]
    },
    {
      "cell_type": "code",
      "metadata": {
        "id": "P2r7MdyRZg_B"
      },
      "source": [
        "model = KMeans(4, random_state=42).fit(transformed_subset[prods])"
      ],
      "execution_count": 35,
      "outputs": []
    },
    {
      "cell_type": "markdown",
      "metadata": {
        "id": "yA_tdwMQ8cUd"
      },
      "source": [
        "## Interpretaçao das variaveis"
      ]
    },
    {
      "cell_type": "code",
      "metadata": {
        "id": "HGkYZf0N8k1s"
      },
      "source": [
        "transformed_subset = transformed_subset.assign(cluster = model.labels_)"
      ],
      "execution_count": 36,
      "outputs": []
    },
    {
      "cell_type": "code",
      "metadata": {
        "colab": {
          "base_uri": "https://localhost:8080/",
          "height": 202
        },
        "id": "QEdhPY-W8-Vu",
        "outputId": "a192e8b8-4096-46cd-a48c-0d411d1d56b8"
      },
      "source": [
        "transformed_subset[[\"cluster\", \"renta\"]].groupby(\"cluster\").mean().sort_values(\"renta\", ascending=False)"
      ],
      "execution_count": 37,
      "outputs": [
        {
          "output_type": "execute_result",
          "data": {
            "text/html": [
              "<div>\n",
              "<style scoped>\n",
              "    .dataframe tbody tr th:only-of-type {\n",
              "        vertical-align: middle;\n",
              "    }\n",
              "\n",
              "    .dataframe tbody tr th {\n",
              "        vertical-align: top;\n",
              "    }\n",
              "\n",
              "    .dataframe thead th {\n",
              "        text-align: right;\n",
              "    }\n",
              "</style>\n",
              "<table border=\"1\" class=\"dataframe\">\n",
              "  <thead>\n",
              "    <tr style=\"text-align: right;\">\n",
              "      <th></th>\n",
              "      <th>renta</th>\n",
              "    </tr>\n",
              "    <tr>\n",
              "      <th>cluster</th>\n",
              "      <th></th>\n",
              "    </tr>\n",
              "  </thead>\n",
              "  <tbody>\n",
              "    <tr>\n",
              "      <th>3</th>\n",
              "      <td>142462.379870</td>\n",
              "    </tr>\n",
              "    <tr>\n",
              "      <th>2</th>\n",
              "      <td>132474.691221</td>\n",
              "    </tr>\n",
              "    <tr>\n",
              "      <th>1</th>\n",
              "      <td>126756.549440</td>\n",
              "    </tr>\n",
              "    <tr>\n",
              "      <th>0</th>\n",
              "      <td>114404.596270</td>\n",
              "    </tr>\n",
              "  </tbody>\n",
              "</table>\n",
              "</div>"
            ],
            "text/plain": [
              "                 renta\n",
              "cluster               \n",
              "3        142462.379870\n",
              "2        132474.691221\n",
              "1        126756.549440\n",
              "0        114404.596270"
            ]
          },
          "metadata": {},
          "execution_count": 37
        }
      ]
    },
    {
      "cell_type": "code",
      "metadata": {
        "colab": {
          "base_uri": "https://localhost:8080/"
        },
        "id": "Kf1aa2zH-Inm",
        "outputId": "95898ed4-b244-4936-d849-0e33edd06488"
      },
      "source": [
        "transformed_subset[[\"cluster\", \"segmento\"]].groupby(\"cluster\")[\"segmento\"].value_counts()"
      ],
      "execution_count": 39,
      "outputs": [
        {
          "output_type": "execute_result",
          "data": {
            "text/plain": [
              "cluster  segmento          \n",
              "0        03 - UNIVERSITARIO    263783\n",
              "         02 - PARTICULARES     208049\n",
              "         01 - TOP               13730\n",
              "1        02 - PARTICULARES     228650\n",
              "         03 - UNIVERSITARIO     71883\n",
              "         01 - TOP                5255\n",
              "2        02 - PARTICULARES      44637\n",
              "         01 - TOP               10689\n",
              "         03 - UNIVERSITARIO      9556\n",
              "3        02 - PARTICULARES      57789\n",
              "         01 - TOP                5529\n",
              "         03 - UNIVERSITARIO       907\n",
              "Name: segmento, dtype: int64"
            ]
          },
          "metadata": {},
          "execution_count": 39
        }
      ]
    },
    {
      "cell_type": "code",
      "metadata": {
        "colab": {
          "base_uri": "https://localhost:8080/"
        },
        "id": "JbOW5N1qWr14",
        "outputId": "6e3e0212-034b-4f03-a636-3e6420f8c0a4"
      },
      "source": [
        "transformed_subset[[\"cluster\", \"binned_age\"]].groupby(\"cluster\")[\"binned_age\"].value_counts()"
      ],
      "execution_count": 40,
      "outputs": [
        {
          "output_type": "execute_result",
          "data": {
            "text/plain": [
              "cluster  binned_age\n",
              "0        20-30         245916\n",
              "         40-70         139166\n",
              "         30-40          68301\n",
              "         70+            18466\n",
              "         0-20           15361\n",
              "1        40-70         141745\n",
              "         20-30          72394\n",
              "         30-40          49375\n",
              "         70+            28934\n",
              "         0-20           18685\n",
              "2        40-70          38569\n",
              "         30-40          15471\n",
              "         20-30           8547\n",
              "         70+             2192\n",
              "         0-20             114\n",
              "3        40-70          47013\n",
              "         70+            10215\n",
              "         30-40           6061\n",
              "         20-30            936\n",
              "Name: binned_age, dtype: int64"
            ]
          },
          "metadata": {},
          "execution_count": 40
        }
      ]
    },
    {
      "cell_type": "markdown",
      "metadata": {
        "id": "EgrZPyR5VgbD"
      },
      "source": [
        "- O grupo **3** esta com a maior renda. Percebemos que ele corresponde a um seguimento mais exclusivo, com uma maior proporsao de clientes VIPs e mais velhos.  \n",
        "- O grupo **0** esta com a renda a mais baixa. Ele corresponde a uma populaçao menos exclusiva, mais universitaria e mais nova.\n",
        "- Os grupos **1** e **2** nao estao tao diferenciados nestes criterios. O grupo **2** parece um pouco mais exclusivo e mais velho que o grupo **1**. Ele tambem tem uma renda um pouco mais alta.\n",
        "- O grupo **1** é o mais populado. Pode corresponder aos comportamentos de compra mais *mainstream*."
      ]
    },
    {
      "cell_type": "code",
      "metadata": {
        "id": "SJ1fhtwXYIl8"
      },
      "source": [
        "transformed_subset.loc[:, \"antiguedad\"] = transformed_subset[\"antiguedad\"].astype(int)"
      ],
      "execution_count": 41,
      "outputs": []
    },
    {
      "cell_type": "code",
      "metadata": {
        "colab": {
          "base_uri": "https://localhost:8080/",
          "height": 202
        },
        "id": "wQ2iOOTJX6vF",
        "outputId": "0655fb9d-0487-415d-afeb-a3a798e9d7ae"
      },
      "source": [
        "transformed_subset[[\"cluster\", \"antiguedad\"]].groupby(\"cluster\").mean().sort_values(\"antiguedad\", ascending=False)"
      ],
      "execution_count": 42,
      "outputs": [
        {
          "output_type": "execute_result",
          "data": {
            "text/html": [
              "<div>\n",
              "<style scoped>\n",
              "    .dataframe tbody tr th:only-of-type {\n",
              "        vertical-align: middle;\n",
              "    }\n",
              "\n",
              "    .dataframe tbody tr th {\n",
              "        vertical-align: top;\n",
              "    }\n",
              "\n",
              "    .dataframe thead th {\n",
              "        text-align: right;\n",
              "    }\n",
              "</style>\n",
              "<table border=\"1\" class=\"dataframe\">\n",
              "  <thead>\n",
              "    <tr style=\"text-align: right;\">\n",
              "      <th></th>\n",
              "      <th>antiguedad</th>\n",
              "    </tr>\n",
              "    <tr>\n",
              "      <th>cluster</th>\n",
              "      <th></th>\n",
              "    </tr>\n",
              "  </thead>\n",
              "  <tbody>\n",
              "    <tr>\n",
              "      <th>3</th>\n",
              "      <td>167.055430</td>\n",
              "    </tr>\n",
              "    <tr>\n",
              "      <th>1</th>\n",
              "      <td>84.990078</td>\n",
              "    </tr>\n",
              "    <tr>\n",
              "      <th>2</th>\n",
              "      <td>80.051962</td>\n",
              "    </tr>\n",
              "    <tr>\n",
              "      <th>0</th>\n",
              "      <td>58.519476</td>\n",
              "    </tr>\n",
              "  </tbody>\n",
              "</table>\n",
              "</div>"
            ],
            "text/plain": [
              "         antiguedad\n",
              "cluster            \n",
              "3        167.055430\n",
              "1         84.990078\n",
              "2         80.051962\n",
              "0         58.519476"
            ]
          },
          "metadata": {},
          "execution_count": 42
        }
      ]
    },
    {
      "cell_type": "markdown",
      "metadata": {
        "id": "P6Ff_yvww5RQ"
      },
      "source": [
        "A relaçao da `antiguedad` com os clusters faz sentido de acordo com as interpretaçoes anteriores.  \n",
        "- Os clientes mais recente (cluster **0**) sao tambem os mais novos, eles tem entre 20 e 30 anos, ou seja, eles tem poucos anos de experiença no mercado de trabalho e uma renda menor por consequencia.\n",
        "- O cluster **3** corresponde ao clientes os mais antigos, que sao tambem os mais velhos, com mais anos de experiencia e uma renda maior.\n",
        "- O cluster **2**, mais exclusivo que o **1** tem poucos meses a mais de `antiguedad` que o cluster **1**."
      ]
    },
    {
      "cell_type": "code",
      "metadata": {
        "colab": {
          "base_uri": "https://localhost:8080/"
        },
        "id": "TjT16tT3YyEb",
        "outputId": "c87626e1-ab21-4ee3-fdde-e0e68ecf1ecc"
      },
      "source": [
        "transformed_subset[[\"cluster\", \"conyuemp\"]].groupby(\"cluster\")[\"conyuemp\"].value_counts()"
      ],
      "execution_count": 44,
      "outputs": [
        {
          "output_type": "execute_result",
          "data": {
            "text/plain": [
              "cluster  conyuemp\n",
              "0        N           487210\n",
              "1        N           311133\n",
              "2        N            64892\n",
              "         S                1\n",
              "3        N            64225\n",
              "Name: conyuemp, dtype: int64"
            ]
          },
          "metadata": {},
          "execution_count": 44
        }
      ]
    },
    {
      "cell_type": "markdown",
      "metadata": {
        "id": "RFOf5-4GsZSS"
      },
      "source": [
        "`conyuemp` nao serve aqui. Poderiamos ter desconsiderado ela mais cedo."
      ]
    },
    {
      "cell_type": "code",
      "metadata": {
        "colab": {
          "base_uri": "https://localhost:8080/"
        },
        "id": "-YXN7yPjsuJ1",
        "outputId": "26f81eb2-cc71-41ea-d426-13e1ba16750b"
      },
      "source": [
        "transformed_subset[[\"cluster\", \"ind_empleado\"]].groupby(\"cluster\")[\"ind_empleado\"].value_counts()"
      ],
      "execution_count": 45,
      "outputs": [
        {
          "output_type": "execute_result",
          "data": {
            "text/plain": [
              "cluster  ind_empleado\n",
              "0        N               487040\n",
              "         B                   68\n",
              "         F                   55\n",
              "         A                   47\n",
              "1        N               311048\n",
              "         B                   52\n",
              "         F                   17\n",
              "         A                   16\n",
              "2        N                64735\n",
              "         A                   78\n",
              "         B                   56\n",
              "         F                   23\n",
              "         S                    1\n",
              "3        N                64120\n",
              "         F                   57\n",
              "         B                   42\n",
              "         A                    6\n",
              "Name: ind_empleado, dtype: int64"
            ]
          },
          "metadata": {},
          "execution_count": 45
        }
      ]
    },
    {
      "cell_type": "markdown",
      "metadata": {
        "id": "sM2Alr7utTEM"
      },
      "source": [
        "Obvio que os **not employee** sao os mais presentes em cada grupo.\n",
        "- No grupo **0** tem mais ex-funcionarios, quem nem no grupo **1**. Esse label é menos raro que os tres outros **active**, **filial**, e **pasive**.\n",
        "- No grupo **3**, tem mais **filial**. Talvez representa os clientes que trabalham numa filial do banco.\n",
        "- No grupo **2**, mais exclusivo que o grupo **1**, tem mais **active**. Isso talvez representa os funcionarios ativos.  \n",
        "Essa variavel `ind_empleado` permite um boa interpretaçao dos comportamentos de compras dos produtos do banco. Pois é intuitivo que cada um desses tipos de empregados tem conhecimentos sobre os produtos e beneficios especificos.  \n",
        "So nao podemos chegar a nenhuma conclusao aqui por causa da presencia bem mais alta de clientes que nunca foram empregados no banco. Um proximo passo poderia ser de pedir pra area de coleta de dados ir atras de mais informaçoes desses outros tipos de **Employee index** com alguma relaçao especifica de trabalho com o banco."
      ]
    },
    {
      "cell_type": "markdown",
      "metadata": {
        "id": "YUKxVY5c3nln"
      },
      "source": [
        "Agora, vamos ver quais sao os produtos os mais comprados por cada um dos seguimentos do nosso agrupamento."
      ]
    },
    {
      "cell_type": "code",
      "metadata": {
        "colab": {
          "base_uri": "https://localhost:8080/",
          "height": 222
        },
        "id": "5KJoNs_C3w8K",
        "outputId": "d50998ae-c72d-41c8-e065-44847427cd42"
      },
      "source": [
        "agg_df = transformed_subset[[\"cluster\"] + prods].groupby(\"cluster\").sum()\n",
        "agg_df"
      ],
      "execution_count": 64,
      "outputs": [
        {
          "output_type": "execute_result",
          "data": {
            "text/html": [
              "<div>\n",
              "<style scoped>\n",
              "    .dataframe tbody tr th:only-of-type {\n",
              "        vertical-align: middle;\n",
              "    }\n",
              "\n",
              "    .dataframe tbody tr th {\n",
              "        vertical-align: top;\n",
              "    }\n",
              "\n",
              "    .dataframe thead th {\n",
              "        text-align: right;\n",
              "    }\n",
              "</style>\n",
              "<table border=\"1\" class=\"dataframe\">\n",
              "  <thead>\n",
              "    <tr style=\"text-align: right;\">\n",
              "      <th></th>\n",
              "      <th>ind_ahor_fin_ult1</th>\n",
              "      <th>ind_aval_fin_ult1</th>\n",
              "      <th>ind_cco_fin_ult1</th>\n",
              "      <th>ind_cder_fin_ult1</th>\n",
              "      <th>ind_cno_fin_ult1</th>\n",
              "      <th>ind_ctju_fin_ult1</th>\n",
              "      <th>ind_ctma_fin_ult1</th>\n",
              "      <th>ind_ctop_fin_ult1</th>\n",
              "      <th>ind_ctpp_fin_ult1</th>\n",
              "      <th>ind_deco_fin_ult1</th>\n",
              "      <th>ind_deme_fin_ult1</th>\n",
              "      <th>ind_dela_fin_ult1</th>\n",
              "      <th>ind_ecue_fin_ult1</th>\n",
              "      <th>ind_fond_fin_ult1</th>\n",
              "      <th>ind_hip_fin_ult1</th>\n",
              "      <th>ind_plan_fin_ult1</th>\n",
              "      <th>ind_pres_fin_ult1</th>\n",
              "      <th>ind_reca_fin_ult1</th>\n",
              "      <th>ind_tjcr_fin_ult1</th>\n",
              "      <th>ind_valo_fin_ult1</th>\n",
              "      <th>ind_viv_fin_ult1</th>\n",
              "      <th>ind_nomina_ult1</th>\n",
              "      <th>ind_nom_pens_ult1</th>\n",
              "      <th>ind_recibo_ult1</th>\n",
              "    </tr>\n",
              "    <tr>\n",
              "      <th>cluster</th>\n",
              "      <th></th>\n",
              "      <th></th>\n",
              "      <th></th>\n",
              "      <th></th>\n",
              "      <th></th>\n",
              "      <th></th>\n",
              "      <th></th>\n",
              "      <th></th>\n",
              "      <th></th>\n",
              "      <th></th>\n",
              "      <th></th>\n",
              "      <th></th>\n",
              "      <th></th>\n",
              "      <th></th>\n",
              "      <th></th>\n",
              "      <th></th>\n",
              "      <th></th>\n",
              "      <th></th>\n",
              "      <th></th>\n",
              "      <th></th>\n",
              "      <th></th>\n",
              "      <th></th>\n",
              "      <th></th>\n",
              "      <th></th>\n",
              "    </tr>\n",
              "  </thead>\n",
              "  <tbody>\n",
              "    <tr>\n",
              "      <th>0</th>\n",
              "      <td>17</td>\n",
              "      <td>3</td>\n",
              "      <td>487210</td>\n",
              "      <td>131</td>\n",
              "      <td>655</td>\n",
              "      <td>2</td>\n",
              "      <td>4220</td>\n",
              "      <td>0</td>\n",
              "      <td>13144</td>\n",
              "      <td>107</td>\n",
              "      <td>375</td>\n",
              "      <td>14588</td>\n",
              "      <td>31642</td>\n",
              "      <td>5699</td>\n",
              "      <td>821</td>\n",
              "      <td>1734</td>\n",
              "      <td>672</td>\n",
              "      <td>13497</td>\n",
              "      <td>8519</td>\n",
              "      <td>8168</td>\n",
              "      <td>785</td>\n",
              "      <td>442.0</td>\n",
              "      <td>535.0</td>\n",
              "      <td>48616</td>\n",
              "    </tr>\n",
              "    <tr>\n",
              "      <th>1</th>\n",
              "      <td>29</td>\n",
              "      <td>0</td>\n",
              "      <td>0</td>\n",
              "      <td>49</td>\n",
              "      <td>9654</td>\n",
              "      <td>7577</td>\n",
              "      <td>2888</td>\n",
              "      <td>26428</td>\n",
              "      <td>6580</td>\n",
              "      <td>9</td>\n",
              "      <td>37</td>\n",
              "      <td>4885</td>\n",
              "      <td>13507</td>\n",
              "      <td>1493</td>\n",
              "      <td>436</td>\n",
              "      <td>1422</td>\n",
              "      <td>1030</td>\n",
              "      <td>6883</td>\n",
              "      <td>2218</td>\n",
              "      <td>1535</td>\n",
              "      <td>644</td>\n",
              "      <td>129.0</td>\n",
              "      <td>259.0</td>\n",
              "      <td>2059</td>\n",
              "    </tr>\n",
              "    <tr>\n",
              "      <th>2</th>\n",
              "      <td>7</td>\n",
              "      <td>11</td>\n",
              "      <td>7755</td>\n",
              "      <td>56</td>\n",
              "      <td>62299</td>\n",
              "      <td>1</td>\n",
              "      <td>955</td>\n",
              "      <td>9078</td>\n",
              "      <td>10324</td>\n",
              "      <td>60</td>\n",
              "      <td>174</td>\n",
              "      <td>5749</td>\n",
              "      <td>25586</td>\n",
              "      <td>3626</td>\n",
              "      <td>2954</td>\n",
              "      <td>2816</td>\n",
              "      <td>204</td>\n",
              "      <td>20260</td>\n",
              "      <td>20368</td>\n",
              "      <td>6425</td>\n",
              "      <td>603</td>\n",
              "      <td>47448.0</td>\n",
              "      <td>51678.0</td>\n",
              "      <td>53442</td>\n",
              "    </tr>\n",
              "    <tr>\n",
              "      <th>3</th>\n",
              "      <td>25</td>\n",
              "      <td>1</td>\n",
              "      <td>63768</td>\n",
              "      <td>79</td>\n",
              "      <td>384</td>\n",
              "      <td>0</td>\n",
              "      <td>15</td>\n",
              "      <td>64225</td>\n",
              "      <td>3103</td>\n",
              "      <td>138</td>\n",
              "      <td>421</td>\n",
              "      <td>5868</td>\n",
              "      <td>4826</td>\n",
              "      <td>3742</td>\n",
              "      <td>307</td>\n",
              "      <td>1343</td>\n",
              "      <td>81</td>\n",
              "      <td>4775</td>\n",
              "      <td>3585</td>\n",
              "      <td>5036</td>\n",
              "      <td>923</td>\n",
              "      <td>266.0</td>\n",
              "      <td>338.0</td>\n",
              "      <td>8651</td>\n",
              "    </tr>\n",
              "  </tbody>\n",
              "</table>\n",
              "</div>"
            ],
            "text/plain": [
              "         ind_ahor_fin_ult1  ...  ind_recibo_ult1\n",
              "cluster                     ...                 \n",
              "0                       17  ...            48616\n",
              "1                       29  ...             2059\n",
              "2                        7  ...            53442\n",
              "3                       25  ...             8651\n",
              "\n",
              "[4 rows x 24 columns]"
            ]
          },
          "metadata": {},
          "execution_count": 64
        }
      ]
    },
    {
      "cell_type": "code",
      "metadata": {
        "colab": {
          "base_uri": "https://localhost:8080/"
        },
        "id": "_wJO3R-W4Ism",
        "outputId": "2848e845-9151-49f5-d402-f10ecd17acb3"
      },
      "source": [
        "agg_df.max(axis=1)"
      ],
      "execution_count": 66,
      "outputs": [
        {
          "output_type": "execute_result",
          "data": {
            "text/plain": [
              "cluster\n",
              "0    487210.0\n",
              "1     26428.0\n",
              "2     62299.0\n",
              "3     64225.0\n",
              "dtype: float64"
            ]
          },
          "metadata": {},
          "execution_count": 66
        }
      ]
    },
    {
      "cell_type": "markdown",
      "metadata": {
        "id": "AtoVf3Lh4mXu"
      },
      "source": [
        "- cluster **0**: `ind_cco_fin_ult1` - **Current Accounts**\n",
        "- cluster **1**: `ind_ctop_fin_ult1` - **particular Account**\n",
        "- cluster **2**: `ind_cno_fin_ult1` - **Payroll Account**\n",
        "- cluster **3**: `ind_ctop_fin_ult1` - **particular Account**"
      ]
    },
    {
      "cell_type": "markdown",
      "metadata": {
        "id": "UCrFl1B76HNF"
      },
      "source": [
        "- seguimento **0** é representado por pessoas mais novas e clientes recentes. O primeiro produto bancario para ser contratado costuma ser uma conta corrente.\n",
        "- **particular account** pode ser uma poupança mas tambem pode representar outros tipos de contas. Neste caso, o dominio desta variavel nao é muito explicito e nao permite interpretar alem.\n",
        "- O seguimento **2** é mais exclusivo, mais velho que o seguimento **1** e parecia ser composto de mais funcionarios ativos. **Payroll Account** costuma ser contratado para remunerar os funcionarios de um negocio. Talvez o nosso agrupamento colocou juntos os clientes donos de empresa. Isso ajudaria a diferenciar melhor esse seguimento **2** dos outros."
      ]
    },
    {
      "cell_type": "markdown",
      "metadata": {
        "id": "7rn7wZR4QOYH"
      },
      "source": [
        "## Aprendizado supervisionado"
      ]
    },
    {
      "cell_type": "code",
      "metadata": {
        "colab": {
          "base_uri": "https://localhost:8080/"
        },
        "id": "FPs1ku9UgM_P",
        "outputId": "f1340195-6fc1-4249-a326-7771d0adfef5"
      },
      "source": [
        "!pip install dtreeviz"
      ],
      "execution_count": 43,
      "outputs": [
        {
          "output_type": "stream",
          "name": "stdout",
          "text": [
            "Collecting dtreeviz\n",
            "  Downloading dtreeviz-1.3.1.tar.gz (61 kB)\n",
            "\u001b[?25l\r\u001b[K     |█████▎                          | 10 kB 18.4 MB/s eta 0:00:01\r\u001b[K     |██████████▋                     | 20 kB 22.8 MB/s eta 0:00:01\r\u001b[K     |███████████████▉                | 30 kB 26.0 MB/s eta 0:00:01\r\u001b[K     |█████████████████████▏          | 40 kB 23.6 MB/s eta 0:00:01\r\u001b[K     |██████████████████████████▍     | 51 kB 25.2 MB/s eta 0:00:01\r\u001b[K     |███████████████████████████████▊| 61 kB 26.6 MB/s eta 0:00:01\r\u001b[K     |████████████████████████████████| 61 kB 506 kB/s \n",
            "\u001b[?25hRequirement already satisfied: graphviz>=0.9 in /usr/local/lib/python3.7/dist-packages (from dtreeviz) (0.10.1)\n",
            "Requirement already satisfied: pandas in /usr/local/lib/python3.7/dist-packages (from dtreeviz) (1.1.5)\n",
            "Requirement already satisfied: numpy in /usr/local/lib/python3.7/dist-packages (from dtreeviz) (1.19.5)\n",
            "Requirement already satisfied: scikit-learn in /usr/local/lib/python3.7/dist-packages (from dtreeviz) (0.22.2.post1)\n",
            "Requirement already satisfied: matplotlib in /usr/local/lib/python3.7/dist-packages (from dtreeviz) (3.2.2)\n",
            "Collecting colour\n",
            "  Downloading colour-0.1.5-py2.py3-none-any.whl (23 kB)\n",
            "Requirement already satisfied: pytest in /usr/local/lib/python3.7/dist-packages (from dtreeviz) (3.6.4)\n",
            "Requirement already satisfied: python-dateutil>=2.1 in /usr/local/lib/python3.7/dist-packages (from matplotlib->dtreeviz) (2.8.2)\n",
            "Requirement already satisfied: kiwisolver>=1.0.1 in /usr/local/lib/python3.7/dist-packages (from matplotlib->dtreeviz) (1.3.2)\n",
            "Requirement already satisfied: pyparsing!=2.0.4,!=2.1.2,!=2.1.6,>=2.0.1 in /usr/local/lib/python3.7/dist-packages (from matplotlib->dtreeviz) (2.4.7)\n",
            "Requirement already satisfied: cycler>=0.10 in /usr/local/lib/python3.7/dist-packages (from matplotlib->dtreeviz) (0.10.0)\n",
            "Requirement already satisfied: six in /usr/local/lib/python3.7/dist-packages (from cycler>=0.10->matplotlib->dtreeviz) (1.15.0)\n",
            "Requirement already satisfied: pytz>=2017.2 in /usr/local/lib/python3.7/dist-packages (from pandas->dtreeviz) (2018.9)\n",
            "Requirement already satisfied: pluggy<0.8,>=0.5 in /usr/local/lib/python3.7/dist-packages (from pytest->dtreeviz) (0.7.1)\n",
            "Requirement already satisfied: py>=1.5.0 in /usr/local/lib/python3.7/dist-packages (from pytest->dtreeviz) (1.10.0)\n",
            "Requirement already satisfied: atomicwrites>=1.0 in /usr/local/lib/python3.7/dist-packages (from pytest->dtreeviz) (1.4.0)\n",
            "Requirement already satisfied: setuptools in /usr/local/lib/python3.7/dist-packages (from pytest->dtreeviz) (57.4.0)\n",
            "Requirement already satisfied: more-itertools>=4.0.0 in /usr/local/lib/python3.7/dist-packages (from pytest->dtreeviz) (8.10.0)\n",
            "Requirement already satisfied: attrs>=17.4.0 in /usr/local/lib/python3.7/dist-packages (from pytest->dtreeviz) (21.2.0)\n",
            "Requirement already satisfied: joblib>=0.11 in /usr/local/lib/python3.7/dist-packages (from scikit-learn->dtreeviz) (1.0.1)\n",
            "Requirement already satisfied: scipy>=0.17.0 in /usr/local/lib/python3.7/dist-packages (from scikit-learn->dtreeviz) (1.4.1)\n",
            "Building wheels for collected packages: dtreeviz\n",
            "  Building wheel for dtreeviz (setup.py) ... \u001b[?25l\u001b[?25hdone\n",
            "  Created wheel for dtreeviz: filename=dtreeviz-1.3.1-py3-none-any.whl size=67694 sha256=9546197f5cd613b29f3f6fa5bc78bef8fb1dec854409191feb9cca15abb6120c\n",
            "  Stored in directory: /root/.cache/pip/wheels/f4/e0/4c/26144f03fd05b7c3d82e5cf2679c2d6bd9d9b730548264674d\n",
            "Successfully built dtreeviz\n",
            "Installing collected packages: colour, dtreeviz\n",
            "Successfully installed colour-0.1.5 dtreeviz-1.3.1\n"
          ]
        }
      ]
    },
    {
      "cell_type": "code",
      "metadata": {
        "id": "R7TE6_8OPalJ"
      },
      "source": [
        "from dtreeviz.trees import dtreeviz\n",
        "from dtreeviz.classifiers import clfviz"
      ],
      "execution_count": 46,
      "outputs": []
    },
    {
      "cell_type": "code",
      "metadata": {
        "id": "nQCHlyLxP-3U"
      },
      "source": [
        "y = transformed_subset[\"cluster\"]\n",
        "X = transformed_subset.drop([\"cluster\", \"conyuemp\"], axis=1)"
      ],
      "execution_count": 50,
      "outputs": []
    },
    {
      "cell_type": "markdown",
      "metadata": {
        "id": "NZqWajeAz3i9"
      },
      "source": [
        "### Encoding das variaveis de categoria"
      ]
    },
    {
      "cell_type": "code",
      "metadata": {
        "colab": {
          "base_uri": "https://localhost:8080/",
          "height": 256
        },
        "id": "Ji3teomOz8tj",
        "outputId": "33c6fb83-9355-4f69-9a65-14c995cf156b"
      },
      "source": [
        "to_encode = [\"ind_empleado\", \"segmento\", \"binned_age\"]\n",
        "# drop_first=False for interpretation\n",
        "X_encoded = pd.get_dummies(data=X, columns=to_encode, drop_first=False)\n",
        "X_encoded.head()"
      ],
      "execution_count": 52,
      "outputs": [
        {
          "output_type": "execute_result",
          "data": {
            "text/html": [
              "<div>\n",
              "<style scoped>\n",
              "    .dataframe tbody tr th:only-of-type {\n",
              "        vertical-align: middle;\n",
              "    }\n",
              "\n",
              "    .dataframe tbody tr th {\n",
              "        vertical-align: top;\n",
              "    }\n",
              "\n",
              "    .dataframe thead th {\n",
              "        text-align: right;\n",
              "    }\n",
              "</style>\n",
              "<table border=\"1\" class=\"dataframe\">\n",
              "  <thead>\n",
              "    <tr style=\"text-align: right;\">\n",
              "      <th></th>\n",
              "      <th>renta</th>\n",
              "      <th>ind_nuevo</th>\n",
              "      <th>antiguedad</th>\n",
              "      <th>ind_ahor_fin_ult1</th>\n",
              "      <th>ind_aval_fin_ult1</th>\n",
              "      <th>ind_cco_fin_ult1</th>\n",
              "      <th>ind_cder_fin_ult1</th>\n",
              "      <th>ind_cno_fin_ult1</th>\n",
              "      <th>ind_ctju_fin_ult1</th>\n",
              "      <th>ind_ctma_fin_ult1</th>\n",
              "      <th>ind_ctop_fin_ult1</th>\n",
              "      <th>ind_ctpp_fin_ult1</th>\n",
              "      <th>ind_deco_fin_ult1</th>\n",
              "      <th>ind_deme_fin_ult1</th>\n",
              "      <th>ind_dela_fin_ult1</th>\n",
              "      <th>ind_ecue_fin_ult1</th>\n",
              "      <th>ind_fond_fin_ult1</th>\n",
              "      <th>ind_hip_fin_ult1</th>\n",
              "      <th>ind_plan_fin_ult1</th>\n",
              "      <th>ind_pres_fin_ult1</th>\n",
              "      <th>ind_reca_fin_ult1</th>\n",
              "      <th>ind_tjcr_fin_ult1</th>\n",
              "      <th>ind_valo_fin_ult1</th>\n",
              "      <th>ind_viv_fin_ult1</th>\n",
              "      <th>ind_nomina_ult1</th>\n",
              "      <th>ind_nom_pens_ult1</th>\n",
              "      <th>ind_recibo_ult1</th>\n",
              "      <th>ind_empleado_A</th>\n",
              "      <th>ind_empleado_B</th>\n",
              "      <th>ind_empleado_F</th>\n",
              "      <th>ind_empleado_N</th>\n",
              "      <th>ind_empleado_S</th>\n",
              "      <th>segmento_01 - TOP</th>\n",
              "      <th>segmento_02 - PARTICULARES</th>\n",
              "      <th>segmento_03 - UNIVERSITARIO</th>\n",
              "      <th>binned_age_0-20</th>\n",
              "      <th>binned_age_20-30</th>\n",
              "      <th>binned_age_30-40</th>\n",
              "      <th>binned_age_40-70</th>\n",
              "      <th>binned_age_70+</th>\n",
              "    </tr>\n",
              "  </thead>\n",
              "  <tbody>\n",
              "    <tr>\n",
              "      <th>12715856</th>\n",
              "      <td>147347.97</td>\n",
              "      <td>0.0</td>\n",
              "      <td>114</td>\n",
              "      <td>0</td>\n",
              "      <td>0</td>\n",
              "      <td>0</td>\n",
              "      <td>0</td>\n",
              "      <td>0</td>\n",
              "      <td>0</td>\n",
              "      <td>0</td>\n",
              "      <td>0</td>\n",
              "      <td>0</td>\n",
              "      <td>0</td>\n",
              "      <td>0</td>\n",
              "      <td>0</td>\n",
              "      <td>0</td>\n",
              "      <td>0</td>\n",
              "      <td>0</td>\n",
              "      <td>0</td>\n",
              "      <td>0</td>\n",
              "      <td>0</td>\n",
              "      <td>0</td>\n",
              "      <td>0</td>\n",
              "      <td>0</td>\n",
              "      <td>0.0</td>\n",
              "      <td>0.0</td>\n",
              "      <td>0</td>\n",
              "      <td>0</td>\n",
              "      <td>0</td>\n",
              "      <td>0</td>\n",
              "      <td>1</td>\n",
              "      <td>0</td>\n",
              "      <td>0</td>\n",
              "      <td>1</td>\n",
              "      <td>0</td>\n",
              "      <td>0</td>\n",
              "      <td>0</td>\n",
              "      <td>0</td>\n",
              "      <td>1</td>\n",
              "      <td>0</td>\n",
              "    </tr>\n",
              "    <tr>\n",
              "      <th>12715857</th>\n",
              "      <td>132559.35</td>\n",
              "      <td>0.0</td>\n",
              "      <td>114</td>\n",
              "      <td>0</td>\n",
              "      <td>0</td>\n",
              "      <td>1</td>\n",
              "      <td>0</td>\n",
              "      <td>0</td>\n",
              "      <td>0</td>\n",
              "      <td>0</td>\n",
              "      <td>0</td>\n",
              "      <td>0</td>\n",
              "      <td>0</td>\n",
              "      <td>0</td>\n",
              "      <td>0</td>\n",
              "      <td>0</td>\n",
              "      <td>0</td>\n",
              "      <td>0</td>\n",
              "      <td>0</td>\n",
              "      <td>0</td>\n",
              "      <td>0</td>\n",
              "      <td>0</td>\n",
              "      <td>0</td>\n",
              "      <td>0</td>\n",
              "      <td>0.0</td>\n",
              "      <td>0.0</td>\n",
              "      <td>0</td>\n",
              "      <td>0</td>\n",
              "      <td>0</td>\n",
              "      <td>0</td>\n",
              "      <td>1</td>\n",
              "      <td>0</td>\n",
              "      <td>0</td>\n",
              "      <td>1</td>\n",
              "      <td>0</td>\n",
              "      <td>0</td>\n",
              "      <td>0</td>\n",
              "      <td>0</td>\n",
              "      <td>1</td>\n",
              "      <td>0</td>\n",
              "    </tr>\n",
              "    <tr>\n",
              "      <th>12715858</th>\n",
              "      <td>81399.57</td>\n",
              "      <td>0.0</td>\n",
              "      <td>114</td>\n",
              "      <td>0</td>\n",
              "      <td>0</td>\n",
              "      <td>1</td>\n",
              "      <td>0</td>\n",
              "      <td>0</td>\n",
              "      <td>0</td>\n",
              "      <td>0</td>\n",
              "      <td>0</td>\n",
              "      <td>0</td>\n",
              "      <td>0</td>\n",
              "      <td>0</td>\n",
              "      <td>0</td>\n",
              "      <td>0</td>\n",
              "      <td>0</td>\n",
              "      <td>0</td>\n",
              "      <td>0</td>\n",
              "      <td>0</td>\n",
              "      <td>0</td>\n",
              "      <td>0</td>\n",
              "      <td>0</td>\n",
              "      <td>0</td>\n",
              "      <td>0.0</td>\n",
              "      <td>0.0</td>\n",
              "      <td>0</td>\n",
              "      <td>0</td>\n",
              "      <td>0</td>\n",
              "      <td>0</td>\n",
              "      <td>1</td>\n",
              "      <td>0</td>\n",
              "      <td>0</td>\n",
              "      <td>1</td>\n",
              "      <td>0</td>\n",
              "      <td>0</td>\n",
              "      <td>0</td>\n",
              "      <td>0</td>\n",
              "      <td>1</td>\n",
              "      <td>0</td>\n",
              "    </tr>\n",
              "    <tr>\n",
              "      <th>12715859</th>\n",
              "      <td>NaN</td>\n",
              "      <td>0.0</td>\n",
              "      <td>114</td>\n",
              "      <td>0</td>\n",
              "      <td>0</td>\n",
              "      <td>0</td>\n",
              "      <td>0</td>\n",
              "      <td>1</td>\n",
              "      <td>0</td>\n",
              "      <td>0</td>\n",
              "      <td>0</td>\n",
              "      <td>0</td>\n",
              "      <td>0</td>\n",
              "      <td>0</td>\n",
              "      <td>0</td>\n",
              "      <td>1</td>\n",
              "      <td>0</td>\n",
              "      <td>0</td>\n",
              "      <td>0</td>\n",
              "      <td>0</td>\n",
              "      <td>0</td>\n",
              "      <td>1</td>\n",
              "      <td>0</td>\n",
              "      <td>0</td>\n",
              "      <td>1.0</td>\n",
              "      <td>1.0</td>\n",
              "      <td>1</td>\n",
              "      <td>0</td>\n",
              "      <td>0</td>\n",
              "      <td>0</td>\n",
              "      <td>1</td>\n",
              "      <td>0</td>\n",
              "      <td>0</td>\n",
              "      <td>1</td>\n",
              "      <td>0</td>\n",
              "      <td>0</td>\n",
              "      <td>0</td>\n",
              "      <td>0</td>\n",
              "      <td>1</td>\n",
              "      <td>0</td>\n",
              "    </tr>\n",
              "    <tr>\n",
              "      <th>12715860</th>\n",
              "      <td>102189.00</td>\n",
              "      <td>0.0</td>\n",
              "      <td>114</td>\n",
              "      <td>0</td>\n",
              "      <td>0</td>\n",
              "      <td>1</td>\n",
              "      <td>0</td>\n",
              "      <td>0</td>\n",
              "      <td>0</td>\n",
              "      <td>0</td>\n",
              "      <td>0</td>\n",
              "      <td>0</td>\n",
              "      <td>0</td>\n",
              "      <td>0</td>\n",
              "      <td>1</td>\n",
              "      <td>0</td>\n",
              "      <td>0</td>\n",
              "      <td>0</td>\n",
              "      <td>0</td>\n",
              "      <td>0</td>\n",
              "      <td>0</td>\n",
              "      <td>0</td>\n",
              "      <td>0</td>\n",
              "      <td>0</td>\n",
              "      <td>0.0</td>\n",
              "      <td>0.0</td>\n",
              "      <td>0</td>\n",
              "      <td>0</td>\n",
              "      <td>0</td>\n",
              "      <td>0</td>\n",
              "      <td>1</td>\n",
              "      <td>0</td>\n",
              "      <td>1</td>\n",
              "      <td>0</td>\n",
              "      <td>0</td>\n",
              "      <td>0</td>\n",
              "      <td>0</td>\n",
              "      <td>0</td>\n",
              "      <td>1</td>\n",
              "      <td>0</td>\n",
              "    </tr>\n",
              "  </tbody>\n",
              "</table>\n",
              "</div>"
            ],
            "text/plain": [
              "              renta  ind_nuevo  ...  binned_age_40-70  binned_age_70+\n",
              "12715856  147347.97        0.0  ...                 1               0\n",
              "12715857  132559.35        0.0  ...                 1               0\n",
              "12715858   81399.57        0.0  ...                 1               0\n",
              "12715859        NaN        0.0  ...                 1               0\n",
              "12715860  102189.00        0.0  ...                 1               0\n",
              "\n",
              "[5 rows x 40 columns]"
            ]
          },
          "metadata": {},
          "execution_count": 52
        }
      ]
    },
    {
      "cell_type": "markdown",
      "metadata": {
        "id": "7sXyBbBA1FA7"
      },
      "source": [
        "### Impute dos valores null"
      ]
    },
    {
      "cell_type": "code",
      "metadata": {
        "colab": {
          "base_uri": "https://localhost:8080/"
        },
        "id": "FVirwX8z1H2H",
        "outputId": "7295f82d-027e-40be-c190-71433239ac43"
      },
      "source": [
        "# listwise deletion\n",
        "X_encoded.dropna(how=\"any\", inplace=True)\n",
        "X_encoded.shape"
      ],
      "execution_count": 55,
      "outputs": [
        {
          "output_type": "execute_result",
          "data": {
            "text/plain": [
              "(702391, 40)"
            ]
          },
          "metadata": {},
          "execution_count": 55
        }
      ]
    },
    {
      "cell_type": "code",
      "metadata": {
        "id": "w8k4RcFK2GCA"
      },
      "source": [
        "y = y.reindex_like(X_encoded)"
      ],
      "execution_count": 59,
      "outputs": []
    },
    {
      "cell_type": "markdown",
      "metadata": {
        "id": "tfNjXdRS1qm9"
      },
      "source": [
        "### Modelagem e interpretaçao"
      ]
    },
    {
      "cell_type": "code",
      "metadata": {
        "colab": {
          "base_uri": "https://localhost:8080/"
        },
        "id": "rTchIQskTsSI",
        "outputId": "3cc46774-e528-4bdf-9951-1ee06b9545e0"
      },
      "source": [
        "from sklearn.tree import DecisionTreeClassifier\n",
        "\n",
        "clf = DecisionTreeClassifier(random_state=22, max_leaf_nodes=10)\n",
        "clf.fit(X_encoded, y)"
      ],
      "execution_count": 60,
      "outputs": [
        {
          "output_type": "execute_result",
          "data": {
            "text/plain": [
              "DecisionTreeClassifier(ccp_alpha=0.0, class_weight=None, criterion='gini',\n",
              "                       max_depth=None, max_features=None, max_leaf_nodes=10,\n",
              "                       min_impurity_decrease=0.0, min_impurity_split=None,\n",
              "                       min_samples_leaf=1, min_samples_split=2,\n",
              "                       min_weight_fraction_leaf=0.0, presort='deprecated',\n",
              "                       random_state=22, splitter='best')"
            ]
          },
          "metadata": {},
          "execution_count": 60
        }
      ]
    },
    {
      "cell_type": "code",
      "metadata": {
        "colab": {
          "base_uri": "https://localhost:8080/",
          "height": 674
        },
        "id": "EbCChCNxT0Sy",
        "outputId": "fccc93ae-8300-48b3-a030-fae6db505142"
      },
      "source": [
        "viz = dtreeviz(\n",
        "    clf,\n",
        "    X_encoded,\n",
        "    y,\n",
        "    feature_names=X_encoded.columns\n",
        ")\n",
        "viz"
      ],
      "execution_count": 61,
      "outputs": [
        {
          "output_type": "stream",
          "name": "stderr",
          "text": [
            "findfont: Font family ['Arial'] not found. Falling back to DejaVu Sans.\n",
            "/usr/local/lib/python3.7/dist-packages/numpy/core/_asarray.py:83: VisibleDeprecationWarning: Creating an ndarray from ragged nested sequences (which is a list-or-tuple of lists-or-tuples-or ndarrays with different lengths or shapes) is deprecated. If you meant to do this, you must specify 'dtype=object' when creating the ndarray\n",
            "  return array(a, dtype, copy=False, order=order)\n",
            "findfont: Font family ['Arial'] not found. Falling back to DejaVu Sans.\n",
            "findfont: Font family ['Arial'] not found. Falling back to DejaVu Sans.\n",
            "findfont: Font family ['Arial'] not found. Falling back to DejaVu Sans.\n"
          ]
        },
        {
          "output_type": "execute_result",
          "data": {
            "text/plain": [
              "<dtreeviz.trees.DTreeViz at 0x7f0bf9641b10>"
            ],
            "image/svg+xml": "<svg xmlns=\"http://www.w3.org/2000/svg\" xmlns:xlink=\"http://www.w3.org/1999/xlink\" height=\"533.0\" viewBox=\"0.0 0.0 828.0 533.0\" width=\"828.0\">\n<g class=\"graph\" id=\"graph0\" transform=\"scale(1.0 1.0) rotate(0) translate(4 529)\">\n<title>G</title>\n<polygon fill=\"#ffffff\" points=\"-4,4 -4,-529 824,-529 824,4 -4,4\" stroke=\"transparent\" />\n<g class=\"cluster\" id=\"clust10\">\n<title>cluster_legend</title>\n</g>\n\n<g class=\"node\" id=\"node1\">\n<title>node5</title>\n<svg height=\"65px\" preserveAspectRatio=\"xMinYMin meet\" version=\"1.1\" viewBox=\"0 0 221.68 86.663364\" width=\"166px\" x=\"40.5\" y=\"-283.5\">\n <defs>\n  <style type=\"text/css\">\n*{stroke-linecap:butt;stroke-linejoin:round;}\n  </style>\n </defs>\n <g id=\"figure_1\">\n  <g id=\"patch_1\">\n   <path d=\"M 0 86.663364  L 221.68 86.663364  L 221.68 0  L 0 0  z \" style=\"fill:#ffffff;\" />\n  </g>\n  <g id=\"axes_1\">\n   <g id=\"patch_2\">\n    <path d=\"M 37.54 55.973364  L 221.68 55.973364  L 221.68 0.392676  L 37.54 0.392676  z \" style=\"fill:#ffffff;\" />\n   </g>\n   <g id=\"patch_3\">\n    <path clip-path=\"url(#p2604292378)\" d=\"M 37.54 55.973364  L 49.231429 55.973364  L 49.231429 55.973364  L 37.54 55.973364  z \" style=\"fill:#fefebb;stroke:#444443;stroke-linejoin:miter;stroke-width:0.5;\" />\n   </g>\n   <g id=\"patch_4\">\n    <path clip-path=\"url(#p2604292378)\" d=\"M 49.231429 55.973364  L 60.922857 55.973364  L 60.922857 55.973364  L 49.231429 55.973364  z \" style=\"fill:#fefebb;stroke:#444443;stroke-linejoin:miter;stroke-width:0.5;\" />\n   </g>\n   <g id=\"patch_5\">\n    <path clip-path=\"url(#p2604292378)\" d=\"M 60.922857 55.973364  L 72.614286 55.973364  L 72.614286 55.973364  L 60.922857 55.973364  z \" style=\"fill:#fefebb;stroke:#444443;stroke-linejoin:miter;stroke-width:0.5;\" />\n   </g>\n   <g id=\"patch_6\">\n    <path clip-path=\"url(#p2604292378)\" d=\"M 72.614286 55.973364  L 84.305714 55.973364  L 84.305714 55.973364  L 72.614286 55.973364  z \" style=\"fill:#fefebb;stroke:#444443;stroke-linejoin:miter;stroke-width:0.5;\" />\n   </g>\n   <g id=\"patch_7\">\n    <path clip-path=\"url(#p2604292378)\" d=\"M 84.305714 55.973364  L 95.997143 55.973364  L 95.997143 55.973364  L 84.305714 55.973364  z \" style=\"fill:#fefebb;stroke:#444443;stroke-linejoin:miter;stroke-width:0.5;\" />\n   </g>\n   <g id=\"patch_8\">\n    <path clip-path=\"url(#p2604292378)\" d=\"M 95.997143 55.973364  L 107.688571 55.973364  L 107.688571 55.973364  L 95.997143 55.973364  z \" style=\"fill:#fefebb;stroke:#444443;stroke-linejoin:miter;stroke-width:0.5;\" />\n   </g>\n   <g id=\"patch_9\">\n    <path clip-path=\"url(#p2604292378)\" d=\"M 107.688571 55.973364  L 119.38 55.973364  L 119.38 55.973364  L 107.688571 55.973364  z \" style=\"fill:#fefebb;stroke:#444443;stroke-linejoin:miter;stroke-width:0.5;\" />\n   </g>\n   <g id=\"patch_10\">\n    <path clip-path=\"url(#p2604292378)\" d=\"M 119.38 55.973364  L 131.071429 55.973364  L 131.071429 55.973364  L 119.38 55.973364  z \" style=\"fill:#fefebb;stroke:#444443;stroke-linejoin:miter;stroke-width:0.5;\" />\n   </g>\n   <g id=\"patch_11\">\n    <path clip-path=\"url(#p2604292378)\" d=\"M 131.071429 55.973364  L 142.762857 55.973364  L 142.762857 55.973364  L 131.071429 55.973364  z \" style=\"fill:#fefebb;stroke:#444443;stroke-linejoin:miter;stroke-width:0.5;\" />\n   </g>\n   <g id=\"patch_12\">\n    <path clip-path=\"url(#p2604292378)\" d=\"M 142.762857 55.973364  L 154.454286 55.973364  L 154.454286 55.973364  L 142.762857 55.973364  z \" style=\"fill:#fefebb;stroke:#444443;stroke-linejoin:miter;stroke-width:0.5;\" />\n   </g>\n   <g id=\"patch_13\">\n    <path clip-path=\"url(#p2604292378)\" d=\"M 154.454286 55.973364  L 166.145714 55.973364  L 166.145714 55.973364  L 154.454286 55.973364  z \" style=\"fill:#fefebb;stroke:#444443;stroke-linejoin:miter;stroke-width:0.5;\" />\n   </g>\n   <g id=\"patch_14\">\n    <path clip-path=\"url(#p2604292378)\" d=\"M 166.145714 55.973364  L 177.837143 55.973364  L 177.837143 55.973364  L 166.145714 55.973364  z \" style=\"fill:#fefebb;stroke:#444443;stroke-linejoin:miter;stroke-width:0.5;\" />\n   </g>\n   <g id=\"patch_15\">\n    <path clip-path=\"url(#p2604292378)\" d=\"M 177.837143 55.973364  L 189.528571 55.973364  L 189.528571 55.973364  L 177.837143 55.973364  z \" style=\"fill:#fefebb;stroke:#444443;stroke-linejoin:miter;stroke-width:0.5;\" />\n   </g>\n   <g id=\"patch_16\">\n    <path clip-path=\"url(#p2604292378)\" d=\"M 189.528571 55.973364  L 201.22 55.973364  L 201.22 55.973364  L 189.528571 55.973364  z \" style=\"fill:#fefebb;stroke:#444443;stroke-linejoin:miter;stroke-width:0.5;\" />\n   </g>\n   <g id=\"patch_17\">\n    <path clip-path=\"url(#p2604292378)\" d=\"M 201.22 55.973364  L 212.911429 55.973364  L 212.911429 55.973364  L 201.22 55.973364  z \" style=\"fill:#fefebb;stroke:#444443;stroke-linejoin:miter;stroke-width:0.5;\" />\n   </g>\n   <g id=\"patch_18\">\n    <path clip-path=\"url(#p2604292378)\" d=\"M 37.54 55.973364  L 49.231429 55.973364  L 49.231429 3.136705  L 37.54 3.136705  z \" style=\"fill:#d9e6f5;stroke:#444443;stroke-linejoin:miter;stroke-width:0.5;\" />\n   </g>\n   <g id=\"patch_19\">\n    <path clip-path=\"url(#p2604292378)\" d=\"M 49.231429 55.973364  L 60.922857 55.973364  L 60.922857 55.973364  L 49.231429 55.973364  z \" style=\"fill:#d9e6f5;stroke:#444443;stroke-linejoin:miter;stroke-width:0.5;\" />\n   </g>\n   <g id=\"patch_20\">\n    <path clip-path=\"url(#p2604292378)\" d=\"M 60.922857 55.973364  L 72.614286 55.973364  L 72.614286 55.973364  L 60.922857 55.973364  z \" style=\"fill:#d9e6f5;stroke:#444443;stroke-linejoin:miter;stroke-width:0.5;\" />\n   </g>\n   <g id=\"patch_21\">\n    <path clip-path=\"url(#p2604292378)\" d=\"M 72.614286 55.973364  L 84.305714 55.973364  L 84.305714 55.973364  L 72.614286 55.973364  z \" style=\"fill:#d9e6f5;stroke:#444443;stroke-linejoin:miter;stroke-width:0.5;\" />\n   </g>\n   <g id=\"patch_22\">\n    <path clip-path=\"url(#p2604292378)\" d=\"M 84.305714 55.973364  L 95.997143 55.973364  L 95.997143 55.973364  L 84.305714 55.973364  z \" style=\"fill:#d9e6f5;stroke:#444443;stroke-linejoin:miter;stroke-width:0.5;\" />\n   </g>\n   <g id=\"patch_23\">\n    <path clip-path=\"url(#p2604292378)\" d=\"M 95.997143 55.973364  L 107.688571 55.973364  L 107.688571 55.973364  L 95.997143 55.973364  z \" style=\"fill:#d9e6f5;stroke:#444443;stroke-linejoin:miter;stroke-width:0.5;\" />\n   </g>\n   <g id=\"patch_24\">\n    <path clip-path=\"url(#p2604292378)\" d=\"M 107.688571 55.973364  L 119.38 55.973364  L 119.38 55.973364  L 107.688571 55.973364  z \" style=\"fill:#d9e6f5;stroke:#444443;stroke-linejoin:miter;stroke-width:0.5;\" />\n   </g>\n   <g id=\"patch_25\">\n    <path clip-path=\"url(#p2604292378)\" d=\"M 119.38 55.973364  L 131.071429 55.973364  L 131.071429 55.973364  L 119.38 55.973364  z \" style=\"fill:#d9e6f5;stroke:#444443;stroke-linejoin:miter;stroke-width:0.5;\" />\n   </g>\n   <g id=\"patch_26\">\n    <path clip-path=\"url(#p2604292378)\" d=\"M 131.071429 55.973364  L 142.762857 55.973364  L 142.762857 55.973364  L 131.071429 55.973364  z \" style=\"fill:#d9e6f5;stroke:#444443;stroke-linejoin:miter;stroke-width:0.5;\" />\n   </g>\n   <g id=\"patch_27\">\n    <path clip-path=\"url(#p2604292378)\" d=\"M 142.762857 55.973364  L 154.454286 55.973364  L 154.454286 55.973364  L 142.762857 55.973364  z \" style=\"fill:#d9e6f5;stroke:#444443;stroke-linejoin:miter;stroke-width:0.5;\" />\n   </g>\n   <g id=\"patch_28\">\n    <path clip-path=\"url(#p2604292378)\" d=\"M 154.454286 55.973364  L 166.145714 55.973364  L 166.145714 55.973364  L 154.454286 55.973364  z \" style=\"fill:#d9e6f5;stroke:#444443;stroke-linejoin:miter;stroke-width:0.5;\" />\n   </g>\n   <g id=\"patch_29\">\n    <path clip-path=\"url(#p2604292378)\" d=\"M 166.145714 55.973364  L 177.837143 55.973364  L 177.837143 55.973364  L 166.145714 55.973364  z \" style=\"fill:#d9e6f5;stroke:#444443;stroke-linejoin:miter;stroke-width:0.5;\" />\n   </g>\n   <g id=\"patch_30\">\n    <path clip-path=\"url(#p2604292378)\" d=\"M 177.837143 55.973364  L 189.528571 55.973364  L 189.528571 55.973364  L 177.837143 55.973364  z \" style=\"fill:#d9e6f5;stroke:#444443;stroke-linejoin:miter;stroke-width:0.5;\" />\n   </g>\n   <g id=\"patch_31\">\n    <path clip-path=\"url(#p2604292378)\" d=\"M 189.528571 55.973364  L 201.22 55.973364  L 201.22 55.973364  L 189.528571 55.973364  z \" style=\"fill:#d9e6f5;stroke:#444443;stroke-linejoin:miter;stroke-width:0.5;\" />\n   </g>\n   <g id=\"patch_32\">\n    <path clip-path=\"url(#p2604292378)\" d=\"M 201.22 55.973364  L 212.911429 55.973364  L 212.911429 55.925053  L 201.22 55.925053  z \" style=\"fill:#d9e6f5;stroke:#444443;stroke-linejoin:miter;stroke-width:0.5;\" />\n   </g>\n   <g id=\"patch_33\">\n    <path clip-path=\"url(#p2604292378)\" d=\"M 37.54 3.136705  L 49.231429 3.136705  L 49.231429 3.123744  L 37.54 3.123744  z \" style=\"fill:#a1dab4;stroke:#444443;stroke-linejoin:miter;stroke-width:0.5;\" />\n   </g>\n   <g id=\"patch_34\">\n    <path clip-path=\"url(#p2604292378)\" d=\"M 49.231429 55.973364  L 60.922857 55.973364  L 60.922857 55.973364  L 49.231429 55.973364  z \" style=\"fill:#a1dab4;stroke:#444443;stroke-linejoin:miter;stroke-width:0.5;\" />\n   </g>\n   <g id=\"patch_35\">\n    <path clip-path=\"url(#p2604292378)\" d=\"M 60.922857 55.973364  L 72.614286 55.973364  L 72.614286 55.973364  L 60.922857 55.973364  z \" style=\"fill:#a1dab4;stroke:#444443;stroke-linejoin:miter;stroke-width:0.5;\" />\n   </g>\n   <g id=\"patch_36\">\n    <path clip-path=\"url(#p2604292378)\" d=\"M 72.614286 55.973364  L 84.305714 55.973364  L 84.305714 55.973364  L 72.614286 55.973364  z \" style=\"fill:#a1dab4;stroke:#444443;stroke-linejoin:miter;stroke-width:0.5;\" />\n   </g>\n   <g id=\"patch_37\">\n    <path clip-path=\"url(#p2604292378)\" d=\"M 84.305714 55.973364  L 95.997143 55.973364  L 95.997143 55.973364  L 84.305714 55.973364  z \" style=\"fill:#a1dab4;stroke:#444443;stroke-linejoin:miter;stroke-width:0.5;\" />\n   </g>\n   <g id=\"patch_38\">\n    <path clip-path=\"url(#p2604292378)\" d=\"M 95.997143 55.973364  L 107.688571 55.973364  L 107.688571 55.973364  L 95.997143 55.973364  z \" style=\"fill:#a1dab4;stroke:#444443;stroke-linejoin:miter;stroke-width:0.5;\" />\n   </g>\n   <g id=\"patch_39\">\n    <path clip-path=\"url(#p2604292378)\" d=\"M 107.688571 55.973364  L 119.38 55.973364  L 119.38 55.973364  L 107.688571 55.973364  z \" style=\"fill:#a1dab4;stroke:#444443;stroke-linejoin:miter;stroke-width:0.5;\" />\n   </g>\n   <g id=\"patch_40\">\n    <path clip-path=\"url(#p2604292378)\" d=\"M 119.38 55.973364  L 131.071429 55.973364  L 131.071429 55.973364  L 119.38 55.973364  z \" style=\"fill:#a1dab4;stroke:#444443;stroke-linejoin:miter;stroke-width:0.5;\" />\n   </g>\n   <g id=\"patch_41\">\n    <path clip-path=\"url(#p2604292378)\" d=\"M 131.071429 55.973364  L 142.762857 55.973364  L 142.762857 55.973364  L 131.071429 55.973364  z \" style=\"fill:#a1dab4;stroke:#444443;stroke-linejoin:miter;stroke-width:0.5;\" />\n   </g>\n   <g id=\"patch_42\">\n    <path clip-path=\"url(#p2604292378)\" d=\"M 142.762857 55.973364  L 154.454286 55.973364  L 154.454286 55.973364  L 142.762857 55.973364  z \" style=\"fill:#a1dab4;stroke:#444443;stroke-linejoin:miter;stroke-width:0.5;\" />\n   </g>\n   <g id=\"patch_43\">\n    <path clip-path=\"url(#p2604292378)\" d=\"M 154.454286 55.973364  L 166.145714 55.973364  L 166.145714 55.973364  L 154.454286 55.973364  z \" style=\"fill:#a1dab4;stroke:#444443;stroke-linejoin:miter;stroke-width:0.5;\" />\n   </g>\n   <g id=\"patch_44\">\n    <path clip-path=\"url(#p2604292378)\" d=\"M 166.145714 55.973364  L 177.837143 55.973364  L 177.837143 55.973364  L 166.145714 55.973364  z \" style=\"fill:#a1dab4;stroke:#444443;stroke-linejoin:miter;stroke-width:0.5;\" />\n   </g>\n   <g id=\"patch_45\">\n    <path clip-path=\"url(#p2604292378)\" d=\"M 177.837143 55.973364  L 189.528571 55.973364  L 189.528571 55.973364  L 177.837143 55.973364  z \" style=\"fill:#a1dab4;stroke:#444443;stroke-linejoin:miter;stroke-width:0.5;\" />\n   </g>\n   <g id=\"patch_46\">\n    <path clip-path=\"url(#p2604292378)\" d=\"M 189.528571 55.973364  L 201.22 55.973364  L 201.22 55.973364  L 189.528571 55.973364  z \" style=\"fill:#a1dab4;stroke:#444443;stroke-linejoin:miter;stroke-width:0.5;\" />\n   </g>\n   <g id=\"patch_47\">\n    <path clip-path=\"url(#p2604292378)\" d=\"M 201.22 55.925053  L 212.911429 55.925053  L 212.911429 55.742883  L 201.22 55.742883  z \" style=\"fill:#a1dab4;stroke:#444443;stroke-linejoin:miter;stroke-width:0.5;\" />\n   </g>\n   <g id=\"patch_48\">\n    <path clip-path=\"url(#p2604292378)\" d=\"M 37.54 3.123744  L 49.231429 3.123744  L 49.231429 3.039375  L 37.54 3.039375  z \" style=\"fill:#fee090;stroke:#444443;stroke-linejoin:miter;stroke-width:0.5;\" />\n   </g>\n   <g id=\"patch_49\">\n    <path clip-path=\"url(#p2604292378)\" d=\"M 49.231429 55.973364  L 60.922857 55.973364  L 60.922857 55.973364  L 49.231429 55.973364  z \" style=\"fill:#fee090;stroke:#444443;stroke-linejoin:miter;stroke-width:0.5;\" />\n   </g>\n   <g id=\"patch_50\">\n    <path clip-path=\"url(#p2604292378)\" d=\"M 60.922857 55.973364  L 72.614286 55.973364  L 72.614286 55.973364  L 60.922857 55.973364  z \" style=\"fill:#fee090;stroke:#444443;stroke-linejoin:miter;stroke-width:0.5;\" />\n   </g>\n   <g id=\"patch_51\">\n    <path clip-path=\"url(#p2604292378)\" d=\"M 72.614286 55.973364  L 84.305714 55.973364  L 84.305714 55.973364  L 72.614286 55.973364  z \" style=\"fill:#fee090;stroke:#444443;stroke-linejoin:miter;stroke-width:0.5;\" />\n   </g>\n   <g id=\"patch_52\">\n    <path clip-path=\"url(#p2604292378)\" d=\"M 84.305714 55.973364  L 95.997143 55.973364  L 95.997143 55.973364  L 84.305714 55.973364  z \" style=\"fill:#fee090;stroke:#444443;stroke-linejoin:miter;stroke-width:0.5;\" />\n   </g>\n   <g id=\"patch_53\">\n    <path clip-path=\"url(#p2604292378)\" d=\"M 95.997143 55.973364  L 107.688571 55.973364  L 107.688571 55.973364  L 95.997143 55.973364  z \" style=\"fill:#fee090;stroke:#444443;stroke-linejoin:miter;stroke-width:0.5;\" />\n   </g>\n   <g id=\"patch_54\">\n    <path clip-path=\"url(#p2604292378)\" d=\"M 107.688571 55.973364  L 119.38 55.973364  L 119.38 55.973364  L 107.688571 55.973364  z \" style=\"fill:#fee090;stroke:#444443;stroke-linejoin:miter;stroke-width:0.5;\" />\n   </g>\n   <g id=\"patch_55\">\n    <path clip-path=\"url(#p2604292378)\" d=\"M 119.38 55.973364  L 131.071429 55.973364  L 131.071429 55.973364  L 119.38 55.973364  z \" style=\"fill:#fee090;stroke:#444443;stroke-linejoin:miter;stroke-width:0.5;\" />\n   </g>\n   <g id=\"patch_56\">\n    <path clip-path=\"url(#p2604292378)\" d=\"M 131.071429 55.973364  L 142.762857 55.973364  L 142.762857 55.973364  L 131.071429 55.973364  z \" style=\"fill:#fee090;stroke:#444443;stroke-linejoin:miter;stroke-width:0.5;\" />\n   </g>\n   <g id=\"patch_57\">\n    <path clip-path=\"url(#p2604292378)\" d=\"M 142.762857 55.973364  L 154.454286 55.973364  L 154.454286 55.973364  L 142.762857 55.973364  z \" style=\"fill:#fee090;stroke:#444443;stroke-linejoin:miter;stroke-width:0.5;\" />\n   </g>\n   <g id=\"patch_58\">\n    <path clip-path=\"url(#p2604292378)\" d=\"M 154.454286 55.973364  L 166.145714 55.973364  L 166.145714 55.973364  L 154.454286 55.973364  z \" style=\"fill:#fee090;stroke:#444443;stroke-linejoin:miter;stroke-width:0.5;\" />\n   </g>\n   <g id=\"patch_59\">\n    <path clip-path=\"url(#p2604292378)\" d=\"M 166.145714 55.973364  L 177.837143 55.973364  L 177.837143 55.973364  L 166.145714 55.973364  z \" style=\"fill:#fee090;stroke:#444443;stroke-linejoin:miter;stroke-width:0.5;\" />\n   </g>\n   <g id=\"patch_60\">\n    <path clip-path=\"url(#p2604292378)\" d=\"M 177.837143 55.973364  L 189.528571 55.973364  L 189.528571 55.973364  L 177.837143 55.973364  z \" style=\"fill:#fee090;stroke:#444443;stroke-linejoin:miter;stroke-width:0.5;\" />\n   </g>\n   <g id=\"patch_61\">\n    <path clip-path=\"url(#p2604292378)\" d=\"M 189.528571 55.973364  L 201.22 55.973364  L 201.22 55.973364  L 189.528571 55.973364  z \" style=\"fill:#fee090;stroke:#444443;stroke-linejoin:miter;stroke-width:0.5;\" />\n   </g>\n   <g id=\"patch_62\">\n    <path clip-path=\"url(#p2604292378)\" d=\"M 201.22 55.742883  L 212.911429 55.742883  L 212.911429 55.742647  L 201.22 55.742647  z \" style=\"fill:#fee090;stroke:#444443;stroke-linejoin:miter;stroke-width:0.5;\" />\n   </g>\n   <g id=\"patch_63\">\n    <path d=\"M 125.225714 56.788764  L 121.911194 64.127364  L 128.540234 64.127364  z \" style=\"fill:#444443;\" />\n   </g>\n   <g id=\"matplotlib.axis_1\">\n    <g id=\"xtick_1\">\n     <g id=\"line2d_1\">\n      <defs>\n       <path d=\"M 0 0  L 0 3.5  \" id=\"m52db1d7986\" style=\"stroke:#000000;stroke-width:0.3;\" />\n      </defs>\n      <g>\n       <use style=\"stroke:#000000;stroke-width:0.3;\" x=\"37.54\" y=\"55.973364\" xlink:href=\"#m52db1d7986\" />\n      </g>\n     </g>\n     <g id=\"text_1\">\n      \n      <defs>\n       <path d=\"M 31.78125 66.40625  Q 24.171875 66.40625 20.328125 58.90625  Q 16.5 51.421875 16.5 36.375  Q 16.5 21.390625 20.328125 13.890625  Q 24.171875 6.390625 31.78125 6.390625  Q 39.453125 6.390625 43.28125 13.890625  Q 47.125 21.390625 47.125 36.375  Q 47.125 51.421875 43.28125 58.90625  Q 39.453125 66.40625 31.78125 66.40625  z M 31.78125 74.21875  Q 44.046875 74.21875 50.515625 64.515625  Q 56.984375 54.828125 56.984375 36.375  Q 56.984375 17.96875 50.515625 8.265625  Q 44.046875 -1.421875 31.78125 -1.421875  Q 19.53125 -1.421875 13.0625 8.265625  Q 6.59375 17.96875 6.59375 36.375  Q 6.59375 54.828125 13.0625 64.515625  Q 19.53125 74.21875 31.78125 74.21875  z \" id=\"DejaVuSans-48\" />\n      </defs>\n      <g style=\"fill:#444443;\" transform=\"translate(34.995 69.052114)scale(0.08 -0.08)\">\n       <use xlink:href=\"#DejaVuSans-48\" />\n      </g>\n     </g>\n    </g>\n    <g id=\"xtick_2\">\n     <g id=\"line2d_2\">\n      <g>\n       <use style=\"stroke:#000000;stroke-width:0.3;\" x=\"212.911429\" y=\"55.973364\" xlink:href=\"#m52db1d7986\" />\n      </g>\n     </g>\n     <g id=\"text_2\">\n      \n      <defs>\n       <path d=\"M 12.40625 8.296875  L 28.515625 8.296875  L 28.515625 63.921875  L 10.984375 60.40625  L 10.984375 69.390625  L 28.421875 72.90625  L 38.28125 72.90625  L 38.28125 8.296875  L 54.390625 8.296875  L 54.390625 0  L 12.40625 0  z \" id=\"DejaVuSans-49\" />\n      </defs>\n      <g style=\"fill:#444443;\" transform=\"translate(210.366429 69.052114)scale(0.08 -0.08)\">\n       <use xlink:href=\"#DejaVuSans-49\" />\n      </g>\n     </g>\n    </g>\n    <g id=\"text_3\">\n     \n     <defs>\n      <path d=\"M 9.421875 54.6875  L 18.40625 54.6875  L 18.40625 0  L 9.421875 0  z M 9.421875 75.984375  L 18.40625 75.984375  L 18.40625 64.59375  L 9.421875 64.59375  z \" id=\"DejaVuSans-105\" />\n      <path d=\"M 54.890625 33.015625  L 54.890625 0  L 45.90625 0  L 45.90625 32.71875  Q 45.90625 40.484375 42.875 44.328125  Q 39.84375 48.1875 33.796875 48.1875  Q 26.515625 48.1875 22.3125 43.546875  Q 18.109375 38.921875 18.109375 30.90625  L 18.109375 0  L 9.078125 0  L 9.078125 54.6875  L 18.109375 54.6875  L 18.109375 46.1875  Q 21.34375 51.125 25.703125 53.5625  Q 30.078125 56 35.796875 56  Q 45.21875 56 50.046875 50.171875  Q 54.890625 44.34375 54.890625 33.015625  z \" id=\"DejaVuSans-110\" />\n      <path d=\"M 45.40625 46.390625  L 45.40625 75.984375  L 54.390625 75.984375  L 54.390625 0  L 45.40625 0  L 45.40625 8.203125  Q 42.578125 3.328125 38.25 0.953125  Q 33.9375 -1.421875 27.875 -1.421875  Q 17.96875 -1.421875 11.734375 6.484375  Q 5.515625 14.40625 5.515625 27.296875  Q 5.515625 40.1875 11.734375 48.09375  Q 17.96875 56 27.875 56  Q 33.9375 56 38.25 53.625  Q 42.578125 51.265625 45.40625 46.390625  z M 14.796875 27.296875  Q 14.796875 17.390625 18.875 11.75  Q 22.953125 6.109375 30.078125 6.109375  Q 37.203125 6.109375 41.296875 11.75  Q 45.40625 17.390625 45.40625 27.296875  Q 45.40625 37.203125 41.296875 42.84375  Q 37.203125 48.484375 30.078125 48.484375  Q 22.953125 48.484375 18.875 42.84375  Q 14.796875 37.203125 14.796875 27.296875  z \" id=\"DejaVuSans-100\" />\n      <path d=\"M 50.984375 -16.609375  L 50.984375 -23.578125  L -0.984375 -23.578125  L -0.984375 -16.609375  z \" id=\"DejaVuSans-95\" />\n      <path d=\"M 30.609375 48.390625  Q 23.390625 48.390625 19.1875 42.75  Q 14.984375 37.109375 14.984375 27.296875  Q 14.984375 17.484375 19.15625 11.84375  Q 23.34375 6.203125 30.609375 6.203125  Q 37.796875 6.203125 41.984375 11.859375  Q 46.1875 17.53125 46.1875 27.296875  Q 46.1875 37.015625 41.984375 42.703125  Q 37.796875 48.390625 30.609375 48.390625  z M 30.609375 56  Q 42.328125 56 49.015625 48.375  Q 55.71875 40.765625 55.71875 27.296875  Q 55.71875 13.875 49.015625 6.21875  Q 42.328125 -1.421875 30.609375 -1.421875  Q 18.84375 -1.421875 12.171875 6.21875  Q 5.515625 13.875 5.515625 27.296875  Q 5.515625 40.765625 12.171875 48.375  Q 18.84375 56 30.609375 56  z \" id=\"DejaVuSans-111\" />\n      <path d=\"M 52 44.1875  Q 55.375 50.25 60.0625 53.125  Q 64.75 56 71.09375 56  Q 79.640625 56 84.28125 50.015625  Q 88.921875 44.046875 88.921875 33.015625  L 88.921875 0  L 79.890625 0  L 79.890625 32.71875  Q 79.890625 40.578125 77.09375 44.375  Q 74.3125 48.1875 68.609375 48.1875  Q 61.625 48.1875 57.5625 43.546875  Q 53.515625 38.921875 53.515625 30.90625  L 53.515625 0  L 44.484375 0  L 44.484375 32.71875  Q 44.484375 40.625 41.703125 44.40625  Q 38.921875 48.1875 33.109375 48.1875  Q 26.21875 48.1875 22.15625 43.53125  Q 18.109375 38.875 18.109375 30.90625  L 18.109375 0  L 9.078125 0  L 9.078125 54.6875  L 18.109375 54.6875  L 18.109375 46.1875  Q 21.1875 51.21875 25.484375 53.609375  Q 29.78125 56 35.6875 56  Q 41.65625 56 45.828125 52.96875  Q 50 49.953125 52 44.1875  z \" id=\"DejaVuSans-109\" />\n      <path d=\"M 18.109375 8.203125  L 18.109375 -20.796875  L 9.078125 -20.796875  L 9.078125 54.6875  L 18.109375 54.6875  L 18.109375 46.390625  Q 20.953125 51.265625 25.265625 53.625  Q 29.59375 56 35.59375 56  Q 45.5625 56 51.78125 48.09375  Q 58.015625 40.1875 58.015625 27.296875  Q 58.015625 14.40625 51.78125 6.484375  Q 45.5625 -1.421875 35.59375 -1.421875  Q 29.59375 -1.421875 25.265625 0.953125  Q 20.953125 3.328125 18.109375 8.203125  z M 48.6875 27.296875  Q 48.6875 37.203125 44.609375 42.84375  Q 40.53125 48.484375 33.40625 48.484375  Q 26.265625 48.484375 22.1875 42.84375  Q 18.109375 37.203125 18.109375 27.296875  Q 18.109375 17.390625 22.1875 11.75  Q 26.265625 6.109375 33.40625 6.109375  Q 40.53125 6.109375 44.609375 11.75  Q 48.6875 17.390625 48.6875 27.296875  z \" id=\"DejaVuSans-112\" />\n      <path d=\"M 56.203125 29.59375  L 56.203125 25.203125  L 14.890625 25.203125  Q 15.484375 15.921875 20.484375 11.0625  Q 25.484375 6.203125 34.421875 6.203125  Q 39.59375 6.203125 44.453125 7.46875  Q 49.3125 8.734375 54.109375 11.28125  L 54.109375 2.78125  Q 49.265625 0.734375 44.1875 -0.34375  Q 39.109375 -1.421875 33.890625 -1.421875  Q 20.796875 -1.421875 13.15625 6.1875  Q 5.515625 13.8125 5.515625 26.8125  Q 5.515625 40.234375 12.765625 48.109375  Q 20.015625 56 32.328125 56  Q 43.359375 56 49.78125 48.890625  Q 56.203125 41.796875 56.203125 29.59375  z M 47.21875 32.234375  Q 47.125 39.59375 43.09375 43.984375  Q 39.0625 48.390625 32.421875 48.390625  Q 24.90625 48.390625 20.390625 44.140625  Q 15.875 39.890625 15.1875 32.171875  z \" id=\"DejaVuSans-101\" />\n      <path d=\"M 44.28125 53.078125  L 44.28125 44.578125  Q 40.484375 46.53125 36.375 47.5  Q 32.28125 48.484375 27.875 48.484375  Q 21.1875 48.484375 17.84375 46.4375  Q 14.5 44.390625 14.5 40.28125  Q 14.5 37.15625 16.890625 35.375  Q 19.28125 33.59375 26.515625 31.984375  L 29.59375 31.296875  Q 39.15625 29.25 43.1875 25.515625  Q 47.21875 21.78125 47.21875 15.09375  Q 47.21875 7.46875 41.1875 3.015625  Q 35.15625 -1.421875 24.609375 -1.421875  Q 20.21875 -1.421875 15.453125 -0.5625  Q 10.6875 0.296875 5.421875 2  L 5.421875 11.28125  Q 10.40625 8.6875 15.234375 7.390625  Q 20.0625 6.109375 24.8125 6.109375  Q 31.15625 6.109375 34.5625 8.28125  Q 37.984375 10.453125 37.984375 14.40625  Q 37.984375 18.0625 35.515625 20.015625  Q 33.0625 21.96875 24.703125 23.78125  L 21.578125 24.515625  Q 13.234375 26.265625 9.515625 29.90625  Q 5.8125 33.546875 5.8125 39.890625  Q 5.8125 47.609375 11.28125 51.796875  Q 16.75 56 26.8125 56  Q 31.78125 56 36.171875 55.265625  Q 40.578125 54.546875 44.28125 53.078125  z \" id=\"DejaVuSans-115\" />\n      <path d=\"M 8.5 21.578125  L 8.5 54.6875  L 17.484375 54.6875  L 17.484375 21.921875  Q 17.484375 14.15625 20.5 10.265625  Q 23.53125 6.390625 29.59375 6.390625  Q 36.859375 6.390625 41.078125 11.03125  Q 45.3125 15.671875 45.3125 23.6875  L 45.3125 54.6875  L 54.296875 54.6875  L 54.296875 0  L 45.3125 0  L 45.3125 8.40625  Q 42.046875 3.421875 37.71875 1  Q 33.40625 -1.421875 27.6875 -1.421875  Q 18.265625 -1.421875 13.375 4.4375  Q 8.5 10.296875 8.5 21.578125  z M 31.109375 56  z \" id=\"DejaVuSans-117\" />\n      <path d=\"M 9.421875 75.984375  L 18.40625 75.984375  L 18.40625 0  L 9.421875 0  z \" id=\"DejaVuSans-108\" />\n      <path d=\"M 18.3125 70.21875  L 18.3125 54.6875  L 36.8125 54.6875  L 36.8125 47.703125  L 18.3125 47.703125  L 18.3125 18.015625  Q 18.3125 11.328125 20.140625 9.421875  Q 21.96875 7.515625 27.59375 7.515625  L 36.8125 7.515625  L 36.8125 0  L 27.59375 0  Q 17.1875 0 13.234375 3.875  Q 9.28125 7.765625 9.28125 18.015625  L 9.28125 47.703125  L 2.6875 47.703125  L 2.6875 54.6875  L 9.28125 54.6875  L 9.28125 70.21875  z \" id=\"DejaVuSans-116\" />\n     </defs>\n     <g style=\"fill:#444443;\" transform=\"translate(71.945313 83.833989)scale(0.12 -0.12)\">\n      <use xlink:href=\"#DejaVuSans-105\" />\n      <use x=\"27.783203\" xlink:href=\"#DejaVuSans-110\" />\n      <use x=\"91.162109\" xlink:href=\"#DejaVuSans-100\" />\n      <use x=\"154.638672\" xlink:href=\"#DejaVuSans-95\" />\n      <use x=\"204.638672\" xlink:href=\"#DejaVuSans-110\" />\n      <use x=\"268.017578\" xlink:href=\"#DejaVuSans-111\" />\n      <use x=\"329.199219\" xlink:href=\"#DejaVuSans-109\" />\n      <use x=\"426.611328\" xlink:href=\"#DejaVuSans-95\" />\n      <use x=\"476.611328\" xlink:href=\"#DejaVuSans-112\" />\n      <use x=\"540.087891\" xlink:href=\"#DejaVuSans-101\" />\n      <use x=\"601.611328\" xlink:href=\"#DejaVuSans-110\" />\n      <use x=\"664.990234\" xlink:href=\"#DejaVuSans-115\" />\n      <use x=\"717.089844\" xlink:href=\"#DejaVuSans-95\" />\n      <use x=\"767.089844\" xlink:href=\"#DejaVuSans-117\" />\n      <use x=\"830.46875\" xlink:href=\"#DejaVuSans-108\" />\n      <use x=\"858.251953\" xlink:href=\"#DejaVuSans-116\" />\n      <use x=\"897.460938\" xlink:href=\"#DejaVuSans-49\" />\n     </g>\n    </g>\n   </g>\n   <g id=\"matplotlib.axis_2\">\n    <g id=\"ytick_1\">\n     <g id=\"line2d_3\">\n      <defs>\n       <path d=\"M 0 0  L -3.5 0  \" id=\"mcec211a61d\" style=\"stroke:#000000;stroke-width:0.3;\" />\n      </defs>\n      <g>\n       <use style=\"stroke:#000000;stroke-width:0.3;\" x=\"37.54\" y=\"55.973364\" xlink:href=\"#mcec211a61d\" />\n      </g>\n     </g>\n     <g id=\"text_4\">\n      \n      <g style=\"fill:#444443;\" transform=\"translate(25.45 59.012739)scale(0.08 -0.08)\">\n       <use xlink:href=\"#DejaVuSans-48\" />\n      </g>\n     </g>\n    </g>\n    <g id=\"ytick_2\">\n     <g id=\"line2d_4\">\n      <g>\n       <use style=\"stroke:#000000;stroke-width:0.3;\" x=\"37.54\" y=\"3.039375\" xlink:href=\"#mcec211a61d\" />\n      </g>\n     </g>\n     <g id=\"text_5\">\n      \n      <defs>\n       <path d=\"M 19.1875 8.296875  L 53.609375 8.296875  L 53.609375 0  L 7.328125 0  L 7.328125 8.296875  Q 12.9375 14.109375 22.625 23.890625  Q 32.328125 33.6875 34.8125 36.53125  Q 39.546875 41.84375 41.421875 45.53125  Q 43.3125 49.21875 43.3125 52.78125  Q 43.3125 58.59375 39.234375 62.25  Q 35.15625 65.921875 28.609375 65.921875  Q 23.96875 65.921875 18.8125 64.3125  Q 13.671875 62.703125 7.8125 59.421875  L 7.8125 69.390625  Q 13.765625 71.78125 18.9375 73  Q 24.125 74.21875 28.421875 74.21875  Q 39.75 74.21875 46.484375 68.546875  Q 53.21875 62.890625 53.21875 53.421875  Q 53.21875 48.921875 51.53125 44.890625  Q 49.859375 40.875 45.40625 35.40625  Q 44.1875 33.984375 37.640625 27.21875  Q 31.109375 20.453125 19.1875 8.296875  z \" id=\"DejaVuSans-50\" />\n       <path d=\"M 37.796875 64.3125  L 12.890625 25.390625  L 37.796875 25.390625  z M 35.203125 72.90625  L 47.609375 72.90625  L 47.609375 25.390625  L 58.015625 25.390625  L 58.015625 17.1875  L 47.609375 17.1875  L 47.609375 0  L 37.796875 0  L 37.796875 17.1875  L 4.890625 17.1875  L 4.890625 26.703125  z \" id=\"DejaVuSans-52\" />\n       <path d=\"M 33.015625 40.375  Q 26.375 40.375 22.484375 35.828125  Q 18.609375 31.296875 18.609375 23.390625  Q 18.609375 15.53125 22.484375 10.953125  Q 26.375 6.390625 33.015625 6.390625  Q 39.65625 6.390625 43.53125 10.953125  Q 47.40625 15.53125 47.40625 23.390625  Q 47.40625 31.296875 43.53125 35.828125  Q 39.65625 40.375 33.015625 40.375  z M 52.59375 71.296875  L 52.59375 62.3125  Q 48.875 64.0625 45.09375 64.984375  Q 41.3125 65.921875 37.59375 65.921875  Q 27.828125 65.921875 22.671875 59.328125  Q 17.53125 52.734375 16.796875 39.40625  Q 19.671875 43.65625 24.015625 45.921875  Q 28.375 48.1875 33.59375 48.1875  Q 44.578125 48.1875 50.953125 41.515625  Q 57.328125 34.859375 57.328125 23.390625  Q 57.328125 12.15625 50.6875 5.359375  Q 44.046875 -1.421875 33.015625 -1.421875  Q 20.359375 -1.421875 13.671875 8.265625  Q 6.984375 17.96875 6.984375 36.375  Q 6.984375 53.65625 15.1875 63.9375  Q 23.390625 74.21875 37.203125 74.21875  Q 40.921875 74.21875 44.703125 73.484375  Q 48.484375 72.75 52.59375 71.296875  z \" id=\"DejaVuSans-54\" />\n      </defs>\n      <g style=\"fill:#444443;\" transform=\"translate(0 6.07875)scale(0.08 -0.08)\">\n       <use xlink:href=\"#DejaVuSans-50\" />\n       <use x=\"63.623047\" xlink:href=\"#DejaVuSans-50\" />\n       <use x=\"127.246094\" xlink:href=\"#DejaVuSans-52\" />\n       <use x=\"190.869141\" xlink:href=\"#DejaVuSans-54\" />\n       <use x=\"254.492188\" xlink:href=\"#DejaVuSans-49\" />\n       <use x=\"318.115234\" xlink:href=\"#DejaVuSans-52\" />\n      </g>\n     </g>\n    </g>\n   </g>\n   <g id=\"patch_64\">\n    <path d=\"M 37.54 55.973364  L 37.54 0.392676  \" style=\"fill:none;stroke:#000000;stroke-linecap:square;stroke-linejoin:miter;stroke-width:0.3;\" />\n   </g>\n   <g id=\"patch_65\">\n    <path d=\"M 37.54 55.973364  L 221.68 55.973364  \" style=\"fill:none;stroke:#000000;stroke-linecap:square;stroke-linejoin:miter;stroke-width:0.3;\" />\n   </g>\n   <g id=\"text_6\">\n    \n    <defs>\n     <path d=\"M 10.6875 12.40625  L 21 12.40625  L 21 0  L 10.6875 0  z \" id=\"DejaVuSans-46\" />\n     <path d=\"M 10.796875 72.90625  L 49.515625 72.90625  L 49.515625 64.59375  L 19.828125 64.59375  L 19.828125 46.734375  Q 21.96875 47.46875 24.109375 47.828125  Q 26.265625 48.1875 28.421875 48.1875  Q 40.625 48.1875 47.75 41.5  Q 54.890625 34.8125 54.890625 23.390625  Q 54.890625 11.625 47.5625 5.09375  Q 40.234375 -1.421875 26.90625 -1.421875  Q 22.3125 -1.421875 17.546875 -0.640625  Q 12.796875 0.140625 7.71875 1.703125  L 7.71875 11.625  Q 12.109375 9.234375 16.796875 8.0625  Q 21.484375 6.890625 26.703125 6.890625  Q 35.15625 6.890625 40.078125 11.328125  Q 45.015625 15.765625 45.015625 23.390625  Q 45.015625 31 40.078125 35.4375  Q 35.15625 39.890625 26.703125 39.890625  Q 22.75 39.890625 18.8125 39.015625  Q 14.890625 38.140625 10.796875 36.28125  z \" id=\"DejaVuSans-53\" />\n    </defs>\n    <g style=\"fill:#444443;\" transform=\"translate(116.319464 72.281364)scale(0.08 -0.08)\">\n     <use xlink:href=\"#DejaVuSans-48\" />\n     <use x=\"63.623047\" xlink:href=\"#DejaVuSans-46\" />\n     <use x=\"95.410156\" xlink:href=\"#DejaVuSans-53\" />\n     <use x=\"159.033203\" xlink:href=\"#DejaVuSans-48\" />\n    </g>\n   </g>\n  </g>\n </g>\n <defs>\n  <clipPath id=\"p2604292378\">\n   <rect height=\"55.580689\" width=\"184.14\" x=\"37.54\" y=\"0.392676\" />\n  </clipPath>\n </defs>\n</svg></g>\n\n<g class=\"node\" id=\"node3\">\n<title>node6</title>\n<svg height=\"48px\" preserveAspectRatio=\"xMinYMin meet\" version=\"1.1\" viewBox=\"0 0 216.59 64.886056\" width=\"162px\" x=\"232.5\" y=\"-275.5\">\n <defs>\n  <style type=\"text/css\">\n*{stroke-linecap:butt;stroke-linejoin:round;}\n  </style>\n </defs>\n <g id=\"figure_1\">\n  <g id=\"patch_1\">\n   <path d=\"M 0 64.886056  L 216.59 64.886056  L 216.59 0  L 0 0  z \" style=\"fill:#ffffff;\" />\n  </g>\n  <g id=\"axes_1\">\n   <g id=\"patch_2\">\n    <path d=\"M 32.45 34.196056  L 216.59 34.196056  L 216.59 3.039375  L 32.45 3.039375  z \" style=\"fill:#ffffff;\" />\n   </g>\n   <g id=\"patch_3\">\n    <path clip-path=\"url(#pb51361084f)\" d=\"M 32.45 34.196056  L 44.141429 34.196056  L 44.141429 34.196056  L 32.45 34.196056  z \" style=\"fill:#fefebb;stroke:#444443;stroke-linejoin:miter;stroke-width:0.5;\" />\n   </g>\n   <g id=\"patch_4\">\n    <path clip-path=\"url(#pb51361084f)\" d=\"M 44.141429 34.196056  L 55.832857 34.196056  L 55.832857 34.196056  L 44.141429 34.196056  z \" style=\"fill:#fefebb;stroke:#444443;stroke-linejoin:miter;stroke-width:0.5;\" />\n   </g>\n   <g id=\"patch_5\">\n    <path clip-path=\"url(#pb51361084f)\" d=\"M 55.832857 34.196056  L 67.524286 34.196056  L 67.524286 34.196056  L 55.832857 34.196056  z \" style=\"fill:#fefebb;stroke:#444443;stroke-linejoin:miter;stroke-width:0.5;\" />\n   </g>\n   <g id=\"patch_6\">\n    <path clip-path=\"url(#pb51361084f)\" d=\"M 67.524286 34.196056  L 79.215714 34.196056  L 79.215714 34.196056  L 67.524286 34.196056  z \" style=\"fill:#fefebb;stroke:#444443;stroke-linejoin:miter;stroke-width:0.5;\" />\n   </g>\n   <g id=\"patch_7\">\n    <path clip-path=\"url(#pb51361084f)\" d=\"M 79.215714 34.196056  L 90.907143 34.196056  L 90.907143 34.196056  L 79.215714 34.196056  z \" style=\"fill:#fefebb;stroke:#444443;stroke-linejoin:miter;stroke-width:0.5;\" />\n   </g>\n   <g id=\"patch_8\">\n    <path clip-path=\"url(#pb51361084f)\" d=\"M 90.907143 34.196056  L 102.598571 34.196056  L 102.598571 34.196056  L 90.907143 34.196056  z \" style=\"fill:#fefebb;stroke:#444443;stroke-linejoin:miter;stroke-width:0.5;\" />\n   </g>\n   <g id=\"patch_9\">\n    <path clip-path=\"url(#pb51361084f)\" d=\"M 102.598571 34.196056  L 114.29 34.196056  L 114.29 34.196056  L 102.598571 34.196056  z \" style=\"fill:#fefebb;stroke:#444443;stroke-linejoin:miter;stroke-width:0.5;\" />\n   </g>\n   <g id=\"patch_10\">\n    <path clip-path=\"url(#pb51361084f)\" d=\"M 114.29 34.196056  L 125.981429 34.196056  L 125.981429 34.196056  L 114.29 34.196056  z \" style=\"fill:#fefebb;stroke:#444443;stroke-linejoin:miter;stroke-width:0.5;\" />\n   </g>\n   <g id=\"patch_11\">\n    <path clip-path=\"url(#pb51361084f)\" d=\"M 125.981429 34.196056  L 137.672857 34.196056  L 137.672857 34.196056  L 125.981429 34.196056  z \" style=\"fill:#fefebb;stroke:#444443;stroke-linejoin:miter;stroke-width:0.5;\" />\n   </g>\n   <g id=\"patch_12\">\n    <path clip-path=\"url(#pb51361084f)\" d=\"M 137.672857 34.196056  L 149.364286 34.196056  L 149.364286 34.196056  L 137.672857 34.196056  z \" style=\"fill:#fefebb;stroke:#444443;stroke-linejoin:miter;stroke-width:0.5;\" />\n   </g>\n   <g id=\"patch_13\">\n    <path clip-path=\"url(#pb51361084f)\" d=\"M 149.364286 34.196056  L 161.055714 34.196056  L 161.055714 34.196056  L 149.364286 34.196056  z \" style=\"fill:#fefebb;stroke:#444443;stroke-linejoin:miter;stroke-width:0.5;\" />\n   </g>\n   <g id=\"patch_14\">\n    <path clip-path=\"url(#pb51361084f)\" d=\"M 161.055714 34.196056  L 172.747143 34.196056  L 172.747143 34.196056  L 161.055714 34.196056  z \" style=\"fill:#fefebb;stroke:#444443;stroke-linejoin:miter;stroke-width:0.5;\" />\n   </g>\n   <g id=\"patch_15\">\n    <path clip-path=\"url(#pb51361084f)\" d=\"M 172.747143 34.196056  L 184.438571 34.196056  L 184.438571 34.196056  L 172.747143 34.196056  z \" style=\"fill:#fefebb;stroke:#444443;stroke-linejoin:miter;stroke-width:0.5;\" />\n   </g>\n   <g id=\"patch_16\">\n    <path clip-path=\"url(#pb51361084f)\" d=\"M 184.438571 34.196056  L 196.13 34.196056  L 196.13 34.196056  L 184.438571 34.196056  z \" style=\"fill:#fefebb;stroke:#444443;stroke-linejoin:miter;stroke-width:0.5;\" />\n   </g>\n   <g id=\"patch_17\">\n    <path clip-path=\"url(#pb51361084f)\" d=\"M 196.13 34.196056  L 207.821429 34.196056  L 207.821429 34.196056  L 196.13 34.196056  z \" style=\"fill:#fefebb;stroke:#444443;stroke-linejoin:miter;stroke-width:0.5;\" />\n   </g>\n   <g id=\"patch_18\">\n    <path clip-path=\"url(#pb51361084f)\" d=\"M 32.45 34.196056  L 44.141429 34.196056  L 44.141429 28.11914  L 32.45 28.11914  z \" style=\"fill:#d9e6f5;stroke:#444443;stroke-linejoin:miter;stroke-width:0.5;\" />\n   </g>\n   <g id=\"patch_19\">\n    <path clip-path=\"url(#pb51361084f)\" d=\"M 44.141429 34.196056  L 55.832857 34.196056  L 55.832857 34.196056  L 44.141429 34.196056  z \" style=\"fill:#d9e6f5;stroke:#444443;stroke-linejoin:miter;stroke-width:0.5;\" />\n   </g>\n   <g id=\"patch_20\">\n    <path clip-path=\"url(#pb51361084f)\" d=\"M 55.832857 34.196056  L 67.524286 34.196056  L 67.524286 34.196056  L 55.832857 34.196056  z \" style=\"fill:#d9e6f5;stroke:#444443;stroke-linejoin:miter;stroke-width:0.5;\" />\n   </g>\n   <g id=\"patch_21\">\n    <path clip-path=\"url(#pb51361084f)\" d=\"M 67.524286 34.196056  L 79.215714 34.196056  L 79.215714 34.196056  L 67.524286 34.196056  z \" style=\"fill:#d9e6f5;stroke:#444443;stroke-linejoin:miter;stroke-width:0.5;\" />\n   </g>\n   <g id=\"patch_22\">\n    <path clip-path=\"url(#pb51361084f)\" d=\"M 79.215714 34.196056  L 90.907143 34.196056  L 90.907143 34.196056  L 79.215714 34.196056  z \" style=\"fill:#d9e6f5;stroke:#444443;stroke-linejoin:miter;stroke-width:0.5;\" />\n   </g>\n   <g id=\"patch_23\">\n    <path clip-path=\"url(#pb51361084f)\" d=\"M 90.907143 34.196056  L 102.598571 34.196056  L 102.598571 34.196056  L 90.907143 34.196056  z \" style=\"fill:#d9e6f5;stroke:#444443;stroke-linejoin:miter;stroke-width:0.5;\" />\n   </g>\n   <g id=\"patch_24\">\n    <path clip-path=\"url(#pb51361084f)\" d=\"M 102.598571 34.196056  L 114.29 34.196056  L 114.29 34.196056  L 102.598571 34.196056  z \" style=\"fill:#d9e6f5;stroke:#444443;stroke-linejoin:miter;stroke-width:0.5;\" />\n   </g>\n   <g id=\"patch_25\">\n    <path clip-path=\"url(#pb51361084f)\" d=\"M 114.29 34.196056  L 125.981429 34.196056  L 125.981429 34.196056  L 114.29 34.196056  z \" style=\"fill:#d9e6f5;stroke:#444443;stroke-linejoin:miter;stroke-width:0.5;\" />\n   </g>\n   <g id=\"patch_26\">\n    <path clip-path=\"url(#pb51361084f)\" d=\"M 125.981429 34.196056  L 137.672857 34.196056  L 137.672857 34.196056  L 125.981429 34.196056  z \" style=\"fill:#d9e6f5;stroke:#444443;stroke-linejoin:miter;stroke-width:0.5;\" />\n   </g>\n   <g id=\"patch_27\">\n    <path clip-path=\"url(#pb51361084f)\" d=\"M 137.672857 34.196056  L 149.364286 34.196056  L 149.364286 34.196056  L 137.672857 34.196056  z \" style=\"fill:#d9e6f5;stroke:#444443;stroke-linejoin:miter;stroke-width:0.5;\" />\n   </g>\n   <g id=\"patch_28\">\n    <path clip-path=\"url(#pb51361084f)\" d=\"M 149.364286 34.196056  L 161.055714 34.196056  L 161.055714 34.196056  L 149.364286 34.196056  z \" style=\"fill:#d9e6f5;stroke:#444443;stroke-linejoin:miter;stroke-width:0.5;\" />\n   </g>\n   <g id=\"patch_29\">\n    <path clip-path=\"url(#pb51361084f)\" d=\"M 161.055714 34.196056  L 172.747143 34.196056  L 172.747143 34.196056  L 161.055714 34.196056  z \" style=\"fill:#d9e6f5;stroke:#444443;stroke-linejoin:miter;stroke-width:0.5;\" />\n   </g>\n   <g id=\"patch_30\">\n    <path clip-path=\"url(#pb51361084f)\" d=\"M 172.747143 34.196056  L 184.438571 34.196056  L 184.438571 34.196056  L 172.747143 34.196056  z \" style=\"fill:#d9e6f5;stroke:#444443;stroke-linejoin:miter;stroke-width:0.5;\" />\n   </g>\n   <g id=\"patch_31\">\n    <path clip-path=\"url(#pb51361084f)\" d=\"M 184.438571 34.196056  L 196.13 34.196056  L 196.13 34.196056  L 184.438571 34.196056  z \" style=\"fill:#d9e6f5;stroke:#444443;stroke-linejoin:miter;stroke-width:0.5;\" />\n   </g>\n   <g id=\"patch_32\">\n    <path clip-path=\"url(#pb51361084f)\" d=\"M 196.13 34.196056  L 207.821429 34.196056  L 207.821429 34.196056  L 196.13 34.196056  z \" style=\"fill:#d9e6f5;stroke:#444443;stroke-linejoin:miter;stroke-width:0.5;\" />\n   </g>\n   <g id=\"patch_33\">\n    <path clip-path=\"url(#pb51361084f)\" d=\"M 32.45 28.11914  L 44.141429 28.11914  L 44.141429 21.359432  L 32.45 21.359432  z \" style=\"fill:#a1dab4;stroke:#444443;stroke-linejoin:miter;stroke-width:0.5;\" />\n   </g>\n   <g id=\"patch_34\">\n    <path clip-path=\"url(#pb51361084f)\" d=\"M 44.141429 34.196056  L 55.832857 34.196056  L 55.832857 34.196056  L 44.141429 34.196056  z \" style=\"fill:#a1dab4;stroke:#444443;stroke-linejoin:miter;stroke-width:0.5;\" />\n   </g>\n   <g id=\"patch_35\">\n    <path clip-path=\"url(#pb51361084f)\" d=\"M 55.832857 34.196056  L 67.524286 34.196056  L 67.524286 34.196056  L 55.832857 34.196056  z \" style=\"fill:#a1dab4;stroke:#444443;stroke-linejoin:miter;stroke-width:0.5;\" />\n   </g>\n   <g id=\"patch_36\">\n    <path clip-path=\"url(#pb51361084f)\" d=\"M 67.524286 34.196056  L 79.215714 34.196056  L 79.215714 34.196056  L 67.524286 34.196056  z \" style=\"fill:#a1dab4;stroke:#444443;stroke-linejoin:miter;stroke-width:0.5;\" />\n   </g>\n   <g id=\"patch_37\">\n    <path clip-path=\"url(#pb51361084f)\" d=\"M 79.215714 34.196056  L 90.907143 34.196056  L 90.907143 34.196056  L 79.215714 34.196056  z \" style=\"fill:#a1dab4;stroke:#444443;stroke-linejoin:miter;stroke-width:0.5;\" />\n   </g>\n   <g id=\"patch_38\">\n    <path clip-path=\"url(#pb51361084f)\" d=\"M 90.907143 34.196056  L 102.598571 34.196056  L 102.598571 34.196056  L 90.907143 34.196056  z \" style=\"fill:#a1dab4;stroke:#444443;stroke-linejoin:miter;stroke-width:0.5;\" />\n   </g>\n   <g id=\"patch_39\">\n    <path clip-path=\"url(#pb51361084f)\" d=\"M 102.598571 34.196056  L 114.29 34.196056  L 114.29 34.196056  L 102.598571 34.196056  z \" style=\"fill:#a1dab4;stroke:#444443;stroke-linejoin:miter;stroke-width:0.5;\" />\n   </g>\n   <g id=\"patch_40\">\n    <path clip-path=\"url(#pb51361084f)\" d=\"M 114.29 34.196056  L 125.981429 34.196056  L 125.981429 34.196056  L 114.29 34.196056  z \" style=\"fill:#a1dab4;stroke:#444443;stroke-linejoin:miter;stroke-width:0.5;\" />\n   </g>\n   <g id=\"patch_41\">\n    <path clip-path=\"url(#pb51361084f)\" d=\"M 125.981429 34.196056  L 137.672857 34.196056  L 137.672857 34.196056  L 125.981429 34.196056  z \" style=\"fill:#a1dab4;stroke:#444443;stroke-linejoin:miter;stroke-width:0.5;\" />\n   </g>\n   <g id=\"patch_42\">\n    <path clip-path=\"url(#pb51361084f)\" d=\"M 137.672857 34.196056  L 149.364286 34.196056  L 149.364286 34.196056  L 137.672857 34.196056  z \" style=\"fill:#a1dab4;stroke:#444443;stroke-linejoin:miter;stroke-width:0.5;\" />\n   </g>\n   <g id=\"patch_43\">\n    <path clip-path=\"url(#pb51361084f)\" d=\"M 149.364286 34.196056  L 161.055714 34.196056  L 161.055714 34.196056  L 149.364286 34.196056  z \" style=\"fill:#a1dab4;stroke:#444443;stroke-linejoin:miter;stroke-width:0.5;\" />\n   </g>\n   <g id=\"patch_44\">\n    <path clip-path=\"url(#pb51361084f)\" d=\"M 161.055714 34.196056  L 172.747143 34.196056  L 172.747143 34.196056  L 161.055714 34.196056  z \" style=\"fill:#a1dab4;stroke:#444443;stroke-linejoin:miter;stroke-width:0.5;\" />\n   </g>\n   <g id=\"patch_45\">\n    <path clip-path=\"url(#pb51361084f)\" d=\"M 172.747143 34.196056  L 184.438571 34.196056  L 184.438571 34.196056  L 172.747143 34.196056  z \" style=\"fill:#a1dab4;stroke:#444443;stroke-linejoin:miter;stroke-width:0.5;\" />\n   </g>\n   <g id=\"patch_46\">\n    <path clip-path=\"url(#pb51361084f)\" d=\"M 184.438571 34.196056  L 196.13 34.196056  L 196.13 34.196056  L 184.438571 34.196056  z \" style=\"fill:#a1dab4;stroke:#444443;stroke-linejoin:miter;stroke-width:0.5;\" />\n   </g>\n   <g id=\"patch_47\">\n    <path clip-path=\"url(#pb51361084f)\" d=\"M 196.13 34.196056  L 207.821429 34.196056  L 207.821429 3.039375  L 196.13 3.039375  z \" style=\"fill:#a1dab4;stroke:#444443;stroke-linejoin:miter;stroke-width:0.5;\" />\n   </g>\n   <g id=\"patch_48\">\n    <path clip-path=\"url(#pb51361084f)\" d=\"M 32.45 21.359432  L 44.141429 21.359432  L 44.141429 21.317214  L 32.45 21.317214  z \" style=\"fill:#fee090;stroke:#444443;stroke-linejoin:miter;stroke-width:0.5;\" />\n   </g>\n   <g id=\"patch_49\">\n    <path clip-path=\"url(#pb51361084f)\" d=\"M 44.141429 34.196056  L 55.832857 34.196056  L 55.832857 34.196056  L 44.141429 34.196056  z \" style=\"fill:#fee090;stroke:#444443;stroke-linejoin:miter;stroke-width:0.5;\" />\n   </g>\n   <g id=\"patch_50\">\n    <path clip-path=\"url(#pb51361084f)\" d=\"M 55.832857 34.196056  L 67.524286 34.196056  L 67.524286 34.196056  L 55.832857 34.196056  z \" style=\"fill:#fee090;stroke:#444443;stroke-linejoin:miter;stroke-width:0.5;\" />\n   </g>\n   <g id=\"patch_51\">\n    <path clip-path=\"url(#pb51361084f)\" d=\"M 67.524286 34.196056  L 79.215714 34.196056  L 79.215714 34.196056  L 67.524286 34.196056  z \" style=\"fill:#fee090;stroke:#444443;stroke-linejoin:miter;stroke-width:0.5;\" />\n   </g>\n   <g id=\"patch_52\">\n    <path clip-path=\"url(#pb51361084f)\" d=\"M 79.215714 34.196056  L 90.907143 34.196056  L 90.907143 34.196056  L 79.215714 34.196056  z \" style=\"fill:#fee090;stroke:#444443;stroke-linejoin:miter;stroke-width:0.5;\" />\n   </g>\n   <g id=\"patch_53\">\n    <path clip-path=\"url(#pb51361084f)\" d=\"M 90.907143 34.196056  L 102.598571 34.196056  L 102.598571 34.196056  L 90.907143 34.196056  z \" style=\"fill:#fee090;stroke:#444443;stroke-linejoin:miter;stroke-width:0.5;\" />\n   </g>\n   <g id=\"patch_54\">\n    <path clip-path=\"url(#pb51361084f)\" d=\"M 102.598571 34.196056  L 114.29 34.196056  L 114.29 34.196056  L 102.598571 34.196056  z \" style=\"fill:#fee090;stroke:#444443;stroke-linejoin:miter;stroke-width:0.5;\" />\n   </g>\n   <g id=\"patch_55\">\n    <path clip-path=\"url(#pb51361084f)\" d=\"M 114.29 34.196056  L 125.981429 34.196056  L 125.981429 34.196056  L 114.29 34.196056  z \" style=\"fill:#fee090;stroke:#444443;stroke-linejoin:miter;stroke-width:0.5;\" />\n   </g>\n   <g id=\"patch_56\">\n    <path clip-path=\"url(#pb51361084f)\" d=\"M 125.981429 34.196056  L 137.672857 34.196056  L 137.672857 34.196056  L 125.981429 34.196056  z \" style=\"fill:#fee090;stroke:#444443;stroke-linejoin:miter;stroke-width:0.5;\" />\n   </g>\n   <g id=\"patch_57\">\n    <path clip-path=\"url(#pb51361084f)\" d=\"M 137.672857 34.196056  L 149.364286 34.196056  L 149.364286 34.196056  L 137.672857 34.196056  z \" style=\"fill:#fee090;stroke:#444443;stroke-linejoin:miter;stroke-width:0.5;\" />\n   </g>\n   <g id=\"patch_58\">\n    <path clip-path=\"url(#pb51361084f)\" d=\"M 149.364286 34.196056  L 161.055714 34.196056  L 161.055714 34.196056  L 149.364286 34.196056  z \" style=\"fill:#fee090;stroke:#444443;stroke-linejoin:miter;stroke-width:0.5;\" />\n   </g>\n   <g id=\"patch_59\">\n    <path clip-path=\"url(#pb51361084f)\" d=\"M 161.055714 34.196056  L 172.747143 34.196056  L 172.747143 34.196056  L 161.055714 34.196056  z \" style=\"fill:#fee090;stroke:#444443;stroke-linejoin:miter;stroke-width:0.5;\" />\n   </g>\n   <g id=\"patch_60\">\n    <path clip-path=\"url(#pb51361084f)\" d=\"M 172.747143 34.196056  L 184.438571 34.196056  L 184.438571 34.196056  L 172.747143 34.196056  z \" style=\"fill:#fee090;stroke:#444443;stroke-linejoin:miter;stroke-width:0.5;\" />\n   </g>\n   <g id=\"patch_61\">\n    <path clip-path=\"url(#pb51361084f)\" d=\"M 184.438571 34.196056  L 196.13 34.196056  L 196.13 34.196056  L 184.438571 34.196056  z \" style=\"fill:#fee090;stroke:#444443;stroke-linejoin:miter;stroke-width:0.5;\" />\n   </g>\n   <g id=\"patch_62\">\n    <path clip-path=\"url(#pb51361084f)\" d=\"M 196.13 3.039375  L 207.821429 3.039375  L 207.821429 3.039375  L 196.13 3.039375  z \" style=\"fill:#fee090;stroke:#444443;stroke-linejoin:miter;stroke-width:0.5;\" />\n   </g>\n   <g id=\"patch_63\">\n    <path d=\"M 120.135714 35.011456  L 116.821194 42.350056  L 123.450234 42.350056  z \" style=\"fill:#444443;\" />\n   </g>\n   <g id=\"matplotlib.axis_1\">\n    <g id=\"xtick_1\">\n     <g id=\"line2d_1\">\n      <defs>\n       <path d=\"M 0 0  L 0 3.5  \" id=\"m5fd777e38e\" style=\"stroke:#000000;stroke-width:0.3;\" />\n      </defs>\n      <g>\n       <use style=\"stroke:#000000;stroke-width:0.3;\" x=\"32.45\" y=\"34.196056\" xlink:href=\"#m5fd777e38e\" />\n      </g>\n     </g>\n     <g id=\"text_1\">\n      \n      <defs>\n       <path d=\"M 31.78125 66.40625  Q 24.171875 66.40625 20.328125 58.90625  Q 16.5 51.421875 16.5 36.375  Q 16.5 21.390625 20.328125 13.890625  Q 24.171875 6.390625 31.78125 6.390625  Q 39.453125 6.390625 43.28125 13.890625  Q 47.125 21.390625 47.125 36.375  Q 47.125 51.421875 43.28125 58.90625  Q 39.453125 66.40625 31.78125 66.40625  z M 31.78125 74.21875  Q 44.046875 74.21875 50.515625 64.515625  Q 56.984375 54.828125 56.984375 36.375  Q 56.984375 17.96875 50.515625 8.265625  Q 44.046875 -1.421875 31.78125 -1.421875  Q 19.53125 -1.421875 13.0625 8.265625  Q 6.59375 17.96875 6.59375 36.375  Q 6.59375 54.828125 13.0625 64.515625  Q 19.53125 74.21875 31.78125 74.21875  z \" id=\"DejaVuSans-48\" />\n      </defs>\n      <g style=\"fill:#444443;\" transform=\"translate(29.905 47.274806)scale(0.08 -0.08)\">\n       <use xlink:href=\"#DejaVuSans-48\" />\n      </g>\n     </g>\n    </g>\n    <g id=\"xtick_2\">\n     <g id=\"line2d_2\">\n      <g>\n       <use style=\"stroke:#000000;stroke-width:0.3;\" x=\"207.821429\" y=\"34.196056\" xlink:href=\"#m5fd777e38e\" />\n      </g>\n     </g>\n     <g id=\"text_2\">\n      \n      <defs>\n       <path d=\"M 12.40625 8.296875  L 28.515625 8.296875  L 28.515625 63.921875  L 10.984375 60.40625  L 10.984375 69.390625  L 28.421875 72.90625  L 38.28125 72.90625  L 38.28125 8.296875  L 54.390625 8.296875  L 54.390625 0  L 12.40625 0  z \" id=\"DejaVuSans-49\" />\n      </defs>\n      <g style=\"fill:#444443;\" transform=\"translate(205.276429 47.274806)scale(0.08 -0.08)\">\n       <use xlink:href=\"#DejaVuSans-49\" />\n      </g>\n     </g>\n    </g>\n    <g id=\"text_3\">\n     \n     <defs>\n      <path d=\"M 9.421875 54.6875  L 18.40625 54.6875  L 18.40625 0  L 9.421875 0  z M 9.421875 75.984375  L 18.40625 75.984375  L 18.40625 64.59375  L 9.421875 64.59375  z \" id=\"DejaVuSans-105\" />\n      <path d=\"M 54.890625 33.015625  L 54.890625 0  L 45.90625 0  L 45.90625 32.71875  Q 45.90625 40.484375 42.875 44.328125  Q 39.84375 48.1875 33.796875 48.1875  Q 26.515625 48.1875 22.3125 43.546875  Q 18.109375 38.921875 18.109375 30.90625  L 18.109375 0  L 9.078125 0  L 9.078125 54.6875  L 18.109375 54.6875  L 18.109375 46.1875  Q 21.34375 51.125 25.703125 53.5625  Q 30.078125 56 35.796875 56  Q 45.21875 56 50.046875 50.171875  Q 54.890625 44.34375 54.890625 33.015625  z \" id=\"DejaVuSans-110\" />\n      <path d=\"M 45.40625 46.390625  L 45.40625 75.984375  L 54.390625 75.984375  L 54.390625 0  L 45.40625 0  L 45.40625 8.203125  Q 42.578125 3.328125 38.25 0.953125  Q 33.9375 -1.421875 27.875 -1.421875  Q 17.96875 -1.421875 11.734375 6.484375  Q 5.515625 14.40625 5.515625 27.296875  Q 5.515625 40.1875 11.734375 48.09375  Q 17.96875 56 27.875 56  Q 33.9375 56 38.25 53.625  Q 42.578125 51.265625 45.40625 46.390625  z M 14.796875 27.296875  Q 14.796875 17.390625 18.875 11.75  Q 22.953125 6.109375 30.078125 6.109375  Q 37.203125 6.109375 41.296875 11.75  Q 45.40625 17.390625 45.40625 27.296875  Q 45.40625 37.203125 41.296875 42.84375  Q 37.203125 48.484375 30.078125 48.484375  Q 22.953125 48.484375 18.875 42.84375  Q 14.796875 37.203125 14.796875 27.296875  z \" id=\"DejaVuSans-100\" />\n      <path d=\"M 50.984375 -16.609375  L 50.984375 -23.578125  L -0.984375 -23.578125  L -0.984375 -16.609375  z \" id=\"DejaVuSans-95\" />\n      <path d=\"M 41.109375 46.296875  Q 39.59375 47.171875 37.8125 47.578125  Q 36.03125 48 33.890625 48  Q 26.265625 48 22.1875 43.046875  Q 18.109375 38.09375 18.109375 28.8125  L 18.109375 0  L 9.078125 0  L 9.078125 54.6875  L 18.109375 54.6875  L 18.109375 46.1875  Q 20.953125 51.171875 25.484375 53.578125  Q 30.03125 56 36.53125 56  Q 37.453125 56 38.578125 55.875  Q 39.703125 55.765625 41.0625 55.515625  z \" id=\"DejaVuSans-114\" />\n      <path d=\"M 56.203125 29.59375  L 56.203125 25.203125  L 14.890625 25.203125  Q 15.484375 15.921875 20.484375 11.0625  Q 25.484375 6.203125 34.421875 6.203125  Q 39.59375 6.203125 44.453125 7.46875  Q 49.3125 8.734375 54.109375 11.28125  L 54.109375 2.78125  Q 49.265625 0.734375 44.1875 -0.34375  Q 39.109375 -1.421875 33.890625 -1.421875  Q 20.796875 -1.421875 13.15625 6.1875  Q 5.515625 13.8125 5.515625 26.8125  Q 5.515625 40.234375 12.765625 48.109375  Q 20.015625 56 32.328125 56  Q 43.359375 56 49.78125 48.890625  Q 56.203125 41.796875 56.203125 29.59375  z M 47.21875 32.234375  Q 47.125 39.59375 43.09375 43.984375  Q 39.0625 48.390625 32.421875 48.390625  Q 24.90625 48.390625 20.390625 44.140625  Q 15.875 39.890625 15.1875 32.171875  z \" id=\"DejaVuSans-101\" />\n      <path d=\"M 48.78125 52.59375  L 48.78125 44.1875  Q 44.96875 46.296875 41.140625 47.34375  Q 37.3125 48.390625 33.40625 48.390625  Q 24.65625 48.390625 19.8125 42.84375  Q 14.984375 37.3125 14.984375 27.296875  Q 14.984375 17.28125 19.8125 11.734375  Q 24.65625 6.203125 33.40625 6.203125  Q 37.3125 6.203125 41.140625 7.25  Q 44.96875 8.296875 48.78125 10.40625  L 48.78125 2.09375  Q 45.015625 0.34375 40.984375 -0.53125  Q 36.96875 -1.421875 32.421875 -1.421875  Q 20.0625 -1.421875 12.78125 6.34375  Q 5.515625 14.109375 5.515625 27.296875  Q 5.515625 40.671875 12.859375 48.328125  Q 20.21875 56 33.015625 56  Q 37.15625 56 41.109375 55.140625  Q 45.0625 54.296875 48.78125 52.59375  z \" id=\"DejaVuSans-99\" />\n      <path d=\"M 48.6875 27.296875  Q 48.6875 37.203125 44.609375 42.84375  Q 40.53125 48.484375 33.40625 48.484375  Q 26.265625 48.484375 22.1875 42.84375  Q 18.109375 37.203125 18.109375 27.296875  Q 18.109375 17.390625 22.1875 11.75  Q 26.265625 6.109375 33.40625 6.109375  Q 40.53125 6.109375 44.609375 11.75  Q 48.6875 17.390625 48.6875 27.296875  z M 18.109375 46.390625  Q 20.953125 51.265625 25.265625 53.625  Q 29.59375 56 35.59375 56  Q 45.5625 56 51.78125 48.09375  Q 58.015625 40.1875 58.015625 27.296875  Q 58.015625 14.40625 51.78125 6.484375  Q 45.5625 -1.421875 35.59375 -1.421875  Q 29.59375 -1.421875 25.265625 0.953125  Q 20.953125 3.328125 18.109375 8.203125  L 18.109375 0  L 9.078125 0  L 9.078125 75.984375  L 18.109375 75.984375  z \" id=\"DejaVuSans-98\" />\n      <path d=\"M 30.609375 48.390625  Q 23.390625 48.390625 19.1875 42.75  Q 14.984375 37.109375 14.984375 27.296875  Q 14.984375 17.484375 19.15625 11.84375  Q 23.34375 6.203125 30.609375 6.203125  Q 37.796875 6.203125 41.984375 11.859375  Q 46.1875 17.53125 46.1875 27.296875  Q 46.1875 37.015625 41.984375 42.703125  Q 37.796875 48.390625 30.609375 48.390625  z M 30.609375 56  Q 42.328125 56 49.015625 48.375  Q 55.71875 40.765625 55.71875 27.296875  Q 55.71875 13.875 49.015625 6.21875  Q 42.328125 -1.421875 30.609375 -1.421875  Q 18.84375 -1.421875 12.171875 6.21875  Q 5.515625 13.875 5.515625 27.296875  Q 5.515625 40.765625 12.171875 48.375  Q 18.84375 56 30.609375 56  z \" id=\"DejaVuSans-111\" />\n      <path d=\"M 8.5 21.578125  L 8.5 54.6875  L 17.484375 54.6875  L 17.484375 21.921875  Q 17.484375 14.15625 20.5 10.265625  Q 23.53125 6.390625 29.59375 6.390625  Q 36.859375 6.390625 41.078125 11.03125  Q 45.3125 15.671875 45.3125 23.6875  L 45.3125 54.6875  L 54.296875 54.6875  L 54.296875 0  L 45.3125 0  L 45.3125 8.40625  Q 42.046875 3.421875 37.71875 1  Q 33.40625 -1.421875 27.6875 -1.421875  Q 18.265625 -1.421875 13.375 4.4375  Q 8.5 10.296875 8.5 21.578125  z M 31.109375 56  z \" id=\"DejaVuSans-117\" />\n      <path d=\"M 9.421875 75.984375  L 18.40625 75.984375  L 18.40625 0  L 9.421875 0  z \" id=\"DejaVuSans-108\" />\n      <path d=\"M 18.3125 70.21875  L 18.3125 54.6875  L 36.8125 54.6875  L 36.8125 47.703125  L 18.3125 47.703125  L 18.3125 18.015625  Q 18.3125 11.328125 20.140625 9.421875  Q 21.96875 7.515625 27.59375 7.515625  L 36.8125 7.515625  L 36.8125 0  L 27.59375 0  Q 17.1875 0 13.234375 3.875  Q 9.28125 7.765625 9.28125 18.015625  L 9.28125 47.703125  L 2.6875 47.703125  L 2.6875 54.6875  L 9.28125 54.6875  L 9.28125 70.21875  z \" id=\"DejaVuSans-116\" />\n     </defs>\n     <g style=\"fill:#444443;\" transform=\"translate(79.132813 62.056681)scale(0.12 -0.12)\">\n      <use xlink:href=\"#DejaVuSans-105\" />\n      <use x=\"27.783203\" xlink:href=\"#DejaVuSans-110\" />\n      <use x=\"91.162109\" xlink:href=\"#DejaVuSans-100\" />\n      <use x=\"154.638672\" xlink:href=\"#DejaVuSans-95\" />\n      <use x=\"204.638672\" xlink:href=\"#DejaVuSans-114\" />\n      <use x=\"243.501953\" xlink:href=\"#DejaVuSans-101\" />\n      <use x=\"305.025391\" xlink:href=\"#DejaVuSans-99\" />\n      <use x=\"360.005859\" xlink:href=\"#DejaVuSans-105\" />\n      <use x=\"387.789062\" xlink:href=\"#DejaVuSans-98\" />\n      <use x=\"451.265625\" xlink:href=\"#DejaVuSans-111\" />\n      <use x=\"512.447266\" xlink:href=\"#DejaVuSans-95\" />\n      <use x=\"562.447266\" xlink:href=\"#DejaVuSans-117\" />\n      <use x=\"625.826172\" xlink:href=\"#DejaVuSans-108\" />\n      <use x=\"653.609375\" xlink:href=\"#DejaVuSans-116\" />\n      <use x=\"692.818359\" xlink:href=\"#DejaVuSans-49\" />\n     </g>\n    </g>\n   </g>\n   <g id=\"matplotlib.axis_2\">\n    <g id=\"ytick_1\">\n     <g id=\"line2d_3\">\n      <defs>\n       <path d=\"M 0 0  L -3.5 0  \" id=\"mc55b93d54c\" style=\"stroke:#000000;stroke-width:0.3;\" />\n      </defs>\n      <g>\n       <use style=\"stroke:#000000;stroke-width:0.3;\" x=\"32.45\" y=\"34.196056\" xlink:href=\"#mc55b93d54c\" />\n      </g>\n     </g>\n     <g id=\"text_4\">\n      \n      <g style=\"fill:#444443;\" transform=\"translate(20.36 37.235431)scale(0.08 -0.08)\">\n       <use xlink:href=\"#DejaVuSans-48\" />\n      </g>\n     </g>\n    </g>\n    <g id=\"ytick_2\">\n     <g id=\"line2d_4\">\n      <g>\n       <use style=\"stroke:#000000;stroke-width:0.3;\" x=\"32.45\" y=\"3.039375\" xlink:href=\"#mc55b93d54c\" />\n      </g>\n     </g>\n     <g id=\"text_5\">\n      \n      <defs>\n       <path d=\"M 40.578125 39.3125  Q 47.65625 37.796875 51.625 33  Q 55.609375 28.21875 55.609375 21.1875  Q 55.609375 10.40625 48.1875 4.484375  Q 40.765625 -1.421875 27.09375 -1.421875  Q 22.515625 -1.421875 17.65625 -0.515625  Q 12.796875 0.390625 7.625 2.203125  L 7.625 11.71875  Q 11.71875 9.328125 16.59375 8.109375  Q 21.484375 6.890625 26.8125 6.890625  Q 36.078125 6.890625 40.9375 10.546875  Q 45.796875 14.203125 45.796875 21.1875  Q 45.796875 27.640625 41.28125 31.265625  Q 36.765625 34.90625 28.71875 34.90625  L 20.21875 34.90625  L 20.21875 43.015625  L 29.109375 43.015625  Q 36.375 43.015625 40.234375 45.921875  Q 44.09375 48.828125 44.09375 54.296875  Q 44.09375 59.90625 40.109375 62.90625  Q 36.140625 65.921875 28.71875 65.921875  Q 24.65625 65.921875 20.015625 65.03125  Q 15.375 64.15625 9.8125 62.3125  L 9.8125 71.09375  Q 15.4375 72.65625 20.34375 73.4375  Q 25.25 74.21875 29.59375 74.21875  Q 40.828125 74.21875 47.359375 69.109375  Q 53.90625 64.015625 53.90625 55.328125  Q 53.90625 49.265625 50.4375 45.09375  Q 46.96875 40.921875 40.578125 39.3125  z \" id=\"DejaVuSans-51\" />\n       <path d=\"M 31.78125 34.625  Q 24.75 34.625 20.71875 30.859375  Q 16.703125 27.09375 16.703125 20.515625  Q 16.703125 13.921875 20.71875 10.15625  Q 24.75 6.390625 31.78125 6.390625  Q 38.8125 6.390625 42.859375 10.171875  Q 46.921875 13.96875 46.921875 20.515625  Q 46.921875 27.09375 42.890625 30.859375  Q 38.875 34.625 31.78125 34.625  z M 21.921875 38.8125  Q 15.578125 40.375 12.03125 44.71875  Q 8.5 49.078125 8.5 55.328125  Q 8.5 64.0625 14.71875 69.140625  Q 20.953125 74.21875 31.78125 74.21875  Q 42.671875 74.21875 48.875 69.140625  Q 55.078125 64.0625 55.078125 55.328125  Q 55.078125 49.078125 51.53125 44.71875  Q 48 40.375 41.703125 38.8125  Q 48.828125 37.15625 52.796875 32.3125  Q 56.78125 27.484375 56.78125 20.515625  Q 56.78125 9.90625 50.3125 4.234375  Q 43.84375 -1.421875 31.78125 -1.421875  Q 19.734375 -1.421875 13.25 4.234375  Q 6.78125 9.90625 6.78125 20.515625  Q 6.78125 27.484375 10.78125 32.3125  Q 14.796875 37.15625 21.921875 38.8125  z M 18.3125 54.390625  Q 18.3125 48.734375 21.84375 45.5625  Q 25.390625 42.390625 31.78125 42.390625  Q 38.140625 42.390625 41.71875 45.5625  Q 45.3125 48.734375 45.3125 54.390625  Q 45.3125 60.0625 41.71875 63.234375  Q 38.140625 66.40625 31.78125 66.40625  Q 25.390625 66.40625 21.84375 63.234375  Q 18.3125 60.0625 18.3125 54.390625  z \" id=\"DejaVuSans-56\" />\n       <path d=\"M 8.203125 72.90625  L 55.078125 72.90625  L 55.078125 68.703125  L 28.609375 0  L 18.3125 0  L 43.21875 64.59375  L 8.203125 64.59375  z \" id=\"DejaVuSans-55\" />\n       <path d=\"M 33.015625 40.375  Q 26.375 40.375 22.484375 35.828125  Q 18.609375 31.296875 18.609375 23.390625  Q 18.609375 15.53125 22.484375 10.953125  Q 26.375 6.390625 33.015625 6.390625  Q 39.65625 6.390625 43.53125 10.953125  Q 47.40625 15.53125 47.40625 23.390625  Q 47.40625 31.296875 43.53125 35.828125  Q 39.65625 40.375 33.015625 40.375  z M 52.59375 71.296875  L 52.59375 62.3125  Q 48.875 64.0625 45.09375 64.984375  Q 41.3125 65.921875 37.59375 65.921875  Q 27.828125 65.921875 22.671875 59.328125  Q 17.53125 52.734375 16.796875 39.40625  Q 19.671875 43.65625 24.015625 45.921875  Q 28.375 48.1875 33.59375 48.1875  Q 44.578125 48.1875 50.953125 41.515625  Q 57.328125 34.859375 57.328125 23.390625  Q 57.328125 12.15625 50.6875 5.359375  Q 44.046875 -1.421875 33.015625 -1.421875  Q 20.359375 -1.421875 13.671875 8.265625  Q 6.984375 17.96875 6.984375 36.375  Q 6.984375 53.65625 15.1875 63.9375  Q 23.390625 74.21875 37.203125 74.21875  Q 40.921875 74.21875 44.703125 73.484375  Q 48.484375 72.75 52.59375 71.296875  z \" id=\"DejaVuSans-54\" />\n      </defs>\n      <g style=\"fill:#444443;\" transform=\"translate(-0 6.07875)scale(0.08 -0.08)\">\n       <use xlink:href=\"#DejaVuSans-51\" />\n       <use x=\"63.623047\" xlink:href=\"#DejaVuSans-56\" />\n       <use x=\"127.246094\" xlink:href=\"#DejaVuSans-51\" />\n       <use x=\"190.869141\" xlink:href=\"#DejaVuSans-55\" />\n       <use x=\"254.492188\" xlink:href=\"#DejaVuSans-54\" />\n      </g>\n     </g>\n    </g>\n   </g>\n   <g id=\"patch_64\">\n    <path d=\"M 32.45 34.196056  L 32.45 3.039375  \" style=\"fill:none;stroke:#000000;stroke-linecap:square;stroke-linejoin:miter;stroke-width:0.3;\" />\n   </g>\n   <g id=\"patch_65\">\n    <path d=\"M 32.45 34.196056  L 216.59 34.196056  \" style=\"fill:none;stroke:#000000;stroke-linecap:square;stroke-linejoin:miter;stroke-width:0.3;\" />\n   </g>\n   <g id=\"text_6\">\n    \n    <defs>\n     <path d=\"M 10.6875 12.40625  L 21 12.40625  L 21 0  L 10.6875 0  z \" id=\"DejaVuSans-46\" />\n     <path d=\"M 10.796875 72.90625  L 49.515625 72.90625  L 49.515625 64.59375  L 19.828125 64.59375  L 19.828125 46.734375  Q 21.96875 47.46875 24.109375 47.828125  Q 26.265625 48.1875 28.421875 48.1875  Q 40.625 48.1875 47.75 41.5  Q 54.890625 34.8125 54.890625 23.390625  Q 54.890625 11.625 47.5625 5.09375  Q 40.234375 -1.421875 26.90625 -1.421875  Q 22.3125 -1.421875 17.546875 -0.640625  Q 12.796875 0.140625 7.71875 1.703125  L 7.71875 11.625  Q 12.109375 9.234375 16.796875 8.0625  Q 21.484375 6.890625 26.703125 6.890625  Q 35.15625 6.890625 40.078125 11.328125  Q 45.015625 15.765625 45.015625 23.390625  Q 45.015625 31 40.078125 35.4375  Q 35.15625 39.890625 26.703125 39.890625  Q 22.75 39.890625 18.8125 39.015625  Q 14.890625 38.140625 10.796875 36.28125  z \" id=\"DejaVuSans-53\" />\n    </defs>\n    <g style=\"fill:#444443;\" transform=\"translate(111.229464 50.504056)scale(0.08 -0.08)\">\n     <use xlink:href=\"#DejaVuSans-48\" />\n     <use x=\"63.623047\" xlink:href=\"#DejaVuSans-46\" />\n     <use x=\"95.410156\" xlink:href=\"#DejaVuSans-53\" />\n     <use x=\"159.033203\" xlink:href=\"#DejaVuSans-48\" />\n    </g>\n   </g>\n  </g>\n </g>\n <defs>\n  <clipPath id=\"pb51361084f\">\n   <rect height=\"31.156681\" width=\"184.14\" x=\"32.45\" y=\"3.039375\" />\n  </clipPath>\n </defs>\n</svg></g>\n\n\n<g class=\"node\" id=\"node10\">\n<title>leaf15</title>\n<polygon fill=\"none\" points=\"67,-187 0,-187 0,-104 67,-104 67,-187\" stroke=\"#444443\" stroke-width=\"0\" />\n<svg height=\"75px\" preserveAspectRatio=\"xMinYMin meet\" version=\"1.1\" viewBox=\"0 0 78.54907 100.463843\" width=\"59px\" x=\"4.5\" y=\"-182.5\">\n <defs>\n  <style type=\"text/css\">\n*{stroke-linecap:butt;stroke-linejoin:round;}\n  </style>\n </defs>\n <g id=\"figure_1\">\n  <g id=\"patch_1\">\n   <path d=\"M 0 100.463843  L 78.54907 100.463843  L 78.54907 0  L 0 0  z \" style=\"fill:#ffffff;\" />\n  </g>\n  <g id=\"axes_1\">\n   <g id=\"patch_2\">\n    <path d=\"M 78.54907 39.274699  C 78.54907 39.274699 78.54907 39.274699 78.54907 39.274699  L 39.28907 39.274699  L 78.54907 39.274699  z \" style=\"fill:#fefebb;stroke:#444443;stroke-linejoin:miter;stroke-width:0.5;\" />\n   </g>\n   <g id=\"patch_3\">\n    <path d=\"M 78.54907 39.274699  C 78.54907 34.128663 77.537289 29.03248 75.57142 24.276741  C 73.60555 19.521003 70.723682 15.197854 67.090143 11.553805  C 63.456605 7.909757 59.141797 5.015415 54.391756 3.035818  C 49.641715 1.056221 44.548476 0.029726 39.402461 0.014863  C 34.256446 0 29.157362 0.997058 24.395966 2.949184  C 19.634569 4.90131 15.303115 7.77068 11.648587 11.393679  C 7.99406 15.016677 5.087268 19.323108 3.09396 24.067411  C 1.100653 28.811715 0.059451 33.901968 0.029725 39.047919  C 0 44.193869 0.982327 49.295812 2.920693 54.062827  C 4.859059 58.829841 7.715907 63.169565 11.328335 66.834541  C 14.940764 70.499517 19.238781 73.418735 23.977308 75.425737  C 28.715834 77.432738 33.803059 78.488638 38.948903 78.533225  C 44.094746 78.577813 49.199504 77.610225 53.972097 75.685636  C 58.74469 73.761046 63.092647 70.916744 66.768041 67.314916  C 70.443436 63.713087 73.375055 59.423519 75.395734 54.690809  C 77.416413 49.958099 78.487001 44.873945 78.54645 39.728252  L 39.28907 39.274699  L 78.54907 39.274699  z \" style=\"fill:#d9e6f5;stroke:#444443;stroke-linejoin:miter;stroke-width:0.5;\" />\n   </g>\n   <g id=\"patch_4\">\n    <path d=\"M 78.54645 39.728252  C 78.546567 39.718185 78.546679 39.708119 78.546788 39.698052  C 78.546896 39.687986 78.547001 39.677919 78.547102 39.667852  L 39.28907 39.274699  L 78.54645 39.728252  z \" style=\"fill:#a1dab4;stroke:#444443;stroke-linejoin:miter;stroke-width:0.5;\" />\n   </g>\n   <g id=\"patch_5\">\n    <path d=\"M 78.547102 39.667852  C 78.547758 39.602328 78.54825 39.536802 78.548578 39.471275  C 78.548906 39.405748 78.54907 39.34022 78.54907 39.274693  L 39.28907 39.274699  L 78.547102 39.667852  z \" style=\"fill:#fee090;stroke:#444443;stroke-linejoin:miter;stroke-width:0.5;\" />\n   </g>\n   <g id=\"text_1\">\n    \n    <defs>\n     <path d=\"M 54.890625 33.015625  L 54.890625 0  L 45.90625 0  L 45.90625 32.71875  Q 45.90625 40.484375 42.875 44.328125  Q 39.84375 48.1875 33.796875 48.1875  Q 26.515625 48.1875 22.3125 43.546875  Q 18.109375 38.921875 18.109375 30.90625  L 18.109375 0  L 9.078125 0  L 9.078125 54.6875  L 18.109375 54.6875  L 18.109375 46.1875  Q 21.34375 51.125 25.703125 53.5625  Q 30.078125 56 35.796875 56  Q 45.21875 56 50.046875 50.171875  Q 54.890625 44.34375 54.890625 33.015625  z \" id=\"DejaVuSans-110\" />\n     <path d=\"M 10.59375 45.40625  L 73.1875 45.40625  L 73.1875 37.203125  L 10.59375 37.203125  z M 10.59375 25.484375  L 73.1875 25.484375  L 73.1875 17.1875  L 10.59375 17.1875  z \" id=\"DejaVuSans-61\" />\n     <path d=\"M 19.1875 8.296875  L 53.609375 8.296875  L 53.609375 0  L 7.328125 0  L 7.328125 8.296875  Q 12.9375 14.109375 22.625 23.890625  Q 32.328125 33.6875 34.8125 36.53125  Q 39.546875 41.84375 41.421875 45.53125  Q 43.3125 49.21875 43.3125 52.78125  Q 43.3125 58.59375 39.234375 62.25  Q 35.15625 65.921875 28.609375 65.921875  Q 23.96875 65.921875 18.8125 64.3125  Q 13.671875 62.703125 7.8125 59.421875  L 7.8125 69.390625  Q 13.765625 71.78125 18.9375 73  Q 24.125 74.21875 28.421875 74.21875  Q 39.75 74.21875 46.484375 68.546875  Q 53.21875 62.890625 53.21875 53.421875  Q 53.21875 48.921875 51.53125 44.890625  Q 49.859375 40.875 45.40625 35.40625  Q 44.1875 33.984375 37.640625 27.21875  Q 31.109375 20.453125 19.1875 8.296875  z \" id=\"DejaVuSans-50\" />\n     <path d=\"M 37.796875 64.3125  L 12.890625 25.390625  L 37.796875 25.390625  z M 35.203125 72.90625  L 47.609375 72.90625  L 47.609375 25.390625  L 58.015625 25.390625  L 58.015625 17.1875  L 47.609375 17.1875  L 47.609375 0  L 37.796875 0  L 37.796875 17.1875  L 4.890625 17.1875  L 4.890625 26.703125  z \" id=\"DejaVuSans-52\" />\n     <path d=\"M 33.015625 40.375  Q 26.375 40.375 22.484375 35.828125  Q 18.609375 31.296875 18.609375 23.390625  Q 18.609375 15.53125 22.484375 10.953125  Q 26.375 6.390625 33.015625 6.390625  Q 39.65625 6.390625 43.53125 10.953125  Q 47.40625 15.53125 47.40625 23.390625  Q 47.40625 31.296875 43.53125 35.828125  Q 39.65625 40.375 33.015625 40.375  z M 52.59375 71.296875  L 52.59375 62.3125  Q 48.875 64.0625 45.09375 64.984375  Q 41.3125 65.921875 37.59375 65.921875  Q 27.828125 65.921875 22.671875 59.328125  Q 17.53125 52.734375 16.796875 39.40625  Q 19.671875 43.65625 24.015625 45.921875  Q 28.375 48.1875 33.59375 48.1875  Q 44.578125 48.1875 50.953125 41.515625  Q 57.328125 34.859375 57.328125 23.390625  Q 57.328125 12.15625 50.6875 5.359375  Q 44.046875 -1.421875 33.015625 -1.421875  Q 20.359375 -1.421875 13.671875 8.265625  Q 6.984375 17.96875 6.984375 36.375  Q 6.984375 53.65625 15.1875 63.9375  Q 23.390625 74.21875 37.203125 74.21875  Q 40.921875 74.21875 44.703125 73.484375  Q 48.484375 72.75 52.59375 71.296875  z \" id=\"DejaVuSans-54\" />\n     <path d=\"M 12.40625 8.296875  L 28.515625 8.296875  L 28.515625 63.921875  L 10.984375 60.40625  L 10.984375 69.390625  L 28.421875 72.90625  L 38.28125 72.90625  L 38.28125 8.296875  L 54.390625 8.296875  L 54.390625 0  L 12.40625 0  z \" id=\"DejaVuSans-49\" />\n    </defs>\n    <g style=\"fill:#444443;\" transform=\"translate(15.487586 88.514093)scale(0.09 -0.09)\">\n     <use xlink:href=\"#DejaVuSans-110\" />\n     <use x=\"63.378906\" xlink:href=\"#DejaVuSans-61\" />\n     <use x=\"147.167969\" xlink:href=\"#DejaVuSans-50\" />\n     <use x=\"210.791016\" xlink:href=\"#DejaVuSans-50\" />\n     <use x=\"274.414062\" xlink:href=\"#DejaVuSans-52\" />\n     <use x=\"338.037109\" xlink:href=\"#DejaVuSans-54\" />\n     <use x=\"401.660156\" xlink:href=\"#DejaVuSans-49\" />\n     <use x=\"465.283203\" xlink:href=\"#DejaVuSans-52\" />\n    </g>\n    \n    <defs>\n     <path d=\"M 48.78125 52.59375  L 48.78125 44.1875  Q 44.96875 46.296875 41.140625 47.34375  Q 37.3125 48.390625 33.40625 48.390625  Q 24.65625 48.390625 19.8125 42.84375  Q 14.984375 37.3125 14.984375 27.296875  Q 14.984375 17.28125 19.8125 11.734375  Q 24.65625 6.203125 33.40625 6.203125  Q 37.3125 6.203125 41.140625 7.25  Q 44.96875 8.296875 48.78125 10.40625  L 48.78125 2.09375  Q 45.015625 0.34375 40.984375 -0.53125  Q 36.96875 -1.421875 32.421875 -1.421875  Q 20.0625 -1.421875 12.78125 6.34375  Q 5.515625 14.109375 5.515625 27.296875  Q 5.515625 40.671875 12.859375 48.328125  Q 20.21875 56 33.015625 56  Q 37.15625 56 41.109375 55.140625  Q 45.0625 54.296875 48.78125 52.59375  z \" id=\"DejaVuSans-99\" />\n     <path d=\"M 9.421875 75.984375  L 18.40625 75.984375  L 18.40625 0  L 9.421875 0  z \" id=\"DejaVuSans-108\" />\n     <path d=\"M 34.28125 27.484375  Q 23.390625 27.484375 19.1875 25  Q 14.984375 22.515625 14.984375 16.5  Q 14.984375 11.71875 18.140625 8.90625  Q 21.296875 6.109375 26.703125 6.109375  Q 34.1875 6.109375 38.703125 11.40625  Q 43.21875 16.703125 43.21875 25.484375  L 43.21875 27.484375  z M 52.203125 31.203125  L 52.203125 0  L 43.21875 0  L 43.21875 8.296875  Q 40.140625 3.328125 35.546875 0.953125  Q 30.953125 -1.421875 24.3125 -1.421875  Q 15.921875 -1.421875 10.953125 3.296875  Q 6 8.015625 6 15.921875  Q 6 25.140625 12.171875 29.828125  Q 18.359375 34.515625 30.609375 34.515625  L 43.21875 34.515625  L 43.21875 35.40625  Q 43.21875 41.609375 39.140625 45  Q 35.0625 48.390625 27.6875 48.390625  Q 23 48.390625 18.546875 47.265625  Q 14.109375 46.140625 10.015625 43.890625  L 10.015625 52.203125  Q 14.9375 54.109375 19.578125 55.046875  Q 24.21875 56 28.609375 56  Q 40.484375 56 46.34375 49.84375  Q 52.203125 43.703125 52.203125 31.203125  z \" id=\"DejaVuSans-97\" />\n     <path d=\"M 44.28125 53.078125  L 44.28125 44.578125  Q 40.484375 46.53125 36.375 47.5  Q 32.28125 48.484375 27.875 48.484375  Q 21.1875 48.484375 17.84375 46.4375  Q 14.5 44.390625 14.5 40.28125  Q 14.5 37.15625 16.890625 35.375  Q 19.28125 33.59375 26.515625 31.984375  L 29.59375 31.296875  Q 39.15625 29.25 43.1875 25.515625  Q 47.21875 21.78125 47.21875 15.09375  Q 47.21875 7.46875 41.1875 3.015625  Q 35.15625 -1.421875 24.609375 -1.421875  Q 20.21875 -1.421875 15.453125 -0.5625  Q 10.6875 0.296875 5.421875 2  L 5.421875 11.28125  Q 10.40625 8.6875 15.234375 7.390625  Q 20.0625 6.109375 24.8125 6.109375  Q 31.15625 6.109375 34.5625 8.28125  Q 37.984375 10.453125 37.984375 14.40625  Q 37.984375 18.0625 35.515625 20.015625  Q 33.0625 21.96875 24.703125 23.78125  L 21.578125 24.515625  Q 13.234375 26.265625 9.515625 29.90625  Q 5.8125 33.546875 5.8125 39.890625  Q 5.8125 47.609375 11.28125 51.796875  Q 16.75 56 26.8125 56  Q 31.78125 56 36.171875 55.265625  Q 40.578125 54.546875 44.28125 53.078125  z \" id=\"DejaVuSans-115\" />\n     <path id=\"DejaVuSans-32\" />\n    </defs>\n    <g style=\"fill:#444443;\" transform=\"translate(23.825242 98.592124)scale(0.09 -0.09)\">\n     <use xlink:href=\"#DejaVuSans-99\" />\n     <use x=\"54.980469\" xlink:href=\"#DejaVuSans-108\" />\n     <use x=\"82.763672\" xlink:href=\"#DejaVuSans-97\" />\n     <use x=\"144.042969\" xlink:href=\"#DejaVuSans-115\" />\n     <use x=\"196.142578\" xlink:href=\"#DejaVuSans-115\" />\n     <use x=\"248.242188\" xlink:href=\"#DejaVuSans-32\" />\n     <use x=\"280.029297\" xlink:href=\"#DejaVuSans-49\" />\n    </g>\n   </g>\n  </g>\n </g>\n</svg></g>\n\n<g class=\"edge\" id=\"edge1\">\n<title>node5-&gt;leaf15</title>\n<path d=\"M92.2749,-214.7238C85.0402,-206.203 77.2798,-197.0629 69.8468,-188.3084\" fill=\"none\" stroke=\"#444443\" stroke-width=\".3\" />\n<polygon fill=\"#444443\" points=\"70.7808,-187.2454 67.1247,-185.1024 68.6464,-189.0577 70.7808,-187.2454\" stroke=\"#444443\" stroke-width=\".3\" />\n</g>\n\n<g class=\"node\" id=\"node11\">\n<title>leaf16</title>\n<polygon fill=\"none\" points=\"148,-187 81,-187 81,-104 148,-104 148,-187\" stroke=\"#444443\" stroke-width=\"0\" />\n<svg height=\"75px\" preserveAspectRatio=\"xMinYMin meet\" version=\"1.1\" viewBox=\"0 0 78.636873 100.6132\" width=\"59px\" x=\"85.5\" y=\"-182.5\">\n <defs>\n  <style type=\"text/css\">\n*{stroke-linecap:butt;stroke-linejoin:round;}\n  </style>\n </defs>\n <g id=\"figure_1\">\n  <g id=\"patch_1\">\n   <path d=\"M 0 100.6132  L 78.636873 100.6132  L 78.636873 0  L 0 0  z \" style=\"fill:#ffffff;\" />\n  </g>\n  <g id=\"axes_1\">\n   <g id=\"patch_2\">\n    <path d=\"M 78.636873 39.424056  C 78.636873 39.424056 78.636873 39.424056 78.636873 39.424056  L 39.376873 39.424056  L 78.636873 39.424056  z \" style=\"fill:#fefebb;stroke:#444443;stroke-linejoin:miter;stroke-width:0.5;\" />\n   </g>\n   <g id=\"patch_3\">\n    <path d=\"M 78.636873 39.424056  C 78.636873 30.738268 75.754438 22.293287 70.443861 15.420101  C 65.133283 8.546915 57.689027 3.626633 49.284358 1.434724  L 39.376873 39.424056  L 78.636873 39.424056  z \" style=\"fill:#d9e6f5;stroke:#444443;stroke-linejoin:miter;stroke-width:0.5;\" />\n   </g>\n   <g id=\"patch_4\">\n    <path d=\"M 49.284358 1.434724  C 45.350088 0.40868 41.280199 0 37.220472 0.223322  C 33.160746 0.446645 29.16024 1.299271 25.362251 2.75066  C 21.564262 4.20205 18.014685 6.234664 14.840664 8.775695  C 11.666642 11.316726 8.906532 14.335469 6.659198 17.723794  C 4.411865 21.112118 2.704465 24.82908 1.598156 28.741538  C 0.491848 32.653997 -0 36.714675 0.14023 40.77812  C 0.280461 44.841565 1.051074 48.858675 2.424469 52.685559  C 3.797863 56.512443 5.757442 60.102856 8.233015 63.328192  C 10.708587 66.553528 13.670238 69.374812 17.011882 71.690987  C 20.353527 74.007161 24.034784 75.790238 27.923793 76.976347  C 31.812803 78.162457 35.86257 78.737267 39.928033 78.680187  C 43.993497 78.623108 48.02553 77.934828 51.879707 76.640004  C 55.733884 75.345179 59.363631 73.459455 62.638932 71.050378  C 65.914233 68.6413 68.79551 65.737981 71.179556 62.444415  C 73.563602 59.15085 75.421609 55.506837 76.687024 51.642904  C 77.952438 47.778971 78.609969 43.74181 78.636064 39.67603  L 39.376873 39.424056  L 49.284358 1.434724  z \" style=\"fill:#a1dab4;stroke:#444443;stroke-linejoin:miter;stroke-width:0.5;\" />\n   </g>\n   <g id=\"patch_5\">\n    <path d=\"M 78.636064 39.67603  C 78.636334 39.634036 78.636536 39.592041 78.636671 39.550046  C 78.636805 39.508052 78.636873 39.466057 78.636873 39.424062  L 39.376873 39.424056  L 78.636064 39.67603  z \" style=\"fill:#fee090;stroke:#444443;stroke-linejoin:miter;stroke-width:0.5;\" />\n   </g>\n   <g id=\"text_1\">\n    \n    <defs>\n     <path d=\"M 54.890625 33.015625  L 54.890625 0  L 45.90625 0  L 45.90625 32.71875  Q 45.90625 40.484375 42.875 44.328125  Q 39.84375 48.1875 33.796875 48.1875  Q 26.515625 48.1875 22.3125 43.546875  Q 18.109375 38.921875 18.109375 30.90625  L 18.109375 0  L 9.078125 0  L 9.078125 54.6875  L 18.109375 54.6875  L 18.109375 46.1875  Q 21.34375 51.125 25.703125 53.5625  Q 30.078125 56 35.796875 56  Q 45.21875 56 50.046875 50.171875  Q 54.890625 44.34375 54.890625 33.015625  z \" id=\"DejaVuSans-110\" />\n     <path d=\"M 10.59375 45.40625  L 73.1875 45.40625  L 73.1875 37.203125  L 10.59375 37.203125  z M 10.59375 25.484375  L 73.1875 25.484375  L 73.1875 17.1875  L 10.59375 17.1875  z \" id=\"DejaVuSans-61\" />\n     <path d=\"M 10.984375 1.515625  L 10.984375 10.5  Q 14.703125 8.734375 18.5 7.8125  Q 22.3125 6.890625 25.984375 6.890625  Q 35.75 6.890625 40.890625 13.453125  Q 46.046875 20.015625 46.78125 33.40625  Q 43.953125 29.203125 39.59375 26.953125  Q 35.25 24.703125 29.984375 24.703125  Q 19.046875 24.703125 12.671875 31.3125  Q 6.296875 37.9375 6.296875 49.421875  Q 6.296875 60.640625 12.9375 67.421875  Q 19.578125 74.21875 30.609375 74.21875  Q 43.265625 74.21875 49.921875 64.515625  Q 56.59375 54.828125 56.59375 36.375  Q 56.59375 19.140625 48.40625 8.859375  Q 40.234375 -1.421875 26.421875 -1.421875  Q 22.703125 -1.421875 18.890625 -0.6875  Q 15.09375 0.046875 10.984375 1.515625  z M 30.609375 32.421875  Q 37.25 32.421875 41.125 36.953125  Q 45.015625 41.5 45.015625 49.421875  Q 45.015625 57.28125 41.125 61.84375  Q 37.25 66.40625 30.609375 66.40625  Q 23.96875 66.40625 20.09375 61.84375  Q 16.21875 57.28125 16.21875 49.421875  Q 16.21875 41.5 20.09375 36.953125  Q 23.96875 32.421875 30.609375 32.421875  z \" id=\"DejaVuSans-57\" />\n     <path d=\"M 8.203125 72.90625  L 55.078125 72.90625  L 55.078125 68.703125  L 28.609375 0  L 18.3125 0  L 43.21875 64.59375  L 8.203125 64.59375  z \" id=\"DejaVuSans-55\" />\n    </defs>\n    <g style=\"fill:#444443;\" transform=\"translate(24.164763 88.66345)scale(0.09 -0.09)\">\n     <use xlink:href=\"#DejaVuSans-110\" />\n     <use x=\"63.378906\" xlink:href=\"#DejaVuSans-61\" />\n     <use x=\"147.167969\" xlink:href=\"#DejaVuSans-57\" />\n     <use x=\"210.791016\" xlink:href=\"#DejaVuSans-55\" />\n     <use x=\"274.414062\" xlink:href=\"#DejaVuSans-57\" />\n    </g>\n    \n    <defs>\n     <path d=\"M 48.78125 52.59375  L 48.78125 44.1875  Q 44.96875 46.296875 41.140625 47.34375  Q 37.3125 48.390625 33.40625 48.390625  Q 24.65625 48.390625 19.8125 42.84375  Q 14.984375 37.3125 14.984375 27.296875  Q 14.984375 17.28125 19.8125 11.734375  Q 24.65625 6.203125 33.40625 6.203125  Q 37.3125 6.203125 41.140625 7.25  Q 44.96875 8.296875 48.78125 10.40625  L 48.78125 2.09375  Q 45.015625 0.34375 40.984375 -0.53125  Q 36.96875 -1.421875 32.421875 -1.421875  Q 20.0625 -1.421875 12.78125 6.34375  Q 5.515625 14.109375 5.515625 27.296875  Q 5.515625 40.671875 12.859375 48.328125  Q 20.21875 56 33.015625 56  Q 37.15625 56 41.109375 55.140625  Q 45.0625 54.296875 48.78125 52.59375  z \" id=\"DejaVuSans-99\" />\n     <path d=\"M 9.421875 75.984375  L 18.40625 75.984375  L 18.40625 0  L 9.421875 0  z \" id=\"DejaVuSans-108\" />\n     <path d=\"M 34.28125 27.484375  Q 23.390625 27.484375 19.1875 25  Q 14.984375 22.515625 14.984375 16.5  Q 14.984375 11.71875 18.140625 8.90625  Q 21.296875 6.109375 26.703125 6.109375  Q 34.1875 6.109375 38.703125 11.40625  Q 43.21875 16.703125 43.21875 25.484375  L 43.21875 27.484375  z M 52.203125 31.203125  L 52.203125 0  L 43.21875 0  L 43.21875 8.296875  Q 40.140625 3.328125 35.546875 0.953125  Q 30.953125 -1.421875 24.3125 -1.421875  Q 15.921875 -1.421875 10.953125 3.296875  Q 6 8.015625 6 15.921875  Q 6 25.140625 12.171875 29.828125  Q 18.359375 34.515625 30.609375 34.515625  L 43.21875 34.515625  L 43.21875 35.40625  Q 43.21875 41.609375 39.140625 45  Q 35.0625 48.390625 27.6875 48.390625  Q 23 48.390625 18.546875 47.265625  Q 14.109375 46.140625 10.015625 43.890625  L 10.015625 52.203125  Q 14.9375 54.109375 19.578125 55.046875  Q 24.21875 56 28.609375 56  Q 40.484375 56 46.34375 49.84375  Q 52.203125 43.703125 52.203125 31.203125  z \" id=\"DejaVuSans-97\" />\n     <path d=\"M 44.28125 53.078125  L 44.28125 44.578125  Q 40.484375 46.53125 36.375 47.5  Q 32.28125 48.484375 27.875 48.484375  Q 21.1875 48.484375 17.84375 46.4375  Q 14.5 44.390625 14.5 40.28125  Q 14.5 37.15625 16.890625 35.375  Q 19.28125 33.59375 26.515625 31.984375  L 29.59375 31.296875  Q 39.15625 29.25 43.1875 25.515625  Q 47.21875 21.78125 47.21875 15.09375  Q 47.21875 7.46875 41.1875 3.015625  Q 35.15625 -1.421875 24.609375 -1.421875  Q 20.21875 -1.421875 15.453125 -0.5625  Q 10.6875 0.296875 5.421875 2  L 5.421875 11.28125  Q 10.40625 8.6875 15.234375 7.390625  Q 20.0625 6.109375 24.8125 6.109375  Q 31.15625 6.109375 34.5625 8.28125  Q 37.984375 10.453125 37.984375 14.40625  Q 37.984375 18.0625 35.515625 20.015625  Q 33.0625 21.96875 24.703125 23.78125  L 21.578125 24.515625  Q 13.234375 26.265625 9.515625 29.90625  Q 5.8125 33.546875 5.8125 39.890625  Q 5.8125 47.609375 11.28125 51.796875  Q 16.75 56 26.8125 56  Q 31.78125 56 36.171875 55.265625  Q 40.578125 54.546875 44.28125 53.078125  z \" id=\"DejaVuSans-115\" />\n     <path id=\"DejaVuSans-32\" />\n     <path d=\"M 19.1875 8.296875  L 53.609375 8.296875  L 53.609375 0  L 7.328125 0  L 7.328125 8.296875  Q 12.9375 14.109375 22.625 23.890625  Q 32.328125 33.6875 34.8125 36.53125  Q 39.546875 41.84375 41.421875 45.53125  Q 43.3125 49.21875 43.3125 52.78125  Q 43.3125 58.59375 39.234375 62.25  Q 35.15625 65.921875 28.609375 65.921875  Q 23.96875 65.921875 18.8125 64.3125  Q 13.671875 62.703125 7.8125 59.421875  L 7.8125 69.390625  Q 13.765625 71.78125 18.9375 73  Q 24.125 74.21875 28.421875 74.21875  Q 39.75 74.21875 46.484375 68.546875  Q 53.21875 62.890625 53.21875 53.421875  Q 53.21875 48.921875 51.53125 44.890625  Q 49.859375 40.875 45.40625 35.40625  Q 44.1875 33.984375 37.640625 27.21875  Q 31.109375 20.453125 19.1875 8.296875  z \" id=\"DejaVuSans-50\" />\n    </defs>\n    <g style=\"fill:#444443;\" transform=\"translate(23.913045 98.741481)scale(0.09 -0.09)\">\n     <use xlink:href=\"#DejaVuSans-99\" />\n     <use x=\"54.980469\" xlink:href=\"#DejaVuSans-108\" />\n     <use x=\"82.763672\" xlink:href=\"#DejaVuSans-97\" />\n     <use x=\"144.042969\" xlink:href=\"#DejaVuSans-115\" />\n     <use x=\"196.142578\" xlink:href=\"#DejaVuSans-115\" />\n     <use x=\"248.242188\" xlink:href=\"#DejaVuSans-32\" />\n     <use x=\"280.029297\" xlink:href=\"#DejaVuSans-50\" />\n    </g>\n   </g>\n  </g>\n </g>\n</svg></g>\n\n<g class=\"edge\" id=\"edge2\">\n<title>node5-&gt;leaf16</title>\n<path d=\"M120.3775,-214.7238C119.7435,-207.2569 119.0691,-199.3144 118.4118,-191.5726\" fill=\"none\" stroke=\"#444443\" stroke-width=\".3\" />\n<polygon fill=\"#444443\" points=\"119.7822,-191.1637 118.0488,-187.2965 116.9923,-191.4007 119.7822,-191.1637\" stroke=\"#444443\" stroke-width=\".3\" />\n</g>\n\n<g class=\"node\" id=\"node2\">\n<title>node9</title>\n<svg height=\"45px\" preserveAspectRatio=\"xMinYMin meet\" version=\"1.1\" viewBox=\"0 0 211.5 60.909375\" width=\"159px\" x=\"159.5\" y=\"-167.5\">\n <defs>\n  <style type=\"text/css\">\n*{stroke-linecap:butt;stroke-linejoin:round;}\n  </style>\n </defs>\n <g id=\"figure_1\">\n  <g id=\"patch_1\">\n   <path d=\"M 0 60.909375  L 211.5 60.909375  L 211.5 0  L 0 0  z \" style=\"fill:#ffffff;\" />\n  </g>\n  <g id=\"axes_1\">\n   <g id=\"patch_2\">\n    <path d=\"M 27.36 30.219375  L 211.5 30.219375  L 211.5 3.039375  L 27.36 3.039375  z \" style=\"fill:#ffffff;\" />\n   </g>\n   <g id=\"patch_3\">\n    <path clip-path=\"url(#p991703b1ce)\" d=\"M 27.36 30.219375  L 39.051429 30.219375  L 39.051429 30.219375  L 27.36 30.219375  z \" style=\"fill:#fefebb;stroke:#444443;stroke-linejoin:miter;stroke-width:0.5;\" />\n   </g>\n   <g id=\"patch_4\">\n    <path clip-path=\"url(#p991703b1ce)\" d=\"M 39.051429 30.219375  L 50.742857 30.219375  L 50.742857 30.219375  L 39.051429 30.219375  z \" style=\"fill:#fefebb;stroke:#444443;stroke-linejoin:miter;stroke-width:0.5;\" />\n   </g>\n   <g id=\"patch_5\">\n    <path clip-path=\"url(#p991703b1ce)\" d=\"M 50.742857 30.219375  L 62.434286 30.219375  L 62.434286 30.219375  L 50.742857 30.219375  z \" style=\"fill:#fefebb;stroke:#444443;stroke-linejoin:miter;stroke-width:0.5;\" />\n   </g>\n   <g id=\"patch_6\">\n    <path clip-path=\"url(#p991703b1ce)\" d=\"M 62.434286 30.219375  L 74.125714 30.219375  L 74.125714 30.219375  L 62.434286 30.219375  z \" style=\"fill:#fefebb;stroke:#444443;stroke-linejoin:miter;stroke-width:0.5;\" />\n   </g>\n   <g id=\"patch_7\">\n    <path clip-path=\"url(#p991703b1ce)\" d=\"M 74.125714 30.219375  L 85.817143 30.219375  L 85.817143 30.219375  L 74.125714 30.219375  z \" style=\"fill:#fefebb;stroke:#444443;stroke-linejoin:miter;stroke-width:0.5;\" />\n   </g>\n   <g id=\"patch_8\">\n    <path clip-path=\"url(#p991703b1ce)\" d=\"M 85.817143 30.219375  L 97.508571 30.219375  L 97.508571 30.219375  L 85.817143 30.219375  z \" style=\"fill:#fefebb;stroke:#444443;stroke-linejoin:miter;stroke-width:0.5;\" />\n   </g>\n   <g id=\"patch_9\">\n    <path clip-path=\"url(#p991703b1ce)\" d=\"M 97.508571 30.219375  L 109.2 30.219375  L 109.2 30.219375  L 97.508571 30.219375  z \" style=\"fill:#fefebb;stroke:#444443;stroke-linejoin:miter;stroke-width:0.5;\" />\n   </g>\n   <g id=\"patch_10\">\n    <path clip-path=\"url(#p991703b1ce)\" d=\"M 109.2 30.219375  L 120.891429 30.219375  L 120.891429 30.219375  L 109.2 30.219375  z \" style=\"fill:#fefebb;stroke:#444443;stroke-linejoin:miter;stroke-width:0.5;\" />\n   </g>\n   <g id=\"patch_11\">\n    <path clip-path=\"url(#p991703b1ce)\" d=\"M 120.891429 30.219375  L 132.582857 30.219375  L 132.582857 30.219375  L 120.891429 30.219375  z \" style=\"fill:#fefebb;stroke:#444443;stroke-linejoin:miter;stroke-width:0.5;\" />\n   </g>\n   <g id=\"patch_12\">\n    <path clip-path=\"url(#p991703b1ce)\" d=\"M 132.582857 30.219375  L 144.274286 30.219375  L 144.274286 30.219375  L 132.582857 30.219375  z \" style=\"fill:#fefebb;stroke:#444443;stroke-linejoin:miter;stroke-width:0.5;\" />\n   </g>\n   <g id=\"patch_13\">\n    <path clip-path=\"url(#p991703b1ce)\" d=\"M 144.274286 30.219375  L 155.965714 30.219375  L 155.965714 30.219375  L 144.274286 30.219375  z \" style=\"fill:#fefebb;stroke:#444443;stroke-linejoin:miter;stroke-width:0.5;\" />\n   </g>\n   <g id=\"patch_14\">\n    <path clip-path=\"url(#p991703b1ce)\" d=\"M 155.965714 30.219375  L 167.657143 30.219375  L 167.657143 30.219375  L 155.965714 30.219375  z \" style=\"fill:#fefebb;stroke:#444443;stroke-linejoin:miter;stroke-width:0.5;\" />\n   </g>\n   <g id=\"patch_15\">\n    <path clip-path=\"url(#p991703b1ce)\" d=\"M 167.657143 30.219375  L 179.348571 30.219375  L 179.348571 30.219375  L 167.657143 30.219375  z \" style=\"fill:#fefebb;stroke:#444443;stroke-linejoin:miter;stroke-width:0.5;\" />\n   </g>\n   <g id=\"patch_16\">\n    <path clip-path=\"url(#p991703b1ce)\" d=\"M 179.348571 30.219375  L 191.04 30.219375  L 191.04 30.219375  L 179.348571 30.219375  z \" style=\"fill:#fefebb;stroke:#444443;stroke-linejoin:miter;stroke-width:0.5;\" />\n   </g>\n   <g id=\"patch_17\">\n    <path clip-path=\"url(#p991703b1ce)\" d=\"M 191.04 30.219375  L 202.731429 30.219375  L 202.731429 30.219375  L 191.04 30.219375  z \" style=\"fill:#fefebb;stroke:#444443;stroke-linejoin:miter;stroke-width:0.5;\" />\n   </g>\n   <g id=\"patch_18\">\n    <path clip-path=\"url(#p991703b1ce)\" d=\"M 27.36 30.219375  L 39.051429 30.219375  L 39.051429 4.956454  L 27.36 4.956454  z \" style=\"fill:#d9e6f5;stroke:#444443;stroke-linejoin:miter;stroke-width:0.5;\" />\n   </g>\n   <g id=\"patch_19\">\n    <path clip-path=\"url(#p991703b1ce)\" d=\"M 39.051429 30.219375  L 50.742857 30.219375  L 50.742857 30.219375  L 39.051429 30.219375  z \" style=\"fill:#d9e6f5;stroke:#444443;stroke-linejoin:miter;stroke-width:0.5;\" />\n   </g>\n   <g id=\"patch_20\">\n    <path clip-path=\"url(#p991703b1ce)\" d=\"M 50.742857 30.219375  L 62.434286 30.219375  L 62.434286 30.219375  L 50.742857 30.219375  z \" style=\"fill:#d9e6f5;stroke:#444443;stroke-linejoin:miter;stroke-width:0.5;\" />\n   </g>\n   <g id=\"patch_21\">\n    <path clip-path=\"url(#p991703b1ce)\" d=\"M 62.434286 30.219375  L 74.125714 30.219375  L 74.125714 30.219375  L 62.434286 30.219375  z \" style=\"fill:#d9e6f5;stroke:#444443;stroke-linejoin:miter;stroke-width:0.5;\" />\n   </g>\n   <g id=\"patch_22\">\n    <path clip-path=\"url(#p991703b1ce)\" d=\"M 74.125714 30.219375  L 85.817143 30.219375  L 85.817143 30.219375  L 74.125714 30.219375  z \" style=\"fill:#d9e6f5;stroke:#444443;stroke-linejoin:miter;stroke-width:0.5;\" />\n   </g>\n   <g id=\"patch_23\">\n    <path clip-path=\"url(#p991703b1ce)\" d=\"M 85.817143 30.219375  L 97.508571 30.219375  L 97.508571 30.219375  L 85.817143 30.219375  z \" style=\"fill:#d9e6f5;stroke:#444443;stroke-linejoin:miter;stroke-width:0.5;\" />\n   </g>\n   <g id=\"patch_24\">\n    <path clip-path=\"url(#p991703b1ce)\" d=\"M 97.508571 30.219375  L 109.2 30.219375  L 109.2 30.219375  L 97.508571 30.219375  z \" style=\"fill:#d9e6f5;stroke:#444443;stroke-linejoin:miter;stroke-width:0.5;\" />\n   </g>\n   <g id=\"patch_25\">\n    <path clip-path=\"url(#p991703b1ce)\" d=\"M 109.2 30.219375  L 120.891429 30.219375  L 120.891429 30.219375  L 109.2 30.219375  z \" style=\"fill:#d9e6f5;stroke:#444443;stroke-linejoin:miter;stroke-width:0.5;\" />\n   </g>\n   <g id=\"patch_26\">\n    <path clip-path=\"url(#p991703b1ce)\" d=\"M 120.891429 30.219375  L 132.582857 30.219375  L 132.582857 30.219375  L 120.891429 30.219375  z \" style=\"fill:#d9e6f5;stroke:#444443;stroke-linejoin:miter;stroke-width:0.5;\" />\n   </g>\n   <g id=\"patch_27\">\n    <path clip-path=\"url(#p991703b1ce)\" d=\"M 132.582857 30.219375  L 144.274286 30.219375  L 144.274286 30.219375  L 132.582857 30.219375  z \" style=\"fill:#d9e6f5;stroke:#444443;stroke-linejoin:miter;stroke-width:0.5;\" />\n   </g>\n   <g id=\"patch_28\">\n    <path clip-path=\"url(#p991703b1ce)\" d=\"M 144.274286 30.219375  L 155.965714 30.219375  L 155.965714 30.219375  L 144.274286 30.219375  z \" style=\"fill:#d9e6f5;stroke:#444443;stroke-linejoin:miter;stroke-width:0.5;\" />\n   </g>\n   <g id=\"patch_29\">\n    <path clip-path=\"url(#p991703b1ce)\" d=\"M 155.965714 30.219375  L 167.657143 30.219375  L 167.657143 30.219375  L 155.965714 30.219375  z \" style=\"fill:#d9e6f5;stroke:#444443;stroke-linejoin:miter;stroke-width:0.5;\" />\n   </g>\n   <g id=\"patch_30\">\n    <path clip-path=\"url(#p991703b1ce)\" d=\"M 167.657143 30.219375  L 179.348571 30.219375  L 179.348571 30.219375  L 167.657143 30.219375  z \" style=\"fill:#d9e6f5;stroke:#444443;stroke-linejoin:miter;stroke-width:0.5;\" />\n   </g>\n   <g id=\"patch_31\">\n    <path clip-path=\"url(#p991703b1ce)\" d=\"M 179.348571 30.219375  L 191.04 30.219375  L 191.04 30.219375  L 179.348571 30.219375  z \" style=\"fill:#d9e6f5;stroke:#444443;stroke-linejoin:miter;stroke-width:0.5;\" />\n   </g>\n   <g id=\"patch_32\">\n    <path clip-path=\"url(#p991703b1ce)\" d=\"M 191.04 30.219375  L 202.731429 30.219375  L 202.731429 30.219375  L 191.04 30.219375  z \" style=\"fill:#d9e6f5;stroke:#444443;stroke-linejoin:miter;stroke-width:0.5;\" />\n   </g>\n   <g id=\"patch_33\">\n    <path clip-path=\"url(#p991703b1ce)\" d=\"M 27.36 4.956454  L 39.051429 4.956454  L 39.051429 4.035041  L 27.36 4.035041  z \" style=\"fill:#a1dab4;stroke:#444443;stroke-linejoin:miter;stroke-width:0.5;\" />\n   </g>\n   <g id=\"patch_34\">\n    <path clip-path=\"url(#p991703b1ce)\" d=\"M 39.051429 30.219375  L 50.742857 30.219375  L 50.742857 30.219375  L 39.051429 30.219375  z \" style=\"fill:#a1dab4;stroke:#444443;stroke-linejoin:miter;stroke-width:0.5;\" />\n   </g>\n   <g id=\"patch_35\">\n    <path clip-path=\"url(#p991703b1ce)\" d=\"M 50.742857 30.219375  L 62.434286 30.219375  L 62.434286 30.219375  L 50.742857 30.219375  z \" style=\"fill:#a1dab4;stroke:#444443;stroke-linejoin:miter;stroke-width:0.5;\" />\n   </g>\n   <g id=\"patch_36\">\n    <path clip-path=\"url(#p991703b1ce)\" d=\"M 62.434286 30.219375  L 74.125714 30.219375  L 74.125714 30.219375  L 62.434286 30.219375  z \" style=\"fill:#a1dab4;stroke:#444443;stroke-linejoin:miter;stroke-width:0.5;\" />\n   </g>\n   <g id=\"patch_37\">\n    <path clip-path=\"url(#p991703b1ce)\" d=\"M 74.125714 30.219375  L 85.817143 30.219375  L 85.817143 30.219375  L 74.125714 30.219375  z \" style=\"fill:#a1dab4;stroke:#444443;stroke-linejoin:miter;stroke-width:0.5;\" />\n   </g>\n   <g id=\"patch_38\">\n    <path clip-path=\"url(#p991703b1ce)\" d=\"M 85.817143 30.219375  L 97.508571 30.219375  L 97.508571 30.219375  L 85.817143 30.219375  z \" style=\"fill:#a1dab4;stroke:#444443;stroke-linejoin:miter;stroke-width:0.5;\" />\n   </g>\n   <g id=\"patch_39\">\n    <path clip-path=\"url(#p991703b1ce)\" d=\"M 97.508571 30.219375  L 109.2 30.219375  L 109.2 30.219375  L 97.508571 30.219375  z \" style=\"fill:#a1dab4;stroke:#444443;stroke-linejoin:miter;stroke-width:0.5;\" />\n   </g>\n   <g id=\"patch_40\">\n    <path clip-path=\"url(#p991703b1ce)\" d=\"M 109.2 30.219375  L 120.891429 30.219375  L 120.891429 30.219375  L 109.2 30.219375  z \" style=\"fill:#a1dab4;stroke:#444443;stroke-linejoin:miter;stroke-width:0.5;\" />\n   </g>\n   <g id=\"patch_41\">\n    <path clip-path=\"url(#p991703b1ce)\" d=\"M 120.891429 30.219375  L 132.582857 30.219375  L 132.582857 30.219375  L 120.891429 30.219375  z \" style=\"fill:#a1dab4;stroke:#444443;stroke-linejoin:miter;stroke-width:0.5;\" />\n   </g>\n   <g id=\"patch_42\">\n    <path clip-path=\"url(#p991703b1ce)\" d=\"M 132.582857 30.219375  L 144.274286 30.219375  L 144.274286 30.219375  L 132.582857 30.219375  z \" style=\"fill:#a1dab4;stroke:#444443;stroke-linejoin:miter;stroke-width:0.5;\" />\n   </g>\n   <g id=\"patch_43\">\n    <path clip-path=\"url(#p991703b1ce)\" d=\"M 144.274286 30.219375  L 155.965714 30.219375  L 155.965714 30.219375  L 144.274286 30.219375  z \" style=\"fill:#a1dab4;stroke:#444443;stroke-linejoin:miter;stroke-width:0.5;\" />\n   </g>\n   <g id=\"patch_44\">\n    <path clip-path=\"url(#p991703b1ce)\" d=\"M 155.965714 30.219375  L 167.657143 30.219375  L 167.657143 30.219375  L 155.965714 30.219375  z \" style=\"fill:#a1dab4;stroke:#444443;stroke-linejoin:miter;stroke-width:0.5;\" />\n   </g>\n   <g id=\"patch_45\">\n    <path clip-path=\"url(#p991703b1ce)\" d=\"M 167.657143 30.219375  L 179.348571 30.219375  L 179.348571 30.219375  L 167.657143 30.219375  z \" style=\"fill:#a1dab4;stroke:#444443;stroke-linejoin:miter;stroke-width:0.5;\" />\n   </g>\n   <g id=\"patch_46\">\n    <path clip-path=\"url(#p991703b1ce)\" d=\"M 179.348571 30.219375  L 191.04 30.219375  L 191.04 30.219375  L 179.348571 30.219375  z \" style=\"fill:#a1dab4;stroke:#444443;stroke-linejoin:miter;stroke-width:0.5;\" />\n   </g>\n   <g id=\"patch_47\">\n    <path clip-path=\"url(#p991703b1ce)\" d=\"M 191.04 30.219375  L 202.731429 30.219375  L 202.731429 3.039375  L 191.04 3.039375  z \" style=\"fill:#a1dab4;stroke:#444443;stroke-linejoin:miter;stroke-width:0.5;\" />\n   </g>\n   <g id=\"patch_48\">\n    <path clip-path=\"url(#p991703b1ce)\" d=\"M 27.36 4.035041  L 39.051429 4.035041  L 39.051429 3.859534  L 27.36 3.859534  z \" style=\"fill:#fee090;stroke:#444443;stroke-linejoin:miter;stroke-width:0.5;\" />\n   </g>\n   <g id=\"patch_49\">\n    <path clip-path=\"url(#p991703b1ce)\" d=\"M 39.051429 30.219375  L 50.742857 30.219375  L 50.742857 30.219375  L 39.051429 30.219375  z \" style=\"fill:#fee090;stroke:#444443;stroke-linejoin:miter;stroke-width:0.5;\" />\n   </g>\n   <g id=\"patch_50\">\n    <path clip-path=\"url(#p991703b1ce)\" d=\"M 50.742857 30.219375  L 62.434286 30.219375  L 62.434286 30.219375  L 50.742857 30.219375  z \" style=\"fill:#fee090;stroke:#444443;stroke-linejoin:miter;stroke-width:0.5;\" />\n   </g>\n   <g id=\"patch_51\">\n    <path clip-path=\"url(#p991703b1ce)\" d=\"M 62.434286 30.219375  L 74.125714 30.219375  L 74.125714 30.219375  L 62.434286 30.219375  z \" style=\"fill:#fee090;stroke:#444443;stroke-linejoin:miter;stroke-width:0.5;\" />\n   </g>\n   <g id=\"patch_52\">\n    <path clip-path=\"url(#p991703b1ce)\" d=\"M 74.125714 30.219375  L 85.817143 30.219375  L 85.817143 30.219375  L 74.125714 30.219375  z \" style=\"fill:#fee090;stroke:#444443;stroke-linejoin:miter;stroke-width:0.5;\" />\n   </g>\n   <g id=\"patch_53\">\n    <path clip-path=\"url(#p991703b1ce)\" d=\"M 85.817143 30.219375  L 97.508571 30.219375  L 97.508571 30.219375  L 85.817143 30.219375  z \" style=\"fill:#fee090;stroke:#444443;stroke-linejoin:miter;stroke-width:0.5;\" />\n   </g>\n   <g id=\"patch_54\">\n    <path clip-path=\"url(#p991703b1ce)\" d=\"M 97.508571 30.219375  L 109.2 30.219375  L 109.2 30.219375  L 97.508571 30.219375  z \" style=\"fill:#fee090;stroke:#444443;stroke-linejoin:miter;stroke-width:0.5;\" />\n   </g>\n   <g id=\"patch_55\">\n    <path clip-path=\"url(#p991703b1ce)\" d=\"M 109.2 30.219375  L 120.891429 30.219375  L 120.891429 30.219375  L 109.2 30.219375  z \" style=\"fill:#fee090;stroke:#444443;stroke-linejoin:miter;stroke-width:0.5;\" />\n   </g>\n   <g id=\"patch_56\">\n    <path clip-path=\"url(#p991703b1ce)\" d=\"M 120.891429 30.219375  L 132.582857 30.219375  L 132.582857 30.219375  L 120.891429 30.219375  z \" style=\"fill:#fee090;stroke:#444443;stroke-linejoin:miter;stroke-width:0.5;\" />\n   </g>\n   <g id=\"patch_57\">\n    <path clip-path=\"url(#p991703b1ce)\" d=\"M 132.582857 30.219375  L 144.274286 30.219375  L 144.274286 30.219375  L 132.582857 30.219375  z \" style=\"fill:#fee090;stroke:#444443;stroke-linejoin:miter;stroke-width:0.5;\" />\n   </g>\n   <g id=\"patch_58\">\n    <path clip-path=\"url(#p991703b1ce)\" d=\"M 144.274286 30.219375  L 155.965714 30.219375  L 155.965714 30.219375  L 144.274286 30.219375  z \" style=\"fill:#fee090;stroke:#444443;stroke-linejoin:miter;stroke-width:0.5;\" />\n   </g>\n   <g id=\"patch_59\">\n    <path clip-path=\"url(#p991703b1ce)\" d=\"M 155.965714 30.219375  L 167.657143 30.219375  L 167.657143 30.219375  L 155.965714 30.219375  z \" style=\"fill:#fee090;stroke:#444443;stroke-linejoin:miter;stroke-width:0.5;\" />\n   </g>\n   <g id=\"patch_60\">\n    <path clip-path=\"url(#p991703b1ce)\" d=\"M 167.657143 30.219375  L 179.348571 30.219375  L 179.348571 30.219375  L 167.657143 30.219375  z \" style=\"fill:#fee090;stroke:#444443;stroke-linejoin:miter;stroke-width:0.5;\" />\n   </g>\n   <g id=\"patch_61\">\n    <path clip-path=\"url(#p991703b1ce)\" d=\"M 179.348571 30.219375  L 191.04 30.219375  L 191.04 30.219375  L 179.348571 30.219375  z \" style=\"fill:#fee090;stroke:#444443;stroke-linejoin:miter;stroke-width:0.5;\" />\n   </g>\n   <g id=\"patch_62\">\n    <path clip-path=\"url(#p991703b1ce)\" d=\"M 191.04 3.039375  L 202.731429 3.039375  L 202.731429 3.039375  L 191.04 3.039375  z \" style=\"fill:#fee090;stroke:#444443;stroke-linejoin:miter;stroke-width:0.5;\" />\n   </g>\n   <g id=\"patch_63\">\n    <path d=\"M 115.045714 31.034775  L 111.731194 38.373375  L 118.360234 38.373375  z \" style=\"fill:#444443;\" />\n   </g>\n   <g id=\"matplotlib.axis_1\">\n    <g id=\"xtick_1\">\n     <g id=\"line2d_1\">\n      <defs>\n       <path d=\"M 0 0  L 0 3.5  \" id=\"m7aede5fec4\" style=\"stroke:#000000;stroke-width:0.3;\" />\n      </defs>\n      <g>\n       <use style=\"stroke:#000000;stroke-width:0.3;\" x=\"27.36\" y=\"30.219375\" xlink:href=\"#m7aede5fec4\" />\n      </g>\n     </g>\n     <g id=\"text_1\">\n      \n      <defs>\n       <path d=\"M 31.78125 66.40625  Q 24.171875 66.40625 20.328125 58.90625  Q 16.5 51.421875 16.5 36.375  Q 16.5 21.390625 20.328125 13.890625  Q 24.171875 6.390625 31.78125 6.390625  Q 39.453125 6.390625 43.28125 13.890625  Q 47.125 21.390625 47.125 36.375  Q 47.125 51.421875 43.28125 58.90625  Q 39.453125 66.40625 31.78125 66.40625  z M 31.78125 74.21875  Q 44.046875 74.21875 50.515625 64.515625  Q 56.984375 54.828125 56.984375 36.375  Q 56.984375 17.96875 50.515625 8.265625  Q 44.046875 -1.421875 31.78125 -1.421875  Q 19.53125 -1.421875 13.0625 8.265625  Q 6.59375 17.96875 6.59375 36.375  Q 6.59375 54.828125 13.0625 64.515625  Q 19.53125 74.21875 31.78125 74.21875  z \" id=\"DejaVuSans-48\" />\n      </defs>\n      <g style=\"fill:#444443;\" transform=\"translate(24.815 43.298125)scale(0.08 -0.08)\">\n       <use xlink:href=\"#DejaVuSans-48\" />\n      </g>\n     </g>\n    </g>\n    <g id=\"xtick_2\">\n     <g id=\"line2d_2\">\n      <g>\n       <use style=\"stroke:#000000;stroke-width:0.3;\" x=\"202.731429\" y=\"30.219375\" xlink:href=\"#m7aede5fec4\" />\n      </g>\n     </g>\n     <g id=\"text_2\">\n      \n      <defs>\n       <path d=\"M 12.40625 8.296875  L 28.515625 8.296875  L 28.515625 63.921875  L 10.984375 60.40625  L 10.984375 69.390625  L 28.421875 72.90625  L 38.28125 72.90625  L 38.28125 8.296875  L 54.390625 8.296875  L 54.390625 0  L 12.40625 0  z \" id=\"DejaVuSans-49\" />\n      </defs>\n      <g style=\"fill:#444443;\" transform=\"translate(200.186429 43.298125)scale(0.08 -0.08)\">\n       <use xlink:href=\"#DejaVuSans-49\" />\n      </g>\n     </g>\n    </g>\n    <g id=\"text_3\">\n     \n     <defs>\n      <path d=\"M 9.421875 54.6875  L 18.40625 54.6875  L 18.40625 0  L 9.421875 0  z M 9.421875 75.984375  L 18.40625 75.984375  L 18.40625 64.59375  L 9.421875 64.59375  z \" id=\"DejaVuSans-105\" />\n      <path d=\"M 54.890625 33.015625  L 54.890625 0  L 45.90625 0  L 45.90625 32.71875  Q 45.90625 40.484375 42.875 44.328125  Q 39.84375 48.1875 33.796875 48.1875  Q 26.515625 48.1875 22.3125 43.546875  Q 18.109375 38.921875 18.109375 30.90625  L 18.109375 0  L 9.078125 0  L 9.078125 54.6875  L 18.109375 54.6875  L 18.109375 46.1875  Q 21.34375 51.125 25.703125 53.5625  Q 30.078125 56 35.796875 56  Q 45.21875 56 50.046875 50.171875  Q 54.890625 44.34375 54.890625 33.015625  z \" id=\"DejaVuSans-110\" />\n      <path d=\"M 45.40625 46.390625  L 45.40625 75.984375  L 54.390625 75.984375  L 54.390625 0  L 45.40625 0  L 45.40625 8.203125  Q 42.578125 3.328125 38.25 0.953125  Q 33.9375 -1.421875 27.875 -1.421875  Q 17.96875 -1.421875 11.734375 6.484375  Q 5.515625 14.40625 5.515625 27.296875  Q 5.515625 40.1875 11.734375 48.09375  Q 17.96875 56 27.875 56  Q 33.9375 56 38.25 53.625  Q 42.578125 51.265625 45.40625 46.390625  z M 14.796875 27.296875  Q 14.796875 17.390625 18.875 11.75  Q 22.953125 6.109375 30.078125 6.109375  Q 37.203125 6.109375 41.296875 11.75  Q 45.40625 17.390625 45.40625 27.296875  Q 45.40625 37.203125 41.296875 42.84375  Q 37.203125 48.484375 30.078125 48.484375  Q 22.953125 48.484375 18.875 42.84375  Q 14.796875 37.203125 14.796875 27.296875  z \" id=\"DejaVuSans-100\" />\n      <path d=\"M 50.984375 -16.609375  L 50.984375 -23.578125  L -0.984375 -23.578125  L -0.984375 -16.609375  z \" id=\"DejaVuSans-95\" />\n      <path d=\"M 30.609375 48.390625  Q 23.390625 48.390625 19.1875 42.75  Q 14.984375 37.109375 14.984375 27.296875  Q 14.984375 17.484375 19.15625 11.84375  Q 23.34375 6.203125 30.609375 6.203125  Q 37.796875 6.203125 41.984375 11.859375  Q 46.1875 17.53125 46.1875 27.296875  Q 46.1875 37.015625 41.984375 42.703125  Q 37.796875 48.390625 30.609375 48.390625  z M 30.609375 56  Q 42.328125 56 49.015625 48.375  Q 55.71875 40.765625 55.71875 27.296875  Q 55.71875 13.875 49.015625 6.21875  Q 42.328125 -1.421875 30.609375 -1.421875  Q 18.84375 -1.421875 12.171875 6.21875  Q 5.515625 13.875 5.515625 27.296875  Q 5.515625 40.765625 12.171875 48.375  Q 18.84375 56 30.609375 56  z \" id=\"DejaVuSans-111\" />\n      <path d=\"M 52 44.1875  Q 55.375 50.25 60.0625 53.125  Q 64.75 56 71.09375 56  Q 79.640625 56 84.28125 50.015625  Q 88.921875 44.046875 88.921875 33.015625  L 88.921875 0  L 79.890625 0  L 79.890625 32.71875  Q 79.890625 40.578125 77.09375 44.375  Q 74.3125 48.1875 68.609375 48.1875  Q 61.625 48.1875 57.5625 43.546875  Q 53.515625 38.921875 53.515625 30.90625  L 53.515625 0  L 44.484375 0  L 44.484375 32.71875  Q 44.484375 40.625 41.703125 44.40625  Q 38.921875 48.1875 33.109375 48.1875  Q 26.21875 48.1875 22.15625 43.53125  Q 18.109375 38.875 18.109375 30.90625  L 18.109375 0  L 9.078125 0  L 9.078125 54.6875  L 18.109375 54.6875  L 18.109375 46.1875  Q 21.1875 51.21875 25.484375 53.609375  Q 29.78125 56 35.6875 56  Q 41.65625 56 45.828125 52.96875  Q 50 49.953125 52 44.1875  z \" id=\"DejaVuSans-109\" />\n      <path d=\"M 18.109375 8.203125  L 18.109375 -20.796875  L 9.078125 -20.796875  L 9.078125 54.6875  L 18.109375 54.6875  L 18.109375 46.390625  Q 20.953125 51.265625 25.265625 53.625  Q 29.59375 56 35.59375 56  Q 45.5625 56 51.78125 48.09375  Q 58.015625 40.1875 58.015625 27.296875  Q 58.015625 14.40625 51.78125 6.484375  Q 45.5625 -1.421875 35.59375 -1.421875  Q 29.59375 -1.421875 25.265625 0.953125  Q 20.953125 3.328125 18.109375 8.203125  z M 48.6875 27.296875  Q 48.6875 37.203125 44.609375 42.84375  Q 40.53125 48.484375 33.40625 48.484375  Q 26.265625 48.484375 22.1875 42.84375  Q 18.109375 37.203125 18.109375 27.296875  Q 18.109375 17.390625 22.1875 11.75  Q 26.265625 6.109375 33.40625 6.109375  Q 40.53125 6.109375 44.609375 11.75  Q 48.6875 17.390625 48.6875 27.296875  z \" id=\"DejaVuSans-112\" />\n      <path d=\"M 56.203125 29.59375  L 56.203125 25.203125  L 14.890625 25.203125  Q 15.484375 15.921875 20.484375 11.0625  Q 25.484375 6.203125 34.421875 6.203125  Q 39.59375 6.203125 44.453125 7.46875  Q 49.3125 8.734375 54.109375 11.28125  L 54.109375 2.78125  Q 49.265625 0.734375 44.1875 -0.34375  Q 39.109375 -1.421875 33.890625 -1.421875  Q 20.796875 -1.421875 13.15625 6.1875  Q 5.515625 13.8125 5.515625 26.8125  Q 5.515625 40.234375 12.765625 48.109375  Q 20.015625 56 32.328125 56  Q 43.359375 56 49.78125 48.890625  Q 56.203125 41.796875 56.203125 29.59375  z M 47.21875 32.234375  Q 47.125 39.59375 43.09375 43.984375  Q 39.0625 48.390625 32.421875 48.390625  Q 24.90625 48.390625 20.390625 44.140625  Q 15.875 39.890625 15.1875 32.171875  z \" id=\"DejaVuSans-101\" />\n      <path d=\"M 44.28125 53.078125  L 44.28125 44.578125  Q 40.484375 46.53125 36.375 47.5  Q 32.28125 48.484375 27.875 48.484375  Q 21.1875 48.484375 17.84375 46.4375  Q 14.5 44.390625 14.5 40.28125  Q 14.5 37.15625 16.890625 35.375  Q 19.28125 33.59375 26.515625 31.984375  L 29.59375 31.296875  Q 39.15625 29.25 43.1875 25.515625  Q 47.21875 21.78125 47.21875 15.09375  Q 47.21875 7.46875 41.1875 3.015625  Q 35.15625 -1.421875 24.609375 -1.421875  Q 20.21875 -1.421875 15.453125 -0.5625  Q 10.6875 0.296875 5.421875 2  L 5.421875 11.28125  Q 10.40625 8.6875 15.234375 7.390625  Q 20.0625 6.109375 24.8125 6.109375  Q 31.15625 6.109375 34.5625 8.28125  Q 37.984375 10.453125 37.984375 14.40625  Q 37.984375 18.0625 35.515625 20.015625  Q 33.0625 21.96875 24.703125 23.78125  L 21.578125 24.515625  Q 13.234375 26.265625 9.515625 29.90625  Q 5.8125 33.546875 5.8125 39.890625  Q 5.8125 47.609375 11.28125 51.796875  Q 16.75 56 26.8125 56  Q 31.78125 56 36.171875 55.265625  Q 40.578125 54.546875 44.28125 53.078125  z \" id=\"DejaVuSans-115\" />\n      <path d=\"M 8.5 21.578125  L 8.5 54.6875  L 17.484375 54.6875  L 17.484375 21.921875  Q 17.484375 14.15625 20.5 10.265625  Q 23.53125 6.390625 29.59375 6.390625  Q 36.859375 6.390625 41.078125 11.03125  Q 45.3125 15.671875 45.3125 23.6875  L 45.3125 54.6875  L 54.296875 54.6875  L 54.296875 0  L 45.3125 0  L 45.3125 8.40625  Q 42.046875 3.421875 37.71875 1  Q 33.40625 -1.421875 27.6875 -1.421875  Q 18.265625 -1.421875 13.375 4.4375  Q 8.5 10.296875 8.5 21.578125  z M 31.109375 56  z \" id=\"DejaVuSans-117\" />\n      <path d=\"M 9.421875 75.984375  L 18.40625 75.984375  L 18.40625 0  L 9.421875 0  z \" id=\"DejaVuSans-108\" />\n      <path d=\"M 18.3125 70.21875  L 18.3125 54.6875  L 36.8125 54.6875  L 36.8125 47.703125  L 18.3125 47.703125  L 18.3125 18.015625  Q 18.3125 11.328125 20.140625 9.421875  Q 21.96875 7.515625 27.59375 7.515625  L 36.8125 7.515625  L 36.8125 0  L 27.59375 0  Q 17.1875 0 13.234375 3.875  Q 9.28125 7.765625 9.28125 18.015625  L 9.28125 47.703125  L 2.6875 47.703125  L 2.6875 54.6875  L 9.28125 54.6875  L 9.28125 70.21875  z \" id=\"DejaVuSans-116\" />\n     </defs>\n     <g style=\"fill:#444443;\" transform=\"translate(61.765312 58.08)scale(0.12 -0.12)\">\n      <use xlink:href=\"#DejaVuSans-105\" />\n      <use x=\"27.783203\" xlink:href=\"#DejaVuSans-110\" />\n      <use x=\"91.162109\" xlink:href=\"#DejaVuSans-100\" />\n      <use x=\"154.638672\" xlink:href=\"#DejaVuSans-95\" />\n      <use x=\"204.638672\" xlink:href=\"#DejaVuSans-110\" />\n      <use x=\"268.017578\" xlink:href=\"#DejaVuSans-111\" />\n      <use x=\"329.199219\" xlink:href=\"#DejaVuSans-109\" />\n      <use x=\"426.611328\" xlink:href=\"#DejaVuSans-95\" />\n      <use x=\"476.611328\" xlink:href=\"#DejaVuSans-112\" />\n      <use x=\"540.087891\" xlink:href=\"#DejaVuSans-101\" />\n      <use x=\"601.611328\" xlink:href=\"#DejaVuSans-110\" />\n      <use x=\"664.990234\" xlink:href=\"#DejaVuSans-115\" />\n      <use x=\"717.089844\" xlink:href=\"#DejaVuSans-95\" />\n      <use x=\"767.089844\" xlink:href=\"#DejaVuSans-117\" />\n      <use x=\"830.46875\" xlink:href=\"#DejaVuSans-108\" />\n      <use x=\"858.251953\" xlink:href=\"#DejaVuSans-116\" />\n      <use x=\"897.460938\" xlink:href=\"#DejaVuSans-49\" />\n     </g>\n    </g>\n   </g>\n   <g id=\"matplotlib.axis_2\">\n    <g id=\"ytick_1\">\n     <g id=\"line2d_3\">\n      <defs>\n       <path d=\"M 0 0  L -3.5 0  \" id=\"m65793dd718\" style=\"stroke:#000000;stroke-width:0.3;\" />\n      </defs>\n      <g>\n       <use style=\"stroke:#000000;stroke-width:0.3;\" x=\"27.36\" y=\"30.219375\" xlink:href=\"#m65793dd718\" />\n      </g>\n     </g>\n     <g id=\"text_4\">\n      \n      <g style=\"fill:#444443;\" transform=\"translate(15.27 33.25875)scale(0.08 -0.08)\">\n       <use xlink:href=\"#DejaVuSans-48\" />\n      </g>\n     </g>\n    </g>\n    <g id=\"ytick_2\">\n     <g id=\"line2d_4\">\n      <g>\n       <use style=\"stroke:#000000;stroke-width:0.3;\" x=\"27.36\" y=\"3.039375\" xlink:href=\"#m65793dd718\" />\n      </g>\n     </g>\n     <g id=\"text_5\">\n      \n      <defs>\n       <path d=\"M 31.78125 34.625  Q 24.75 34.625 20.71875 30.859375  Q 16.703125 27.09375 16.703125 20.515625  Q 16.703125 13.921875 20.71875 10.15625  Q 24.75 6.390625 31.78125 6.390625  Q 38.8125 6.390625 42.859375 10.171875  Q 46.921875 13.96875 46.921875 20.515625  Q 46.921875 27.09375 42.890625 30.859375  Q 38.875 34.625 31.78125 34.625  z M 21.921875 38.8125  Q 15.578125 40.375 12.03125 44.71875  Q 8.5 49.078125 8.5 55.328125  Q 8.5 64.0625 14.71875 69.140625  Q 20.953125 74.21875 31.78125 74.21875  Q 42.671875 74.21875 48.875 69.140625  Q 55.078125 64.0625 55.078125 55.328125  Q 55.078125 49.078125 51.53125 44.71875  Q 48 40.375 41.703125 38.8125  Q 48.828125 37.15625 52.796875 32.3125  Q 56.78125 27.484375 56.78125 20.515625  Q 56.78125 9.90625 50.3125 4.234375  Q 43.84375 -1.421875 31.78125 -1.421875  Q 19.734375 -1.421875 13.25 4.234375  Q 6.78125 9.90625 6.78125 20.515625  Q 6.78125 27.484375 10.78125 32.3125  Q 14.796875 37.15625 21.921875 38.8125  z M 18.3125 54.390625  Q 18.3125 48.734375 21.84375 45.5625  Q 25.390625 42.390625 31.78125 42.390625  Q 38.140625 42.390625 41.71875 45.5625  Q 45.3125 48.734375 45.3125 54.390625  Q 45.3125 60.0625 41.71875 63.234375  Q 38.140625 66.40625 31.78125 66.40625  Q 25.390625 66.40625 21.84375 63.234375  Q 18.3125 60.0625 18.3125 54.390625  z \" id=\"DejaVuSans-56\" />\n       <path d=\"M 10.796875 72.90625  L 49.515625 72.90625  L 49.515625 64.59375  L 19.828125 64.59375  L 19.828125 46.734375  Q 21.96875 47.46875 24.109375 47.828125  Q 26.265625 48.1875 28.421875 48.1875  Q 40.625 48.1875 47.75 41.5  Q 54.890625 34.8125 54.890625 23.390625  Q 54.890625 11.625 47.5625 5.09375  Q 40.234375 -1.421875 26.90625 -1.421875  Q 22.3125 -1.421875 17.546875 -0.640625  Q 12.796875 0.140625 7.71875 1.703125  L 7.71875 11.625  Q 12.109375 9.234375 16.796875 8.0625  Q 21.484375 6.890625 26.703125 6.890625  Q 35.15625 6.890625 40.078125 11.328125  Q 45.015625 15.765625 45.015625 23.390625  Q 45.015625 31 40.078125 35.4375  Q 35.15625 39.890625 26.703125 39.890625  Q 22.75 39.890625 18.8125 39.015625  Q 14.890625 38.140625 10.796875 36.28125  z \" id=\"DejaVuSans-53\" />\n       <path d=\"M 40.578125 39.3125  Q 47.65625 37.796875 51.625 33  Q 55.609375 28.21875 55.609375 21.1875  Q 55.609375 10.40625 48.1875 4.484375  Q 40.765625 -1.421875 27.09375 -1.421875  Q 22.515625 -1.421875 17.65625 -0.515625  Q 12.796875 0.390625 7.625 2.203125  L 7.625 11.71875  Q 11.71875 9.328125 16.59375 8.109375  Q 21.484375 6.890625 26.8125 6.890625  Q 36.078125 6.890625 40.9375 10.546875  Q 45.796875 14.203125 45.796875 21.1875  Q 45.796875 27.640625 41.28125 31.265625  Q 36.765625 34.90625 28.71875 34.90625  L 20.21875 34.90625  L 20.21875 43.015625  L 29.109375 43.015625  Q 36.375 43.015625 40.234375 45.921875  Q 44.09375 48.828125 44.09375 54.296875  Q 44.09375 59.90625 40.109375 62.90625  Q 36.140625 65.921875 28.71875 65.921875  Q 24.65625 65.921875 20.015625 65.03125  Q 15.375 64.15625 9.8125 62.3125  L 9.8125 71.09375  Q 15.4375 72.65625 20.34375 73.4375  Q 25.25 74.21875 29.59375 74.21875  Q 40.828125 74.21875 47.359375 69.109375  Q 53.90625 64.015625 53.90625 55.328125  Q 53.90625 49.265625 50.4375 45.09375  Q 46.96875 40.921875 40.578125 39.3125  z \" id=\"DejaVuSans-51\" />\n      </defs>\n      <g style=\"fill:#444443;\" transform=\"translate(0 6.07875)scale(0.08 -0.08)\">\n       <use xlink:href=\"#DejaVuSans-56\" />\n       <use x=\"63.623047\" xlink:href=\"#DejaVuSans-48\" />\n       <use x=\"127.246094\" xlink:href=\"#DejaVuSans-53\" />\n       <use x=\"190.869141\" xlink:href=\"#DejaVuSans-51\" />\n      </g>\n     </g>\n    </g>\n   </g>\n   <g id=\"patch_64\">\n    <path d=\"M 27.36 30.219375  L 27.36 3.039375  \" style=\"fill:none;stroke:#000000;stroke-linecap:square;stroke-linejoin:miter;stroke-width:0.3;\" />\n   </g>\n   <g id=\"patch_65\">\n    <path d=\"M 27.36 30.219375  L 211.5 30.219375  \" style=\"fill:none;stroke:#000000;stroke-linecap:square;stroke-linejoin:miter;stroke-width:0.3;\" />\n   </g>\n   <g id=\"text_6\">\n    \n    <defs>\n     <path d=\"M 10.6875 12.40625  L 21 12.40625  L 21 0  L 10.6875 0  z \" id=\"DejaVuSans-46\" />\n    </defs>\n    <g style=\"fill:#444443;\" transform=\"translate(106.139464 46.527375)scale(0.08 -0.08)\">\n     <use xlink:href=\"#DejaVuSans-48\" />\n     <use x=\"63.623047\" xlink:href=\"#DejaVuSans-46\" />\n     <use x=\"95.410156\" xlink:href=\"#DejaVuSans-53\" />\n     <use x=\"159.033203\" xlink:href=\"#DejaVuSans-48\" />\n    </g>\n   </g>\n  </g>\n </g>\n <defs>\n  <clipPath id=\"p991703b1ce\">\n   <rect height=\"27.18\" width=\"184.14\" x=\"27.36\" y=\"3.039375\" />\n  </clipPath>\n </defs>\n</svg></g>\n\n<g class=\"node\" id=\"node12\">\n<title>leaf11</title>\n<polygon fill=\"none\" points=\"223,-83.5 156,-83.5 156,-.5 223,-.5 223,-83.5\" stroke=\"#444443\" stroke-width=\"0\" />\n<svg height=\"75px\" preserveAspectRatio=\"xMinYMin meet\" version=\"1.1\" viewBox=\"0 0 78.82893 100.687963\" width=\"59px\" x=\"160.5\" y=\"-79\">\n <defs>\n  <style type=\"text/css\">\n*{stroke-linecap:butt;stroke-linejoin:round;}\n  </style>\n </defs>\n <g id=\"figure_1\">\n  <g id=\"patch_1\">\n   <path d=\"M 0 100.687963  L 78.82893 100.687963  L 78.82893 0  L 0 0  z \" style=\"fill:#ffffff;\" />\n  </g>\n  <g id=\"axes_1\">\n   <g id=\"patch_2\">\n    <path d=\"M 78.82893 39.498819  C 78.82893 39.498819 78.82893 39.498819 78.82893 39.498819  L 39.56893 39.498819  L 78.82893 39.498819  z \" style=\"fill:#fefebb;stroke:#444443;stroke-linejoin:miter;stroke-width:0.5;\" />\n   </g>\n   <g id=\"patch_3\">\n    <path d=\"M 78.82893 39.498819  C 78.82893 34.559065 77.896639 29.663397 76.081104 25.069378  C 74.265569 20.47536 71.599198 16.264993 68.222269 12.659785  C 64.84534 9.054577 60.818131 6.118881 56.352513 4.007145  C 51.886896 1.895408 47.06258 0.645325 42.133375 0.322662  C 37.20417 -0 32.258061 0.610518 27.555264 2.122096  C 22.852466 3.633674 18.476925 6.019331 14.658837 9.153558  C 10.840749 12.287785 7.648267 16.114635 5.249348 20.432779  C 2.850429 24.750922 1.287894 29.48328 0.643947 34.380881  C 0 39.278483 0.286136 44.253908 1.487302 49.045398  C 2.688467 53.836888 4.783221 58.358915 7.661359 62.373575  C 10.539496 66.388236 14.149643 69.823868 18.301868 72.499723  C 22.454093 75.175578 27.07428 77.043892 31.91936 78.006372  C 36.764441 78.968853 41.74793 79.008321 46.607647 78.122698  C 51.467364 77.237076 56.116562 75.442172 60.310647 72.832417  C 64.504733 70.222662 68.168841 66.844639 71.110202 62.876067  C 74.051564 58.907495 76.217677 54.419212 77.49458 49.647348  L 39.56893 39.498819  L 78.82893 39.498819  z \" style=\"fill:#d9e6f5;stroke:#444443;stroke-linejoin:miter;stroke-width:0.5;\" />\n   </g>\n   <g id=\"patch_4\">\n    <path d=\"M 77.49458 49.647348  C 77.866161 48.258731 78.161196 46.850754 78.378353 45.429779  C 78.59551 44.008804 78.734462 42.576974 78.79458 41.140759  L 39.56893 39.498819  L 77.49458 49.647348  z \" style=\"fill:#a1dab4;stroke:#444443;stroke-linejoin:miter;stroke-width:0.5;\" />\n   </g>\n   <g id=\"patch_5\">\n    <path d=\"M 78.79458 41.140759  C 78.806029 40.867261 78.814616 40.59365 78.820342 40.319972  C 78.826067 40.046294 78.82893 39.772563 78.82893 39.498825  L 39.56893 39.498819  L 78.79458 41.140759  z \" style=\"fill:#fee090;stroke:#444443;stroke-linejoin:miter;stroke-width:0.5;\" />\n   </g>\n   <g id=\"text_1\">\n    \n    <defs>\n     <path d=\"M 54.890625 33.015625  L 54.890625 0  L 45.90625 0  L 45.90625 32.71875  Q 45.90625 40.484375 42.875 44.328125  Q 39.84375 48.1875 33.796875 48.1875  Q 26.515625 48.1875 22.3125 43.546875  Q 18.109375 38.921875 18.109375 30.90625  L 18.109375 0  L 9.078125 0  L 9.078125 54.6875  L 18.109375 54.6875  L 18.109375 46.1875  Q 21.34375 51.125 25.703125 53.5625  Q 30.078125 56 35.796875 56  Q 45.21875 56 50.046875 50.171875  Q 54.890625 44.34375 54.890625 33.015625  z \" id=\"DejaVuSans-110\" />\n     <path d=\"M 10.59375 45.40625  L 73.1875 45.40625  L 73.1875 37.203125  L 10.59375 37.203125  z M 10.59375 25.484375  L 73.1875 25.484375  L 73.1875 17.1875  L 10.59375 17.1875  z \" id=\"DejaVuSans-61\" />\n     <path d=\"M 8.203125 72.90625  L 55.078125 72.90625  L 55.078125 68.703125  L 28.609375 0  L 18.3125 0  L 43.21875 64.59375  L 8.203125 64.59375  z \" id=\"DejaVuSans-55\" />\n     <path d=\"M 31.78125 34.625  Q 24.75 34.625 20.71875 30.859375  Q 16.703125 27.09375 16.703125 20.515625  Q 16.703125 13.921875 20.71875 10.15625  Q 24.75 6.390625 31.78125 6.390625  Q 38.8125 6.390625 42.859375 10.171875  Q 46.921875 13.96875 46.921875 20.515625  Q 46.921875 27.09375 42.890625 30.859375  Q 38.875 34.625 31.78125 34.625  z M 21.921875 38.8125  Q 15.578125 40.375 12.03125 44.71875  Q 8.5 49.078125 8.5 55.328125  Q 8.5 64.0625 14.71875 69.140625  Q 20.953125 74.21875 31.78125 74.21875  Q 42.671875 74.21875 48.875 69.140625  Q 55.078125 64.0625 55.078125 55.328125  Q 55.078125 49.078125 51.53125 44.71875  Q 48 40.375 41.703125 38.8125  Q 48.828125 37.15625 52.796875 32.3125  Q 56.78125 27.484375 56.78125 20.515625  Q 56.78125 9.90625 50.3125 4.234375  Q 43.84375 -1.421875 31.78125 -1.421875  Q 19.734375 -1.421875 13.25 4.234375  Q 6.78125 9.90625 6.78125 20.515625  Q 6.78125 27.484375 10.78125 32.3125  Q 14.796875 37.15625 21.921875 38.8125  z M 18.3125 54.390625  Q 18.3125 48.734375 21.84375 45.5625  Q 25.390625 42.390625 31.78125 42.390625  Q 38.140625 42.390625 41.71875 45.5625  Q 45.3125 48.734375 45.3125 54.390625  Q 45.3125 60.0625 41.71875 63.234375  Q 38.140625 66.40625 31.78125 66.40625  Q 25.390625 66.40625 21.84375 63.234375  Q 18.3125 60.0625 18.3125 54.390625  z \" id=\"DejaVuSans-56\" />\n     <path d=\"M 12.40625 8.296875  L 28.515625 8.296875  L 28.515625 63.921875  L 10.984375 60.40625  L 10.984375 69.390625  L 28.421875 72.90625  L 38.28125 72.90625  L 38.28125 8.296875  L 54.390625 8.296875  L 54.390625 0  L 12.40625 0  z \" id=\"DejaVuSans-49\" />\n     <path d=\"M 31.78125 66.40625  Q 24.171875 66.40625 20.328125 58.90625  Q 16.5 51.421875 16.5 36.375  Q 16.5 21.390625 20.328125 13.890625  Q 24.171875 6.390625 31.78125 6.390625  Q 39.453125 6.390625 43.28125 13.890625  Q 47.125 21.390625 47.125 36.375  Q 47.125 51.421875 43.28125 58.90625  Q 39.453125 66.40625 31.78125 66.40625  z M 31.78125 74.21875  Q 44.046875 74.21875 50.515625 64.515625  Q 56.984375 54.828125 56.984375 36.375  Q 56.984375 17.96875 50.515625 8.265625  Q 44.046875 -1.421875 31.78125 -1.421875  Q 19.53125 -1.421875 13.0625 8.265625  Q 6.59375 17.96875 6.59375 36.375  Q 6.59375 54.828125 13.0625 64.515625  Q 19.53125 74.21875 31.78125 74.21875  z \" id=\"DejaVuSans-48\" />\n    </defs>\n    <g style=\"fill:#444443;\" transform=\"translate(21.493696 88.738213)scale(0.09 -0.09)\">\n     <use xlink:href=\"#DejaVuSans-110\" />\n     <use x=\"63.378906\" xlink:href=\"#DejaVuSans-61\" />\n     <use x=\"147.167969\" xlink:href=\"#DejaVuSans-55\" />\n     <use x=\"210.791016\" xlink:href=\"#DejaVuSans-56\" />\n     <use x=\"274.414062\" xlink:href=\"#DejaVuSans-49\" />\n     <use x=\"338.037109\" xlink:href=\"#DejaVuSans-48\" />\n    </g>\n    \n    <defs>\n     <path d=\"M 48.78125 52.59375  L 48.78125 44.1875  Q 44.96875 46.296875 41.140625 47.34375  Q 37.3125 48.390625 33.40625 48.390625  Q 24.65625 48.390625 19.8125 42.84375  Q 14.984375 37.3125 14.984375 27.296875  Q 14.984375 17.28125 19.8125 11.734375  Q 24.65625 6.203125 33.40625 6.203125  Q 37.3125 6.203125 41.140625 7.25  Q 44.96875 8.296875 48.78125 10.40625  L 48.78125 2.09375  Q 45.015625 0.34375 40.984375 -0.53125  Q 36.96875 -1.421875 32.421875 -1.421875  Q 20.0625 -1.421875 12.78125 6.34375  Q 5.515625 14.109375 5.515625 27.296875  Q 5.515625 40.671875 12.859375 48.328125  Q 20.21875 56 33.015625 56  Q 37.15625 56 41.109375 55.140625  Q 45.0625 54.296875 48.78125 52.59375  z \" id=\"DejaVuSans-99\" />\n     <path d=\"M 9.421875 75.984375  L 18.40625 75.984375  L 18.40625 0  L 9.421875 0  z \" id=\"DejaVuSans-108\" />\n     <path d=\"M 34.28125 27.484375  Q 23.390625 27.484375 19.1875 25  Q 14.984375 22.515625 14.984375 16.5  Q 14.984375 11.71875 18.140625 8.90625  Q 21.296875 6.109375 26.703125 6.109375  Q 34.1875 6.109375 38.703125 11.40625  Q 43.21875 16.703125 43.21875 25.484375  L 43.21875 27.484375  z M 52.203125 31.203125  L 52.203125 0  L 43.21875 0  L 43.21875 8.296875  Q 40.140625 3.328125 35.546875 0.953125  Q 30.953125 -1.421875 24.3125 -1.421875  Q 15.921875 -1.421875 10.953125 3.296875  Q 6 8.015625 6 15.921875  Q 6 25.140625 12.171875 29.828125  Q 18.359375 34.515625 30.609375 34.515625  L 43.21875 34.515625  L 43.21875 35.40625  Q 43.21875 41.609375 39.140625 45  Q 35.0625 48.390625 27.6875 48.390625  Q 23 48.390625 18.546875 47.265625  Q 14.109375 46.140625 10.015625 43.890625  L 10.015625 52.203125  Q 14.9375 54.109375 19.578125 55.046875  Q 24.21875 56 28.609375 56  Q 40.484375 56 46.34375 49.84375  Q 52.203125 43.703125 52.203125 31.203125  z \" id=\"DejaVuSans-97\" />\n     <path d=\"M 44.28125 53.078125  L 44.28125 44.578125  Q 40.484375 46.53125 36.375 47.5  Q 32.28125 48.484375 27.875 48.484375  Q 21.1875 48.484375 17.84375 46.4375  Q 14.5 44.390625 14.5 40.28125  Q 14.5 37.15625 16.890625 35.375  Q 19.28125 33.59375 26.515625 31.984375  L 29.59375 31.296875  Q 39.15625 29.25 43.1875 25.515625  Q 47.21875 21.78125 47.21875 15.09375  Q 47.21875 7.46875 41.1875 3.015625  Q 35.15625 -1.421875 24.609375 -1.421875  Q 20.21875 -1.421875 15.453125 -0.5625  Q 10.6875 0.296875 5.421875 2  L 5.421875 11.28125  Q 10.40625 8.6875 15.234375 7.390625  Q 20.0625 6.109375 24.8125 6.109375  Q 31.15625 6.109375 34.5625 8.28125  Q 37.984375 10.453125 37.984375 14.40625  Q 37.984375 18.0625 35.515625 20.015625  Q 33.0625 21.96875 24.703125 23.78125  L 21.578125 24.515625  Q 13.234375 26.265625 9.515625 29.90625  Q 5.8125 33.546875 5.8125 39.890625  Q 5.8125 47.609375 11.28125 51.796875  Q 16.75 56 26.8125 56  Q 31.78125 56 36.171875 55.265625  Q 40.578125 54.546875 44.28125 53.078125  z \" id=\"DejaVuSans-115\" />\n     <path id=\"DejaVuSans-32\" />\n    </defs>\n    <g style=\"fill:#444443;\" transform=\"translate(24.105102 98.816244)scale(0.09 -0.09)\">\n     <use xlink:href=\"#DejaVuSans-99\" />\n     <use x=\"54.980469\" xlink:href=\"#DejaVuSans-108\" />\n     <use x=\"82.763672\" xlink:href=\"#DejaVuSans-97\" />\n     <use x=\"144.042969\" xlink:href=\"#DejaVuSans-115\" />\n     <use x=\"196.142578\" xlink:href=\"#DejaVuSans-115\" />\n     <use x=\"248.242188\" xlink:href=\"#DejaVuSans-32\" />\n     <use x=\"280.029297\" xlink:href=\"#DejaVuSans-49\" />\n    </g>\n   </g>\n  </g>\n </g>\n</svg></g>\n\n<g class=\"edge\" id=\"edge4\">\n<title>node9-&gt;leaf11</title>\n<path d=\"M225.8813,-118.8462C221.3465,-109.2676 216.0952,-98.1756 211.0174,-87.45\" fill=\"none\" stroke=\"#444443\" stroke-width=\".3\" />\n<polygon fill=\"#444443\" points=\"212.2803,-86.8456 209.3033,-83.8294 209.7496,-88.0438 212.2803,-86.8456\" stroke=\"#444443\" stroke-width=\".3\" />\n</g>\n\n<g class=\"node\" id=\"node13\">\n<title>leaf12</title>\n<polygon fill=\"none\" points=\"304,-83.5 237,-83.5 237,-.5 304,-.5 304,-83.5\" stroke=\"#444443\" stroke-width=\"0\" />\n<svg height=\"75px\" preserveAspectRatio=\"xMinYMin meet\" version=\"1.1\" viewBox=\"0 0 78.52 100.449144\" width=\"59px\" x=\"241.5\" y=\"-79\">\n <defs>\n  <style type=\"text/css\">\n*{stroke-linecap:butt;stroke-linejoin:round;}\n  </style>\n </defs>\n <g id=\"figure_1\">\n  <g id=\"patch_1\">\n   <path d=\"M -0 100.449144  L 78.52 100.449144  L 78.52 -0  L -0 -0  z \" style=\"fill:#ffffff;\" />\n  </g>\n  <g id=\"axes_1\">\n   <g id=\"patch_2\">\n    <path d=\"M 78.52 39.26  C 78.52 34.104424 77.504464 28.99898 75.53151 24.235848  C 73.558557 19.472717 70.666555 15.14453 67.021012 11.498988  C 63.37547 7.853445 59.047283 4.961443 54.284152 2.98849  C 49.52102 1.015536 44.415576 0 39.26 0  C 34.104424 0 28.99898 1.015536 24.235848 2.98849  C 19.472717 4.961443 15.14453 7.853445 11.498988 11.498988  C 7.853445 15.14453 4.961443 19.472717 2.98849 24.235848  C 1.015536 28.99898 0 34.104424 0 39.26  C 0 44.415576 1.015536 49.52102 2.98849 54.284152  C 4.961443 59.047283 7.853445 63.37547 11.498988 67.021012  C 15.14453 70.666555 19.472717 73.558557 24.235848 75.53151  C 28.99898 77.504464 34.104424 78.52 39.26 78.52  C 44.415576 78.52 49.52102 77.504464 54.284152 75.53151  C 59.047283 73.558557 63.37547 70.666555 67.021012 67.021012  C 70.666555 63.37547 73.558557 59.047283 75.53151 54.284152  C 77.504464 49.52102 78.52 44.415576 78.52 39.26  M 39.26 39.26  M 78.52 39.26  z \" style=\"fill:#a1dab4;stroke:#444443;stroke-linejoin:miter;stroke-width:0.5;\" />\n   </g>\n   <g id=\"text_1\">\n    \n    <defs>\n     <path d=\"M 54.890625 33.015625  L 54.890625 0  L 45.90625 0  L 45.90625 32.71875  Q 45.90625 40.484375 42.875 44.328125  Q 39.84375 48.1875 33.796875 48.1875  Q 26.515625 48.1875 22.3125 43.546875  Q 18.109375 38.921875 18.109375 30.90625  L 18.109375 0  L 9.078125 0  L 9.078125 54.6875  L 18.109375 54.6875  L 18.109375 46.1875  Q 21.34375 51.125 25.703125 53.5625  Q 30.078125 56 35.796875 56  Q 45.21875 56 50.046875 50.171875  Q 54.890625 44.34375 54.890625 33.015625  z \" id=\"DejaVuSans-110\" />\n     <path d=\"M 10.59375 45.40625  L 73.1875 45.40625  L 73.1875 37.203125  L 10.59375 37.203125  z M 10.59375 25.484375  L 73.1875 25.484375  L 73.1875 17.1875  L 10.59375 17.1875  z \" id=\"DejaVuSans-61\" />\n     <path d=\"M 31.78125 34.625  Q 24.75 34.625 20.71875 30.859375  Q 16.703125 27.09375 16.703125 20.515625  Q 16.703125 13.921875 20.71875 10.15625  Q 24.75 6.390625 31.78125 6.390625  Q 38.8125 6.390625 42.859375 10.171875  Q 46.921875 13.96875 46.921875 20.515625  Q 46.921875 27.09375 42.890625 30.859375  Q 38.875 34.625 31.78125 34.625  z M 21.921875 38.8125  Q 15.578125 40.375 12.03125 44.71875  Q 8.5 49.078125 8.5 55.328125  Q 8.5 64.0625 14.71875 69.140625  Q 20.953125 74.21875 31.78125 74.21875  Q 42.671875 74.21875 48.875 69.140625  Q 55.078125 64.0625 55.078125 55.328125  Q 55.078125 49.078125 51.53125 44.71875  Q 48 40.375 41.703125 38.8125  Q 48.828125 37.15625 52.796875 32.3125  Q 56.78125 27.484375 56.78125 20.515625  Q 56.78125 9.90625 50.3125 4.234375  Q 43.84375 -1.421875 31.78125 -1.421875  Q 19.734375 -1.421875 13.25 4.234375  Q 6.78125 9.90625 6.78125 20.515625  Q 6.78125 27.484375 10.78125 32.3125  Q 14.796875 37.15625 21.921875 38.8125  z M 18.3125 54.390625  Q 18.3125 48.734375 21.84375 45.5625  Q 25.390625 42.390625 31.78125 42.390625  Q 38.140625 42.390625 41.71875 45.5625  Q 45.3125 48.734375 45.3125 54.390625  Q 45.3125 60.0625 41.71875 63.234375  Q 38.140625 66.40625 31.78125 66.40625  Q 25.390625 66.40625 21.84375 63.234375  Q 18.3125 60.0625 18.3125 54.390625  z \" id=\"DejaVuSans-56\" />\n     <path d=\"M 31.78125 66.40625  Q 24.171875 66.40625 20.328125 58.90625  Q 16.5 51.421875 16.5 36.375  Q 16.5 21.390625 20.328125 13.890625  Q 24.171875 6.390625 31.78125 6.390625  Q 39.453125 6.390625 43.28125 13.890625  Q 47.125 21.390625 47.125 36.375  Q 47.125 51.421875 43.28125 58.90625  Q 39.453125 66.40625 31.78125 66.40625  z M 31.78125 74.21875  Q 44.046875 74.21875 50.515625 64.515625  Q 56.984375 54.828125 56.984375 36.375  Q 56.984375 17.96875 50.515625 8.265625  Q 44.046875 -1.421875 31.78125 -1.421875  Q 19.53125 -1.421875 13.0625 8.265625  Q 6.59375 17.96875 6.59375 36.375  Q 6.59375 54.828125 13.0625 64.515625  Q 19.53125 74.21875 31.78125 74.21875  z \" id=\"DejaVuSans-48\" />\n     <path d=\"M 10.796875 72.90625  L 49.515625 72.90625  L 49.515625 64.59375  L 19.828125 64.59375  L 19.828125 46.734375  Q 21.96875 47.46875 24.109375 47.828125  Q 26.265625 48.1875 28.421875 48.1875  Q 40.625 48.1875 47.75 41.5  Q 54.890625 34.8125 54.890625 23.390625  Q 54.890625 11.625 47.5625 5.09375  Q 40.234375 -1.421875 26.90625 -1.421875  Q 22.3125 -1.421875 17.546875 -0.640625  Q 12.796875 0.140625 7.71875 1.703125  L 7.71875 11.625  Q 12.109375 9.234375 16.796875 8.0625  Q 21.484375 6.890625 26.703125 6.890625  Q 35.15625 6.890625 40.078125 11.328125  Q 45.015625 15.765625 45.015625 23.390625  Q 45.015625 31 40.078125 35.4375  Q 35.15625 39.890625 26.703125 39.890625  Q 22.75 39.890625 18.8125 39.015625  Q 14.890625 38.140625 10.796875 36.28125  z \" id=\"DejaVuSans-53\" />\n     <path d=\"M 40.578125 39.3125  Q 47.65625 37.796875 51.625 33  Q 55.609375 28.21875 55.609375 21.1875  Q 55.609375 10.40625 48.1875 4.484375  Q 40.765625 -1.421875 27.09375 -1.421875  Q 22.515625 -1.421875 17.65625 -0.515625  Q 12.796875 0.390625 7.625 2.203125  L 7.625 11.71875  Q 11.71875 9.328125 16.59375 8.109375  Q 21.484375 6.890625 26.8125 6.890625  Q 36.078125 6.890625 40.9375 10.546875  Q 45.796875 14.203125 45.796875 21.1875  Q 45.796875 27.640625 41.28125 31.265625  Q 36.765625 34.90625 28.71875 34.90625  L 20.21875 34.90625  L 20.21875 43.015625  L 29.109375 43.015625  Q 36.375 43.015625 40.234375 45.921875  Q 44.09375 48.828125 44.09375 54.296875  Q 44.09375 59.90625 40.109375 62.90625  Q 36.140625 65.921875 28.71875 65.921875  Q 24.65625 65.921875 20.015625 65.03125  Q 15.375 64.15625 9.8125 62.3125  L 9.8125 71.09375  Q 15.4375 72.65625 20.34375 73.4375  Q 25.25 74.21875 29.59375 74.21875  Q 40.828125 74.21875 47.359375 69.109375  Q 53.90625 64.015625 53.90625 55.328125  Q 53.90625 49.265625 50.4375 45.09375  Q 46.96875 40.921875 40.578125 39.3125  z \" id=\"DejaVuSans-51\" />\n    </defs>\n    <g style=\"fill:#444443;\" transform=\"translate(21.184766 88.499394)scale(0.09 -0.09)\">\n     <use xlink:href=\"#DejaVuSans-110\" />\n     <use x=\"63.378906\" xlink:href=\"#DejaVuSans-61\" />\n     <use x=\"147.167969\" xlink:href=\"#DejaVuSans-56\" />\n     <use x=\"210.791016\" xlink:href=\"#DejaVuSans-48\" />\n     <use x=\"274.414062\" xlink:href=\"#DejaVuSans-53\" />\n     <use x=\"338.037109\" xlink:href=\"#DejaVuSans-51\" />\n    </g>\n    \n    <defs>\n     <path d=\"M 48.78125 52.59375  L 48.78125 44.1875  Q 44.96875 46.296875 41.140625 47.34375  Q 37.3125 48.390625 33.40625 48.390625  Q 24.65625 48.390625 19.8125 42.84375  Q 14.984375 37.3125 14.984375 27.296875  Q 14.984375 17.28125 19.8125 11.734375  Q 24.65625 6.203125 33.40625 6.203125  Q 37.3125 6.203125 41.140625 7.25  Q 44.96875 8.296875 48.78125 10.40625  L 48.78125 2.09375  Q 45.015625 0.34375 40.984375 -0.53125  Q 36.96875 -1.421875 32.421875 -1.421875  Q 20.0625 -1.421875 12.78125 6.34375  Q 5.515625 14.109375 5.515625 27.296875  Q 5.515625 40.671875 12.859375 48.328125  Q 20.21875 56 33.015625 56  Q 37.15625 56 41.109375 55.140625  Q 45.0625 54.296875 48.78125 52.59375  z \" id=\"DejaVuSans-99\" />\n     <path d=\"M 9.421875 75.984375  L 18.40625 75.984375  L 18.40625 0  L 9.421875 0  z \" id=\"DejaVuSans-108\" />\n     <path d=\"M 34.28125 27.484375  Q 23.390625 27.484375 19.1875 25  Q 14.984375 22.515625 14.984375 16.5  Q 14.984375 11.71875 18.140625 8.90625  Q 21.296875 6.109375 26.703125 6.109375  Q 34.1875 6.109375 38.703125 11.40625  Q 43.21875 16.703125 43.21875 25.484375  L 43.21875 27.484375  z M 52.203125 31.203125  L 52.203125 0  L 43.21875 0  L 43.21875 8.296875  Q 40.140625 3.328125 35.546875 0.953125  Q 30.953125 -1.421875 24.3125 -1.421875  Q 15.921875 -1.421875 10.953125 3.296875  Q 6 8.015625 6 15.921875  Q 6 25.140625 12.171875 29.828125  Q 18.359375 34.515625 30.609375 34.515625  L 43.21875 34.515625  L 43.21875 35.40625  Q 43.21875 41.609375 39.140625 45  Q 35.0625 48.390625 27.6875 48.390625  Q 23 48.390625 18.546875 47.265625  Q 14.109375 46.140625 10.015625 43.890625  L 10.015625 52.203125  Q 14.9375 54.109375 19.578125 55.046875  Q 24.21875 56 28.609375 56  Q 40.484375 56 46.34375 49.84375  Q 52.203125 43.703125 52.203125 31.203125  z \" id=\"DejaVuSans-97\" />\n     <path d=\"M 44.28125 53.078125  L 44.28125 44.578125  Q 40.484375 46.53125 36.375 47.5  Q 32.28125 48.484375 27.875 48.484375  Q 21.1875 48.484375 17.84375 46.4375  Q 14.5 44.390625 14.5 40.28125  Q 14.5 37.15625 16.890625 35.375  Q 19.28125 33.59375 26.515625 31.984375  L 29.59375 31.296875  Q 39.15625 29.25 43.1875 25.515625  Q 47.21875 21.78125 47.21875 15.09375  Q 47.21875 7.46875 41.1875 3.015625  Q 35.15625 -1.421875 24.609375 -1.421875  Q 20.21875 -1.421875 15.453125 -0.5625  Q 10.6875 0.296875 5.421875 2  L 5.421875 11.28125  Q 10.40625 8.6875 15.234375 7.390625  Q 20.0625 6.109375 24.8125 6.109375  Q 31.15625 6.109375 34.5625 8.28125  Q 37.984375 10.453125 37.984375 14.40625  Q 37.984375 18.0625 35.515625 20.015625  Q 33.0625 21.96875 24.703125 23.78125  L 21.578125 24.515625  Q 13.234375 26.265625 9.515625 29.90625  Q 5.8125 33.546875 5.8125 39.890625  Q 5.8125 47.609375 11.28125 51.796875  Q 16.75 56 26.8125 56  Q 31.78125 56 36.171875 55.265625  Q 40.578125 54.546875 44.28125 53.078125  z \" id=\"DejaVuSans-115\" />\n     <path id=\"DejaVuSans-32\" />\n     <path d=\"M 19.1875 8.296875  L 53.609375 8.296875  L 53.609375 0  L 7.328125 0  L 7.328125 8.296875  Q 12.9375 14.109375 22.625 23.890625  Q 32.328125 33.6875 34.8125 36.53125  Q 39.546875 41.84375 41.421875 45.53125  Q 43.3125 49.21875 43.3125 52.78125  Q 43.3125 58.59375 39.234375 62.25  Q 35.15625 65.921875 28.609375 65.921875  Q 23.96875 65.921875 18.8125 64.3125  Q 13.671875 62.703125 7.8125 59.421875  L 7.8125 69.390625  Q 13.765625 71.78125 18.9375 73  Q 24.125 74.21875 28.421875 74.21875  Q 39.75 74.21875 46.484375 68.546875  Q 53.21875 62.890625 53.21875 53.421875  Q 53.21875 48.921875 51.53125 44.890625  Q 49.859375 40.875 45.40625 35.40625  Q 44.1875 33.984375 37.640625 27.21875  Q 31.109375 20.453125 19.1875 8.296875  z \" id=\"DejaVuSans-50\" />\n    </defs>\n    <g style=\"fill:#444443;\" transform=\"translate(23.796172 98.577425)scale(0.09 -0.09)\">\n     <use xlink:href=\"#DejaVuSans-99\" />\n     <use x=\"54.980469\" xlink:href=\"#DejaVuSans-108\" />\n     <use x=\"82.763672\" xlink:href=\"#DejaVuSans-97\" />\n     <use x=\"144.042969\" xlink:href=\"#DejaVuSans-115\" />\n     <use x=\"196.142578\" xlink:href=\"#DejaVuSans-115\" />\n     <use x=\"248.242188\" xlink:href=\"#DejaVuSans-32\" />\n     <use x=\"280.029297\" xlink:href=\"#DejaVuSans-50\" />\n    </g>\n   </g>\n  </g>\n </g>\n</svg></g>\n\n<g class=\"edge\" id=\"edge5\">\n<title>node9-&gt;leaf12</title>\n<path d=\"M246.7408,-118.8462C249.6765,-109.3509 253.0721,-98.3684 256.3613,-87.7299\" fill=\"none\" stroke=\"#444443\" stroke-width=\".3\" />\n<polygon fill=\"#444443\" points=\"257.7232,-88.0644 257.5673,-83.8294 255.0481,-87.2373 257.7232,-88.0644\" stroke=\"#444443\" stroke-width=\".3\" />\n</g>\n\n<g class=\"node\" id=\"node14\">\n<title>leaf10</title>\n<polygon fill=\"none\" points=\"403,-187 336,-187 336,-104 403,-104 403,-187\" stroke=\"#444443\" stroke-width=\"0\" />\n<svg height=\"75px\" preserveAspectRatio=\"xMinYMin meet\" version=\"1.1\" viewBox=\"0 0 78.52 100.449144\" width=\"59px\" x=\"340.5\" y=\"-182.5\">\n <defs>\n  <style type=\"text/css\">\n*{stroke-linecap:butt;stroke-linejoin:round;}\n  </style>\n </defs>\n <g id=\"figure_1\">\n  <g id=\"patch_1\">\n   <path d=\"M -0 100.449144  L 78.52 100.449144  L 78.52 -0  L -0 -0  z \" style=\"fill:#ffffff;\" />\n  </g>\n  <g id=\"axes_1\">\n   <g id=\"patch_2\">\n    <path d=\"M 78.52 39.26  C 78.52 34.104424 77.504464 28.99898 75.53151 24.235848  C 73.558557 19.472717 70.666555 15.14453 67.021012 11.498988  C 63.37547 7.853445 59.047283 4.961443 54.284152 2.98849  C 49.52102 1.015536 44.415576 0 39.26 0  C 34.104424 0 28.99898 1.015536 24.235848 2.98849  C 19.472717 4.961443 15.14453 7.853445 11.498988 11.498988  C 7.853445 15.14453 4.961443 19.472717 2.98849 24.235848  C 1.015536 28.99898 0 34.104424 0 39.26  C 0 44.415576 1.015536 49.52102 2.98849 54.284152  C 4.961443 59.047283 7.853445 63.37547 11.498988 67.021012  C 15.14453 70.666555 19.472717 73.558557 24.235848 75.53151  C 28.99898 77.504464 34.104424 78.52 39.26 78.52  C 44.415576 78.52 49.52102 77.504464 54.284152 75.53151  C 59.047283 73.558557 63.37547 70.666555 67.021012 67.021012  C 70.666555 63.37547 73.558557 59.047283 75.53151 54.284152  C 77.504464 49.52102 78.52 44.415576 78.52 39.26  M 39.26 39.26  M 78.52 39.26  z \" style=\"fill:#a1dab4;stroke:#444443;stroke-linejoin:miter;stroke-width:0.5;\" />\n   </g>\n   <g id=\"text_1\">\n    \n    <defs>\n     <path d=\"M 54.890625 33.015625  L 54.890625 0  L 45.90625 0  L 45.90625 32.71875  Q 45.90625 40.484375 42.875 44.328125  Q 39.84375 48.1875 33.796875 48.1875  Q 26.515625 48.1875 22.3125 43.546875  Q 18.109375 38.921875 18.109375 30.90625  L 18.109375 0  L 9.078125 0  L 9.078125 54.6875  L 18.109375 54.6875  L 18.109375 46.1875  Q 21.34375 51.125 25.703125 53.5625  Q 30.078125 56 35.796875 56  Q 45.21875 56 50.046875 50.171875  Q 54.890625 44.34375 54.890625 33.015625  z \" id=\"DejaVuSans-110\" />\n     <path d=\"M 10.59375 45.40625  L 73.1875 45.40625  L 73.1875 37.203125  L 10.59375 37.203125  z M 10.59375 25.484375  L 73.1875 25.484375  L 73.1875 17.1875  L 10.59375 17.1875  z \" id=\"DejaVuSans-61\" />\n     <path d=\"M 40.578125 39.3125  Q 47.65625 37.796875 51.625 33  Q 55.609375 28.21875 55.609375 21.1875  Q 55.609375 10.40625 48.1875 4.484375  Q 40.765625 -1.421875 27.09375 -1.421875  Q 22.515625 -1.421875 17.65625 -0.515625  Q 12.796875 0.390625 7.625 2.203125  L 7.625 11.71875  Q 11.71875 9.328125 16.59375 8.109375  Q 21.484375 6.890625 26.8125 6.890625  Q 36.078125 6.890625 40.9375 10.546875  Q 45.796875 14.203125 45.796875 21.1875  Q 45.796875 27.640625 41.28125 31.265625  Q 36.765625 34.90625 28.71875 34.90625  L 20.21875 34.90625  L 20.21875 43.015625  L 29.109375 43.015625  Q 36.375 43.015625 40.234375 45.921875  Q 44.09375 48.828125 44.09375 54.296875  Q 44.09375 59.90625 40.109375 62.90625  Q 36.140625 65.921875 28.71875 65.921875  Q 24.65625 65.921875 20.015625 65.03125  Q 15.375 64.15625 9.8125 62.3125  L 9.8125 71.09375  Q 15.4375 72.65625 20.34375 73.4375  Q 25.25 74.21875 29.59375 74.21875  Q 40.828125 74.21875 47.359375 69.109375  Q 53.90625 64.015625 53.90625 55.328125  Q 53.90625 49.265625 50.4375 45.09375  Q 46.96875 40.921875 40.578125 39.3125  z \" id=\"DejaVuSans-51\" />\n     <path d=\"M 31.78125 34.625  Q 24.75 34.625 20.71875 30.859375  Q 16.703125 27.09375 16.703125 20.515625  Q 16.703125 13.921875 20.71875 10.15625  Q 24.75 6.390625 31.78125 6.390625  Q 38.8125 6.390625 42.859375 10.171875  Q 46.921875 13.96875 46.921875 20.515625  Q 46.921875 27.09375 42.890625 30.859375  Q 38.875 34.625 31.78125 34.625  z M 21.921875 38.8125  Q 15.578125 40.375 12.03125 44.71875  Q 8.5 49.078125 8.5 55.328125  Q 8.5 64.0625 14.71875 69.140625  Q 20.953125 74.21875 31.78125 74.21875  Q 42.671875 74.21875 48.875 69.140625  Q 55.078125 64.0625 55.078125 55.328125  Q 55.078125 49.078125 51.53125 44.71875  Q 48 40.375 41.703125 38.8125  Q 48.828125 37.15625 52.796875 32.3125  Q 56.78125 27.484375 56.78125 20.515625  Q 56.78125 9.90625 50.3125 4.234375  Q 43.84375 -1.421875 31.78125 -1.421875  Q 19.734375 -1.421875 13.25 4.234375  Q 6.78125 9.90625 6.78125 20.515625  Q 6.78125 27.484375 10.78125 32.3125  Q 14.796875 37.15625 21.921875 38.8125  z M 18.3125 54.390625  Q 18.3125 48.734375 21.84375 45.5625  Q 25.390625 42.390625 31.78125 42.390625  Q 38.140625 42.390625 41.71875 45.5625  Q 45.3125 48.734375 45.3125 54.390625  Q 45.3125 60.0625 41.71875 63.234375  Q 38.140625 66.40625 31.78125 66.40625  Q 25.390625 66.40625 21.84375 63.234375  Q 18.3125 60.0625 18.3125 54.390625  z \" id=\"DejaVuSans-56\" />\n     <path d=\"M 8.203125 72.90625  L 55.078125 72.90625  L 55.078125 68.703125  L 28.609375 0  L 18.3125 0  L 43.21875 64.59375  L 8.203125 64.59375  z \" id=\"DejaVuSans-55\" />\n     <path d=\"M 33.015625 40.375  Q 26.375 40.375 22.484375 35.828125  Q 18.609375 31.296875 18.609375 23.390625  Q 18.609375 15.53125 22.484375 10.953125  Q 26.375 6.390625 33.015625 6.390625  Q 39.65625 6.390625 43.53125 10.953125  Q 47.40625 15.53125 47.40625 23.390625  Q 47.40625 31.296875 43.53125 35.828125  Q 39.65625 40.375 33.015625 40.375  z M 52.59375 71.296875  L 52.59375 62.3125  Q 48.875 64.0625 45.09375 64.984375  Q 41.3125 65.921875 37.59375 65.921875  Q 27.828125 65.921875 22.671875 59.328125  Q 17.53125 52.734375 16.796875 39.40625  Q 19.671875 43.65625 24.015625 45.921875  Q 28.375 48.1875 33.59375 48.1875  Q 44.578125 48.1875 50.953125 41.515625  Q 57.328125 34.859375 57.328125 23.390625  Q 57.328125 12.15625 50.6875 5.359375  Q 44.046875 -1.421875 33.015625 -1.421875  Q 20.359375 -1.421875 13.671875 8.265625  Q 6.984375 17.96875 6.984375 36.375  Q 6.984375 53.65625 15.1875 63.9375  Q 23.390625 74.21875 37.203125 74.21875  Q 40.921875 74.21875 44.703125 73.484375  Q 48.484375 72.75 52.59375 71.296875  z \" id=\"DejaVuSans-54\" />\n    </defs>\n    <g style=\"fill:#444443;\" transform=\"translate(18.321641 88.499394)scale(0.09 -0.09)\">\n     <use xlink:href=\"#DejaVuSans-110\" />\n     <use x=\"63.378906\" xlink:href=\"#DejaVuSans-61\" />\n     <use x=\"147.167969\" xlink:href=\"#DejaVuSans-51\" />\n     <use x=\"210.791016\" xlink:href=\"#DejaVuSans-56\" />\n     <use x=\"274.414062\" xlink:href=\"#DejaVuSans-51\" />\n     <use x=\"338.037109\" xlink:href=\"#DejaVuSans-55\" />\n     <use x=\"401.660156\" xlink:href=\"#DejaVuSans-54\" />\n    </g>\n    \n    <defs>\n     <path d=\"M 48.78125 52.59375  L 48.78125 44.1875  Q 44.96875 46.296875 41.140625 47.34375  Q 37.3125 48.390625 33.40625 48.390625  Q 24.65625 48.390625 19.8125 42.84375  Q 14.984375 37.3125 14.984375 27.296875  Q 14.984375 17.28125 19.8125 11.734375  Q 24.65625 6.203125 33.40625 6.203125  Q 37.3125 6.203125 41.140625 7.25  Q 44.96875 8.296875 48.78125 10.40625  L 48.78125 2.09375  Q 45.015625 0.34375 40.984375 -0.53125  Q 36.96875 -1.421875 32.421875 -1.421875  Q 20.0625 -1.421875 12.78125 6.34375  Q 5.515625 14.109375 5.515625 27.296875  Q 5.515625 40.671875 12.859375 48.328125  Q 20.21875 56 33.015625 56  Q 37.15625 56 41.109375 55.140625  Q 45.0625 54.296875 48.78125 52.59375  z \" id=\"DejaVuSans-99\" />\n     <path d=\"M 9.421875 75.984375  L 18.40625 75.984375  L 18.40625 0  L 9.421875 0  z \" id=\"DejaVuSans-108\" />\n     <path d=\"M 34.28125 27.484375  Q 23.390625 27.484375 19.1875 25  Q 14.984375 22.515625 14.984375 16.5  Q 14.984375 11.71875 18.140625 8.90625  Q 21.296875 6.109375 26.703125 6.109375  Q 34.1875 6.109375 38.703125 11.40625  Q 43.21875 16.703125 43.21875 25.484375  L 43.21875 27.484375  z M 52.203125 31.203125  L 52.203125 0  L 43.21875 0  L 43.21875 8.296875  Q 40.140625 3.328125 35.546875 0.953125  Q 30.953125 -1.421875 24.3125 -1.421875  Q 15.921875 -1.421875 10.953125 3.296875  Q 6 8.015625 6 15.921875  Q 6 25.140625 12.171875 29.828125  Q 18.359375 34.515625 30.609375 34.515625  L 43.21875 34.515625  L 43.21875 35.40625  Q 43.21875 41.609375 39.140625 45  Q 35.0625 48.390625 27.6875 48.390625  Q 23 48.390625 18.546875 47.265625  Q 14.109375 46.140625 10.015625 43.890625  L 10.015625 52.203125  Q 14.9375 54.109375 19.578125 55.046875  Q 24.21875 56 28.609375 56  Q 40.484375 56 46.34375 49.84375  Q 52.203125 43.703125 52.203125 31.203125  z \" id=\"DejaVuSans-97\" />\n     <path d=\"M 44.28125 53.078125  L 44.28125 44.578125  Q 40.484375 46.53125 36.375 47.5  Q 32.28125 48.484375 27.875 48.484375  Q 21.1875 48.484375 17.84375 46.4375  Q 14.5 44.390625 14.5 40.28125  Q 14.5 37.15625 16.890625 35.375  Q 19.28125 33.59375 26.515625 31.984375  L 29.59375 31.296875  Q 39.15625 29.25 43.1875 25.515625  Q 47.21875 21.78125 47.21875 15.09375  Q 47.21875 7.46875 41.1875 3.015625  Q 35.15625 -1.421875 24.609375 -1.421875  Q 20.21875 -1.421875 15.453125 -0.5625  Q 10.6875 0.296875 5.421875 2  L 5.421875 11.28125  Q 10.40625 8.6875 15.234375 7.390625  Q 20.0625 6.109375 24.8125 6.109375  Q 31.15625 6.109375 34.5625 8.28125  Q 37.984375 10.453125 37.984375 14.40625  Q 37.984375 18.0625 35.515625 20.015625  Q 33.0625 21.96875 24.703125 23.78125  L 21.578125 24.515625  Q 13.234375 26.265625 9.515625 29.90625  Q 5.8125 33.546875 5.8125 39.890625  Q 5.8125 47.609375 11.28125 51.796875  Q 16.75 56 26.8125 56  Q 31.78125 56 36.171875 55.265625  Q 40.578125 54.546875 44.28125 53.078125  z \" id=\"DejaVuSans-115\" />\n     <path id=\"DejaVuSans-32\" />\n     <path d=\"M 19.1875 8.296875  L 53.609375 8.296875  L 53.609375 0  L 7.328125 0  L 7.328125 8.296875  Q 12.9375 14.109375 22.625 23.890625  Q 32.328125 33.6875 34.8125 36.53125  Q 39.546875 41.84375 41.421875 45.53125  Q 43.3125 49.21875 43.3125 52.78125  Q 43.3125 58.59375 39.234375 62.25  Q 35.15625 65.921875 28.609375 65.921875  Q 23.96875 65.921875 18.8125 64.3125  Q 13.671875 62.703125 7.8125 59.421875  L 7.8125 69.390625  Q 13.765625 71.78125 18.9375 73  Q 24.125 74.21875 28.421875 74.21875  Q 39.75 74.21875 46.484375 68.546875  Q 53.21875 62.890625 53.21875 53.421875  Q 53.21875 48.921875 51.53125 44.890625  Q 49.859375 40.875 45.40625 35.40625  Q 44.1875 33.984375 37.640625 27.21875  Q 31.109375 20.453125 19.1875 8.296875  z \" id=\"DejaVuSans-50\" />\n    </defs>\n    <g style=\"fill:#444443;\" transform=\"translate(23.796172 98.577425)scale(0.09 -0.09)\">\n     <use xlink:href=\"#DejaVuSans-99\" />\n     <use x=\"54.980469\" xlink:href=\"#DejaVuSans-108\" />\n     <use x=\"82.763672\" xlink:href=\"#DejaVuSans-97\" />\n     <use x=\"144.042969\" xlink:href=\"#DejaVuSans-115\" />\n     <use x=\"196.142578\" xlink:href=\"#DejaVuSans-115\" />\n     <use x=\"248.242188\" xlink:href=\"#DejaVuSans-32\" />\n     <use x=\"280.029297\" xlink:href=\"#DejaVuSans-50\" />\n    </g>\n   </g>\n  </g>\n </g>\n</svg></g>\n\n\n<g class=\"edge\" id=\"edge7\">\n<title>node6-&gt;node9</title>\n<path d=\"M293.5983,-223.3722C283.1892,-208.6607 270.4405,-190.6426 259.8288,-175.6447\" fill=\"none\" stroke=\"#444443\" stroke-width=\".3\" />\n<polygon fill=\"#444443\" points=\"260.913,-174.7531 257.4597,-172.2964 258.6273,-176.3704 260.913,-174.7531\" stroke=\"#444443\" stroke-width=\".3\" />\n</g>\n\n<g class=\"edge\" id=\"edge8\">\n<title>node6-&gt;leaf10</title>\n<path d=\"M328.3599,-223.3722C333.6001,-213.4534 339.6343,-202.0314 345.4382,-191.0455\" fill=\"none\" stroke=\"#444443\" stroke-width=\".3\" />\n<polygon fill=\"#444443\" points=\"346.7656,-191.5301 347.3962,-187.3393 344.2898,-190.2221 346.7656,-191.5301\" stroke=\"#444443\" stroke-width=\".3\" />\n</g>\n\n<g class=\"node\" id=\"node4\">\n<title>node1</title>\n<svg height=\"65px\" preserveAspectRatio=\"xMinYMin meet\" version=\"1.1\" viewBox=\"0 0 221.68 86.785641\" width=\"166px\" x=\"233.5\" y=\"-389.5\">\n <defs>\n  <style type=\"text/css\">\n*{stroke-linecap:butt;stroke-linejoin:round;}\n  </style>\n </defs>\n <g id=\"figure_1\">\n  <g id=\"patch_1\">\n   <path d=\"M 0 86.785641  L 221.68 86.785641  L 221.68 0  L 0 0  z \" style=\"fill:#ffffff;\" />\n  </g>\n  <g id=\"axes_1\">\n   <g id=\"patch_2\">\n    <path d=\"M 37.54 56.095641  L 221.68 56.095641  L 221.68 0.386562  L 37.54 0.386562  z \" style=\"fill:#ffffff;\" />\n   </g>\n   <g id=\"patch_3\">\n    <path clip-path=\"url(#pe36222dc5e)\" d=\"M 37.54 56.095641  L 49.231429 56.095641  L 49.231429 56.095641  L 37.54 56.095641  z \" style=\"fill:#fefebb;stroke:#444443;stroke-linejoin:miter;stroke-width:0.5;\" />\n   </g>\n   <g id=\"patch_4\">\n    <path clip-path=\"url(#pe36222dc5e)\" d=\"M 49.231429 56.095641  L 60.922857 56.095641  L 60.922857 56.095641  L 49.231429 56.095641  z \" style=\"fill:#fefebb;stroke:#444443;stroke-linejoin:miter;stroke-width:0.5;\" />\n   </g>\n   <g id=\"patch_5\">\n    <path clip-path=\"url(#pe36222dc5e)\" d=\"M 60.922857 56.095641  L 72.614286 56.095641  L 72.614286 56.095641  L 60.922857 56.095641  z \" style=\"fill:#fefebb;stroke:#444443;stroke-linejoin:miter;stroke-width:0.5;\" />\n   </g>\n   <g id=\"patch_6\">\n    <path clip-path=\"url(#pe36222dc5e)\" d=\"M 72.614286 56.095641  L 84.305714 56.095641  L 84.305714 56.095641  L 72.614286 56.095641  z \" style=\"fill:#fefebb;stroke:#444443;stroke-linejoin:miter;stroke-width:0.5;\" />\n   </g>\n   <g id=\"patch_7\">\n    <path clip-path=\"url(#pe36222dc5e)\" d=\"M 84.305714 56.095641  L 95.997143 56.095641  L 95.997143 56.095641  L 84.305714 56.095641  z \" style=\"fill:#fefebb;stroke:#444443;stroke-linejoin:miter;stroke-width:0.5;\" />\n   </g>\n   <g id=\"patch_8\">\n    <path clip-path=\"url(#pe36222dc5e)\" d=\"M 95.997143 56.095641  L 107.688571 56.095641  L 107.688571 56.095641  L 95.997143 56.095641  z \" style=\"fill:#fefebb;stroke:#444443;stroke-linejoin:miter;stroke-width:0.5;\" />\n   </g>\n   <g id=\"patch_9\">\n    <path clip-path=\"url(#pe36222dc5e)\" d=\"M 107.688571 56.095641  L 119.38 56.095641  L 119.38 56.095641  L 107.688571 56.095641  z \" style=\"fill:#fefebb;stroke:#444443;stroke-linejoin:miter;stroke-width:0.5;\" />\n   </g>\n   <g id=\"patch_10\">\n    <path clip-path=\"url(#pe36222dc5e)\" d=\"M 119.38 56.095641  L 131.071429 56.095641  L 131.071429 56.095641  L 119.38 56.095641  z \" style=\"fill:#fefebb;stroke:#444443;stroke-linejoin:miter;stroke-width:0.5;\" />\n   </g>\n   <g id=\"patch_11\">\n    <path clip-path=\"url(#pe36222dc5e)\" d=\"M 131.071429 56.095641  L 142.762857 56.095641  L 142.762857 56.095641  L 131.071429 56.095641  z \" style=\"fill:#fefebb;stroke:#444443;stroke-linejoin:miter;stroke-width:0.5;\" />\n   </g>\n   <g id=\"patch_12\">\n    <path clip-path=\"url(#pe36222dc5e)\" d=\"M 142.762857 56.095641  L 154.454286 56.095641  L 154.454286 56.095641  L 142.762857 56.095641  z \" style=\"fill:#fefebb;stroke:#444443;stroke-linejoin:miter;stroke-width:0.5;\" />\n   </g>\n   <g id=\"patch_13\">\n    <path clip-path=\"url(#pe36222dc5e)\" d=\"M 154.454286 56.095641  L 166.145714 56.095641  L 166.145714 56.095641  L 154.454286 56.095641  z \" style=\"fill:#fefebb;stroke:#444443;stroke-linejoin:miter;stroke-width:0.5;\" />\n   </g>\n   <g id=\"patch_14\">\n    <path clip-path=\"url(#pe36222dc5e)\" d=\"M 166.145714 56.095641  L 177.837143 56.095641  L 177.837143 56.095641  L 166.145714 56.095641  z \" style=\"fill:#fefebb;stroke:#444443;stroke-linejoin:miter;stroke-width:0.5;\" />\n   </g>\n   <g id=\"patch_15\">\n    <path clip-path=\"url(#pe36222dc5e)\" d=\"M 177.837143 56.095641  L 189.528571 56.095641  L 189.528571 56.095641  L 177.837143 56.095641  z \" style=\"fill:#fefebb;stroke:#444443;stroke-linejoin:miter;stroke-width:0.5;\" />\n   </g>\n   <g id=\"patch_16\">\n    <path clip-path=\"url(#pe36222dc5e)\" d=\"M 189.528571 56.095641  L 201.22 56.095641  L 201.22 56.095641  L 189.528571 56.095641  z \" style=\"fill:#fefebb;stroke:#444443;stroke-linejoin:miter;stroke-width:0.5;\" />\n   </g>\n   <g id=\"patch_17\">\n    <path clip-path=\"url(#pe36222dc5e)\" d=\"M 201.22 56.095641  L 212.911429 56.095641  L 212.911429 56.095641  L 201.22 56.095641  z \" style=\"fill:#fefebb;stroke:#444443;stroke-linejoin:miter;stroke-width:0.5;\" />\n   </g>\n   <g id=\"patch_18\">\n    <path clip-path=\"url(#pe36222dc5e)\" d=\"M 37.54 56.095641  L 49.231429 56.095641  L 49.231429 3.318541  L 37.54 3.318541  z \" style=\"fill:#d9e6f5;stroke:#444443;stroke-linejoin:miter;stroke-width:0.5;\" />\n   </g>\n   <g id=\"patch_19\">\n    <path clip-path=\"url(#pe36222dc5e)\" d=\"M 49.231429 56.095641  L 60.922857 56.095641  L 60.922857 56.095641  L 49.231429 56.095641  z \" style=\"fill:#d9e6f5;stroke:#444443;stroke-linejoin:miter;stroke-width:0.5;\" />\n   </g>\n   <g id=\"patch_20\">\n    <path clip-path=\"url(#pe36222dc5e)\" d=\"M 60.922857 56.095641  L 72.614286 56.095641  L 72.614286 56.095641  L 60.922857 56.095641  z \" style=\"fill:#d9e6f5;stroke:#444443;stroke-linejoin:miter;stroke-width:0.5;\" />\n   </g>\n   <g id=\"patch_21\">\n    <path clip-path=\"url(#pe36222dc5e)\" d=\"M 72.614286 56.095641  L 84.305714 56.095641  L 84.305714 56.095641  L 72.614286 56.095641  z \" style=\"fill:#d9e6f5;stroke:#444443;stroke-linejoin:miter;stroke-width:0.5;\" />\n   </g>\n   <g id=\"patch_22\">\n    <path clip-path=\"url(#pe36222dc5e)\" d=\"M 84.305714 56.095641  L 95.997143 56.095641  L 95.997143 56.095641  L 84.305714 56.095641  z \" style=\"fill:#d9e6f5;stroke:#444443;stroke-linejoin:miter;stroke-width:0.5;\" />\n   </g>\n   <g id=\"patch_23\">\n    <path clip-path=\"url(#pe36222dc5e)\" d=\"M 95.997143 56.095641  L 107.688571 56.095641  L 107.688571 56.095641  L 95.997143 56.095641  z \" style=\"fill:#d9e6f5;stroke:#444443;stroke-linejoin:miter;stroke-width:0.5;\" />\n   </g>\n   <g id=\"patch_24\">\n    <path clip-path=\"url(#pe36222dc5e)\" d=\"M 107.688571 56.095641  L 119.38 56.095641  L 119.38 56.095641  L 107.688571 56.095641  z \" style=\"fill:#d9e6f5;stroke:#444443;stroke-linejoin:miter;stroke-width:0.5;\" />\n   </g>\n   <g id=\"patch_25\">\n    <path clip-path=\"url(#pe36222dc5e)\" d=\"M 119.38 56.095641  L 131.071429 56.095641  L 131.071429 56.095641  L 119.38 56.095641  z \" style=\"fill:#d9e6f5;stroke:#444443;stroke-linejoin:miter;stroke-width:0.5;\" />\n   </g>\n   <g id=\"patch_26\">\n    <path clip-path=\"url(#pe36222dc5e)\" d=\"M 131.071429 56.095641  L 142.762857 56.095641  L 142.762857 56.095641  L 131.071429 56.095641  z \" style=\"fill:#d9e6f5;stroke:#444443;stroke-linejoin:miter;stroke-width:0.5;\" />\n   </g>\n   <g id=\"patch_27\">\n    <path clip-path=\"url(#pe36222dc5e)\" d=\"M 142.762857 56.095641  L 154.454286 56.095641  L 154.454286 56.095641  L 142.762857 56.095641  z \" style=\"fill:#d9e6f5;stroke:#444443;stroke-linejoin:miter;stroke-width:0.5;\" />\n   </g>\n   <g id=\"patch_28\">\n    <path clip-path=\"url(#pe36222dc5e)\" d=\"M 154.454286 56.095641  L 166.145714 56.095641  L 166.145714 56.095641  L 154.454286 56.095641  z \" style=\"fill:#d9e6f5;stroke:#444443;stroke-linejoin:miter;stroke-width:0.5;\" />\n   </g>\n   <g id=\"patch_29\">\n    <path clip-path=\"url(#pe36222dc5e)\" d=\"M 166.145714 56.095641  L 177.837143 56.095641  L 177.837143 56.095641  L 166.145714 56.095641  z \" style=\"fill:#d9e6f5;stroke:#444443;stroke-linejoin:miter;stroke-width:0.5;\" />\n   </g>\n   <g id=\"patch_30\">\n    <path clip-path=\"url(#pe36222dc5e)\" d=\"M 177.837143 56.095641  L 189.528571 56.095641  L 189.528571 56.095641  L 177.837143 56.095641  z \" style=\"fill:#d9e6f5;stroke:#444443;stroke-linejoin:miter;stroke-width:0.5;\" />\n   </g>\n   <g id=\"patch_31\">\n    <path clip-path=\"url(#pe36222dc5e)\" d=\"M 189.528571 56.095641  L 201.22 56.095641  L 201.22 56.095641  L 189.528571 56.095641  z \" style=\"fill:#d9e6f5;stroke:#444443;stroke-linejoin:miter;stroke-width:0.5;\" />\n   </g>\n   <g id=\"patch_32\">\n    <path clip-path=\"url(#pe36222dc5e)\" d=\"M 201.22 56.095641  L 212.911429 56.095641  L 212.911429 54.335275  L 201.22 54.335275  z \" style=\"fill:#d9e6f5;stroke:#444443;stroke-linejoin:miter;stroke-width:0.5;\" />\n   </g>\n   <g id=\"patch_33\">\n    <path clip-path=\"url(#pe36222dc5e)\" d=\"M 37.54 3.318541  L 49.231429 3.318541  L 49.231429 3.123807  L 37.54 3.123807  z \" style=\"fill:#a1dab4;stroke:#444443;stroke-linejoin:miter;stroke-width:0.5;\" />\n   </g>\n   <g id=\"patch_34\">\n    <path clip-path=\"url(#pe36222dc5e)\" d=\"M 49.231429 56.095641  L 60.922857 56.095641  L 60.922857 56.095641  L 49.231429 56.095641  z \" style=\"fill:#a1dab4;stroke:#444443;stroke-linejoin:miter;stroke-width:0.5;\" />\n   </g>\n   <g id=\"patch_35\">\n    <path clip-path=\"url(#pe36222dc5e)\" d=\"M 60.922857 56.095641  L 72.614286 56.095641  L 72.614286 56.095641  L 60.922857 56.095641  z \" style=\"fill:#a1dab4;stroke:#444443;stroke-linejoin:miter;stroke-width:0.5;\" />\n   </g>\n   <g id=\"patch_36\">\n    <path clip-path=\"url(#pe36222dc5e)\" d=\"M 72.614286 56.095641  L 84.305714 56.095641  L 84.305714 56.095641  L 72.614286 56.095641  z \" style=\"fill:#a1dab4;stroke:#444443;stroke-linejoin:miter;stroke-width:0.5;\" />\n   </g>\n   <g id=\"patch_37\">\n    <path clip-path=\"url(#pe36222dc5e)\" d=\"M 84.305714 56.095641  L 95.997143 56.095641  L 95.997143 56.095641  L 84.305714 56.095641  z \" style=\"fill:#a1dab4;stroke:#444443;stroke-linejoin:miter;stroke-width:0.5;\" />\n   </g>\n   <g id=\"patch_38\">\n    <path clip-path=\"url(#pe36222dc5e)\" d=\"M 95.997143 56.095641  L 107.688571 56.095641  L 107.688571 56.095641  L 95.997143 56.095641  z \" style=\"fill:#a1dab4;stroke:#444443;stroke-linejoin:miter;stroke-width:0.5;\" />\n   </g>\n   <g id=\"patch_39\">\n    <path clip-path=\"url(#pe36222dc5e)\" d=\"M 107.688571 56.095641  L 119.38 56.095641  L 119.38 56.095641  L 107.688571 56.095641  z \" style=\"fill:#a1dab4;stroke:#444443;stroke-linejoin:miter;stroke-width:0.5;\" />\n   </g>\n   <g id=\"patch_40\">\n    <path clip-path=\"url(#pe36222dc5e)\" d=\"M 119.38 56.095641  L 131.071429 56.095641  L 131.071429 56.095641  L 119.38 56.095641  z \" style=\"fill:#a1dab4;stroke:#444443;stroke-linejoin:miter;stroke-width:0.5;\" />\n   </g>\n   <g id=\"patch_41\">\n    <path clip-path=\"url(#pe36222dc5e)\" d=\"M 131.071429 56.095641  L 142.762857 56.095641  L 142.762857 56.095641  L 131.071429 56.095641  z \" style=\"fill:#a1dab4;stroke:#444443;stroke-linejoin:miter;stroke-width:0.5;\" />\n   </g>\n   <g id=\"patch_42\">\n    <path clip-path=\"url(#pe36222dc5e)\" d=\"M 142.762857 56.095641  L 154.454286 56.095641  L 154.454286 56.095641  L 142.762857 56.095641  z \" style=\"fill:#a1dab4;stroke:#444443;stroke-linejoin:miter;stroke-width:0.5;\" />\n   </g>\n   <g id=\"patch_43\">\n    <path clip-path=\"url(#pe36222dc5e)\" d=\"M 154.454286 56.095641  L 166.145714 56.095641  L 166.145714 56.095641  L 154.454286 56.095641  z \" style=\"fill:#a1dab4;stroke:#444443;stroke-linejoin:miter;stroke-width:0.5;\" />\n   </g>\n   <g id=\"patch_44\">\n    <path clip-path=\"url(#pe36222dc5e)\" d=\"M 166.145714 56.095641  L 177.837143 56.095641  L 177.837143 56.095641  L 166.145714 56.095641  z \" style=\"fill:#a1dab4;stroke:#444443;stroke-linejoin:miter;stroke-width:0.5;\" />\n   </g>\n   <g id=\"patch_45\">\n    <path clip-path=\"url(#pe36222dc5e)\" d=\"M 177.837143 56.095641  L 189.528571 56.095641  L 189.528571 56.095641  L 177.837143 56.095641  z \" style=\"fill:#a1dab4;stroke:#444443;stroke-linejoin:miter;stroke-width:0.5;\" />\n   </g>\n   <g id=\"patch_46\">\n    <path clip-path=\"url(#pe36222dc5e)\" d=\"M 189.528571 56.095641  L 201.22 56.095641  L 201.22 56.095641  L 189.528571 56.095641  z \" style=\"fill:#a1dab4;stroke:#444443;stroke-linejoin:miter;stroke-width:0.5;\" />\n   </g>\n   <g id=\"patch_47\">\n    <path clip-path=\"url(#pe36222dc5e)\" d=\"M 201.22 54.335275  L 212.911429 54.335275  L 212.911429 43.351629  L 201.22 43.351629  z \" style=\"fill:#a1dab4;stroke:#444443;stroke-linejoin:miter;stroke-width:0.5;\" />\n   </g>\n   <g id=\"patch_48\">\n    <path clip-path=\"url(#pe36222dc5e)\" d=\"M 37.54 3.123807  L 49.231429 3.123807  L 49.231429 3.039375  L 37.54 3.039375  z \" style=\"fill:#fee090;stroke:#444443;stroke-linejoin:miter;stroke-width:0.5;\" />\n   </g>\n   <g id=\"patch_49\">\n    <path clip-path=\"url(#pe36222dc5e)\" d=\"M 49.231429 56.095641  L 60.922857 56.095641  L 60.922857 56.095641  L 49.231429 56.095641  z \" style=\"fill:#fee090;stroke:#444443;stroke-linejoin:miter;stroke-width:0.5;\" />\n   </g>\n   <g id=\"patch_50\">\n    <path clip-path=\"url(#pe36222dc5e)\" d=\"M 60.922857 56.095641  L 72.614286 56.095641  L 72.614286 56.095641  L 60.922857 56.095641  z \" style=\"fill:#fee090;stroke:#444443;stroke-linejoin:miter;stroke-width:0.5;\" />\n   </g>\n   <g id=\"patch_51\">\n    <path clip-path=\"url(#pe36222dc5e)\" d=\"M 72.614286 56.095641  L 84.305714 56.095641  L 84.305714 56.095641  L 72.614286 56.095641  z \" style=\"fill:#fee090;stroke:#444443;stroke-linejoin:miter;stroke-width:0.5;\" />\n   </g>\n   <g id=\"patch_52\">\n    <path clip-path=\"url(#pe36222dc5e)\" d=\"M 84.305714 56.095641  L 95.997143 56.095641  L 95.997143 56.095641  L 84.305714 56.095641  z \" style=\"fill:#fee090;stroke:#444443;stroke-linejoin:miter;stroke-width:0.5;\" />\n   </g>\n   <g id=\"patch_53\">\n    <path clip-path=\"url(#pe36222dc5e)\" d=\"M 95.997143 56.095641  L 107.688571 56.095641  L 107.688571 56.095641  L 95.997143 56.095641  z \" style=\"fill:#fee090;stroke:#444443;stroke-linejoin:miter;stroke-width:0.5;\" />\n   </g>\n   <g id=\"patch_54\">\n    <path clip-path=\"url(#pe36222dc5e)\" d=\"M 107.688571 56.095641  L 119.38 56.095641  L 119.38 56.095641  L 107.688571 56.095641  z \" style=\"fill:#fee090;stroke:#444443;stroke-linejoin:miter;stroke-width:0.5;\" />\n   </g>\n   <g id=\"patch_55\">\n    <path clip-path=\"url(#pe36222dc5e)\" d=\"M 119.38 56.095641  L 131.071429 56.095641  L 131.071429 56.095641  L 119.38 56.095641  z \" style=\"fill:#fee090;stroke:#444443;stroke-linejoin:miter;stroke-width:0.5;\" />\n   </g>\n   <g id=\"patch_56\">\n    <path clip-path=\"url(#pe36222dc5e)\" d=\"M 131.071429 56.095641  L 142.762857 56.095641  L 142.762857 56.095641  L 131.071429 56.095641  z \" style=\"fill:#fee090;stroke:#444443;stroke-linejoin:miter;stroke-width:0.5;\" />\n   </g>\n   <g id=\"patch_57\">\n    <path clip-path=\"url(#pe36222dc5e)\" d=\"M 142.762857 56.095641  L 154.454286 56.095641  L 154.454286 56.095641  L 142.762857 56.095641  z \" style=\"fill:#fee090;stroke:#444443;stroke-linejoin:miter;stroke-width:0.5;\" />\n   </g>\n   <g id=\"patch_58\">\n    <path clip-path=\"url(#pe36222dc5e)\" d=\"M 154.454286 56.095641  L 166.145714 56.095641  L 166.145714 56.095641  L 154.454286 56.095641  z \" style=\"fill:#fee090;stroke:#444443;stroke-linejoin:miter;stroke-width:0.5;\" />\n   </g>\n   <g id=\"patch_59\">\n    <path clip-path=\"url(#pe36222dc5e)\" d=\"M 166.145714 56.095641  L 177.837143 56.095641  L 177.837143 56.095641  L 166.145714 56.095641  z \" style=\"fill:#fee090;stroke:#444443;stroke-linejoin:miter;stroke-width:0.5;\" />\n   </g>\n   <g id=\"patch_60\">\n    <path clip-path=\"url(#pe36222dc5e)\" d=\"M 177.837143 56.095641  L 189.528571 56.095641  L 189.528571 56.095641  L 177.837143 56.095641  z \" style=\"fill:#fee090;stroke:#444443;stroke-linejoin:miter;stroke-width:0.5;\" />\n   </g>\n   <g id=\"patch_61\">\n    <path clip-path=\"url(#pe36222dc5e)\" d=\"M 189.528571 56.095641  L 201.22 56.095641  L 201.22 56.095641  L 189.528571 56.095641  z \" style=\"fill:#fee090;stroke:#444443;stroke-linejoin:miter;stroke-width:0.5;\" />\n   </g>\n   <g id=\"patch_62\">\n    <path clip-path=\"url(#pe36222dc5e)\" d=\"M 201.22 43.351629  L 212.911429 43.351629  L 212.911429 43.339399  L 201.22 43.339399  z \" style=\"fill:#fee090;stroke:#444443;stroke-linejoin:miter;stroke-width:0.5;\" />\n   </g>\n   <g id=\"patch_63\">\n    <path d=\"M 125.225714 56.911041  L 121.911194 64.249641  L 128.540234 64.249641  z \" style=\"fill:#444443;\" />\n   </g>\n   <g id=\"matplotlib.axis_1\">\n    <g id=\"xtick_1\">\n     <g id=\"line2d_1\">\n      <defs>\n       <path d=\"M 0 0  L 0 3.5  \" id=\"m95839e9401\" style=\"stroke:#000000;stroke-width:0.3;\" />\n      </defs>\n      <g>\n       <use style=\"stroke:#000000;stroke-width:0.3;\" x=\"37.54\" y=\"56.095641\" xlink:href=\"#m95839e9401\" />\n      </g>\n     </g>\n     <g id=\"text_1\">\n      \n      <defs>\n       <path d=\"M 31.78125 66.40625  Q 24.171875 66.40625 20.328125 58.90625  Q 16.5 51.421875 16.5 36.375  Q 16.5 21.390625 20.328125 13.890625  Q 24.171875 6.390625 31.78125 6.390625  Q 39.453125 6.390625 43.28125 13.890625  Q 47.125 21.390625 47.125 36.375  Q 47.125 51.421875 43.28125 58.90625  Q 39.453125 66.40625 31.78125 66.40625  z M 31.78125 74.21875  Q 44.046875 74.21875 50.515625 64.515625  Q 56.984375 54.828125 56.984375 36.375  Q 56.984375 17.96875 50.515625 8.265625  Q 44.046875 -1.421875 31.78125 -1.421875  Q 19.53125 -1.421875 13.0625 8.265625  Q 6.59375 17.96875 6.59375 36.375  Q 6.59375 54.828125 13.0625 64.515625  Q 19.53125 74.21875 31.78125 74.21875  z \" id=\"DejaVuSans-48\" />\n      </defs>\n      <g style=\"fill:#444443;\" transform=\"translate(34.995 69.174391)scale(0.08 -0.08)\">\n       <use xlink:href=\"#DejaVuSans-48\" />\n      </g>\n     </g>\n    </g>\n    <g id=\"xtick_2\">\n     <g id=\"line2d_2\">\n      <g>\n       <use style=\"stroke:#000000;stroke-width:0.3;\" x=\"212.911429\" y=\"56.095641\" xlink:href=\"#m95839e9401\" />\n      </g>\n     </g>\n     <g id=\"text_2\">\n      \n      <defs>\n       <path d=\"M 12.40625 8.296875  L 28.515625 8.296875  L 28.515625 63.921875  L 10.984375 60.40625  L 10.984375 69.390625  L 28.421875 72.90625  L 38.28125 72.90625  L 38.28125 8.296875  L 54.390625 8.296875  L 54.390625 0  L 12.40625 0  z \" id=\"DejaVuSans-49\" />\n      </defs>\n      <g style=\"fill:#444443;\" transform=\"translate(210.366429 69.174391)scale(0.08 -0.08)\">\n       <use xlink:href=\"#DejaVuSans-49\" />\n      </g>\n     </g>\n    </g>\n    <g id=\"text_3\">\n     \n     <defs>\n      <path d=\"M 9.421875 54.6875  L 18.40625 54.6875  L 18.40625 0  L 9.421875 0  z M 9.421875 75.984375  L 18.40625 75.984375  L 18.40625 64.59375  L 9.421875 64.59375  z \" id=\"DejaVuSans-105\" />\n      <path d=\"M 54.890625 33.015625  L 54.890625 0  L 45.90625 0  L 45.90625 32.71875  Q 45.90625 40.484375 42.875 44.328125  Q 39.84375 48.1875 33.796875 48.1875  Q 26.515625 48.1875 22.3125 43.546875  Q 18.109375 38.921875 18.109375 30.90625  L 18.109375 0  L 9.078125 0  L 9.078125 54.6875  L 18.109375 54.6875  L 18.109375 46.1875  Q 21.34375 51.125 25.703125 53.5625  Q 30.078125 56 35.796875 56  Q 45.21875 56 50.046875 50.171875  Q 54.890625 44.34375 54.890625 33.015625  z \" id=\"DejaVuSans-110\" />\n      <path d=\"M 45.40625 46.390625  L 45.40625 75.984375  L 54.390625 75.984375  L 54.390625 0  L 45.40625 0  L 45.40625 8.203125  Q 42.578125 3.328125 38.25 0.953125  Q 33.9375 -1.421875 27.875 -1.421875  Q 17.96875 -1.421875 11.734375 6.484375  Q 5.515625 14.40625 5.515625 27.296875  Q 5.515625 40.1875 11.734375 48.09375  Q 17.96875 56 27.875 56  Q 33.9375 56 38.25 53.625  Q 42.578125 51.265625 45.40625 46.390625  z M 14.796875 27.296875  Q 14.796875 17.390625 18.875 11.75  Q 22.953125 6.109375 30.078125 6.109375  Q 37.203125 6.109375 41.296875 11.75  Q 45.40625 17.390625 45.40625 27.296875  Q 45.40625 37.203125 41.296875 42.84375  Q 37.203125 48.484375 30.078125 48.484375  Q 22.953125 48.484375 18.875 42.84375  Q 14.796875 37.203125 14.796875 27.296875  z \" id=\"DejaVuSans-100\" />\n      <path d=\"M 50.984375 -16.609375  L 50.984375 -23.578125  L -0.984375 -23.578125  L -0.984375 -16.609375  z \" id=\"DejaVuSans-95\" />\n      <path d=\"M 48.78125 52.59375  L 48.78125 44.1875  Q 44.96875 46.296875 41.140625 47.34375  Q 37.3125 48.390625 33.40625 48.390625  Q 24.65625 48.390625 19.8125 42.84375  Q 14.984375 37.3125 14.984375 27.296875  Q 14.984375 17.28125 19.8125 11.734375  Q 24.65625 6.203125 33.40625 6.203125  Q 37.3125 6.203125 41.140625 7.25  Q 44.96875 8.296875 48.78125 10.40625  L 48.78125 2.09375  Q 45.015625 0.34375 40.984375 -0.53125  Q 36.96875 -1.421875 32.421875 -1.421875  Q 20.0625 -1.421875 12.78125 6.34375  Q 5.515625 14.109375 5.515625 27.296875  Q 5.515625 40.671875 12.859375 48.328125  Q 20.21875 56 33.015625 56  Q 37.15625 56 41.109375 55.140625  Q 45.0625 54.296875 48.78125 52.59375  z \" id=\"DejaVuSans-99\" />\n      <path d=\"M 30.609375 48.390625  Q 23.390625 48.390625 19.1875 42.75  Q 14.984375 37.109375 14.984375 27.296875  Q 14.984375 17.484375 19.15625 11.84375  Q 23.34375 6.203125 30.609375 6.203125  Q 37.796875 6.203125 41.984375 11.859375  Q 46.1875 17.53125 46.1875 27.296875  Q 46.1875 37.015625 41.984375 42.703125  Q 37.796875 48.390625 30.609375 48.390625  z M 30.609375 56  Q 42.328125 56 49.015625 48.375  Q 55.71875 40.765625 55.71875 27.296875  Q 55.71875 13.875 49.015625 6.21875  Q 42.328125 -1.421875 30.609375 -1.421875  Q 18.84375 -1.421875 12.171875 6.21875  Q 5.515625 13.875 5.515625 27.296875  Q 5.515625 40.765625 12.171875 48.375  Q 18.84375 56 30.609375 56  z \" id=\"DejaVuSans-111\" />\n      <path d=\"M 37.109375 75.984375  L 37.109375 68.5  L 28.515625 68.5  Q 23.6875 68.5 21.796875 66.546875  Q 19.921875 64.59375 19.921875 59.515625  L 19.921875 54.6875  L 34.71875 54.6875  L 34.71875 47.703125  L 19.921875 47.703125  L 19.921875 0  L 10.890625 0  L 10.890625 47.703125  L 2.296875 47.703125  L 2.296875 54.6875  L 10.890625 54.6875  L 10.890625 58.5  Q 10.890625 67.625 15.140625 71.796875  Q 19.390625 75.984375 28.609375 75.984375  z \" id=\"DejaVuSans-102\" />\n      <path d=\"M 8.5 21.578125  L 8.5 54.6875  L 17.484375 54.6875  L 17.484375 21.921875  Q 17.484375 14.15625 20.5 10.265625  Q 23.53125 6.390625 29.59375 6.390625  Q 36.859375 6.390625 41.078125 11.03125  Q 45.3125 15.671875 45.3125 23.6875  L 45.3125 54.6875  L 54.296875 54.6875  L 54.296875 0  L 45.3125 0  L 45.3125 8.40625  Q 42.046875 3.421875 37.71875 1  Q 33.40625 -1.421875 27.6875 -1.421875  Q 18.265625 -1.421875 13.375 4.4375  Q 8.5 10.296875 8.5 21.578125  z M 31.109375 56  z \" id=\"DejaVuSans-117\" />\n      <path d=\"M 9.421875 75.984375  L 18.40625 75.984375  L 18.40625 0  L 9.421875 0  z \" id=\"DejaVuSans-108\" />\n      <path d=\"M 18.3125 70.21875  L 18.3125 54.6875  L 36.8125 54.6875  L 36.8125 47.703125  L 18.3125 47.703125  L 18.3125 18.015625  Q 18.3125 11.328125 20.140625 9.421875  Q 21.96875 7.515625 27.59375 7.515625  L 36.8125 7.515625  L 36.8125 0  L 27.59375 0  Q 17.1875 0 13.234375 3.875  Q 9.28125 7.765625 9.28125 18.015625  L 9.28125 47.703125  L 2.6875 47.703125  L 2.6875 54.6875  L 9.28125 54.6875  L 9.28125 70.21875  z \" id=\"DejaVuSans-116\" />\n     </defs>\n     <g style=\"fill:#444443;\" transform=\"translate(81.338125 83.956266)scale(0.12 -0.12)\">\n      <use xlink:href=\"#DejaVuSans-105\" />\n      <use x=\"27.783203\" xlink:href=\"#DejaVuSans-110\" />\n      <use x=\"91.162109\" xlink:href=\"#DejaVuSans-100\" />\n      <use x=\"154.638672\" xlink:href=\"#DejaVuSans-95\" />\n      <use x=\"204.638672\" xlink:href=\"#DejaVuSans-99\" />\n      <use x=\"259.619141\" xlink:href=\"#DejaVuSans-110\" />\n      <use x=\"322.998047\" xlink:href=\"#DejaVuSans-111\" />\n      <use x=\"384.179688\" xlink:href=\"#DejaVuSans-95\" />\n      <use x=\"434.179688\" xlink:href=\"#DejaVuSans-102\" />\n      <use x=\"469.384766\" xlink:href=\"#DejaVuSans-105\" />\n      <use x=\"497.167969\" xlink:href=\"#DejaVuSans-110\" />\n      <use x=\"560.546875\" xlink:href=\"#DejaVuSans-95\" />\n      <use x=\"610.546875\" xlink:href=\"#DejaVuSans-117\" />\n      <use x=\"673.925781\" xlink:href=\"#DejaVuSans-108\" />\n      <use x=\"701.708984\" xlink:href=\"#DejaVuSans-116\" />\n      <use x=\"740.917969\" xlink:href=\"#DejaVuSans-49\" />\n     </g>\n    </g>\n   </g>\n   <g id=\"matplotlib.axis_2\">\n    <g id=\"ytick_1\">\n     <g id=\"line2d_3\">\n      <defs>\n       <path d=\"M 0 0  L -3.5 0  \" id=\"m1fb370521e\" style=\"stroke:#000000;stroke-width:0.3;\" />\n      </defs>\n      <g>\n       <use style=\"stroke:#000000;stroke-width:0.3;\" x=\"37.54\" y=\"56.095641\" xlink:href=\"#m1fb370521e\" />\n      </g>\n     </g>\n     <g id=\"text_4\">\n      \n      <g style=\"fill:#444443;\" transform=\"translate(25.45 59.135016)scale(0.08 -0.08)\">\n       <use xlink:href=\"#DejaVuSans-48\" />\n      </g>\n     </g>\n    </g>\n    <g id=\"ytick_2\">\n     <g id=\"line2d_4\">\n      <g>\n       <use style=\"stroke:#000000;stroke-width:0.3;\" x=\"37.54\" y=\"3.039375\" xlink:href=\"#m1fb370521e\" />\n      </g>\n     </g>\n     <g id=\"text_5\">\n      \n      <defs>\n       <path d=\"M 19.1875 8.296875  L 53.609375 8.296875  L 53.609375 0  L 7.328125 0  L 7.328125 8.296875  Q 12.9375 14.109375 22.625 23.890625  Q 32.328125 33.6875 34.8125 36.53125  Q 39.546875 41.84375 41.421875 45.53125  Q 43.3125 49.21875 43.3125 52.78125  Q 43.3125 58.59375 39.234375 62.25  Q 35.15625 65.921875 28.609375 65.921875  Q 23.96875 65.921875 18.8125 64.3125  Q 13.671875 62.703125 7.8125 59.421875  L 7.8125 69.390625  Q 13.765625 71.78125 18.9375 73  Q 24.125 74.21875 28.421875 74.21875  Q 39.75 74.21875 46.484375 68.546875  Q 53.21875 62.890625 53.21875 53.421875  Q 53.21875 48.921875 51.53125 44.890625  Q 49.859375 40.875 45.40625 35.40625  Q 44.1875 33.984375 37.640625 27.21875  Q 31.109375 20.453125 19.1875 8.296875  z \" id=\"DejaVuSans-50\" />\n       <path d=\"M 10.796875 72.90625  L 49.515625 72.90625  L 49.515625 64.59375  L 19.828125 64.59375  L 19.828125 46.734375  Q 21.96875 47.46875 24.109375 47.828125  Q 26.265625 48.1875 28.421875 48.1875  Q 40.625 48.1875 47.75 41.5  Q 54.890625 34.8125 54.890625 23.390625  Q 54.890625 11.625 47.5625 5.09375  Q 40.234375 -1.421875 26.90625 -1.421875  Q 22.3125 -1.421875 17.546875 -0.640625  Q 12.796875 0.140625 7.71875 1.703125  L 7.71875 11.625  Q 12.109375 9.234375 16.796875 8.0625  Q 21.484375 6.890625 26.703125 6.890625  Q 35.15625 6.890625 40.078125 11.328125  Q 45.015625 15.765625 45.015625 23.390625  Q 45.015625 31 40.078125 35.4375  Q 35.15625 39.890625 26.703125 39.890625  Q 22.75 39.890625 18.8125 39.015625  Q 14.890625 38.140625 10.796875 36.28125  z \" id=\"DejaVuSans-53\" />\n       <path d=\"M 10.984375 1.515625  L 10.984375 10.5  Q 14.703125 8.734375 18.5 7.8125  Q 22.3125 6.890625 25.984375 6.890625  Q 35.75 6.890625 40.890625 13.453125  Q 46.046875 20.015625 46.78125 33.40625  Q 43.953125 29.203125 39.59375 26.953125  Q 35.25 24.703125 29.984375 24.703125  Q 19.046875 24.703125 12.671875 31.3125  Q 6.296875 37.9375 6.296875 49.421875  Q 6.296875 60.640625 12.9375 67.421875  Q 19.578125 74.21875 30.609375 74.21875  Q 43.265625 74.21875 49.921875 64.515625  Q 56.59375 54.828125 56.59375 36.375  Q 56.59375 19.140625 48.40625 8.859375  Q 40.234375 -1.421875 26.421875 -1.421875  Q 22.703125 -1.421875 18.890625 -0.6875  Q 15.09375 0.046875 10.984375 1.515625  z M 30.609375 32.421875  Q 37.25 32.421875 41.125 36.953125  Q 45.015625 41.5 45.015625 49.421875  Q 45.015625 57.28125 41.125 61.84375  Q 37.25 66.40625 30.609375 66.40625  Q 23.96875 66.40625 20.09375 61.84375  Q 16.21875 57.28125 16.21875 49.421875  Q 16.21875 41.5 20.09375 36.953125  Q 23.96875 32.421875 30.609375 32.421875  z \" id=\"DejaVuSans-57\" />\n       <path d=\"M 40.578125 39.3125  Q 47.65625 37.796875 51.625 33  Q 55.609375 28.21875 55.609375 21.1875  Q 55.609375 10.40625 48.1875 4.484375  Q 40.765625 -1.421875 27.09375 -1.421875  Q 22.515625 -1.421875 17.65625 -0.515625  Q 12.796875 0.390625 7.625 2.203125  L 7.625 11.71875  Q 11.71875 9.328125 16.59375 8.109375  Q 21.484375 6.890625 26.8125 6.890625  Q 36.078125 6.890625 40.9375 10.546875  Q 45.796875 14.203125 45.796875 21.1875  Q 45.796875 27.640625 41.28125 31.265625  Q 36.765625 34.90625 28.71875 34.90625  L 20.21875 34.90625  L 20.21875 43.015625  L 29.109375 43.015625  Q 36.375 43.015625 40.234375 45.921875  Q 44.09375 48.828125 44.09375 54.296875  Q 44.09375 59.90625 40.109375 62.90625  Q 36.140625 65.921875 28.71875 65.921875  Q 24.65625 65.921875 20.015625 65.03125  Q 15.375 64.15625 9.8125 62.3125  L 9.8125 71.09375  Q 15.4375 72.65625 20.34375 73.4375  Q 25.25 74.21875 29.59375 74.21875  Q 40.828125 74.21875 47.359375 69.109375  Q 53.90625 64.015625 53.90625 55.328125  Q 53.90625 49.265625 50.4375 45.09375  Q 46.96875 40.921875 40.578125 39.3125  z \" id=\"DejaVuSans-51\" />\n      </defs>\n      <g style=\"fill:#444443;\" transform=\"translate(0 6.07875)scale(0.08 -0.08)\">\n       <use xlink:href=\"#DejaVuSans-50\" />\n       <use x=\"63.623047\" xlink:href=\"#DejaVuSans-50\" />\n       <use x=\"127.246094\" xlink:href=\"#DejaVuSans-53\" />\n       <use x=\"190.869141\" xlink:href=\"#DejaVuSans-53\" />\n       <use x=\"254.492188\" xlink:href=\"#DejaVuSans-57\" />\n       <use x=\"318.115234\" xlink:href=\"#DejaVuSans-51\" />\n      </g>\n     </g>\n    </g>\n   </g>\n   <g id=\"patch_64\">\n    <path d=\"M 37.54 56.095641  L 37.54 0.386562  \" style=\"fill:none;stroke:#000000;stroke-linecap:square;stroke-linejoin:miter;stroke-width:0.3;\" />\n   </g>\n   <g id=\"patch_65\">\n    <path d=\"M 37.54 56.095641  L 221.68 56.095641  \" style=\"fill:none;stroke:#000000;stroke-linecap:square;stroke-linejoin:miter;stroke-width:0.3;\" />\n   </g>\n   <g id=\"text_6\">\n    \n    <defs>\n     <path d=\"M 10.6875 12.40625  L 21 12.40625  L 21 0  L 10.6875 0  z \" id=\"DejaVuSans-46\" />\n    </defs>\n    <g style=\"fill:#444443;\" transform=\"translate(116.319464 72.403641)scale(0.08 -0.08)\">\n     <use xlink:href=\"#DejaVuSans-48\" />\n     <use x=\"63.623047\" xlink:href=\"#DejaVuSans-46\" />\n     <use x=\"95.410156\" xlink:href=\"#DejaVuSans-53\" />\n     <use x=\"159.033203\" xlink:href=\"#DejaVuSans-48\" />\n    </g>\n   </g>\n  </g>\n </g>\n <defs>\n  <clipPath id=\"pe36222dc5e\">\n   <rect height=\"55.709079\" width=\"184.14\" x=\"37.54\" y=\"0.386562\" />\n  </clipPath>\n </defs>\n</svg></g>\n\n<g class=\"edge\" id=\"edge10\">\n<title>node1-&gt;node5</title>\n<path d=\"M249.8101,-320.8724C231.7301,-310.9424 212.102,-300.1622 193.8284,-290.1259\" fill=\"none\" stroke=\"#444443\" stroke-width=\".3\" />\n<polygon fill=\"#444443\" points=\"194.3725,-288.8276 190.1925,-288.1291 193.0246,-291.2818 194.3725,-288.8276\" stroke=\"#444443\" stroke-width=\".3\" />\n</g>\n\n<g class=\"edge\" id=\"edge11\">\n<title>node1-&gt;node6</title>\n<path d=\"M315.4592,-320.7238C315.1185,-308.6881 314.7429,-295.417 314.4125,-283.742\" fill=\"none\" stroke=\"#444443\" stroke-width=\".3\" />\n<polygon fill=\"#444443\" points=\"315.8057,-283.4769 314.293,-279.5182 313.0068,-283.5562 315.8057,-283.4769\" stroke=\"#444443\" stroke-width=\".3\" />\n</g>\n\n<g class=\"node\" id=\"node8\">\n<title>node2</title>\n<svg height=\"81px\" preserveAspectRatio=\"xMinYMin meet\" version=\"1.1\" viewBox=\"0 0 221.68 107.91298\" width=\"166px\" x=\"422.5\" y=\"-397.5\">\n <defs>\n  <style type=\"text/css\">\n*{stroke-linecap:butt;stroke-linejoin:round;}\n  </style>\n </defs>\n <g id=\"figure_1\">\n  <g id=\"patch_1\">\n   <path d=\"M 0 107.91298  L 221.68 107.91298  L 221.68 0  L 0 0  z \" style=\"fill:#ffffff;\" />\n  </g>\n  <g id=\"axes_1\">\n   <g id=\"patch_2\">\n    <path d=\"M 37.54 77.22298  L 221.68 77.22298  L 221.68 3.039375  L 37.54 3.039375  z \" style=\"fill:#ffffff;\" />\n   </g>\n   <g id=\"patch_3\">\n    <path clip-path=\"url(#pbb7165e724)\" d=\"M 37.54 77.22298  L 49.231429 77.22298  L 49.231429 4.132903  L 37.54 4.132903  z \" style=\"fill:#fefebb;stroke:#444443;stroke-linejoin:miter;stroke-width:0.5;\" />\n   </g>\n   <g id=\"patch_4\">\n    <path clip-path=\"url(#pbb7165e724)\" d=\"M 49.231429 77.22298  L 60.922857 77.22298  L 60.922857 77.22298  L 49.231429 77.22298  z \" style=\"fill:#fefebb;stroke:#444443;stroke-linejoin:miter;stroke-width:0.5;\" />\n   </g>\n   <g id=\"patch_5\">\n    <path clip-path=\"url(#pbb7165e724)\" d=\"M 60.922857 77.22298  L 72.614286 77.22298  L 72.614286 77.22298  L 60.922857 77.22298  z \" style=\"fill:#fefebb;stroke:#444443;stroke-linejoin:miter;stroke-width:0.5;\" />\n   </g>\n   <g id=\"patch_6\">\n    <path clip-path=\"url(#pbb7165e724)\" d=\"M 72.614286 77.22298  L 84.305714 77.22298  L 84.305714 77.22298  L 72.614286 77.22298  z \" style=\"fill:#fefebb;stroke:#444443;stroke-linejoin:miter;stroke-width:0.5;\" />\n   </g>\n   <g id=\"patch_7\">\n    <path clip-path=\"url(#pbb7165e724)\" d=\"M 84.305714 77.22298  L 95.997143 77.22298  L 95.997143 77.22298  L 84.305714 77.22298  z \" style=\"fill:#fefebb;stroke:#444443;stroke-linejoin:miter;stroke-width:0.5;\" />\n   </g>\n   <g id=\"patch_8\">\n    <path clip-path=\"url(#pbb7165e724)\" d=\"M 95.997143 77.22298  L 107.688571 77.22298  L 107.688571 77.22298  L 95.997143 77.22298  z \" style=\"fill:#fefebb;stroke:#444443;stroke-linejoin:miter;stroke-width:0.5;\" />\n   </g>\n   <g id=\"patch_9\">\n    <path clip-path=\"url(#pbb7165e724)\" d=\"M 107.688571 77.22298  L 119.38 77.22298  L 119.38 77.22298  L 107.688571 77.22298  z \" style=\"fill:#fefebb;stroke:#444443;stroke-linejoin:miter;stroke-width:0.5;\" />\n   </g>\n   <g id=\"patch_10\">\n    <path clip-path=\"url(#pbb7165e724)\" d=\"M 119.38 77.22298  L 131.071429 77.22298  L 131.071429 77.22298  L 119.38 77.22298  z \" style=\"fill:#fefebb;stroke:#444443;stroke-linejoin:miter;stroke-width:0.5;\" />\n   </g>\n   <g id=\"patch_11\">\n    <path clip-path=\"url(#pbb7165e724)\" d=\"M 131.071429 77.22298  L 142.762857 77.22298  L 142.762857 77.22298  L 131.071429 77.22298  z \" style=\"fill:#fefebb;stroke:#444443;stroke-linejoin:miter;stroke-width:0.5;\" />\n   </g>\n   <g id=\"patch_12\">\n    <path clip-path=\"url(#pbb7165e724)\" d=\"M 142.762857 77.22298  L 154.454286 77.22298  L 154.454286 77.22298  L 142.762857 77.22298  z \" style=\"fill:#fefebb;stroke:#444443;stroke-linejoin:miter;stroke-width:0.5;\" />\n   </g>\n   <g id=\"patch_13\">\n    <path clip-path=\"url(#pbb7165e724)\" d=\"M 154.454286 77.22298  L 166.145714 77.22298  L 166.145714 77.22298  L 154.454286 77.22298  z \" style=\"fill:#fefebb;stroke:#444443;stroke-linejoin:miter;stroke-width:0.5;\" />\n   </g>\n   <g id=\"patch_14\">\n    <path clip-path=\"url(#pbb7165e724)\" d=\"M 166.145714 77.22298  L 177.837143 77.22298  L 177.837143 77.22298  L 166.145714 77.22298  z \" style=\"fill:#fefebb;stroke:#444443;stroke-linejoin:miter;stroke-width:0.5;\" />\n   </g>\n   <g id=\"patch_15\">\n    <path clip-path=\"url(#pbb7165e724)\" d=\"M 177.837143 77.22298  L 189.528571 77.22298  L 189.528571 77.22298  L 177.837143 77.22298  z \" style=\"fill:#fefebb;stroke:#444443;stroke-linejoin:miter;stroke-width:0.5;\" />\n   </g>\n   <g id=\"patch_16\">\n    <path clip-path=\"url(#pbb7165e724)\" d=\"M 189.528571 77.22298  L 201.22 77.22298  L 201.22 77.22298  L 189.528571 77.22298  z \" style=\"fill:#fefebb;stroke:#444443;stroke-linejoin:miter;stroke-width:0.5;\" />\n   </g>\n   <g id=\"patch_17\">\n    <path clip-path=\"url(#pbb7165e724)\" d=\"M 201.22 77.22298  L 212.911429 77.22298  L 212.911429 77.22298  L 201.22 77.22298  z \" style=\"fill:#fefebb;stroke:#444443;stroke-linejoin:miter;stroke-width:0.5;\" />\n   </g>\n   <g id=\"patch_18\">\n    <path clip-path=\"url(#pbb7165e724)\" d=\"M 37.54 4.132903  L 49.231429 4.132903  L 49.231429 4.132903  L 37.54 4.132903  z \" style=\"fill:#d9e6f5;stroke:#444443;stroke-linejoin:miter;stroke-width:0.5;\" />\n   </g>\n   <g id=\"patch_19\">\n    <path clip-path=\"url(#pbb7165e724)\" d=\"M 49.231429 77.22298  L 60.922857 77.22298  L 60.922857 77.22298  L 49.231429 77.22298  z \" style=\"fill:#d9e6f5;stroke:#444443;stroke-linejoin:miter;stroke-width:0.5;\" />\n   </g>\n   <g id=\"patch_20\">\n    <path clip-path=\"url(#pbb7165e724)\" d=\"M 60.922857 77.22298  L 72.614286 77.22298  L 72.614286 77.22298  L 60.922857 77.22298  z \" style=\"fill:#d9e6f5;stroke:#444443;stroke-linejoin:miter;stroke-width:0.5;\" />\n   </g>\n   <g id=\"patch_21\">\n    <path clip-path=\"url(#pbb7165e724)\" d=\"M 72.614286 77.22298  L 84.305714 77.22298  L 84.305714 77.22298  L 72.614286 77.22298  z \" style=\"fill:#d9e6f5;stroke:#444443;stroke-linejoin:miter;stroke-width:0.5;\" />\n   </g>\n   <g id=\"patch_22\">\n    <path clip-path=\"url(#pbb7165e724)\" d=\"M 84.305714 77.22298  L 95.997143 77.22298  L 95.997143 77.22298  L 84.305714 77.22298  z \" style=\"fill:#d9e6f5;stroke:#444443;stroke-linejoin:miter;stroke-width:0.5;\" />\n   </g>\n   <g id=\"patch_23\">\n    <path clip-path=\"url(#pbb7165e724)\" d=\"M 95.997143 77.22298  L 107.688571 77.22298  L 107.688571 77.22298  L 95.997143 77.22298  z \" style=\"fill:#d9e6f5;stroke:#444443;stroke-linejoin:miter;stroke-width:0.5;\" />\n   </g>\n   <g id=\"patch_24\">\n    <path clip-path=\"url(#pbb7165e724)\" d=\"M 107.688571 77.22298  L 119.38 77.22298  L 119.38 77.22298  L 107.688571 77.22298  z \" style=\"fill:#d9e6f5;stroke:#444443;stroke-linejoin:miter;stroke-width:0.5;\" />\n   </g>\n   <g id=\"patch_25\">\n    <path clip-path=\"url(#pbb7165e724)\" d=\"M 119.38 77.22298  L 131.071429 77.22298  L 131.071429 77.22298  L 119.38 77.22298  z \" style=\"fill:#d9e6f5;stroke:#444443;stroke-linejoin:miter;stroke-width:0.5;\" />\n   </g>\n   <g id=\"patch_26\">\n    <path clip-path=\"url(#pbb7165e724)\" d=\"M 131.071429 77.22298  L 142.762857 77.22298  L 142.762857 77.22298  L 131.071429 77.22298  z \" style=\"fill:#d9e6f5;stroke:#444443;stroke-linejoin:miter;stroke-width:0.5;\" />\n   </g>\n   <g id=\"patch_27\">\n    <path clip-path=\"url(#pbb7165e724)\" d=\"M 142.762857 77.22298  L 154.454286 77.22298  L 154.454286 77.22298  L 142.762857 77.22298  z \" style=\"fill:#d9e6f5;stroke:#444443;stroke-linejoin:miter;stroke-width:0.5;\" />\n   </g>\n   <g id=\"patch_28\">\n    <path clip-path=\"url(#pbb7165e724)\" d=\"M 154.454286 77.22298  L 166.145714 77.22298  L 166.145714 77.22298  L 154.454286 77.22298  z \" style=\"fill:#d9e6f5;stroke:#444443;stroke-linejoin:miter;stroke-width:0.5;\" />\n   </g>\n   <g id=\"patch_29\">\n    <path clip-path=\"url(#pbb7165e724)\" d=\"M 166.145714 77.22298  L 177.837143 77.22298  L 177.837143 77.22298  L 166.145714 77.22298  z \" style=\"fill:#d9e6f5;stroke:#444443;stroke-linejoin:miter;stroke-width:0.5;\" />\n   </g>\n   <g id=\"patch_30\">\n    <path clip-path=\"url(#pbb7165e724)\" d=\"M 177.837143 77.22298  L 189.528571 77.22298  L 189.528571 77.22298  L 177.837143 77.22298  z \" style=\"fill:#d9e6f5;stroke:#444443;stroke-linejoin:miter;stroke-width:0.5;\" />\n   </g>\n   <g id=\"patch_31\">\n    <path clip-path=\"url(#pbb7165e724)\" d=\"M 189.528571 77.22298  L 201.22 77.22298  L 201.22 77.22298  L 189.528571 77.22298  z \" style=\"fill:#d9e6f5;stroke:#444443;stroke-linejoin:miter;stroke-width:0.5;\" />\n   </g>\n   <g id=\"patch_32\">\n    <path clip-path=\"url(#pbb7165e724)\" d=\"M 201.22 77.22298  L 212.911429 77.22298  L 212.911429 77.22298  L 201.22 77.22298  z \" style=\"fill:#d9e6f5;stroke:#444443;stroke-linejoin:miter;stroke-width:0.5;\" />\n   </g>\n   <g id=\"patch_33\">\n    <path clip-path=\"url(#pbb7165e724)\" d=\"M 37.54 4.132903  L 49.231429 4.132903  L 49.231429 3.039375  L 37.54 3.039375  z \" style=\"fill:#a1dab4;stroke:#444443;stroke-linejoin:miter;stroke-width:0.5;\" />\n   </g>\n   <g id=\"patch_34\">\n    <path clip-path=\"url(#pbb7165e724)\" d=\"M 49.231429 77.22298  L 60.922857 77.22298  L 60.922857 77.22298  L 49.231429 77.22298  z \" style=\"fill:#a1dab4;stroke:#444443;stroke-linejoin:miter;stroke-width:0.5;\" />\n   </g>\n   <g id=\"patch_35\">\n    <path clip-path=\"url(#pbb7165e724)\" d=\"M 60.922857 77.22298  L 72.614286 77.22298  L 72.614286 77.22298  L 60.922857 77.22298  z \" style=\"fill:#a1dab4;stroke:#444443;stroke-linejoin:miter;stroke-width:0.5;\" />\n   </g>\n   <g id=\"patch_36\">\n    <path clip-path=\"url(#pbb7165e724)\" d=\"M 72.614286 77.22298  L 84.305714 77.22298  L 84.305714 77.22298  L 72.614286 77.22298  z \" style=\"fill:#a1dab4;stroke:#444443;stroke-linejoin:miter;stroke-width:0.5;\" />\n   </g>\n   <g id=\"patch_37\">\n    <path clip-path=\"url(#pbb7165e724)\" d=\"M 84.305714 77.22298  L 95.997143 77.22298  L 95.997143 77.22298  L 84.305714 77.22298  z \" style=\"fill:#a1dab4;stroke:#444443;stroke-linejoin:miter;stroke-width:0.5;\" />\n   </g>\n   <g id=\"patch_38\">\n    <path clip-path=\"url(#pbb7165e724)\" d=\"M 95.997143 77.22298  L 107.688571 77.22298  L 107.688571 77.22298  L 95.997143 77.22298  z \" style=\"fill:#a1dab4;stroke:#444443;stroke-linejoin:miter;stroke-width:0.5;\" />\n   </g>\n   <g id=\"patch_39\">\n    <path clip-path=\"url(#pbb7165e724)\" d=\"M 107.688571 77.22298  L 119.38 77.22298  L 119.38 77.22298  L 107.688571 77.22298  z \" style=\"fill:#a1dab4;stroke:#444443;stroke-linejoin:miter;stroke-width:0.5;\" />\n   </g>\n   <g id=\"patch_40\">\n    <path clip-path=\"url(#pbb7165e724)\" d=\"M 119.38 77.22298  L 131.071429 77.22298  L 131.071429 77.22298  L 119.38 77.22298  z \" style=\"fill:#a1dab4;stroke:#444443;stroke-linejoin:miter;stroke-width:0.5;\" />\n   </g>\n   <g id=\"patch_41\">\n    <path clip-path=\"url(#pbb7165e724)\" d=\"M 131.071429 77.22298  L 142.762857 77.22298  L 142.762857 77.22298  L 131.071429 77.22298  z \" style=\"fill:#a1dab4;stroke:#444443;stroke-linejoin:miter;stroke-width:0.5;\" />\n   </g>\n   <g id=\"patch_42\">\n    <path clip-path=\"url(#pbb7165e724)\" d=\"M 142.762857 77.22298  L 154.454286 77.22298  L 154.454286 77.22298  L 142.762857 77.22298  z \" style=\"fill:#a1dab4;stroke:#444443;stroke-linejoin:miter;stroke-width:0.5;\" />\n   </g>\n   <g id=\"patch_43\">\n    <path clip-path=\"url(#pbb7165e724)\" d=\"M 154.454286 77.22298  L 166.145714 77.22298  L 166.145714 77.22298  L 154.454286 77.22298  z \" style=\"fill:#a1dab4;stroke:#444443;stroke-linejoin:miter;stroke-width:0.5;\" />\n   </g>\n   <g id=\"patch_44\">\n    <path clip-path=\"url(#pbb7165e724)\" d=\"M 166.145714 77.22298  L 177.837143 77.22298  L 177.837143 77.22298  L 166.145714 77.22298  z \" style=\"fill:#a1dab4;stroke:#444443;stroke-linejoin:miter;stroke-width:0.5;\" />\n   </g>\n   <g id=\"patch_45\">\n    <path clip-path=\"url(#pbb7165e724)\" d=\"M 177.837143 77.22298  L 189.528571 77.22298  L 189.528571 77.22298  L 177.837143 77.22298  z \" style=\"fill:#a1dab4;stroke:#444443;stroke-linejoin:miter;stroke-width:0.5;\" />\n   </g>\n   <g id=\"patch_46\">\n    <path clip-path=\"url(#pbb7165e724)\" d=\"M 189.528571 77.22298  L 201.22 77.22298  L 201.22 77.22298  L 189.528571 77.22298  z \" style=\"fill:#a1dab4;stroke:#444443;stroke-linejoin:miter;stroke-width:0.5;\" />\n   </g>\n   <g id=\"patch_47\">\n    <path clip-path=\"url(#pbb7165e724)\" d=\"M 201.22 77.22298  L 212.911429 77.22298  L 212.911429 76.944436  L 201.22 76.944436  z \" style=\"fill:#a1dab4;stroke:#444443;stroke-linejoin:miter;stroke-width:0.5;\" />\n   </g>\n   <g id=\"patch_48\">\n    <path clip-path=\"url(#pbb7165e724)\" d=\"M 37.54 3.039375  L 49.231429 3.039375  L 49.231429 3.039375  L 37.54 3.039375  z \" style=\"fill:#fee090;stroke:#444443;stroke-linejoin:miter;stroke-width:0.5;\" />\n   </g>\n   <g id=\"patch_49\">\n    <path clip-path=\"url(#pbb7165e724)\" d=\"M 49.231429 77.22298  L 60.922857 77.22298  L 60.922857 77.22298  L 49.231429 77.22298  z \" style=\"fill:#fee090;stroke:#444443;stroke-linejoin:miter;stroke-width:0.5;\" />\n   </g>\n   <g id=\"patch_50\">\n    <path clip-path=\"url(#pbb7165e724)\" d=\"M 60.922857 77.22298  L 72.614286 77.22298  L 72.614286 77.22298  L 60.922857 77.22298  z \" style=\"fill:#fee090;stroke:#444443;stroke-linejoin:miter;stroke-width:0.5;\" />\n   </g>\n   <g id=\"patch_51\">\n    <path clip-path=\"url(#pbb7165e724)\" d=\"M 72.614286 77.22298  L 84.305714 77.22298  L 84.305714 77.22298  L 72.614286 77.22298  z \" style=\"fill:#fee090;stroke:#444443;stroke-linejoin:miter;stroke-width:0.5;\" />\n   </g>\n   <g id=\"patch_52\">\n    <path clip-path=\"url(#pbb7165e724)\" d=\"M 84.305714 77.22298  L 95.997143 77.22298  L 95.997143 77.22298  L 84.305714 77.22298  z \" style=\"fill:#fee090;stroke:#444443;stroke-linejoin:miter;stroke-width:0.5;\" />\n   </g>\n   <g id=\"patch_53\">\n    <path clip-path=\"url(#pbb7165e724)\" d=\"M 95.997143 77.22298  L 107.688571 77.22298  L 107.688571 77.22298  L 95.997143 77.22298  z \" style=\"fill:#fee090;stroke:#444443;stroke-linejoin:miter;stroke-width:0.5;\" />\n   </g>\n   <g id=\"patch_54\">\n    <path clip-path=\"url(#pbb7165e724)\" d=\"M 107.688571 77.22298  L 119.38 77.22298  L 119.38 77.22298  L 107.688571 77.22298  z \" style=\"fill:#fee090;stroke:#444443;stroke-linejoin:miter;stroke-width:0.5;\" />\n   </g>\n   <g id=\"patch_55\">\n    <path clip-path=\"url(#pbb7165e724)\" d=\"M 119.38 77.22298  L 131.071429 77.22298  L 131.071429 77.22298  L 119.38 77.22298  z \" style=\"fill:#fee090;stroke:#444443;stroke-linejoin:miter;stroke-width:0.5;\" />\n   </g>\n   <g id=\"patch_56\">\n    <path clip-path=\"url(#pbb7165e724)\" d=\"M 131.071429 77.22298  L 142.762857 77.22298  L 142.762857 77.22298  L 131.071429 77.22298  z \" style=\"fill:#fee090;stroke:#444443;stroke-linejoin:miter;stroke-width:0.5;\" />\n   </g>\n   <g id=\"patch_57\">\n    <path clip-path=\"url(#pbb7165e724)\" d=\"M 142.762857 77.22298  L 154.454286 77.22298  L 154.454286 77.22298  L 142.762857 77.22298  z \" style=\"fill:#fee090;stroke:#444443;stroke-linejoin:miter;stroke-width:0.5;\" />\n   </g>\n   <g id=\"patch_58\">\n    <path clip-path=\"url(#pbb7165e724)\" d=\"M 154.454286 77.22298  L 166.145714 77.22298  L 166.145714 77.22298  L 154.454286 77.22298  z \" style=\"fill:#fee090;stroke:#444443;stroke-linejoin:miter;stroke-width:0.5;\" />\n   </g>\n   <g id=\"patch_59\">\n    <path clip-path=\"url(#pbb7165e724)\" d=\"M 166.145714 77.22298  L 177.837143 77.22298  L 177.837143 77.22298  L 166.145714 77.22298  z \" style=\"fill:#fee090;stroke:#444443;stroke-linejoin:miter;stroke-width:0.5;\" />\n   </g>\n   <g id=\"patch_60\">\n    <path clip-path=\"url(#pbb7165e724)\" d=\"M 177.837143 77.22298  L 189.528571 77.22298  L 189.528571 77.22298  L 177.837143 77.22298  z \" style=\"fill:#fee090;stroke:#444443;stroke-linejoin:miter;stroke-width:0.5;\" />\n   </g>\n   <g id=\"patch_61\">\n    <path clip-path=\"url(#pbb7165e724)\" d=\"M 189.528571 77.22298  L 201.22 77.22298  L 201.22 77.22298  L 189.528571 77.22298  z \" style=\"fill:#fee090;stroke:#444443;stroke-linejoin:miter;stroke-width:0.5;\" />\n   </g>\n   <g id=\"patch_62\">\n    <path clip-path=\"url(#pbb7165e724)\" d=\"M 201.22 76.944436  L 212.911429 76.944436  L 212.911429 65.867857  L 201.22 65.867857  z \" style=\"fill:#fee090;stroke:#444443;stroke-linejoin:miter;stroke-width:0.5;\" />\n   </g>\n   <g id=\"patch_63\">\n    <path d=\"M 125.225714 78.03838  L 121.911194 85.37698  L 128.540234 85.37698  z \" style=\"fill:#444443;\" />\n   </g>\n   <g id=\"matplotlib.axis_1\">\n    <g id=\"xtick_1\">\n     <g id=\"line2d_1\">\n      <defs>\n       <path d=\"M 0 0  L 0 3.5  \" id=\"mac5110dd89\" style=\"stroke:#000000;stroke-width:0.3;\" />\n      </defs>\n      <g>\n       <use style=\"stroke:#000000;stroke-width:0.3;\" x=\"37.54\" y=\"77.22298\" xlink:href=\"#mac5110dd89\" />\n      </g>\n     </g>\n     <g id=\"text_1\">\n      \n      <defs>\n       <path d=\"M 31.78125 66.40625  Q 24.171875 66.40625 20.328125 58.90625  Q 16.5 51.421875 16.5 36.375  Q 16.5 21.390625 20.328125 13.890625  Q 24.171875 6.390625 31.78125 6.390625  Q 39.453125 6.390625 43.28125 13.890625  Q 47.125 21.390625 47.125 36.375  Q 47.125 51.421875 43.28125 58.90625  Q 39.453125 66.40625 31.78125 66.40625  z M 31.78125 74.21875  Q 44.046875 74.21875 50.515625 64.515625  Q 56.984375 54.828125 56.984375 36.375  Q 56.984375 17.96875 50.515625 8.265625  Q 44.046875 -1.421875 31.78125 -1.421875  Q 19.53125 -1.421875 13.0625 8.265625  Q 6.59375 17.96875 6.59375 36.375  Q 6.59375 54.828125 13.0625 64.515625  Q 19.53125 74.21875 31.78125 74.21875  z \" id=\"DejaVuSans-48\" />\n      </defs>\n      <g style=\"fill:#444443;\" transform=\"translate(34.995 90.30173)scale(0.08 -0.08)\">\n       <use xlink:href=\"#DejaVuSans-48\" />\n      </g>\n     </g>\n    </g>\n    <g id=\"xtick_2\">\n     <g id=\"line2d_2\">\n      <g>\n       <use style=\"stroke:#000000;stroke-width:0.3;\" x=\"212.911429\" y=\"77.22298\" xlink:href=\"#mac5110dd89\" />\n      </g>\n     </g>\n     <g id=\"text_2\">\n      \n      <defs>\n       <path d=\"M 12.40625 8.296875  L 28.515625 8.296875  L 28.515625 63.921875  L 10.984375 60.40625  L 10.984375 69.390625  L 28.421875 72.90625  L 38.28125 72.90625  L 38.28125 8.296875  L 54.390625 8.296875  L 54.390625 0  L 12.40625 0  z \" id=\"DejaVuSans-49\" />\n      </defs>\n      <g style=\"fill:#444443;\" transform=\"translate(210.366429 90.30173)scale(0.08 -0.08)\">\n       <use xlink:href=\"#DejaVuSans-49\" />\n      </g>\n     </g>\n    </g>\n    <g id=\"text_3\">\n     \n     <defs>\n      <path d=\"M 9.421875 54.6875  L 18.40625 54.6875  L 18.40625 0  L 9.421875 0  z M 9.421875 75.984375  L 18.40625 75.984375  L 18.40625 64.59375  L 9.421875 64.59375  z \" id=\"DejaVuSans-105\" />\n      <path d=\"M 54.890625 33.015625  L 54.890625 0  L 45.90625 0  L 45.90625 32.71875  Q 45.90625 40.484375 42.875 44.328125  Q 39.84375 48.1875 33.796875 48.1875  Q 26.515625 48.1875 22.3125 43.546875  Q 18.109375 38.921875 18.109375 30.90625  L 18.109375 0  L 9.078125 0  L 9.078125 54.6875  L 18.109375 54.6875  L 18.109375 46.1875  Q 21.34375 51.125 25.703125 53.5625  Q 30.078125 56 35.796875 56  Q 45.21875 56 50.046875 50.171875  Q 54.890625 44.34375 54.890625 33.015625  z \" id=\"DejaVuSans-110\" />\n      <path d=\"M 45.40625 46.390625  L 45.40625 75.984375  L 54.390625 75.984375  L 54.390625 0  L 45.40625 0  L 45.40625 8.203125  Q 42.578125 3.328125 38.25 0.953125  Q 33.9375 -1.421875 27.875 -1.421875  Q 17.96875 -1.421875 11.734375 6.484375  Q 5.515625 14.40625 5.515625 27.296875  Q 5.515625 40.1875 11.734375 48.09375  Q 17.96875 56 27.875 56  Q 33.9375 56 38.25 53.625  Q 42.578125 51.265625 45.40625 46.390625  z M 14.796875 27.296875  Q 14.796875 17.390625 18.875 11.75  Q 22.953125 6.109375 30.078125 6.109375  Q 37.203125 6.109375 41.296875 11.75  Q 45.40625 17.390625 45.40625 27.296875  Q 45.40625 37.203125 41.296875 42.84375  Q 37.203125 48.484375 30.078125 48.484375  Q 22.953125 48.484375 18.875 42.84375  Q 14.796875 37.203125 14.796875 27.296875  z \" id=\"DejaVuSans-100\" />\n      <path d=\"M 50.984375 -16.609375  L 50.984375 -23.578125  L -0.984375 -23.578125  L -0.984375 -16.609375  z \" id=\"DejaVuSans-95\" />\n      <path d=\"M 48.78125 52.59375  L 48.78125 44.1875  Q 44.96875 46.296875 41.140625 47.34375  Q 37.3125 48.390625 33.40625 48.390625  Q 24.65625 48.390625 19.8125 42.84375  Q 14.984375 37.3125 14.984375 27.296875  Q 14.984375 17.28125 19.8125 11.734375  Q 24.65625 6.203125 33.40625 6.203125  Q 37.3125 6.203125 41.140625 7.25  Q 44.96875 8.296875 48.78125 10.40625  L 48.78125 2.09375  Q 45.015625 0.34375 40.984375 -0.53125  Q 36.96875 -1.421875 32.421875 -1.421875  Q 20.0625 -1.421875 12.78125 6.34375  Q 5.515625 14.109375 5.515625 27.296875  Q 5.515625 40.671875 12.859375 48.328125  Q 20.21875 56 33.015625 56  Q 37.15625 56 41.109375 55.140625  Q 45.0625 54.296875 48.78125 52.59375  z \" id=\"DejaVuSans-99\" />\n      <path d=\"M 18.3125 70.21875  L 18.3125 54.6875  L 36.8125 54.6875  L 36.8125 47.703125  L 18.3125 47.703125  L 18.3125 18.015625  Q 18.3125 11.328125 20.140625 9.421875  Q 21.96875 7.515625 27.59375 7.515625  L 36.8125 7.515625  L 36.8125 0  L 27.59375 0  Q 17.1875 0 13.234375 3.875  Q 9.28125 7.765625 9.28125 18.015625  L 9.28125 47.703125  L 2.6875 47.703125  L 2.6875 54.6875  L 9.28125 54.6875  L 9.28125 70.21875  z \" id=\"DejaVuSans-116\" />\n      <path d=\"M 30.609375 48.390625  Q 23.390625 48.390625 19.1875 42.75  Q 14.984375 37.109375 14.984375 27.296875  Q 14.984375 17.484375 19.15625 11.84375  Q 23.34375 6.203125 30.609375 6.203125  Q 37.796875 6.203125 41.984375 11.859375  Q 46.1875 17.53125 46.1875 27.296875  Q 46.1875 37.015625 41.984375 42.703125  Q 37.796875 48.390625 30.609375 48.390625  z M 30.609375 56  Q 42.328125 56 49.015625 48.375  Q 55.71875 40.765625 55.71875 27.296875  Q 55.71875 13.875 49.015625 6.21875  Q 42.328125 -1.421875 30.609375 -1.421875  Q 18.84375 -1.421875 12.171875 6.21875  Q 5.515625 13.875 5.515625 27.296875  Q 5.515625 40.765625 12.171875 48.375  Q 18.84375 56 30.609375 56  z \" id=\"DejaVuSans-111\" />\n      <path d=\"M 18.109375 8.203125  L 18.109375 -20.796875  L 9.078125 -20.796875  L 9.078125 54.6875  L 18.109375 54.6875  L 18.109375 46.390625  Q 20.953125 51.265625 25.265625 53.625  Q 29.59375 56 35.59375 56  Q 45.5625 56 51.78125 48.09375  Q 58.015625 40.1875 58.015625 27.296875  Q 58.015625 14.40625 51.78125 6.484375  Q 45.5625 -1.421875 35.59375 -1.421875  Q 29.59375 -1.421875 25.265625 0.953125  Q 20.953125 3.328125 18.109375 8.203125  z M 48.6875 27.296875  Q 48.6875 37.203125 44.609375 42.84375  Q 40.53125 48.484375 33.40625 48.484375  Q 26.265625 48.484375 22.1875 42.84375  Q 18.109375 37.203125 18.109375 27.296875  Q 18.109375 17.390625 22.1875 11.75  Q 26.265625 6.109375 33.40625 6.109375  Q 40.53125 6.109375 44.609375 11.75  Q 48.6875 17.390625 48.6875 27.296875  z \" id=\"DejaVuSans-112\" />\n      <path d=\"M 37.109375 75.984375  L 37.109375 68.5  L 28.515625 68.5  Q 23.6875 68.5 21.796875 66.546875  Q 19.921875 64.59375 19.921875 59.515625  L 19.921875 54.6875  L 34.71875 54.6875  L 34.71875 47.703125  L 19.921875 47.703125  L 19.921875 0  L 10.890625 0  L 10.890625 47.703125  L 2.296875 47.703125  L 2.296875 54.6875  L 10.890625 54.6875  L 10.890625 58.5  Q 10.890625 67.625 15.140625 71.796875  Q 19.390625 75.984375 28.609375 75.984375  z \" id=\"DejaVuSans-102\" />\n      <path d=\"M 8.5 21.578125  L 8.5 54.6875  L 17.484375 54.6875  L 17.484375 21.921875  Q 17.484375 14.15625 20.5 10.265625  Q 23.53125 6.390625 29.59375 6.390625  Q 36.859375 6.390625 41.078125 11.03125  Q 45.3125 15.671875 45.3125 23.6875  L 45.3125 54.6875  L 54.296875 54.6875  L 54.296875 0  L 45.3125 0  L 45.3125 8.40625  Q 42.046875 3.421875 37.71875 1  Q 33.40625 -1.421875 27.6875 -1.421875  Q 18.265625 -1.421875 13.375 4.4375  Q 8.5 10.296875 8.5 21.578125  z M 31.109375 56  z \" id=\"DejaVuSans-117\" />\n      <path d=\"M 9.421875 75.984375  L 18.40625 75.984375  L 18.40625 0  L 9.421875 0  z \" id=\"DejaVuSans-108\" />\n     </defs>\n     <g style=\"fill:#444443;\" transform=\"translate(78.979375 105.083605)scale(0.12 -0.12)\">\n      <use xlink:href=\"#DejaVuSans-105\" />\n      <use x=\"27.783203\" xlink:href=\"#DejaVuSans-110\" />\n      <use x=\"91.162109\" xlink:href=\"#DejaVuSans-100\" />\n      <use x=\"154.638672\" xlink:href=\"#DejaVuSans-95\" />\n      <use x=\"204.638672\" xlink:href=\"#DejaVuSans-99\" />\n      <use x=\"259.619141\" xlink:href=\"#DejaVuSans-116\" />\n      <use x=\"298.828125\" xlink:href=\"#DejaVuSans-111\" />\n      <use x=\"360.009766\" xlink:href=\"#DejaVuSans-112\" />\n      <use x=\"423.486328\" xlink:href=\"#DejaVuSans-95\" />\n      <use x=\"473.486328\" xlink:href=\"#DejaVuSans-102\" />\n      <use x=\"508.691406\" xlink:href=\"#DejaVuSans-105\" />\n      <use x=\"536.474609\" xlink:href=\"#DejaVuSans-110\" />\n      <use x=\"599.853516\" xlink:href=\"#DejaVuSans-95\" />\n      <use x=\"649.853516\" xlink:href=\"#DejaVuSans-117\" />\n      <use x=\"713.232422\" xlink:href=\"#DejaVuSans-108\" />\n      <use x=\"741.015625\" xlink:href=\"#DejaVuSans-116\" />\n      <use x=\"780.224609\" xlink:href=\"#DejaVuSans-49\" />\n     </g>\n    </g>\n   </g>\n   <g id=\"matplotlib.axis_2\">\n    <g id=\"ytick_1\">\n     <g id=\"line2d_3\">\n      <defs>\n       <path d=\"M 0 0  L -3.5 0  \" id=\"m93f9ed1c60\" style=\"stroke:#000000;stroke-width:0.3;\" />\n      </defs>\n      <g>\n       <use style=\"stroke:#000000;stroke-width:0.3;\" x=\"37.54\" y=\"77.22298\" xlink:href=\"#m93f9ed1c60\" />\n      </g>\n     </g>\n     <g id=\"text_4\">\n      \n      <g style=\"fill:#444443;\" transform=\"translate(25.45 80.262355)scale(0.08 -0.08)\">\n       <use xlink:href=\"#DejaVuSans-48\" />\n      </g>\n     </g>\n    </g>\n    <g id=\"ytick_2\">\n     <g id=\"line2d_4\">\n      <g>\n       <use style=\"stroke:#000000;stroke-width:0.3;\" x=\"37.54\" y=\"3.039375\" xlink:href=\"#m93f9ed1c60\" />\n      </g>\n     </g>\n     <g id=\"text_5\">\n      \n      <defs>\n       <path d=\"M 40.578125 39.3125  Q 47.65625 37.796875 51.625 33  Q 55.609375 28.21875 55.609375 21.1875  Q 55.609375 10.40625 48.1875 4.484375  Q 40.765625 -1.421875 27.09375 -1.421875  Q 22.515625 -1.421875 17.65625 -0.515625  Q 12.796875 0.390625 7.625 2.203125  L 7.625 11.71875  Q 11.71875 9.328125 16.59375 8.109375  Q 21.484375 6.890625 26.8125 6.890625  Q 36.078125 6.890625 40.9375 10.546875  Q 45.796875 14.203125 45.796875 21.1875  Q 45.796875 27.640625 41.28125 31.265625  Q 36.765625 34.90625 28.71875 34.90625  L 20.21875 34.90625  L 20.21875 43.015625  L 29.109375 43.015625  Q 36.375 43.015625 40.234375 45.921875  Q 44.09375 48.828125 44.09375 54.296875  Q 44.09375 59.90625 40.109375 62.90625  Q 36.140625 65.921875 28.71875 65.921875  Q 24.65625 65.921875 20.015625 65.03125  Q 15.375 64.15625 9.8125 62.3125  L 9.8125 71.09375  Q 15.4375 72.65625 20.34375 73.4375  Q 25.25 74.21875 29.59375 74.21875  Q 40.828125 74.21875 47.359375 69.109375  Q 53.90625 64.015625 53.90625 55.328125  Q 53.90625 49.265625 50.4375 45.09375  Q 46.96875 40.921875 40.578125 39.3125  z \" id=\"DejaVuSans-51\" />\n       <path d=\"M 33.015625 40.375  Q 26.375 40.375 22.484375 35.828125  Q 18.609375 31.296875 18.609375 23.390625  Q 18.609375 15.53125 22.484375 10.953125  Q 26.375 6.390625 33.015625 6.390625  Q 39.65625 6.390625 43.53125 10.953125  Q 47.40625 15.53125 47.40625 23.390625  Q 47.40625 31.296875 43.53125 35.828125  Q 39.65625 40.375 33.015625 40.375  z M 52.59375 71.296875  L 52.59375 62.3125  Q 48.875 64.0625 45.09375 64.984375  Q 41.3125 65.921875 37.59375 65.921875  Q 27.828125 65.921875 22.671875 59.328125  Q 17.53125 52.734375 16.796875 39.40625  Q 19.671875 43.65625 24.015625 45.921875  Q 28.375 48.1875 33.59375 48.1875  Q 44.578125 48.1875 50.953125 41.515625  Q 57.328125 34.859375 57.328125 23.390625  Q 57.328125 12.15625 50.6875 5.359375  Q 44.046875 -1.421875 33.015625 -1.421875  Q 20.359375 -1.421875 13.671875 8.265625  Q 6.984375 17.96875 6.984375 36.375  Q 6.984375 53.65625 15.1875 63.9375  Q 23.390625 74.21875 37.203125 74.21875  Q 40.921875 74.21875 44.703125 73.484375  Q 48.484375 72.75 52.59375 71.296875  z \" id=\"DejaVuSans-54\" />\n       <path d=\"M 37.796875 64.3125  L 12.890625 25.390625  L 37.796875 25.390625  z M 35.203125 72.90625  L 47.609375 72.90625  L 47.609375 25.390625  L 58.015625 25.390625  L 58.015625 17.1875  L 47.609375 17.1875  L 47.609375 0  L 37.796875 0  L 37.796875 17.1875  L 4.890625 17.1875  L 4.890625 26.703125  z \" id=\"DejaVuSans-52\" />\n       <path d=\"M 10.796875 72.90625  L 49.515625 72.90625  L 49.515625 64.59375  L 19.828125 64.59375  L 19.828125 46.734375  Q 21.96875 47.46875 24.109375 47.828125  Q 26.265625 48.1875 28.421875 48.1875  Q 40.625 48.1875 47.75 41.5  Q 54.890625 34.8125 54.890625 23.390625  Q 54.890625 11.625 47.5625 5.09375  Q 40.234375 -1.421875 26.90625 -1.421875  Q 22.3125 -1.421875 17.546875 -0.640625  Q 12.796875 0.140625 7.71875 1.703125  L 7.71875 11.625  Q 12.109375 9.234375 16.796875 8.0625  Q 21.484375 6.890625 26.703125 6.890625  Q 35.15625 6.890625 40.078125 11.328125  Q 45.015625 15.765625 45.015625 23.390625  Q 45.015625 31 40.078125 35.4375  Q 35.15625 39.890625 26.703125 39.890625  Q 22.75 39.890625 18.8125 39.015625  Q 14.890625 38.140625 10.796875 36.28125  z \" id=\"DejaVuSans-53\" />\n      </defs>\n      <g style=\"fill:#444443;\" transform=\"translate(0 6.07875)scale(0.08 -0.08)\">\n       <use xlink:href=\"#DejaVuSans-51\" />\n       <use x=\"63.623047\" xlink:href=\"#DejaVuSans-54\" />\n       <use x=\"127.246094\" xlink:href=\"#DejaVuSans-54\" />\n       <use x=\"190.869141\" xlink:href=\"#DejaVuSans-52\" />\n       <use x=\"254.492188\" xlink:href=\"#DejaVuSans-54\" />\n       <use x=\"318.115234\" xlink:href=\"#DejaVuSans-53\" />\n      </g>\n     </g>\n    </g>\n   </g>\n   <g id=\"patch_64\">\n    <path d=\"M 37.54 77.22298  L 37.54 3.039375  \" style=\"fill:none;stroke:#000000;stroke-linecap:square;stroke-linejoin:miter;stroke-width:0.3;\" />\n   </g>\n   <g id=\"patch_65\">\n    <path d=\"M 37.54 77.22298  L 221.68 77.22298  \" style=\"fill:none;stroke:#000000;stroke-linecap:square;stroke-linejoin:miter;stroke-width:0.3;\" />\n   </g>\n   <g id=\"text_6\">\n    \n    <defs>\n     <path d=\"M 10.6875 12.40625  L 21 12.40625  L 21 0  L 10.6875 0  z \" id=\"DejaVuSans-46\" />\n    </defs>\n    <g style=\"fill:#444443;\" transform=\"translate(116.319464 93.53098)scale(0.08 -0.08)\">\n     <use xlink:href=\"#DejaVuSans-48\" />\n     <use x=\"63.623047\" xlink:href=\"#DejaVuSans-46\" />\n     <use x=\"95.410156\" xlink:href=\"#DejaVuSans-53\" />\n     <use x=\"159.033203\" xlink:href=\"#DejaVuSans-48\" />\n    </g>\n   </g>\n  </g>\n </g>\n <defs>\n  <clipPath id=\"pbb7165e724\">\n   <rect height=\"74.183605\" width=\"184.14\" x=\"37.54\" y=\"3.039375\" />\n  </clipPath>\n </defs>\n</svg></g>\n\n\n<g class=\"node\" id=\"node5\">\n<title>node7</title>\n<svg height=\"81px\" preserveAspectRatio=\"xMinYMin meet\" version=\"1.1\" viewBox=\"0 0 221.68 107.087428\" width=\"166px\" x=\"414.5\" y=\"-185.5\">\n <defs>\n  <style type=\"text/css\">\n*{stroke-linecap:butt;stroke-linejoin:round;}\n  </style>\n </defs>\n <g id=\"figure_1\">\n  <g id=\"patch_1\">\n   <path d=\"M 0 107.087428  L 221.68 107.087428  L 221.68 0  L 0 0  z \" style=\"fill:#ffffff;\" />\n  </g>\n  <g id=\"axes_1\">\n   <g id=\"patch_2\">\n    <path d=\"M 37.54 76.397428  L 221.68 76.397428  L 221.68 3.039375  L 37.54 3.039375  z \" style=\"fill:#ffffff;\" />\n   </g>\n   <g id=\"patch_3\">\n    <path clip-path=\"url(#pbc93b7a75e)\" d=\"M 37.54 76.397428  L 49.231429 76.397428  L 49.231429 3.039375  L 37.54 3.039375  z \" style=\"fill:#fefebb;stroke:#444443;stroke-linejoin:miter;stroke-width:0.5;\" />\n   </g>\n   <g id=\"patch_4\">\n    <path clip-path=\"url(#pbc93b7a75e)\" d=\"M 49.231429 76.397428  L 60.922857 76.397428  L 60.922857 76.397428  L 49.231429 76.397428  z \" style=\"fill:#fefebb;stroke:#444443;stroke-linejoin:miter;stroke-width:0.5;\" />\n   </g>\n   <g id=\"patch_5\">\n    <path clip-path=\"url(#pbc93b7a75e)\" d=\"M 60.922857 76.397428  L 72.614286 76.397428  L 72.614286 76.397428  L 60.922857 76.397428  z \" style=\"fill:#fefebb;stroke:#444443;stroke-linejoin:miter;stroke-width:0.5;\" />\n   </g>\n   <g id=\"patch_6\">\n    <path clip-path=\"url(#pbc93b7a75e)\" d=\"M 72.614286 76.397428  L 84.305714 76.397428  L 84.305714 76.397428  L 72.614286 76.397428  z \" style=\"fill:#fefebb;stroke:#444443;stroke-linejoin:miter;stroke-width:0.5;\" />\n   </g>\n   <g id=\"patch_7\">\n    <path clip-path=\"url(#pbc93b7a75e)\" d=\"M 84.305714 76.397428  L 95.997143 76.397428  L 95.997143 76.397428  L 84.305714 76.397428  z \" style=\"fill:#fefebb;stroke:#444443;stroke-linejoin:miter;stroke-width:0.5;\" />\n   </g>\n   <g id=\"patch_8\">\n    <path clip-path=\"url(#pbc93b7a75e)\" d=\"M 95.997143 76.397428  L 107.688571 76.397428  L 107.688571 76.397428  L 95.997143 76.397428  z \" style=\"fill:#fefebb;stroke:#444443;stroke-linejoin:miter;stroke-width:0.5;\" />\n   </g>\n   <g id=\"patch_9\">\n    <path clip-path=\"url(#pbc93b7a75e)\" d=\"M 107.688571 76.397428  L 119.38 76.397428  L 119.38 76.397428  L 107.688571 76.397428  z \" style=\"fill:#fefebb;stroke:#444443;stroke-linejoin:miter;stroke-width:0.5;\" />\n   </g>\n   <g id=\"patch_10\">\n    <path clip-path=\"url(#pbc93b7a75e)\" d=\"M 119.38 76.397428  L 131.071429 76.397428  L 131.071429 76.397428  L 119.38 76.397428  z \" style=\"fill:#fefebb;stroke:#444443;stroke-linejoin:miter;stroke-width:0.5;\" />\n   </g>\n   <g id=\"patch_11\">\n    <path clip-path=\"url(#pbc93b7a75e)\" d=\"M 131.071429 76.397428  L 142.762857 76.397428  L 142.762857 76.397428  L 131.071429 76.397428  z \" style=\"fill:#fefebb;stroke:#444443;stroke-linejoin:miter;stroke-width:0.5;\" />\n   </g>\n   <g id=\"patch_12\">\n    <path clip-path=\"url(#pbc93b7a75e)\" d=\"M 142.762857 76.397428  L 154.454286 76.397428  L 154.454286 76.397428  L 142.762857 76.397428  z \" style=\"fill:#fefebb;stroke:#444443;stroke-linejoin:miter;stroke-width:0.5;\" />\n   </g>\n   <g id=\"patch_13\">\n    <path clip-path=\"url(#pbc93b7a75e)\" d=\"M 154.454286 76.397428  L 166.145714 76.397428  L 166.145714 76.397428  L 154.454286 76.397428  z \" style=\"fill:#fefebb;stroke:#444443;stroke-linejoin:miter;stroke-width:0.5;\" />\n   </g>\n   <g id=\"patch_14\">\n    <path clip-path=\"url(#pbc93b7a75e)\" d=\"M 166.145714 76.397428  L 177.837143 76.397428  L 177.837143 76.397428  L 166.145714 76.397428  z \" style=\"fill:#fefebb;stroke:#444443;stroke-linejoin:miter;stroke-width:0.5;\" />\n   </g>\n   <g id=\"patch_15\">\n    <path clip-path=\"url(#pbc93b7a75e)\" d=\"M 177.837143 76.397428  L 189.528571 76.397428  L 189.528571 76.397428  L 177.837143 76.397428  z \" style=\"fill:#fefebb;stroke:#444443;stroke-linejoin:miter;stroke-width:0.5;\" />\n   </g>\n   <g id=\"patch_16\">\n    <path clip-path=\"url(#pbc93b7a75e)\" d=\"M 189.528571 76.397428  L 201.22 76.397428  L 201.22 76.397428  L 189.528571 76.397428  z \" style=\"fill:#fefebb;stroke:#444443;stroke-linejoin:miter;stroke-width:0.5;\" />\n   </g>\n   <g id=\"patch_17\">\n    <path clip-path=\"url(#pbc93b7a75e)\" d=\"M 201.22 76.397428  L 212.911429 76.397428  L 212.911429 76.286628  L 201.22 76.286628  z \" style=\"fill:#fefebb;stroke:#444443;stroke-linejoin:miter;stroke-width:0.5;\" />\n   </g>\n   <g id=\"patch_18\">\n    <path clip-path=\"url(#pbc93b7a75e)\" d=\"M 37.54 3.039375  L 49.231429 3.039375  L 49.231429 3.039375  L 37.54 3.039375  z \" style=\"fill:#d9e6f5;stroke:#444443;stroke-linejoin:miter;stroke-width:0.5;\" />\n   </g>\n   <g id=\"patch_19\">\n    <path clip-path=\"url(#pbc93b7a75e)\" d=\"M 49.231429 76.397428  L 60.922857 76.397428  L 60.922857 76.397428  L 49.231429 76.397428  z \" style=\"fill:#d9e6f5;stroke:#444443;stroke-linejoin:miter;stroke-width:0.5;\" />\n   </g>\n   <g id=\"patch_20\">\n    <path clip-path=\"url(#pbc93b7a75e)\" d=\"M 60.922857 76.397428  L 72.614286 76.397428  L 72.614286 76.397428  L 60.922857 76.397428  z \" style=\"fill:#d9e6f5;stroke:#444443;stroke-linejoin:miter;stroke-width:0.5;\" />\n   </g>\n   <g id=\"patch_21\">\n    <path clip-path=\"url(#pbc93b7a75e)\" d=\"M 72.614286 76.397428  L 84.305714 76.397428  L 84.305714 76.397428  L 72.614286 76.397428  z \" style=\"fill:#d9e6f5;stroke:#444443;stroke-linejoin:miter;stroke-width:0.5;\" />\n   </g>\n   <g id=\"patch_22\">\n    <path clip-path=\"url(#pbc93b7a75e)\" d=\"M 84.305714 76.397428  L 95.997143 76.397428  L 95.997143 76.397428  L 84.305714 76.397428  z \" style=\"fill:#d9e6f5;stroke:#444443;stroke-linejoin:miter;stroke-width:0.5;\" />\n   </g>\n   <g id=\"patch_23\">\n    <path clip-path=\"url(#pbc93b7a75e)\" d=\"M 95.997143 76.397428  L 107.688571 76.397428  L 107.688571 76.397428  L 95.997143 76.397428  z \" style=\"fill:#d9e6f5;stroke:#444443;stroke-linejoin:miter;stroke-width:0.5;\" />\n   </g>\n   <g id=\"patch_24\">\n    <path clip-path=\"url(#pbc93b7a75e)\" d=\"M 107.688571 76.397428  L 119.38 76.397428  L 119.38 76.397428  L 107.688571 76.397428  z \" style=\"fill:#d9e6f5;stroke:#444443;stroke-linejoin:miter;stroke-width:0.5;\" />\n   </g>\n   <g id=\"patch_25\">\n    <path clip-path=\"url(#pbc93b7a75e)\" d=\"M 119.38 76.397428  L 131.071429 76.397428  L 131.071429 76.397428  L 119.38 76.397428  z \" style=\"fill:#d9e6f5;stroke:#444443;stroke-linejoin:miter;stroke-width:0.5;\" />\n   </g>\n   <g id=\"patch_26\">\n    <path clip-path=\"url(#pbc93b7a75e)\" d=\"M 131.071429 76.397428  L 142.762857 76.397428  L 142.762857 76.397428  L 131.071429 76.397428  z \" style=\"fill:#d9e6f5;stroke:#444443;stroke-linejoin:miter;stroke-width:0.5;\" />\n   </g>\n   <g id=\"patch_27\">\n    <path clip-path=\"url(#pbc93b7a75e)\" d=\"M 142.762857 76.397428  L 154.454286 76.397428  L 154.454286 76.397428  L 142.762857 76.397428  z \" style=\"fill:#d9e6f5;stroke:#444443;stroke-linejoin:miter;stroke-width:0.5;\" />\n   </g>\n   <g id=\"patch_28\">\n    <path clip-path=\"url(#pbc93b7a75e)\" d=\"M 154.454286 76.397428  L 166.145714 76.397428  L 166.145714 76.397428  L 154.454286 76.397428  z \" style=\"fill:#d9e6f5;stroke:#444443;stroke-linejoin:miter;stroke-width:0.5;\" />\n   </g>\n   <g id=\"patch_29\">\n    <path clip-path=\"url(#pbc93b7a75e)\" d=\"M 166.145714 76.397428  L 177.837143 76.397428  L 177.837143 76.397428  L 166.145714 76.397428  z \" style=\"fill:#d9e6f5;stroke:#444443;stroke-linejoin:miter;stroke-width:0.5;\" />\n   </g>\n   <g id=\"patch_30\">\n    <path clip-path=\"url(#pbc93b7a75e)\" d=\"M 177.837143 76.397428  L 189.528571 76.397428  L 189.528571 76.397428  L 177.837143 76.397428  z \" style=\"fill:#d9e6f5;stroke:#444443;stroke-linejoin:miter;stroke-width:0.5;\" />\n   </g>\n   <g id=\"patch_31\">\n    <path clip-path=\"url(#pbc93b7a75e)\" d=\"M 189.528571 76.397428  L 201.22 76.397428  L 201.22 76.397428  L 189.528571 76.397428  z \" style=\"fill:#d9e6f5;stroke:#444443;stroke-linejoin:miter;stroke-width:0.5;\" />\n   </g>\n   <g id=\"patch_32\">\n    <path clip-path=\"url(#pbc93b7a75e)\" d=\"M 201.22 76.286628  L 212.911429 76.286628  L 212.911429 76.286628  L 201.22 76.286628  z \" style=\"fill:#d9e6f5;stroke:#444443;stroke-linejoin:miter;stroke-width:0.5;\" />\n   </g>\n   <g id=\"patch_33\">\n    <path clip-path=\"url(#pbc93b7a75e)\" d=\"M 37.54 3.039375  L 49.231429 3.039375  L 49.231429 3.039375  L 37.54 3.039375  z \" style=\"fill:#a1dab4;stroke:#444443;stroke-linejoin:miter;stroke-width:0.5;\" />\n   </g>\n   <g id=\"patch_34\">\n    <path clip-path=\"url(#pbc93b7a75e)\" d=\"M 49.231429 76.397428  L 60.922857 76.397428  L 60.922857 76.397428  L 49.231429 76.397428  z \" style=\"fill:#a1dab4;stroke:#444443;stroke-linejoin:miter;stroke-width:0.5;\" />\n   </g>\n   <g id=\"patch_35\">\n    <path clip-path=\"url(#pbc93b7a75e)\" d=\"M 60.922857 76.397428  L 72.614286 76.397428  L 72.614286 76.397428  L 60.922857 76.397428  z \" style=\"fill:#a1dab4;stroke:#444443;stroke-linejoin:miter;stroke-width:0.5;\" />\n   </g>\n   <g id=\"patch_36\">\n    <path clip-path=\"url(#pbc93b7a75e)\" d=\"M 72.614286 76.397428  L 84.305714 76.397428  L 84.305714 76.397428  L 72.614286 76.397428  z \" style=\"fill:#a1dab4;stroke:#444443;stroke-linejoin:miter;stroke-width:0.5;\" />\n   </g>\n   <g id=\"patch_37\">\n    <path clip-path=\"url(#pbc93b7a75e)\" d=\"M 84.305714 76.397428  L 95.997143 76.397428  L 95.997143 76.397428  L 84.305714 76.397428  z \" style=\"fill:#a1dab4;stroke:#444443;stroke-linejoin:miter;stroke-width:0.5;\" />\n   </g>\n   <g id=\"patch_38\">\n    <path clip-path=\"url(#pbc93b7a75e)\" d=\"M 95.997143 76.397428  L 107.688571 76.397428  L 107.688571 76.397428  L 95.997143 76.397428  z \" style=\"fill:#a1dab4;stroke:#444443;stroke-linejoin:miter;stroke-width:0.5;\" />\n   </g>\n   <g id=\"patch_39\">\n    <path clip-path=\"url(#pbc93b7a75e)\" d=\"M 107.688571 76.397428  L 119.38 76.397428  L 119.38 76.397428  L 107.688571 76.397428  z \" style=\"fill:#a1dab4;stroke:#444443;stroke-linejoin:miter;stroke-width:0.5;\" />\n   </g>\n   <g id=\"patch_40\">\n    <path clip-path=\"url(#pbc93b7a75e)\" d=\"M 119.38 76.397428  L 131.071429 76.397428  L 131.071429 76.397428  L 119.38 76.397428  z \" style=\"fill:#a1dab4;stroke:#444443;stroke-linejoin:miter;stroke-width:0.5;\" />\n   </g>\n   <g id=\"patch_41\">\n    <path clip-path=\"url(#pbc93b7a75e)\" d=\"M 131.071429 76.397428  L 142.762857 76.397428  L 142.762857 76.397428  L 131.071429 76.397428  z \" style=\"fill:#a1dab4;stroke:#444443;stroke-linejoin:miter;stroke-width:0.5;\" />\n   </g>\n   <g id=\"patch_42\">\n    <path clip-path=\"url(#pbc93b7a75e)\" d=\"M 142.762857 76.397428  L 154.454286 76.397428  L 154.454286 76.397428  L 142.762857 76.397428  z \" style=\"fill:#a1dab4;stroke:#444443;stroke-linejoin:miter;stroke-width:0.5;\" />\n   </g>\n   <g id=\"patch_43\">\n    <path clip-path=\"url(#pbc93b7a75e)\" d=\"M 154.454286 76.397428  L 166.145714 76.397428  L 166.145714 76.397428  L 154.454286 76.397428  z \" style=\"fill:#a1dab4;stroke:#444443;stroke-linejoin:miter;stroke-width:0.5;\" />\n   </g>\n   <g id=\"patch_44\">\n    <path clip-path=\"url(#pbc93b7a75e)\" d=\"M 166.145714 76.397428  L 177.837143 76.397428  L 177.837143 76.397428  L 166.145714 76.397428  z \" style=\"fill:#a1dab4;stroke:#444443;stroke-linejoin:miter;stroke-width:0.5;\" />\n   </g>\n   <g id=\"patch_45\">\n    <path clip-path=\"url(#pbc93b7a75e)\" d=\"M 177.837143 76.397428  L 189.528571 76.397428  L 189.528571 76.397428  L 177.837143 76.397428  z \" style=\"fill:#a1dab4;stroke:#444443;stroke-linejoin:miter;stroke-width:0.5;\" />\n   </g>\n   <g id=\"patch_46\">\n    <path clip-path=\"url(#pbc93b7a75e)\" d=\"M 189.528571 76.397428  L 201.22 76.397428  L 201.22 76.397428  L 189.528571 76.397428  z \" style=\"fill:#a1dab4;stroke:#444443;stroke-linejoin:miter;stroke-width:0.5;\" />\n   </g>\n   <g id=\"patch_47\">\n    <path clip-path=\"url(#pbc93b7a75e)\" d=\"M 201.22 76.286628  L 212.911429 76.286628  L 212.911429 76.125317  L 201.22 76.125317  z \" style=\"fill:#a1dab4;stroke:#444443;stroke-linejoin:miter;stroke-width:0.5;\" />\n   </g>\n   <g id=\"patch_48\">\n    <path clip-path=\"url(#pbc93b7a75e)\" d=\"M 37.54 3.039375  L 49.231429 3.039375  L 49.231429 3.039375  L 37.54 3.039375  z \" style=\"fill:#fee090;stroke:#444443;stroke-linejoin:miter;stroke-width:0.5;\" />\n   </g>\n   <g id=\"patch_49\">\n    <path clip-path=\"url(#pbc93b7a75e)\" d=\"M 49.231429 76.397428  L 60.922857 76.397428  L 60.922857 76.397428  L 49.231429 76.397428  z \" style=\"fill:#fee090;stroke:#444443;stroke-linejoin:miter;stroke-width:0.5;\" />\n   </g>\n   <g id=\"patch_50\">\n    <path clip-path=\"url(#pbc93b7a75e)\" d=\"M 60.922857 76.397428  L 72.614286 76.397428  L 72.614286 76.397428  L 60.922857 76.397428  z \" style=\"fill:#fee090;stroke:#444443;stroke-linejoin:miter;stroke-width:0.5;\" />\n   </g>\n   <g id=\"patch_51\">\n    <path clip-path=\"url(#pbc93b7a75e)\" d=\"M 72.614286 76.397428  L 84.305714 76.397428  L 84.305714 76.397428  L 72.614286 76.397428  z \" style=\"fill:#fee090;stroke:#444443;stroke-linejoin:miter;stroke-width:0.5;\" />\n   </g>\n   <g id=\"patch_52\">\n    <path clip-path=\"url(#pbc93b7a75e)\" d=\"M 84.305714 76.397428  L 95.997143 76.397428  L 95.997143 76.397428  L 84.305714 76.397428  z \" style=\"fill:#fee090;stroke:#444443;stroke-linejoin:miter;stroke-width:0.5;\" />\n   </g>\n   <g id=\"patch_53\">\n    <path clip-path=\"url(#pbc93b7a75e)\" d=\"M 95.997143 76.397428  L 107.688571 76.397428  L 107.688571 76.397428  L 95.997143 76.397428  z \" style=\"fill:#fee090;stroke:#444443;stroke-linejoin:miter;stroke-width:0.5;\" />\n   </g>\n   <g id=\"patch_54\">\n    <path clip-path=\"url(#pbc93b7a75e)\" d=\"M 107.688571 76.397428  L 119.38 76.397428  L 119.38 76.397428  L 107.688571 76.397428  z \" style=\"fill:#fee090;stroke:#444443;stroke-linejoin:miter;stroke-width:0.5;\" />\n   </g>\n   <g id=\"patch_55\">\n    <path clip-path=\"url(#pbc93b7a75e)\" d=\"M 119.38 76.397428  L 131.071429 76.397428  L 131.071429 76.397428  L 119.38 76.397428  z \" style=\"fill:#fee090;stroke:#444443;stroke-linejoin:miter;stroke-width:0.5;\" />\n   </g>\n   <g id=\"patch_56\">\n    <path clip-path=\"url(#pbc93b7a75e)\" d=\"M 131.071429 76.397428  L 142.762857 76.397428  L 142.762857 76.397428  L 131.071429 76.397428  z \" style=\"fill:#fee090;stroke:#444443;stroke-linejoin:miter;stroke-width:0.5;\" />\n   </g>\n   <g id=\"patch_57\">\n    <path clip-path=\"url(#pbc93b7a75e)\" d=\"M 142.762857 76.397428  L 154.454286 76.397428  L 154.454286 76.397428  L 142.762857 76.397428  z \" style=\"fill:#fee090;stroke:#444443;stroke-linejoin:miter;stroke-width:0.5;\" />\n   </g>\n   <g id=\"patch_58\">\n    <path clip-path=\"url(#pbc93b7a75e)\" d=\"M 154.454286 76.397428  L 166.145714 76.397428  L 166.145714 76.397428  L 154.454286 76.397428  z \" style=\"fill:#fee090;stroke:#444443;stroke-linejoin:miter;stroke-width:0.5;\" />\n   </g>\n   <g id=\"patch_59\">\n    <path clip-path=\"url(#pbc93b7a75e)\" d=\"M 166.145714 76.397428  L 177.837143 76.397428  L 177.837143 76.397428  L 166.145714 76.397428  z \" style=\"fill:#fee090;stroke:#444443;stroke-linejoin:miter;stroke-width:0.5;\" />\n   </g>\n   <g id=\"patch_60\">\n    <path clip-path=\"url(#pbc93b7a75e)\" d=\"M 177.837143 76.397428  L 189.528571 76.397428  L 189.528571 76.397428  L 177.837143 76.397428  z \" style=\"fill:#fee090;stroke:#444443;stroke-linejoin:miter;stroke-width:0.5;\" />\n   </g>\n   <g id=\"patch_61\">\n    <path clip-path=\"url(#pbc93b7a75e)\" d=\"M 189.528571 76.397428  L 201.22 76.397428  L 201.22 76.397428  L 189.528571 76.397428  z \" style=\"fill:#fee090;stroke:#444443;stroke-linejoin:miter;stroke-width:0.5;\" />\n   </g>\n   <g id=\"patch_62\">\n    <path clip-path=\"url(#pbc93b7a75e)\" d=\"M 201.22 76.125317  L 212.911429 76.125317  L 212.911429 76.125317  L 201.22 76.125317  z \" style=\"fill:#fee090;stroke:#444443;stroke-linejoin:miter;stroke-width:0.5;\" />\n   </g>\n   <g id=\"patch_63\">\n    <path d=\"M 125.225714 77.212828  L 121.911194 84.551428  L 128.540234 84.551428  z \" style=\"fill:#444443;\" />\n   </g>\n   <g id=\"matplotlib.axis_1\">\n    <g id=\"xtick_1\">\n     <g id=\"line2d_1\">\n      <defs>\n       <path d=\"M 0 0  L 0 3.5  \" id=\"m72ced05bed\" style=\"stroke:#000000;stroke-width:0.3;\" />\n      </defs>\n      <g>\n       <use style=\"stroke:#000000;stroke-width:0.3;\" x=\"37.54\" y=\"76.397428\" xlink:href=\"#m72ced05bed\" />\n      </g>\n     </g>\n     <g id=\"text_1\">\n      \n      <defs>\n       <path d=\"M 31.78125 66.40625  Q 24.171875 66.40625 20.328125 58.90625  Q 16.5 51.421875 16.5 36.375  Q 16.5 21.390625 20.328125 13.890625  Q 24.171875 6.390625 31.78125 6.390625  Q 39.453125 6.390625 43.28125 13.890625  Q 47.125 21.390625 47.125 36.375  Q 47.125 51.421875 43.28125 58.90625  Q 39.453125 66.40625 31.78125 66.40625  z M 31.78125 74.21875  Q 44.046875 74.21875 50.515625 64.515625  Q 56.984375 54.828125 56.984375 36.375  Q 56.984375 17.96875 50.515625 8.265625  Q 44.046875 -1.421875 31.78125 -1.421875  Q 19.53125 -1.421875 13.0625 8.265625  Q 6.59375 17.96875 6.59375 36.375  Q 6.59375 54.828125 13.0625 64.515625  Q 19.53125 74.21875 31.78125 74.21875  z \" id=\"DejaVuSans-48\" />\n      </defs>\n      <g style=\"fill:#444443;\" transform=\"translate(34.995 89.476178)scale(0.08 -0.08)\">\n       <use xlink:href=\"#DejaVuSans-48\" />\n      </g>\n     </g>\n    </g>\n    <g id=\"xtick_2\">\n     <g id=\"line2d_2\">\n      <g>\n       <use style=\"stroke:#000000;stroke-width:0.3;\" x=\"212.911429\" y=\"76.397428\" xlink:href=\"#m72ced05bed\" />\n      </g>\n     </g>\n     <g id=\"text_2\">\n      \n      <defs>\n       <path d=\"M 12.40625 8.296875  L 28.515625 8.296875  L 28.515625 63.921875  L 10.984375 60.40625  L 10.984375 69.390625  L 28.421875 72.90625  L 38.28125 72.90625  L 38.28125 8.296875  L 54.390625 8.296875  L 54.390625 0  L 12.40625 0  z \" id=\"DejaVuSans-49\" />\n      </defs>\n      <g style=\"fill:#444443;\" transform=\"translate(210.366429 89.476178)scale(0.08 -0.08)\">\n       <use xlink:href=\"#DejaVuSans-49\" />\n      </g>\n     </g>\n    </g>\n    <g id=\"text_3\">\n     \n     <defs>\n      <path d=\"M 9.421875 54.6875  L 18.40625 54.6875  L 18.40625 0  L 9.421875 0  z M 9.421875 75.984375  L 18.40625 75.984375  L 18.40625 64.59375  L 9.421875 64.59375  z \" id=\"DejaVuSans-105\" />\n      <path d=\"M 54.890625 33.015625  L 54.890625 0  L 45.90625 0  L 45.90625 32.71875  Q 45.90625 40.484375 42.875 44.328125  Q 39.84375 48.1875 33.796875 48.1875  Q 26.515625 48.1875 22.3125 43.546875  Q 18.109375 38.921875 18.109375 30.90625  L 18.109375 0  L 9.078125 0  L 9.078125 54.6875  L 18.109375 54.6875  L 18.109375 46.1875  Q 21.34375 51.125 25.703125 53.5625  Q 30.078125 56 35.796875 56  Q 45.21875 56 50.046875 50.171875  Q 54.890625 44.34375 54.890625 33.015625  z \" id=\"DejaVuSans-110\" />\n      <path d=\"M 45.40625 46.390625  L 45.40625 75.984375  L 54.390625 75.984375  L 54.390625 0  L 45.40625 0  L 45.40625 8.203125  Q 42.578125 3.328125 38.25 0.953125  Q 33.9375 -1.421875 27.875 -1.421875  Q 17.96875 -1.421875 11.734375 6.484375  Q 5.515625 14.40625 5.515625 27.296875  Q 5.515625 40.1875 11.734375 48.09375  Q 17.96875 56 27.875 56  Q 33.9375 56 38.25 53.625  Q 42.578125 51.265625 45.40625 46.390625  z M 14.796875 27.296875  Q 14.796875 17.390625 18.875 11.75  Q 22.953125 6.109375 30.078125 6.109375  Q 37.203125 6.109375 41.296875 11.75  Q 45.40625 17.390625 45.40625 27.296875  Q 45.40625 37.203125 41.296875 42.84375  Q 37.203125 48.484375 30.078125 48.484375  Q 22.953125 48.484375 18.875 42.84375  Q 14.796875 37.203125 14.796875 27.296875  z \" id=\"DejaVuSans-100\" />\n      <path d=\"M 50.984375 -16.609375  L 50.984375 -23.578125  L -0.984375 -23.578125  L -0.984375 -16.609375  z \" id=\"DejaVuSans-95\" />\n      <path d=\"M 48.78125 52.59375  L 48.78125 44.1875  Q 44.96875 46.296875 41.140625 47.34375  Q 37.3125 48.390625 33.40625 48.390625  Q 24.65625 48.390625 19.8125 42.84375  Q 14.984375 37.3125 14.984375 27.296875  Q 14.984375 17.28125 19.8125 11.734375  Q 24.65625 6.203125 33.40625 6.203125  Q 37.3125 6.203125 41.140625 7.25  Q 44.96875 8.296875 48.78125 10.40625  L 48.78125 2.09375  Q 45.015625 0.34375 40.984375 -0.53125  Q 36.96875 -1.421875 32.421875 -1.421875  Q 20.0625 -1.421875 12.78125 6.34375  Q 5.515625 14.109375 5.515625 27.296875  Q 5.515625 40.671875 12.859375 48.328125  Q 20.21875 56 33.015625 56  Q 37.15625 56 41.109375 55.140625  Q 45.0625 54.296875 48.78125 52.59375  z \" id=\"DejaVuSans-99\" />\n      <path d=\"M 30.609375 48.390625  Q 23.390625 48.390625 19.1875 42.75  Q 14.984375 37.109375 14.984375 27.296875  Q 14.984375 17.484375 19.15625 11.84375  Q 23.34375 6.203125 30.609375 6.203125  Q 37.796875 6.203125 41.984375 11.859375  Q 46.1875 17.53125 46.1875 27.296875  Q 46.1875 37.015625 41.984375 42.703125  Q 37.796875 48.390625 30.609375 48.390625  z M 30.609375 56  Q 42.328125 56 49.015625 48.375  Q 55.71875 40.765625 55.71875 27.296875  Q 55.71875 13.875 49.015625 6.21875  Q 42.328125 -1.421875 30.609375 -1.421875  Q 18.84375 -1.421875 12.171875 6.21875  Q 5.515625 13.875 5.515625 27.296875  Q 5.515625 40.765625 12.171875 48.375  Q 18.84375 56 30.609375 56  z \" id=\"DejaVuSans-111\" />\n      <path d=\"M 37.109375 75.984375  L 37.109375 68.5  L 28.515625 68.5  Q 23.6875 68.5 21.796875 66.546875  Q 19.921875 64.59375 19.921875 59.515625  L 19.921875 54.6875  L 34.71875 54.6875  L 34.71875 47.703125  L 19.921875 47.703125  L 19.921875 0  L 10.890625 0  L 10.890625 47.703125  L 2.296875 47.703125  L 2.296875 54.6875  L 10.890625 54.6875  L 10.890625 58.5  Q 10.890625 67.625 15.140625 71.796875  Q 19.390625 75.984375 28.609375 75.984375  z \" id=\"DejaVuSans-102\" />\n      <path d=\"M 8.5 21.578125  L 8.5 54.6875  L 17.484375 54.6875  L 17.484375 21.921875  Q 17.484375 14.15625 20.5 10.265625  Q 23.53125 6.390625 29.59375 6.390625  Q 36.859375 6.390625 41.078125 11.03125  Q 45.3125 15.671875 45.3125 23.6875  L 45.3125 54.6875  L 54.296875 54.6875  L 54.296875 0  L 45.3125 0  L 45.3125 8.40625  Q 42.046875 3.421875 37.71875 1  Q 33.40625 -1.421875 27.6875 -1.421875  Q 18.265625 -1.421875 13.375 4.4375  Q 8.5 10.296875 8.5 21.578125  z M 31.109375 56  z \" id=\"DejaVuSans-117\" />\n      <path d=\"M 9.421875 75.984375  L 18.40625 75.984375  L 18.40625 0  L 9.421875 0  z \" id=\"DejaVuSans-108\" />\n      <path d=\"M 18.3125 70.21875  L 18.3125 54.6875  L 36.8125 54.6875  L 36.8125 47.703125  L 18.3125 47.703125  L 18.3125 18.015625  Q 18.3125 11.328125 20.140625 9.421875  Q 21.96875 7.515625 27.59375 7.515625  L 36.8125 7.515625  L 36.8125 0  L 27.59375 0  Q 17.1875 0 13.234375 3.875  Q 9.28125 7.765625 9.28125 18.015625  L 9.28125 47.703125  L 2.6875 47.703125  L 2.6875 54.6875  L 9.28125 54.6875  L 9.28125 70.21875  z \" id=\"DejaVuSans-116\" />\n     </defs>\n     <g style=\"fill:#444443;\" transform=\"translate(81.338125 104.258053)scale(0.12 -0.12)\">\n      <use xlink:href=\"#DejaVuSans-105\" />\n      <use x=\"27.783203\" xlink:href=\"#DejaVuSans-110\" />\n      <use x=\"91.162109\" xlink:href=\"#DejaVuSans-100\" />\n      <use x=\"154.638672\" xlink:href=\"#DejaVuSans-95\" />\n      <use x=\"204.638672\" xlink:href=\"#DejaVuSans-99\" />\n      <use x=\"259.619141\" xlink:href=\"#DejaVuSans-110\" />\n      <use x=\"322.998047\" xlink:href=\"#DejaVuSans-111\" />\n      <use x=\"384.179688\" xlink:href=\"#DejaVuSans-95\" />\n      <use x=\"434.179688\" xlink:href=\"#DejaVuSans-102\" />\n      <use x=\"469.384766\" xlink:href=\"#DejaVuSans-105\" />\n      <use x=\"497.167969\" xlink:href=\"#DejaVuSans-110\" />\n      <use x=\"560.546875\" xlink:href=\"#DejaVuSans-95\" />\n      <use x=\"610.546875\" xlink:href=\"#DejaVuSans-117\" />\n      <use x=\"673.925781\" xlink:href=\"#DejaVuSans-108\" />\n      <use x=\"701.708984\" xlink:href=\"#DejaVuSans-116\" />\n      <use x=\"740.917969\" xlink:href=\"#DejaVuSans-49\" />\n     </g>\n    </g>\n   </g>\n   <g id=\"matplotlib.axis_2\">\n    <g id=\"ytick_1\">\n     <g id=\"line2d_3\">\n      <defs>\n       <path d=\"M 0 0  L -3.5 0  \" id=\"maed73179f8\" style=\"stroke:#000000;stroke-width:0.3;\" />\n      </defs>\n      <g>\n       <use style=\"stroke:#000000;stroke-width:0.3;\" x=\"37.54\" y=\"76.397428\" xlink:href=\"#maed73179f8\" />\n      </g>\n     </g>\n     <g id=\"text_4\">\n      \n      <g style=\"fill:#444443;\" transform=\"translate(25.45 79.436803)scale(0.08 -0.08)\">\n       <use xlink:href=\"#DejaVuSans-48\" />\n      </g>\n     </g>\n    </g>\n    <g id=\"ytick_2\">\n     <g id=\"line2d_4\">\n      <g>\n       <use style=\"stroke:#000000;stroke-width:0.3;\" x=\"37.54\" y=\"3.039375\" xlink:href=\"#maed73179f8\" />\n      </g>\n     </g>\n     <g id=\"text_5\">\n      \n      <defs>\n       <path d=\"M 40.578125 39.3125  Q 47.65625 37.796875 51.625 33  Q 55.609375 28.21875 55.609375 21.1875  Q 55.609375 10.40625 48.1875 4.484375  Q 40.765625 -1.421875 27.09375 -1.421875  Q 22.515625 -1.421875 17.65625 -0.515625  Q 12.796875 0.390625 7.625 2.203125  L 7.625 11.71875  Q 11.71875 9.328125 16.59375 8.109375  Q 21.484375 6.890625 26.8125 6.890625  Q 36.078125 6.890625 40.9375 10.546875  Q 45.796875 14.203125 45.796875 21.1875  Q 45.796875 27.640625 41.28125 31.265625  Q 36.765625 34.90625 28.71875 34.90625  L 20.21875 34.90625  L 20.21875 43.015625  L 29.109375 43.015625  Q 36.375 43.015625 40.234375 45.921875  Q 44.09375 48.828125 44.09375 54.296875  Q 44.09375 59.90625 40.109375 62.90625  Q 36.140625 65.921875 28.71875 65.921875  Q 24.65625 65.921875 20.015625 65.03125  Q 15.375 64.15625 9.8125 62.3125  L 9.8125 71.09375  Q 15.4375 72.65625 20.34375 73.4375  Q 25.25 74.21875 29.59375 74.21875  Q 40.828125 74.21875 47.359375 69.109375  Q 53.90625 64.015625 53.90625 55.328125  Q 53.90625 49.265625 50.4375 45.09375  Q 46.96875 40.921875 40.578125 39.3125  z \" id=\"DejaVuSans-51\" />\n       <path d=\"M 33.015625 40.375  Q 26.375 40.375 22.484375 35.828125  Q 18.609375 31.296875 18.609375 23.390625  Q 18.609375 15.53125 22.484375 10.953125  Q 26.375 6.390625 33.015625 6.390625  Q 39.65625 6.390625 43.53125 10.953125  Q 47.40625 15.53125 47.40625 23.390625  Q 47.40625 31.296875 43.53125 35.828125  Q 39.65625 40.375 33.015625 40.375  z M 52.59375 71.296875  L 52.59375 62.3125  Q 48.875 64.0625 45.09375 64.984375  Q 41.3125 65.921875 37.59375 65.921875  Q 27.828125 65.921875 22.671875 59.328125  Q 17.53125 52.734375 16.796875 39.40625  Q 19.671875 43.65625 24.015625 45.921875  Q 28.375 48.1875 33.59375 48.1875  Q 44.578125 48.1875 50.953125 41.515625  Q 57.328125 34.859375 57.328125 23.390625  Q 57.328125 12.15625 50.6875 5.359375  Q 44.046875 -1.421875 33.015625 -1.421875  Q 20.359375 -1.421875 13.671875 8.265625  Q 6.984375 17.96875 6.984375 36.375  Q 6.984375 53.65625 15.1875 63.9375  Q 23.390625 74.21875 37.203125 74.21875  Q 40.921875 74.21875 44.703125 73.484375  Q 48.484375 72.75 52.59375 71.296875  z \" id=\"DejaVuSans-54\" />\n       <path d=\"M 8.203125 72.90625  L 55.078125 72.90625  L 55.078125 68.703125  L 28.609375 0  L 18.3125 0  L 43.21875 64.59375  L 8.203125 64.59375  z \" id=\"DejaVuSans-55\" />\n      </defs>\n      <g style=\"fill:#444443;\" transform=\"translate(0 6.07875)scale(0.08 -0.08)\">\n       <use xlink:href=\"#DejaVuSans-51\" />\n       <use x=\"63.623047\" xlink:href=\"#DejaVuSans-54\" />\n       <use x=\"127.246094\" xlink:href=\"#DejaVuSans-48\" />\n       <use x=\"190.869141\" xlink:href=\"#DejaVuSans-49\" />\n       <use x=\"254.492188\" xlink:href=\"#DejaVuSans-55\" />\n       <use x=\"318.115234\" xlink:href=\"#DejaVuSans-48\" />\n      </g>\n     </g>\n    </g>\n   </g>\n   <g id=\"patch_64\">\n    <path d=\"M 37.54 76.397428  L 37.54 3.039375  \" style=\"fill:none;stroke:#000000;stroke-linecap:square;stroke-linejoin:miter;stroke-width:0.3;\" />\n   </g>\n   <g id=\"patch_65\">\n    <path d=\"M 37.54 76.397428  L 221.68 76.397428  \" style=\"fill:none;stroke:#000000;stroke-linecap:square;stroke-linejoin:miter;stroke-width:0.3;\" />\n   </g>\n   <g id=\"text_6\">\n    \n    <defs>\n     <path d=\"M 10.6875 12.40625  L 21 12.40625  L 21 0  L 10.6875 0  z \" id=\"DejaVuSans-46\" />\n     <path d=\"M 10.796875 72.90625  L 49.515625 72.90625  L 49.515625 64.59375  L 19.828125 64.59375  L 19.828125 46.734375  Q 21.96875 47.46875 24.109375 47.828125  Q 26.265625 48.1875 28.421875 48.1875  Q 40.625 48.1875 47.75 41.5  Q 54.890625 34.8125 54.890625 23.390625  Q 54.890625 11.625 47.5625 5.09375  Q 40.234375 -1.421875 26.90625 -1.421875  Q 22.3125 -1.421875 17.546875 -0.640625  Q 12.796875 0.140625 7.71875 1.703125  L 7.71875 11.625  Q 12.109375 9.234375 16.796875 8.0625  Q 21.484375 6.890625 26.703125 6.890625  Q 35.15625 6.890625 40.078125 11.328125  Q 45.015625 15.765625 45.015625 23.390625  Q 45.015625 31 40.078125 35.4375  Q 35.15625 39.890625 26.703125 39.890625  Q 22.75 39.890625 18.8125 39.015625  Q 14.890625 38.140625 10.796875 36.28125  z \" id=\"DejaVuSans-53\" />\n    </defs>\n    <g style=\"fill:#444443;\" transform=\"translate(116.319464 92.705428)scale(0.08 -0.08)\">\n     <use xlink:href=\"#DejaVuSans-48\" />\n     <use x=\"63.623047\" xlink:href=\"#DejaVuSans-46\" />\n     <use x=\"95.410156\" xlink:href=\"#DejaVuSans-53\" />\n     <use x=\"159.033203\" xlink:href=\"#DejaVuSans-48\" />\n    </g>\n   </g>\n  </g>\n </g>\n <defs>\n  <clipPath id=\"pbc93b7a75e\">\n   <rect height=\"73.358053\" width=\"184.14\" x=\"37.54\" y=\"3.039375\" />\n  </clipPath>\n </defs>\n</svg></g>\n\n<g class=\"node\" id=\"node15\">\n<title>leaf17</title>\n<polygon fill=\"none\" points=\"499,-83.5 432,-83.5 432,-.5 499,-.5 499,-83.5\" stroke=\"#444443\" stroke-width=\"0\" />\n<svg height=\"75px\" preserveAspectRatio=\"xMinYMin meet\" version=\"1.1\" viewBox=\"0 0 78.52 100.449144\" width=\"59px\" x=\"436.5\" y=\"-79\">\n <defs>\n  <style type=\"text/css\">\n*{stroke-linecap:butt;stroke-linejoin:round;}\n  </style>\n </defs>\n <g id=\"figure_1\">\n  <g id=\"patch_1\">\n   <path d=\"M -0 100.449144  L 78.52 100.449144  L 78.52 -0  L -0 -0  z \" style=\"fill:#ffffff;\" />\n  </g>\n  <g id=\"axes_1\">\n   <g id=\"patch_2\">\n    <path d=\"M 78.52 39.26  C 78.52 34.104424 77.504464 28.99898 75.53151 24.235848  C 73.558557 19.472717 70.666555 15.14453 67.021012 11.498988  C 63.37547 7.853445 59.047283 4.961443 54.284152 2.98849  C 49.52102 1.015536 44.415576 0 39.26 0  C 34.104424 0 28.99898 1.015536 24.235848 2.98849  C 19.472717 4.961443 15.14453 7.853445 11.498988 11.498988  C 7.853445 15.14453 4.961443 19.472717 2.98849 24.235848  C 1.015536 28.99898 0 34.104424 0 39.26  C 0 44.415576 1.015536 49.52102 2.98849 54.284152  C 4.961443 59.047283 7.853445 63.37547 11.498988 67.021012  C 15.14453 70.666555 19.472717 73.558557 24.235848 75.53151  C 28.99898 77.504464 34.104424 78.52 39.26 78.52  C 44.415576 78.52 49.52102 77.504464 54.284152 75.53151  C 59.047283 73.558557 63.37547 70.666555 67.021012 67.021012  C 70.666555 63.37547 73.558557 59.047283 75.53151 54.284152  C 77.504464 49.52102 78.52 44.415576 78.52 39.26  M 39.26 39.26  M 78.52 39.26  z \" style=\"fill:#fefebb;stroke:#444443;stroke-linejoin:miter;stroke-width:0.5;\" />\n   </g>\n   <g id=\"text_1\">\n    \n    <defs>\n     <path d=\"M 54.890625 33.015625  L 54.890625 0  L 45.90625 0  L 45.90625 32.71875  Q 45.90625 40.484375 42.875 44.328125  Q 39.84375 48.1875 33.796875 48.1875  Q 26.515625 48.1875 22.3125 43.546875  Q 18.109375 38.921875 18.109375 30.90625  L 18.109375 0  L 9.078125 0  L 9.078125 54.6875  L 18.109375 54.6875  L 18.109375 46.1875  Q 21.34375 51.125 25.703125 53.5625  Q 30.078125 56 35.796875 56  Q 45.21875 56 50.046875 50.171875  Q 54.890625 44.34375 54.890625 33.015625  z \" id=\"DejaVuSans-110\" />\n     <path d=\"M 10.59375 45.40625  L 73.1875 45.40625  L 73.1875 37.203125  L 10.59375 37.203125  z M 10.59375 25.484375  L 73.1875 25.484375  L 73.1875 17.1875  L 10.59375 17.1875  z \" id=\"DejaVuSans-61\" />\n     <path d=\"M 40.578125 39.3125  Q 47.65625 37.796875 51.625 33  Q 55.609375 28.21875 55.609375 21.1875  Q 55.609375 10.40625 48.1875 4.484375  Q 40.765625 -1.421875 27.09375 -1.421875  Q 22.515625 -1.421875 17.65625 -0.515625  Q 12.796875 0.390625 7.625 2.203125  L 7.625 11.71875  Q 11.71875 9.328125 16.59375 8.109375  Q 21.484375 6.890625 26.8125 6.890625  Q 36.078125 6.890625 40.9375 10.546875  Q 45.796875 14.203125 45.796875 21.1875  Q 45.796875 27.640625 41.28125 31.265625  Q 36.765625 34.90625 28.71875 34.90625  L 20.21875 34.90625  L 20.21875 43.015625  L 29.109375 43.015625  Q 36.375 43.015625 40.234375 45.921875  Q 44.09375 48.828125 44.09375 54.296875  Q 44.09375 59.90625 40.109375 62.90625  Q 36.140625 65.921875 28.71875 65.921875  Q 24.65625 65.921875 20.015625 65.03125  Q 15.375 64.15625 9.8125 62.3125  L 9.8125 71.09375  Q 15.4375 72.65625 20.34375 73.4375  Q 25.25 74.21875 29.59375 74.21875  Q 40.828125 74.21875 47.359375 69.109375  Q 53.90625 64.015625 53.90625 55.328125  Q 53.90625 49.265625 50.4375 45.09375  Q 46.96875 40.921875 40.578125 39.3125  z \" id=\"DejaVuSans-51\" />\n     <path d=\"M 33.015625 40.375  Q 26.375 40.375 22.484375 35.828125  Q 18.609375 31.296875 18.609375 23.390625  Q 18.609375 15.53125 22.484375 10.953125  Q 26.375 6.390625 33.015625 6.390625  Q 39.65625 6.390625 43.53125 10.953125  Q 47.40625 15.53125 47.40625 23.390625  Q 47.40625 31.296875 43.53125 35.828125  Q 39.65625 40.375 33.015625 40.375  z M 52.59375 71.296875  L 52.59375 62.3125  Q 48.875 64.0625 45.09375 64.984375  Q 41.3125 65.921875 37.59375 65.921875  Q 27.828125 65.921875 22.671875 59.328125  Q 17.53125 52.734375 16.796875 39.40625  Q 19.671875 43.65625 24.015625 45.921875  Q 28.375 48.1875 33.59375 48.1875  Q 44.578125 48.1875 50.953125 41.515625  Q 57.328125 34.859375 57.328125 23.390625  Q 57.328125 12.15625 50.6875 5.359375  Q 44.046875 -1.421875 33.015625 -1.421875  Q 20.359375 -1.421875 13.671875 8.265625  Q 6.984375 17.96875 6.984375 36.375  Q 6.984375 53.65625 15.1875 63.9375  Q 23.390625 74.21875 37.203125 74.21875  Q 40.921875 74.21875 44.703125 73.484375  Q 48.484375 72.75 52.59375 71.296875  z \" id=\"DejaVuSans-54\" />\n     <path d=\"M 31.78125 66.40625  Q 24.171875 66.40625 20.328125 58.90625  Q 16.5 51.421875 16.5 36.375  Q 16.5 21.390625 20.328125 13.890625  Q 24.171875 6.390625 31.78125 6.390625  Q 39.453125 6.390625 43.28125 13.890625  Q 47.125 21.390625 47.125 36.375  Q 47.125 51.421875 43.28125 58.90625  Q 39.453125 66.40625 31.78125 66.40625  z M 31.78125 74.21875  Q 44.046875 74.21875 50.515625 64.515625  Q 56.984375 54.828125 56.984375 36.375  Q 56.984375 17.96875 50.515625 8.265625  Q 44.046875 -1.421875 31.78125 -1.421875  Q 19.53125 -1.421875 13.0625 8.265625  Q 6.59375 17.96875 6.59375 36.375  Q 6.59375 54.828125 13.0625 64.515625  Q 19.53125 74.21875 31.78125 74.21875  z \" id=\"DejaVuSans-48\" />\n     <path d=\"M 12.40625 8.296875  L 28.515625 8.296875  L 28.515625 63.921875  L 10.984375 60.40625  L 10.984375 69.390625  L 28.421875 72.90625  L 38.28125 72.90625  L 38.28125 8.296875  L 54.390625 8.296875  L 54.390625 0  L 12.40625 0  z \" id=\"DejaVuSans-49\" />\n     <path d=\"M 8.203125 72.90625  L 55.078125 72.90625  L 55.078125 68.703125  L 28.609375 0  L 18.3125 0  L 43.21875 64.59375  L 8.203125 64.59375  z \" id=\"DejaVuSans-55\" />\n    </defs>\n    <g style=\"fill:#444443;\" transform=\"translate(15.458516 88.499394)scale(0.09 -0.09)\">\n     <use xlink:href=\"#DejaVuSans-110\" />\n     <use x=\"63.378906\" xlink:href=\"#DejaVuSans-61\" />\n     <use x=\"147.167969\" xlink:href=\"#DejaVuSans-51\" />\n     <use x=\"210.791016\" xlink:href=\"#DejaVuSans-54\" />\n     <use x=\"274.414062\" xlink:href=\"#DejaVuSans-48\" />\n     <use x=\"338.037109\" xlink:href=\"#DejaVuSans-49\" />\n     <use x=\"401.660156\" xlink:href=\"#DejaVuSans-55\" />\n     <use x=\"465.283203\" xlink:href=\"#DejaVuSans-48\" />\n    </g>\n    \n    <defs>\n     <path d=\"M 48.78125 52.59375  L 48.78125 44.1875  Q 44.96875 46.296875 41.140625 47.34375  Q 37.3125 48.390625 33.40625 48.390625  Q 24.65625 48.390625 19.8125 42.84375  Q 14.984375 37.3125 14.984375 27.296875  Q 14.984375 17.28125 19.8125 11.734375  Q 24.65625 6.203125 33.40625 6.203125  Q 37.3125 6.203125 41.140625 7.25  Q 44.96875 8.296875 48.78125 10.40625  L 48.78125 2.09375  Q 45.015625 0.34375 40.984375 -0.53125  Q 36.96875 -1.421875 32.421875 -1.421875  Q 20.0625 -1.421875 12.78125 6.34375  Q 5.515625 14.109375 5.515625 27.296875  Q 5.515625 40.671875 12.859375 48.328125  Q 20.21875 56 33.015625 56  Q 37.15625 56 41.109375 55.140625  Q 45.0625 54.296875 48.78125 52.59375  z \" id=\"DejaVuSans-99\" />\n     <path d=\"M 9.421875 75.984375  L 18.40625 75.984375  L 18.40625 0  L 9.421875 0  z \" id=\"DejaVuSans-108\" />\n     <path d=\"M 34.28125 27.484375  Q 23.390625 27.484375 19.1875 25  Q 14.984375 22.515625 14.984375 16.5  Q 14.984375 11.71875 18.140625 8.90625  Q 21.296875 6.109375 26.703125 6.109375  Q 34.1875 6.109375 38.703125 11.40625  Q 43.21875 16.703125 43.21875 25.484375  L 43.21875 27.484375  z M 52.203125 31.203125  L 52.203125 0  L 43.21875 0  L 43.21875 8.296875  Q 40.140625 3.328125 35.546875 0.953125  Q 30.953125 -1.421875 24.3125 -1.421875  Q 15.921875 -1.421875 10.953125 3.296875  Q 6 8.015625 6 15.921875  Q 6 25.140625 12.171875 29.828125  Q 18.359375 34.515625 30.609375 34.515625  L 43.21875 34.515625  L 43.21875 35.40625  Q 43.21875 41.609375 39.140625 45  Q 35.0625 48.390625 27.6875 48.390625  Q 23 48.390625 18.546875 47.265625  Q 14.109375 46.140625 10.015625 43.890625  L 10.015625 52.203125  Q 14.9375 54.109375 19.578125 55.046875  Q 24.21875 56 28.609375 56  Q 40.484375 56 46.34375 49.84375  Q 52.203125 43.703125 52.203125 31.203125  z \" id=\"DejaVuSans-97\" />\n     <path d=\"M 44.28125 53.078125  L 44.28125 44.578125  Q 40.484375 46.53125 36.375 47.5  Q 32.28125 48.484375 27.875 48.484375  Q 21.1875 48.484375 17.84375 46.4375  Q 14.5 44.390625 14.5 40.28125  Q 14.5 37.15625 16.890625 35.375  Q 19.28125 33.59375 26.515625 31.984375  L 29.59375 31.296875  Q 39.15625 29.25 43.1875 25.515625  Q 47.21875 21.78125 47.21875 15.09375  Q 47.21875 7.46875 41.1875 3.015625  Q 35.15625 -1.421875 24.609375 -1.421875  Q 20.21875 -1.421875 15.453125 -0.5625  Q 10.6875 0.296875 5.421875 2  L 5.421875 11.28125  Q 10.40625 8.6875 15.234375 7.390625  Q 20.0625 6.109375 24.8125 6.109375  Q 31.15625 6.109375 34.5625 8.28125  Q 37.984375 10.453125 37.984375 14.40625  Q 37.984375 18.0625 35.515625 20.015625  Q 33.0625 21.96875 24.703125 23.78125  L 21.578125 24.515625  Q 13.234375 26.265625 9.515625 29.90625  Q 5.8125 33.546875 5.8125 39.890625  Q 5.8125 47.609375 11.28125 51.796875  Q 16.75 56 26.8125 56  Q 31.78125 56 36.171875 55.265625  Q 40.578125 54.546875 44.28125 53.078125  z \" id=\"DejaVuSans-115\" />\n     <path id=\"DejaVuSans-32\" />\n    </defs>\n    <g style=\"fill:#444443;\" transform=\"translate(23.796172 98.577425)scale(0.09 -0.09)\">\n     <use xlink:href=\"#DejaVuSans-99\" />\n     <use x=\"54.980469\" xlink:href=\"#DejaVuSans-108\" />\n     <use x=\"82.763672\" xlink:href=\"#DejaVuSans-97\" />\n     <use x=\"144.042969\" xlink:href=\"#DejaVuSans-115\" />\n     <use x=\"196.142578\" xlink:href=\"#DejaVuSans-115\" />\n     <use x=\"248.242188\" xlink:href=\"#DejaVuSans-32\" />\n     <use x=\"280.029297\" xlink:href=\"#DejaVuSans-48\" />\n    </g>\n   </g>\n  </g>\n </g>\n</svg></g>\n\n<g class=\"edge\" id=\"edge13\">\n<title>node7-&gt;leaf17</title>\n<path d=\"M483.6504,-100.7054C482.3055,-96.3552 480.9399,-91.9383 479.5925,-87.5805\" fill=\"none\" stroke=\"#444443\" stroke-width=\".3\" />\n<polygon fill=\"#444443\" points=\"480.8806,-87.0068 478.3615,-83.5988 478.2055,-87.8339 480.8806,-87.0068\" stroke=\"#444443\" stroke-width=\".3\" />\n</g>\n\n<g class=\"node\" id=\"node16\">\n<title>leaf18</title>\n<polygon fill=\"none\" points=\"580,-84 513,-84 513,0 580,0 580,-84\" stroke=\"#444443\" stroke-width=\"0\" />\n<svg height=\"76px\" preserveAspectRatio=\"xMinYMin meet\" version=\"1.1\" viewBox=\"0 0 78.966907 101.218489\" width=\"59px\" x=\"517.5\" y=\"-80\">\n <defs>\n  <style type=\"text/css\">\n*{stroke-linecap:butt;stroke-linejoin:round;}\n  </style>\n </defs>\n <g id=\"figure_1\">\n  <g id=\"patch_1\">\n   <path d=\"M 0 101.218489  L 78.966907 101.218489  L 78.966907 0  L 0 0  z \" style=\"fill:#ffffff;\" />\n  </g>\n  <g id=\"axes_1\">\n   <g id=\"patch_2\">\n    <path d=\"M 78.966907 40.029346  C 78.966907 31.588373 76.24467 23.368328 71.20643 16.595872  C 66.168189 9.823416 59.07768 4.853064 50.993006 2.426532  C 42.908331 0 34.252696 0.244308 26.317763 3.122999  C 18.38283 6.00169 11.583966 11.364074 6.935752 18.409933  L 39.706907 40.029346  L 78.966907 40.029346  z \" style=\"fill:#fefebb;stroke:#444443;stroke-linejoin:miter;stroke-width:0.5;\" />\n   </g>\n   <g id=\"patch_3\">\n    <path d=\"M 6.935752 18.409933  C 6.935752 18.409933 6.935752 18.409933 6.935752 18.409933  L 39.706907 40.029346  L 6.935752 18.409933  z \" style=\"fill:#d9e6f5;stroke:#444443;stroke-linejoin:miter;stroke-width:0.5;\" />\n   </g>\n   <g id=\"patch_4\">\n    <path d=\"M 6.935752 18.409933  C 3.565373 23.518823 1.435912 29.345773 0.717956 35.423992  C 0 41.502211 0.713247 47.664941 2.800561 53.41849  C 4.887874 59.17204 8.291986 64.358558 12.740198 68.562558  C 17.18841 72.766558 22.558683 75.872702 28.420808 77.632159  C 34.282934 79.391616 40.476083 79.756115 46.504129 78.696455  C 52.532174 77.636796 58.229733 75.182051 63.140381 71.528868  C 68.051028 67.875685 72.040038 63.12429 74.787855 57.655313  C 77.535671 52.186335 78.966907 46.14982 78.966907 40.029346  L 39.706907 40.029346  L 6.935752 18.409933  z \" style=\"fill:#a1dab4;stroke:#444443;stroke-linejoin:miter;stroke-width:0.5;\" />\n   </g>\n   <g id=\"patch_5\">\n    <path d=\"M 78.966907 40.029346  C 78.966907 40.029346 78.966907 40.029346 78.966907 40.029346  L 39.706907 40.029346  L 78.966907 40.029346  z \" style=\"fill:#fee090;stroke:#444443;stroke-linejoin:miter;stroke-width:0.5;\" />\n   </g>\n   <g id=\"text_1\">\n    \n    <defs>\n     <path d=\"M 54.890625 33.015625  L 54.890625 0  L 45.90625 0  L 45.90625 32.71875  Q 45.90625 40.484375 42.875 44.328125  Q 39.84375 48.1875 33.796875 48.1875  Q 26.515625 48.1875 22.3125 43.546875  Q 18.109375 38.921875 18.109375 30.90625  L 18.109375 0  L 9.078125 0  L 9.078125 54.6875  L 18.109375 54.6875  L 18.109375 46.1875  Q 21.34375 51.125 25.703125 53.5625  Q 30.078125 56 35.796875 56  Q 45.21875 56 50.046875 50.171875  Q 54.890625 44.34375 54.890625 33.015625  z \" id=\"DejaVuSans-110\" />\n     <path d=\"M 10.59375 45.40625  L 73.1875 45.40625  L 73.1875 37.203125  L 10.59375 37.203125  z M 10.59375 25.484375  L 73.1875 25.484375  L 73.1875 17.1875  L 10.59375 17.1875  z \" id=\"DejaVuSans-61\" />\n     <path d=\"M 12.40625 8.296875  L 28.515625 8.296875  L 28.515625 63.921875  L 10.984375 60.40625  L 10.984375 69.390625  L 28.421875 72.90625  L 38.28125 72.90625  L 38.28125 8.296875  L 54.390625 8.296875  L 54.390625 0  L 12.40625 0  z \" id=\"DejaVuSans-49\" />\n     <path d=\"M 40.578125 39.3125  Q 47.65625 37.796875 51.625 33  Q 55.609375 28.21875 55.609375 21.1875  Q 55.609375 10.40625 48.1875 4.484375  Q 40.765625 -1.421875 27.09375 -1.421875  Q 22.515625 -1.421875 17.65625 -0.515625  Q 12.796875 0.390625 7.625 2.203125  L 7.625 11.71875  Q 11.71875 9.328125 16.59375 8.109375  Q 21.484375 6.890625 26.8125 6.890625  Q 36.078125 6.890625 40.9375 10.546875  Q 45.796875 14.203125 45.796875 21.1875  Q 45.796875 27.640625 41.28125 31.265625  Q 36.765625 34.90625 28.71875 34.90625  L 20.21875 34.90625  L 20.21875 43.015625  L 29.109375 43.015625  Q 36.375 43.015625 40.234375 45.921875  Q 44.09375 48.828125 44.09375 54.296875  Q 44.09375 59.90625 40.109375 62.90625  Q 36.140625 65.921875 28.71875 65.921875  Q 24.65625 65.921875 20.015625 65.03125  Q 15.375 64.15625 9.8125 62.3125  L 9.8125 71.09375  Q 15.4375 72.65625 20.34375 73.4375  Q 25.25 74.21875 29.59375 74.21875  Q 40.828125 74.21875 47.359375 69.109375  Q 53.90625 64.015625 53.90625 55.328125  Q 53.90625 49.265625 50.4375 45.09375  Q 46.96875 40.921875 40.578125 39.3125  z \" id=\"DejaVuSans-51\" />\n     <path d=\"M 33.015625 40.375  Q 26.375 40.375 22.484375 35.828125  Q 18.609375 31.296875 18.609375 23.390625  Q 18.609375 15.53125 22.484375 10.953125  Q 26.375 6.390625 33.015625 6.390625  Q 39.65625 6.390625 43.53125 10.953125  Q 47.40625 15.53125 47.40625 23.390625  Q 47.40625 31.296875 43.53125 35.828125  Q 39.65625 40.375 33.015625 40.375  z M 52.59375 71.296875  L 52.59375 62.3125  Q 48.875 64.0625 45.09375 64.984375  Q 41.3125 65.921875 37.59375 65.921875  Q 27.828125 65.921875 22.671875 59.328125  Q 17.53125 52.734375 16.796875 39.40625  Q 19.671875 43.65625 24.015625 45.921875  Q 28.375 48.1875 33.59375 48.1875  Q 44.578125 48.1875 50.953125 41.515625  Q 57.328125 34.859375 57.328125 23.390625  Q 57.328125 12.15625 50.6875 5.359375  Q 44.046875 -1.421875 33.015625 -1.421875  Q 20.359375 -1.421875 13.671875 8.265625  Q 6.984375 17.96875 6.984375 36.375  Q 6.984375 53.65625 15.1875 63.9375  Q 23.390625 74.21875 37.203125 74.21875  Q 40.921875 74.21875 44.703125 73.484375  Q 48.484375 72.75 52.59375 71.296875  z \" id=\"DejaVuSans-54\" />\n    </defs>\n    <g style=\"fill:#444443;\" transform=\"translate(21.631673 89.268739)scale(0.09 -0.09)\">\n     <use xlink:href=\"#DejaVuSans-110\" />\n     <use x=\"63.378906\" xlink:href=\"#DejaVuSans-61\" />\n     <use x=\"147.167969\" xlink:href=\"#DejaVuSans-49\" />\n     <use x=\"210.791016\" xlink:href=\"#DejaVuSans-51\" />\n     <use x=\"274.414062\" xlink:href=\"#DejaVuSans-51\" />\n     <use x=\"338.037109\" xlink:href=\"#DejaVuSans-54\" />\n    </g>\n    \n    <defs>\n     <path d=\"M 48.78125 52.59375  L 48.78125 44.1875  Q 44.96875 46.296875 41.140625 47.34375  Q 37.3125 48.390625 33.40625 48.390625  Q 24.65625 48.390625 19.8125 42.84375  Q 14.984375 37.3125 14.984375 27.296875  Q 14.984375 17.28125 19.8125 11.734375  Q 24.65625 6.203125 33.40625 6.203125  Q 37.3125 6.203125 41.140625 7.25  Q 44.96875 8.296875 48.78125 10.40625  L 48.78125 2.09375  Q 45.015625 0.34375 40.984375 -0.53125  Q 36.96875 -1.421875 32.421875 -1.421875  Q 20.0625 -1.421875 12.78125 6.34375  Q 5.515625 14.109375 5.515625 27.296875  Q 5.515625 40.671875 12.859375 48.328125  Q 20.21875 56 33.015625 56  Q 37.15625 56 41.109375 55.140625  Q 45.0625 54.296875 48.78125 52.59375  z \" id=\"DejaVuSans-99\" />\n     <path d=\"M 9.421875 75.984375  L 18.40625 75.984375  L 18.40625 0  L 9.421875 0  z \" id=\"DejaVuSans-108\" />\n     <path d=\"M 34.28125 27.484375  Q 23.390625 27.484375 19.1875 25  Q 14.984375 22.515625 14.984375 16.5  Q 14.984375 11.71875 18.140625 8.90625  Q 21.296875 6.109375 26.703125 6.109375  Q 34.1875 6.109375 38.703125 11.40625  Q 43.21875 16.703125 43.21875 25.484375  L 43.21875 27.484375  z M 52.203125 31.203125  L 52.203125 0  L 43.21875 0  L 43.21875 8.296875  Q 40.140625 3.328125 35.546875 0.953125  Q 30.953125 -1.421875 24.3125 -1.421875  Q 15.921875 -1.421875 10.953125 3.296875  Q 6 8.015625 6 15.921875  Q 6 25.140625 12.171875 29.828125  Q 18.359375 34.515625 30.609375 34.515625  L 43.21875 34.515625  L 43.21875 35.40625  Q 43.21875 41.609375 39.140625 45  Q 35.0625 48.390625 27.6875 48.390625  Q 23 48.390625 18.546875 47.265625  Q 14.109375 46.140625 10.015625 43.890625  L 10.015625 52.203125  Q 14.9375 54.109375 19.578125 55.046875  Q 24.21875 56 28.609375 56  Q 40.484375 56 46.34375 49.84375  Q 52.203125 43.703125 52.203125 31.203125  z \" id=\"DejaVuSans-97\" />\n     <path d=\"M 44.28125 53.078125  L 44.28125 44.578125  Q 40.484375 46.53125 36.375 47.5  Q 32.28125 48.484375 27.875 48.484375  Q 21.1875 48.484375 17.84375 46.4375  Q 14.5 44.390625 14.5 40.28125  Q 14.5 37.15625 16.890625 35.375  Q 19.28125 33.59375 26.515625 31.984375  L 29.59375 31.296875  Q 39.15625 29.25 43.1875 25.515625  Q 47.21875 21.78125 47.21875 15.09375  Q 47.21875 7.46875 41.1875 3.015625  Q 35.15625 -1.421875 24.609375 -1.421875  Q 20.21875 -1.421875 15.453125 -0.5625  Q 10.6875 0.296875 5.421875 2  L 5.421875 11.28125  Q 10.40625 8.6875 15.234375 7.390625  Q 20.0625 6.109375 24.8125 6.109375  Q 31.15625 6.109375 34.5625 8.28125  Q 37.984375 10.453125 37.984375 14.40625  Q 37.984375 18.0625 35.515625 20.015625  Q 33.0625 21.96875 24.703125 23.78125  L 21.578125 24.515625  Q 13.234375 26.265625 9.515625 29.90625  Q 5.8125 33.546875 5.8125 39.890625  Q 5.8125 47.609375 11.28125 51.796875  Q 16.75 56 26.8125 56  Q 31.78125 56 36.171875 55.265625  Q 40.578125 54.546875 44.28125 53.078125  z \" id=\"DejaVuSans-115\" />\n     <path id=\"DejaVuSans-32\" />\n     <path d=\"M 19.1875 8.296875  L 53.609375 8.296875  L 53.609375 0  L 7.328125 0  L 7.328125 8.296875  Q 12.9375 14.109375 22.625 23.890625  Q 32.328125 33.6875 34.8125 36.53125  Q 39.546875 41.84375 41.421875 45.53125  Q 43.3125 49.21875 43.3125 52.78125  Q 43.3125 58.59375 39.234375 62.25  Q 35.15625 65.921875 28.609375 65.921875  Q 23.96875 65.921875 18.8125 64.3125  Q 13.671875 62.703125 7.8125 59.421875  L 7.8125 69.390625  Q 13.765625 71.78125 18.9375 73  Q 24.125 74.21875 28.421875 74.21875  Q 39.75 74.21875 46.484375 68.546875  Q 53.21875 62.890625 53.21875 53.421875  Q 53.21875 48.921875 51.53125 44.890625  Q 49.859375 40.875 45.40625 35.40625  Q 44.1875 33.984375 37.640625 27.21875  Q 31.109375 20.453125 19.1875 8.296875  z \" id=\"DejaVuSans-50\" />\n    </defs>\n    <g style=\"fill:#444443;\" transform=\"translate(24.243079 99.346771)scale(0.09 -0.09)\">\n     <use xlink:href=\"#DejaVuSans-99\" />\n     <use x=\"54.980469\" xlink:href=\"#DejaVuSans-108\" />\n     <use x=\"82.763672\" xlink:href=\"#DejaVuSans-97\" />\n     <use x=\"144.042969\" xlink:href=\"#DejaVuSans-115\" />\n     <use x=\"196.142578\" xlink:href=\"#DejaVuSans-115\" />\n     <use x=\"248.242188\" xlink:href=\"#DejaVuSans-32\" />\n     <use x=\"280.029297\" xlink:href=\"#DejaVuSans-50\" />\n    </g>\n   </g>\n  </g>\n </g>\n</svg></g>\n\n<g class=\"edge\" id=\"edge14\">\n<title>node7-&gt;leaf18</title>\n<path d=\"M518.7071,-100.7054C520.6874,-96.5225 522.6969,-92.2779 524.6826,-88.0836\" fill=\"none\" stroke=\"#444443\" stroke-width=\".3\" />\n<polygon fill=\"#444443\" points=\"526.0518,-88.4634 526.498,-84.249 523.521,-87.2653 526.0518,-88.4634\" stroke=\"#444443\" stroke-width=\".3\" />\n</g>\n\n<g class=\"node\" id=\"node17\">\n<title>leaf8</title>\n<polygon fill=\"none\" points=\"665,-187 598,-187 598,-104 665,-104 665,-187\" stroke=\"#444443\" stroke-width=\"0\" />\n<svg height=\"75px\" preserveAspectRatio=\"xMinYMin meet\" version=\"1.1\" viewBox=\"0 0 78.80116 100.587288\" width=\"59px\" x=\"602.5\" y=\"-182.5\">\n <defs>\n  <style type=\"text/css\">\n*{stroke-linecap:butt;stroke-linejoin:round;}\n  </style>\n </defs>\n <g id=\"figure_1\">\n  <g id=\"patch_1\">\n   <path d=\"M 0 100.587288  L 78.80116 100.587288  L 78.80116 0  L 0 0  z \" style=\"fill:#ffffff;\" />\n  </g>\n  <g id=\"axes_1\">\n   <g id=\"patch_2\">\n    <path d=\"M 78.80116 39.398144  C 78.80116 36.501789 78.480648 33.614308 77.84548 30.788457  C 77.210311 27.962606 76.264379 25.215701 75.024965 22.59793  L 39.54116 39.398144  L 78.80116 39.398144  z \" style=\"fill:#fefebb;stroke:#444443;stroke-linejoin:miter;stroke-width:0.5;\" />\n   </g>\n   <g id=\"patch_3\">\n    <path d=\"M 75.024965 22.59793  C 75.024965 22.59793 75.024965 22.59793 75.024965 22.59793  L 39.54116 39.398144  L 75.024965 22.59793  z \" style=\"fill:#d9e6f5;stroke:#444443;stroke-linejoin:miter;stroke-width:0.5;\" />\n   </g>\n   <g id=\"patch_4\">\n    <path d=\"M 75.024965 22.59793  C 72.974932 18.268047 70.14958 14.349735 66.688841 11.037061  C 63.228102 7.724387 59.19007 5.072957 54.77474 3.214092  C 50.359409 1.355226 45.640898 0.320128 40.852902 0.160064  C 36.064906 0 31.287799 0.717656 26.758181 2.277489  C 22.228562 3.837322 18.022467 6.213148 14.348215 9.287297  C 10.673963 12.361447 7.59323 16.082316 5.258599 20.265618  C 2.923967 24.448921 1.374627 29.024434 0.687314 33.765544  C 0 38.506654 0.18625 43.333775 1.23684 48.007829  C 2.28743 52.681883 4.184724 57.124411 6.834753 61.115385  C 9.484783 65.106358 12.843063 68.578783 16.743266 71.360679  C 20.643469 74.142574 25.020124 76.187241 29.656467 77.393413  C 34.29281 78.599585 39.111012 78.947014 43.872439 78.418493  C 48.633866 77.889972 53.258592 76.494373 57.517563 74.300817  C 61.776534 72.107261 65.598258 69.152569 68.793454 65.583081  C 71.98865 62.013593 74.503683 57.889227 76.213988 53.414255  C 77.924292 48.939282 78.80116 44.18882 78.80116 39.39815  L 39.54116 39.398144  L 75.024965 22.59793  z \" style=\"fill:#a1dab4;stroke:#444443;stroke-linejoin:miter;stroke-width:0.5;\" />\n   </g>\n   <g id=\"patch_5\">\n    <path d=\"M 78.80116 39.39815  C 78.80116 39.39815 78.80116 39.39815 78.80116 39.39815  L 39.54116 39.398144  L 78.80116 39.39815  z \" style=\"fill:#fee090;stroke:#444443;stroke-linejoin:miter;stroke-width:0.5;\" />\n   </g>\n   <g id=\"text_1\">\n    \n    <defs>\n     <path d=\"M 54.890625 33.015625  L 54.890625 0  L 45.90625 0  L 45.90625 32.71875  Q 45.90625 40.484375 42.875 44.328125  Q 39.84375 48.1875 33.796875 48.1875  Q 26.515625 48.1875 22.3125 43.546875  Q 18.109375 38.921875 18.109375 30.90625  L 18.109375 0  L 9.078125 0  L 9.078125 54.6875  L 18.109375 54.6875  L 18.109375 46.1875  Q 21.34375 51.125 25.703125 53.5625  Q 30.078125 56 35.796875 56  Q 45.21875 56 50.046875 50.171875  Q 54.890625 44.34375 54.890625 33.015625  z \" id=\"DejaVuSans-110\" />\n     <path d=\"M 10.59375 45.40625  L 73.1875 45.40625  L 73.1875 37.203125  L 10.59375 37.203125  z M 10.59375 25.484375  L 73.1875 25.484375  L 73.1875 17.1875  L 10.59375 17.1875  z \" id=\"DejaVuSans-61\" />\n     <path d=\"M 37.796875 64.3125  L 12.890625 25.390625  L 37.796875 25.390625  z M 35.203125 72.90625  L 47.609375 72.90625  L 47.609375 25.390625  L 58.015625 25.390625  L 58.015625 17.1875  L 47.609375 17.1875  L 47.609375 0  L 37.796875 0  L 37.796875 17.1875  L 4.890625 17.1875  L 4.890625 26.703125  z \" id=\"DejaVuSans-52\" />\n     <path d=\"M 10.984375 1.515625  L 10.984375 10.5  Q 14.703125 8.734375 18.5 7.8125  Q 22.3125 6.890625 25.984375 6.890625  Q 35.75 6.890625 40.890625 13.453125  Q 46.046875 20.015625 46.78125 33.40625  Q 43.953125 29.203125 39.59375 26.953125  Q 35.25 24.703125 29.984375 24.703125  Q 19.046875 24.703125 12.671875 31.3125  Q 6.296875 37.9375 6.296875 49.421875  Q 6.296875 60.640625 12.9375 67.421875  Q 19.578125 74.21875 30.609375 74.21875  Q 43.265625 74.21875 49.921875 64.515625  Q 56.59375 54.828125 56.59375 36.375  Q 56.59375 19.140625 48.40625 8.859375  Q 40.234375 -1.421875 26.421875 -1.421875  Q 22.703125 -1.421875 18.890625 -0.6875  Q 15.09375 0.046875 10.984375 1.515625  z M 30.609375 32.421875  Q 37.25 32.421875 41.125 36.953125  Q 45.015625 41.5 45.015625 49.421875  Q 45.015625 57.28125 41.125 61.84375  Q 37.25 66.40625 30.609375 66.40625  Q 23.96875 66.40625 20.09375 61.84375  Q 16.21875 57.28125 16.21875 49.421875  Q 16.21875 41.5 20.09375 36.953125  Q 23.96875 32.421875 30.609375 32.421875  z \" id=\"DejaVuSans-57\" />\n     <path d=\"M 10.796875 72.90625  L 49.515625 72.90625  L 49.515625 64.59375  L 19.828125 64.59375  L 19.828125 46.734375  Q 21.96875 47.46875 24.109375 47.828125  Q 26.265625 48.1875 28.421875 48.1875  Q 40.625 48.1875 47.75 41.5  Q 54.890625 34.8125 54.890625 23.390625  Q 54.890625 11.625 47.5625 5.09375  Q 40.234375 -1.421875 26.90625 -1.421875  Q 22.3125 -1.421875 17.546875 -0.640625  Q 12.796875 0.140625 7.71875 1.703125  L 7.71875 11.625  Q 12.109375 9.234375 16.796875 8.0625  Q 21.484375 6.890625 26.703125 6.890625  Q 35.15625 6.890625 40.078125 11.328125  Q 45.015625 15.765625 45.015625 23.390625  Q 45.015625 31 40.078125 35.4375  Q 35.15625 39.890625 26.703125 39.890625  Q 22.75 39.890625 18.8125 39.015625  Q 14.890625 38.140625 10.796875 36.28125  z \" id=\"DejaVuSans-53\" />\n    </defs>\n    <g style=\"fill:#444443;\" transform=\"translate(21.465926 88.637538)scale(0.09 -0.09)\">\n     <use xlink:href=\"#DejaVuSans-110\" />\n     <use x=\"63.378906\" xlink:href=\"#DejaVuSans-61\" />\n     <use x=\"147.167969\" xlink:href=\"#DejaVuSans-52\" />\n     <use x=\"210.791016\" xlink:href=\"#DejaVuSans-57\" />\n     <use x=\"274.414062\" xlink:href=\"#DejaVuSans-53\" />\n     <use x=\"338.037109\" xlink:href=\"#DejaVuSans-57\" />\n    </g>\n    \n    <defs>\n     <path d=\"M 48.78125 52.59375  L 48.78125 44.1875  Q 44.96875 46.296875 41.140625 47.34375  Q 37.3125 48.390625 33.40625 48.390625  Q 24.65625 48.390625 19.8125 42.84375  Q 14.984375 37.3125 14.984375 27.296875  Q 14.984375 17.28125 19.8125 11.734375  Q 24.65625 6.203125 33.40625 6.203125  Q 37.3125 6.203125 41.140625 7.25  Q 44.96875 8.296875 48.78125 10.40625  L 48.78125 2.09375  Q 45.015625 0.34375 40.984375 -0.53125  Q 36.96875 -1.421875 32.421875 -1.421875  Q 20.0625 -1.421875 12.78125 6.34375  Q 5.515625 14.109375 5.515625 27.296875  Q 5.515625 40.671875 12.859375 48.328125  Q 20.21875 56 33.015625 56  Q 37.15625 56 41.109375 55.140625  Q 45.0625 54.296875 48.78125 52.59375  z \" id=\"DejaVuSans-99\" />\n     <path d=\"M 9.421875 75.984375  L 18.40625 75.984375  L 18.40625 0  L 9.421875 0  z \" id=\"DejaVuSans-108\" />\n     <path d=\"M 34.28125 27.484375  Q 23.390625 27.484375 19.1875 25  Q 14.984375 22.515625 14.984375 16.5  Q 14.984375 11.71875 18.140625 8.90625  Q 21.296875 6.109375 26.703125 6.109375  Q 34.1875 6.109375 38.703125 11.40625  Q 43.21875 16.703125 43.21875 25.484375  L 43.21875 27.484375  z M 52.203125 31.203125  L 52.203125 0  L 43.21875 0  L 43.21875 8.296875  Q 40.140625 3.328125 35.546875 0.953125  Q 30.953125 -1.421875 24.3125 -1.421875  Q 15.921875 -1.421875 10.953125 3.296875  Q 6 8.015625 6 15.921875  Q 6 25.140625 12.171875 29.828125  Q 18.359375 34.515625 30.609375 34.515625  L 43.21875 34.515625  L 43.21875 35.40625  Q 43.21875 41.609375 39.140625 45  Q 35.0625 48.390625 27.6875 48.390625  Q 23 48.390625 18.546875 47.265625  Q 14.109375 46.140625 10.015625 43.890625  L 10.015625 52.203125  Q 14.9375 54.109375 19.578125 55.046875  Q 24.21875 56 28.609375 56  Q 40.484375 56 46.34375 49.84375  Q 52.203125 43.703125 52.203125 31.203125  z \" id=\"DejaVuSans-97\" />\n     <path d=\"M 44.28125 53.078125  L 44.28125 44.578125  Q 40.484375 46.53125 36.375 47.5  Q 32.28125 48.484375 27.875 48.484375  Q 21.1875 48.484375 17.84375 46.4375  Q 14.5 44.390625 14.5 40.28125  Q 14.5 37.15625 16.890625 35.375  Q 19.28125 33.59375 26.515625 31.984375  L 29.59375 31.296875  Q 39.15625 29.25 43.1875 25.515625  Q 47.21875 21.78125 47.21875 15.09375  Q 47.21875 7.46875 41.1875 3.015625  Q 35.15625 -1.421875 24.609375 -1.421875  Q 20.21875 -1.421875 15.453125 -0.5625  Q 10.6875 0.296875 5.421875 2  L 5.421875 11.28125  Q 10.40625 8.6875 15.234375 7.390625  Q 20.0625 6.109375 24.8125 6.109375  Q 31.15625 6.109375 34.5625 8.28125  Q 37.984375 10.453125 37.984375 14.40625  Q 37.984375 18.0625 35.515625 20.015625  Q 33.0625 21.96875 24.703125 23.78125  L 21.578125 24.515625  Q 13.234375 26.265625 9.515625 29.90625  Q 5.8125 33.546875 5.8125 39.890625  Q 5.8125 47.609375 11.28125 51.796875  Q 16.75 56 26.8125 56  Q 31.78125 56 36.171875 55.265625  Q 40.578125 54.546875 44.28125 53.078125  z \" id=\"DejaVuSans-115\" />\n     <path id=\"DejaVuSans-32\" />\n     <path d=\"M 19.1875 8.296875  L 53.609375 8.296875  L 53.609375 0  L 7.328125 0  L 7.328125 8.296875  Q 12.9375 14.109375 22.625 23.890625  Q 32.328125 33.6875 34.8125 36.53125  Q 39.546875 41.84375 41.421875 45.53125  Q 43.3125 49.21875 43.3125 52.78125  Q 43.3125 58.59375 39.234375 62.25  Q 35.15625 65.921875 28.609375 65.921875  Q 23.96875 65.921875 18.8125 64.3125  Q 13.671875 62.703125 7.8125 59.421875  L 7.8125 69.390625  Q 13.765625 71.78125 18.9375 73  Q 24.125 74.21875 28.421875 74.21875  Q 39.75 74.21875 46.484375 68.546875  Q 53.21875 62.890625 53.21875 53.421875  Q 53.21875 48.921875 51.53125 44.890625  Q 49.859375 40.875 45.40625 35.40625  Q 44.1875 33.984375 37.640625 27.21875  Q 31.109375 20.453125 19.1875 8.296875  z \" id=\"DejaVuSans-50\" />\n    </defs>\n    <g style=\"fill:#444443;\" transform=\"translate(24.077332 98.715569)scale(0.09 -0.09)\">\n     <use xlink:href=\"#DejaVuSans-99\" />\n     <use x=\"54.980469\" xlink:href=\"#DejaVuSans-108\" />\n     <use x=\"82.763672\" xlink:href=\"#DejaVuSans-97\" />\n     <use x=\"144.042969\" xlink:href=\"#DejaVuSans-115\" />\n     <use x=\"196.142578\" xlink:href=\"#DejaVuSans-115\" />\n     <use x=\"248.242188\" xlink:href=\"#DejaVuSans-32\" />\n     <use x=\"280.029297\" xlink:href=\"#DejaVuSans-50\" />\n    </g>\n   </g>\n  </g>\n </g>\n</svg></g>\n\n\n<g class=\"node\" id=\"node6\">\n<title>node3</title>\n<svg height=\"81px\" preserveAspectRatio=\"xMinYMin meet\" version=\"1.1\" viewBox=\"0 0 221.68 107.262637\" width=\"166px\" x=\"422.5\" y=\"-291.5\">\n <defs>\n  <style type=\"text/css\">\n*{stroke-linecap:butt;stroke-linejoin:round;}\n  </style>\n </defs>\n <g id=\"figure_1\">\n  <g id=\"patch_1\">\n   <path d=\"M 0 107.262637  L 221.68 107.262637  L 221.68 0  L 0 0  z \" style=\"fill:#ffffff;\" />\n  </g>\n  <g id=\"axes_1\">\n   <g id=\"patch_2\">\n    <path d=\"M 37.54 76.572637  L 221.68 76.572637  L 221.68 3.039375  L 37.54 3.039375  z \" style=\"fill:#ffffff;\" />\n   </g>\n   <g id=\"patch_3\">\n    <path clip-path=\"url(#pb2ad2c6515)\" d=\"M 37.54 76.572637  L 49.231429 76.572637  L 49.231429 3.200474  L 37.54 3.200474  z \" style=\"fill:#fefebb;stroke:#444443;stroke-linejoin:miter;stroke-width:0.5;\" />\n   </g>\n   <g id=\"patch_4\">\n    <path clip-path=\"url(#pb2ad2c6515)\" d=\"M 49.231429 76.572637  L 60.922857 76.572637  L 60.922857 76.572637  L 49.231429 76.572637  z \" style=\"fill:#fefebb;stroke:#444443;stroke-linejoin:miter;stroke-width:0.5;\" />\n   </g>\n   <g id=\"patch_5\">\n    <path clip-path=\"url(#pb2ad2c6515)\" d=\"M 60.922857 76.572637  L 72.614286 76.572637  L 72.614286 76.572637  L 60.922857 76.572637  z \" style=\"fill:#fefebb;stroke:#444443;stroke-linejoin:miter;stroke-width:0.5;\" />\n   </g>\n   <g id=\"patch_6\">\n    <path clip-path=\"url(#pb2ad2c6515)\" d=\"M 72.614286 76.572637  L 84.305714 76.572637  L 84.305714 76.572637  L 72.614286 76.572637  z \" style=\"fill:#fefebb;stroke:#444443;stroke-linejoin:miter;stroke-width:0.5;\" />\n   </g>\n   <g id=\"patch_7\">\n    <path clip-path=\"url(#pb2ad2c6515)\" d=\"M 84.305714 76.572637  L 95.997143 76.572637  L 95.997143 76.572637  L 84.305714 76.572637  z \" style=\"fill:#fefebb;stroke:#444443;stroke-linejoin:miter;stroke-width:0.5;\" />\n   </g>\n   <g id=\"patch_8\">\n    <path clip-path=\"url(#pb2ad2c6515)\" d=\"M 95.997143 76.572637  L 107.688571 76.572637  L 107.688571 76.572637  L 95.997143 76.572637  z \" style=\"fill:#fefebb;stroke:#444443;stroke-linejoin:miter;stroke-width:0.5;\" />\n   </g>\n   <g id=\"patch_9\">\n    <path clip-path=\"url(#pb2ad2c6515)\" d=\"M 107.688571 76.572637  L 119.38 76.572637  L 119.38 76.572637  L 107.688571 76.572637  z \" style=\"fill:#fefebb;stroke:#444443;stroke-linejoin:miter;stroke-width:0.5;\" />\n   </g>\n   <g id=\"patch_10\">\n    <path clip-path=\"url(#pb2ad2c6515)\" d=\"M 119.38 76.572637  L 131.071429 76.572637  L 131.071429 76.572637  L 119.38 76.572637  z \" style=\"fill:#fefebb;stroke:#444443;stroke-linejoin:miter;stroke-width:0.5;\" />\n   </g>\n   <g id=\"patch_11\">\n    <path clip-path=\"url(#pb2ad2c6515)\" d=\"M 131.071429 76.572637  L 142.762857 76.572637  L 142.762857 76.572637  L 131.071429 76.572637  z \" style=\"fill:#fefebb;stroke:#444443;stroke-linejoin:miter;stroke-width:0.5;\" />\n   </g>\n   <g id=\"patch_12\">\n    <path clip-path=\"url(#pb2ad2c6515)\" d=\"M 142.762857 76.572637  L 154.454286 76.572637  L 154.454286 76.572637  L 142.762857 76.572637  z \" style=\"fill:#fefebb;stroke:#444443;stroke-linejoin:miter;stroke-width:0.5;\" />\n   </g>\n   <g id=\"patch_13\">\n    <path clip-path=\"url(#pb2ad2c6515)\" d=\"M 154.454286 76.572637  L 166.145714 76.572637  L 166.145714 76.572637  L 154.454286 76.572637  z \" style=\"fill:#fefebb;stroke:#444443;stroke-linejoin:miter;stroke-width:0.5;\" />\n   </g>\n   <g id=\"patch_14\">\n    <path clip-path=\"url(#pb2ad2c6515)\" d=\"M 166.145714 76.572637  L 177.837143 76.572637  L 177.837143 76.572637  L 166.145714 76.572637  z \" style=\"fill:#fefebb;stroke:#444443;stroke-linejoin:miter;stroke-width:0.5;\" />\n   </g>\n   <g id=\"patch_15\">\n    <path clip-path=\"url(#pb2ad2c6515)\" d=\"M 177.837143 76.572637  L 189.528571 76.572637  L 189.528571 76.572637  L 177.837143 76.572637  z \" style=\"fill:#fefebb;stroke:#444443;stroke-linejoin:miter;stroke-width:0.5;\" />\n   </g>\n   <g id=\"patch_16\">\n    <path clip-path=\"url(#pb2ad2c6515)\" d=\"M 189.528571 76.572637  L 201.22 76.572637  L 201.22 76.572637  L 189.528571 76.572637  z \" style=\"fill:#fefebb;stroke:#444443;stroke-linejoin:miter;stroke-width:0.5;\" />\n   </g>\n   <g id=\"patch_17\">\n    <path clip-path=\"url(#pb2ad2c6515)\" d=\"M 201.22 76.572637  L 212.911429 76.572637  L 212.911429 76.501647  L 201.22 76.501647  z \" style=\"fill:#fefebb;stroke:#444443;stroke-linejoin:miter;stroke-width:0.5;\" />\n   </g>\n   <g id=\"patch_18\">\n    <path clip-path=\"url(#pb2ad2c6515)\" d=\"M 37.54 3.200474  L 49.231429 3.200474  L 49.231429 3.200474  L 37.54 3.200474  z \" style=\"fill:#d9e6f5;stroke:#444443;stroke-linejoin:miter;stroke-width:0.5;\" />\n   </g>\n   <g id=\"patch_19\">\n    <path clip-path=\"url(#pb2ad2c6515)\" d=\"M 49.231429 76.572637  L 60.922857 76.572637  L 60.922857 76.572637  L 49.231429 76.572637  z \" style=\"fill:#d9e6f5;stroke:#444443;stroke-linejoin:miter;stroke-width:0.5;\" />\n   </g>\n   <g id=\"patch_20\">\n    <path clip-path=\"url(#pb2ad2c6515)\" d=\"M 60.922857 76.572637  L 72.614286 76.572637  L 72.614286 76.572637  L 60.922857 76.572637  z \" style=\"fill:#d9e6f5;stroke:#444443;stroke-linejoin:miter;stroke-width:0.5;\" />\n   </g>\n   <g id=\"patch_21\">\n    <path clip-path=\"url(#pb2ad2c6515)\" d=\"M 72.614286 76.572637  L 84.305714 76.572637  L 84.305714 76.572637  L 72.614286 76.572637  z \" style=\"fill:#d9e6f5;stroke:#444443;stroke-linejoin:miter;stroke-width:0.5;\" />\n   </g>\n   <g id=\"patch_22\">\n    <path clip-path=\"url(#pb2ad2c6515)\" d=\"M 84.305714 76.572637  L 95.997143 76.572637  L 95.997143 76.572637  L 84.305714 76.572637  z \" style=\"fill:#d9e6f5;stroke:#444443;stroke-linejoin:miter;stroke-width:0.5;\" />\n   </g>\n   <g id=\"patch_23\">\n    <path clip-path=\"url(#pb2ad2c6515)\" d=\"M 95.997143 76.572637  L 107.688571 76.572637  L 107.688571 76.572637  L 95.997143 76.572637  z \" style=\"fill:#d9e6f5;stroke:#444443;stroke-linejoin:miter;stroke-width:0.5;\" />\n   </g>\n   <g id=\"patch_24\">\n    <path clip-path=\"url(#pb2ad2c6515)\" d=\"M 107.688571 76.572637  L 119.38 76.572637  L 119.38 76.572637  L 107.688571 76.572637  z \" style=\"fill:#d9e6f5;stroke:#444443;stroke-linejoin:miter;stroke-width:0.5;\" />\n   </g>\n   <g id=\"patch_25\">\n    <path clip-path=\"url(#pb2ad2c6515)\" d=\"M 119.38 76.572637  L 131.071429 76.572637  L 131.071429 76.572637  L 119.38 76.572637  z \" style=\"fill:#d9e6f5;stroke:#444443;stroke-linejoin:miter;stroke-width:0.5;\" />\n   </g>\n   <g id=\"patch_26\">\n    <path clip-path=\"url(#pb2ad2c6515)\" d=\"M 131.071429 76.572637  L 142.762857 76.572637  L 142.762857 76.572637  L 131.071429 76.572637  z \" style=\"fill:#d9e6f5;stroke:#444443;stroke-linejoin:miter;stroke-width:0.5;\" />\n   </g>\n   <g id=\"patch_27\">\n    <path clip-path=\"url(#pb2ad2c6515)\" d=\"M 142.762857 76.572637  L 154.454286 76.572637  L 154.454286 76.572637  L 142.762857 76.572637  z \" style=\"fill:#d9e6f5;stroke:#444443;stroke-linejoin:miter;stroke-width:0.5;\" />\n   </g>\n   <g id=\"patch_28\">\n    <path clip-path=\"url(#pb2ad2c6515)\" d=\"M 154.454286 76.572637  L 166.145714 76.572637  L 166.145714 76.572637  L 154.454286 76.572637  z \" style=\"fill:#d9e6f5;stroke:#444443;stroke-linejoin:miter;stroke-width:0.5;\" />\n   </g>\n   <g id=\"patch_29\">\n    <path clip-path=\"url(#pb2ad2c6515)\" d=\"M 166.145714 76.572637  L 177.837143 76.572637  L 177.837143 76.572637  L 166.145714 76.572637  z \" style=\"fill:#d9e6f5;stroke:#444443;stroke-linejoin:miter;stroke-width:0.5;\" />\n   </g>\n   <g id=\"patch_30\">\n    <path clip-path=\"url(#pb2ad2c6515)\" d=\"M 177.837143 76.572637  L 189.528571 76.572637  L 189.528571 76.572637  L 177.837143 76.572637  z \" style=\"fill:#d9e6f5;stroke:#444443;stroke-linejoin:miter;stroke-width:0.5;\" />\n   </g>\n   <g id=\"patch_31\">\n    <path clip-path=\"url(#pb2ad2c6515)\" d=\"M 189.528571 76.572637  L 201.22 76.572637  L 201.22 76.572637  L 189.528571 76.572637  z \" style=\"fill:#d9e6f5;stroke:#444443;stroke-linejoin:miter;stroke-width:0.5;\" />\n   </g>\n   <g id=\"patch_32\">\n    <path clip-path=\"url(#pb2ad2c6515)\" d=\"M 201.22 76.501647  L 212.911429 76.501647  L 212.911429 76.501647  L 201.22 76.501647  z \" style=\"fill:#d9e6f5;stroke:#444443;stroke-linejoin:miter;stroke-width:0.5;\" />\n   </g>\n   <g id=\"patch_33\">\n    <path clip-path=\"url(#pb2ad2c6515)\" d=\"M 37.54 3.200474  L 49.231429 3.200474  L 49.231429 3.039375  L 37.54 3.039375  z \" style=\"fill:#a1dab4;stroke:#444443;stroke-linejoin:miter;stroke-width:0.5;\" />\n   </g>\n   <g id=\"patch_34\">\n    <path clip-path=\"url(#pb2ad2c6515)\" d=\"M 49.231429 76.572637  L 60.922857 76.572637  L 60.922857 76.572637  L 49.231429 76.572637  z \" style=\"fill:#a1dab4;stroke:#444443;stroke-linejoin:miter;stroke-width:0.5;\" />\n   </g>\n   <g id=\"patch_35\">\n    <path clip-path=\"url(#pb2ad2c6515)\" d=\"M 60.922857 76.572637  L 72.614286 76.572637  L 72.614286 76.572637  L 60.922857 76.572637  z \" style=\"fill:#a1dab4;stroke:#444443;stroke-linejoin:miter;stroke-width:0.5;\" />\n   </g>\n   <g id=\"patch_36\">\n    <path clip-path=\"url(#pb2ad2c6515)\" d=\"M 72.614286 76.572637  L 84.305714 76.572637  L 84.305714 76.572637  L 72.614286 76.572637  z \" style=\"fill:#a1dab4;stroke:#444443;stroke-linejoin:miter;stroke-width:0.5;\" />\n   </g>\n   <g id=\"patch_37\">\n    <path clip-path=\"url(#pb2ad2c6515)\" d=\"M 84.305714 76.572637  L 95.997143 76.572637  L 95.997143 76.572637  L 84.305714 76.572637  z \" style=\"fill:#a1dab4;stroke:#444443;stroke-linejoin:miter;stroke-width:0.5;\" />\n   </g>\n   <g id=\"patch_38\">\n    <path clip-path=\"url(#pb2ad2c6515)\" d=\"M 95.997143 76.572637  L 107.688571 76.572637  L 107.688571 76.572637  L 95.997143 76.572637  z \" style=\"fill:#a1dab4;stroke:#444443;stroke-linejoin:miter;stroke-width:0.5;\" />\n   </g>\n   <g id=\"patch_39\">\n    <path clip-path=\"url(#pb2ad2c6515)\" d=\"M 107.688571 76.572637  L 119.38 76.572637  L 119.38 76.572637  L 107.688571 76.572637  z \" style=\"fill:#a1dab4;stroke:#444443;stroke-linejoin:miter;stroke-width:0.5;\" />\n   </g>\n   <g id=\"patch_40\">\n    <path clip-path=\"url(#pb2ad2c6515)\" d=\"M 119.38 76.572637  L 131.071429 76.572637  L 131.071429 76.572637  L 119.38 76.572637  z \" style=\"fill:#a1dab4;stroke:#444443;stroke-linejoin:miter;stroke-width:0.5;\" />\n   </g>\n   <g id=\"patch_41\">\n    <path clip-path=\"url(#pb2ad2c6515)\" d=\"M 131.071429 76.572637  L 142.762857 76.572637  L 142.762857 76.572637  L 131.071429 76.572637  z \" style=\"fill:#a1dab4;stroke:#444443;stroke-linejoin:miter;stroke-width:0.5;\" />\n   </g>\n   <g id=\"patch_42\">\n    <path clip-path=\"url(#pb2ad2c6515)\" d=\"M 142.762857 76.572637  L 154.454286 76.572637  L 154.454286 76.572637  L 142.762857 76.572637  z \" style=\"fill:#a1dab4;stroke:#444443;stroke-linejoin:miter;stroke-width:0.5;\" />\n   </g>\n   <g id=\"patch_43\">\n    <path clip-path=\"url(#pb2ad2c6515)\" d=\"M 154.454286 76.572637  L 166.145714 76.572637  L 166.145714 76.572637  L 154.454286 76.572637  z \" style=\"fill:#a1dab4;stroke:#444443;stroke-linejoin:miter;stroke-width:0.5;\" />\n   </g>\n   <g id=\"patch_44\">\n    <path clip-path=\"url(#pb2ad2c6515)\" d=\"M 166.145714 76.572637  L 177.837143 76.572637  L 177.837143 76.572637  L 166.145714 76.572637  z \" style=\"fill:#a1dab4;stroke:#444443;stroke-linejoin:miter;stroke-width:0.5;\" />\n   </g>\n   <g id=\"patch_45\">\n    <path clip-path=\"url(#pb2ad2c6515)\" d=\"M 177.837143 76.572637  L 189.528571 76.572637  L 189.528571 76.572637  L 177.837143 76.572637  z \" style=\"fill:#a1dab4;stroke:#444443;stroke-linejoin:miter;stroke-width:0.5;\" />\n   </g>\n   <g id=\"patch_46\">\n    <path clip-path=\"url(#pb2ad2c6515)\" d=\"M 189.528571 76.572637  L 201.22 76.572637  L 201.22 76.572637  L 189.528571 76.572637  z \" style=\"fill:#a1dab4;stroke:#444443;stroke-linejoin:miter;stroke-width:0.5;\" />\n   </g>\n   <g id=\"patch_47\">\n    <path clip-path=\"url(#pb2ad2c6515)\" d=\"M 201.22 76.501647  L 212.911429 76.501647  L 212.911429 75.563936  L 201.22 75.563936  z \" style=\"fill:#a1dab4;stroke:#444443;stroke-linejoin:miter;stroke-width:0.5;\" />\n   </g>\n   <g id=\"patch_48\">\n    <path clip-path=\"url(#pb2ad2c6515)\" d=\"M 37.54 3.039375  L 49.231429 3.039375  L 49.231429 3.039375  L 37.54 3.039375  z \" style=\"fill:#fee090;stroke:#444443;stroke-linejoin:miter;stroke-width:0.5;\" />\n   </g>\n   <g id=\"patch_49\">\n    <path clip-path=\"url(#pb2ad2c6515)\" d=\"M 49.231429 76.572637  L 60.922857 76.572637  L 60.922857 76.572637  L 49.231429 76.572637  z \" style=\"fill:#fee090;stroke:#444443;stroke-linejoin:miter;stroke-width:0.5;\" />\n   </g>\n   <g id=\"patch_50\">\n    <path clip-path=\"url(#pb2ad2c6515)\" d=\"M 60.922857 76.572637  L 72.614286 76.572637  L 72.614286 76.572637  L 60.922857 76.572637  z \" style=\"fill:#fee090;stroke:#444443;stroke-linejoin:miter;stroke-width:0.5;\" />\n   </g>\n   <g id=\"patch_51\">\n    <path clip-path=\"url(#pb2ad2c6515)\" d=\"M 72.614286 76.572637  L 84.305714 76.572637  L 84.305714 76.572637  L 72.614286 76.572637  z \" style=\"fill:#fee090;stroke:#444443;stroke-linejoin:miter;stroke-width:0.5;\" />\n   </g>\n   <g id=\"patch_52\">\n    <path clip-path=\"url(#pb2ad2c6515)\" d=\"M 84.305714 76.572637  L 95.997143 76.572637  L 95.997143 76.572637  L 84.305714 76.572637  z \" style=\"fill:#fee090;stroke:#444443;stroke-linejoin:miter;stroke-width:0.5;\" />\n   </g>\n   <g id=\"patch_53\">\n    <path clip-path=\"url(#pb2ad2c6515)\" d=\"M 95.997143 76.572637  L 107.688571 76.572637  L 107.688571 76.572637  L 95.997143 76.572637  z \" style=\"fill:#fee090;stroke:#444443;stroke-linejoin:miter;stroke-width:0.5;\" />\n   </g>\n   <g id=\"patch_54\">\n    <path clip-path=\"url(#pb2ad2c6515)\" d=\"M 107.688571 76.572637  L 119.38 76.572637  L 119.38 76.572637  L 107.688571 76.572637  z \" style=\"fill:#fee090;stroke:#444443;stroke-linejoin:miter;stroke-width:0.5;\" />\n   </g>\n   <g id=\"patch_55\">\n    <path clip-path=\"url(#pb2ad2c6515)\" d=\"M 119.38 76.572637  L 131.071429 76.572637  L 131.071429 76.572637  L 119.38 76.572637  z \" style=\"fill:#fee090;stroke:#444443;stroke-linejoin:miter;stroke-width:0.5;\" />\n   </g>\n   <g id=\"patch_56\">\n    <path clip-path=\"url(#pb2ad2c6515)\" d=\"M 131.071429 76.572637  L 142.762857 76.572637  L 142.762857 76.572637  L 131.071429 76.572637  z \" style=\"fill:#fee090;stroke:#444443;stroke-linejoin:miter;stroke-width:0.5;\" />\n   </g>\n   <g id=\"patch_57\">\n    <path clip-path=\"url(#pb2ad2c6515)\" d=\"M 142.762857 76.572637  L 154.454286 76.572637  L 154.454286 76.572637  L 142.762857 76.572637  z \" style=\"fill:#fee090;stroke:#444443;stroke-linejoin:miter;stroke-width:0.5;\" />\n   </g>\n   <g id=\"patch_58\">\n    <path clip-path=\"url(#pb2ad2c6515)\" d=\"M 154.454286 76.572637  L 166.145714 76.572637  L 166.145714 76.572637  L 154.454286 76.572637  z \" style=\"fill:#fee090;stroke:#444443;stroke-linejoin:miter;stroke-width:0.5;\" />\n   </g>\n   <g id=\"patch_59\">\n    <path clip-path=\"url(#pb2ad2c6515)\" d=\"M 166.145714 76.572637  L 177.837143 76.572637  L 177.837143 76.572637  L 166.145714 76.572637  z \" style=\"fill:#fee090;stroke:#444443;stroke-linejoin:miter;stroke-width:0.5;\" />\n   </g>\n   <g id=\"patch_60\">\n    <path clip-path=\"url(#pb2ad2c6515)\" d=\"M 177.837143 76.572637  L 189.528571 76.572637  L 189.528571 76.572637  L 177.837143 76.572637  z \" style=\"fill:#fee090;stroke:#444443;stroke-linejoin:miter;stroke-width:0.5;\" />\n   </g>\n   <g id=\"patch_61\">\n    <path clip-path=\"url(#pb2ad2c6515)\" d=\"M 189.528571 76.572637  L 201.22 76.572637  L 201.22 76.572637  L 189.528571 76.572637  z \" style=\"fill:#fee090;stroke:#444443;stroke-linejoin:miter;stroke-width:0.5;\" />\n   </g>\n   <g id=\"patch_62\">\n    <path clip-path=\"url(#pb2ad2c6515)\" d=\"M 201.22 75.563936  L 212.911429 75.563936  L 212.911429 75.563936  L 201.22 75.563936  z \" style=\"fill:#fee090;stroke:#444443;stroke-linejoin:miter;stroke-width:0.5;\" />\n   </g>\n   <g id=\"patch_63\">\n    <path d=\"M 125.225714 77.388037  L 121.911194 84.726637  L 128.540234 84.726637  z \" style=\"fill:#444443;\" />\n   </g>\n   <g id=\"matplotlib.axis_1\">\n    <g id=\"xtick_1\">\n     <g id=\"line2d_1\">\n      <defs>\n       <path d=\"M 0 0  L 0 3.5  \" id=\"maaeb53b28b\" style=\"stroke:#000000;stroke-width:0.3;\" />\n      </defs>\n      <g>\n       <use style=\"stroke:#000000;stroke-width:0.3;\" x=\"37.54\" y=\"76.572637\" xlink:href=\"#maaeb53b28b\" />\n      </g>\n     </g>\n     <g id=\"text_1\">\n      \n      <defs>\n       <path d=\"M 31.78125 66.40625  Q 24.171875 66.40625 20.328125 58.90625  Q 16.5 51.421875 16.5 36.375  Q 16.5 21.390625 20.328125 13.890625  Q 24.171875 6.390625 31.78125 6.390625  Q 39.453125 6.390625 43.28125 13.890625  Q 47.125 21.390625 47.125 36.375  Q 47.125 51.421875 43.28125 58.90625  Q 39.453125 66.40625 31.78125 66.40625  z M 31.78125 74.21875  Q 44.046875 74.21875 50.515625 64.515625  Q 56.984375 54.828125 56.984375 36.375  Q 56.984375 17.96875 50.515625 8.265625  Q 44.046875 -1.421875 31.78125 -1.421875  Q 19.53125 -1.421875 13.0625 8.265625  Q 6.59375 17.96875 6.59375 36.375  Q 6.59375 54.828125 13.0625 64.515625  Q 19.53125 74.21875 31.78125 74.21875  z \" id=\"DejaVuSans-48\" />\n      </defs>\n      <g style=\"fill:#444443;\" transform=\"translate(34.995 89.651387)scale(0.08 -0.08)\">\n       <use xlink:href=\"#DejaVuSans-48\" />\n      </g>\n     </g>\n    </g>\n    <g id=\"xtick_2\">\n     <g id=\"line2d_2\">\n      <g>\n       <use style=\"stroke:#000000;stroke-width:0.3;\" x=\"212.911429\" y=\"76.572637\" xlink:href=\"#maaeb53b28b\" />\n      </g>\n     </g>\n     <g id=\"text_2\">\n      \n      <defs>\n       <path d=\"M 12.40625 8.296875  L 28.515625 8.296875  L 28.515625 63.921875  L 10.984375 60.40625  L 10.984375 69.390625  L 28.421875 72.90625  L 38.28125 72.90625  L 38.28125 8.296875  L 54.390625 8.296875  L 54.390625 0  L 12.40625 0  z \" id=\"DejaVuSans-49\" />\n      </defs>\n      <g style=\"fill:#444443;\" transform=\"translate(210.366429 89.651387)scale(0.08 -0.08)\">\n       <use xlink:href=\"#DejaVuSans-49\" />\n      </g>\n     </g>\n    </g>\n    <g id=\"text_3\">\n     \n     <defs>\n      <path d=\"M 9.421875 54.6875  L 18.40625 54.6875  L 18.40625 0  L 9.421875 0  z M 9.421875 75.984375  L 18.40625 75.984375  L 18.40625 64.59375  L 9.421875 64.59375  z \" id=\"DejaVuSans-105\" />\n      <path d=\"M 54.890625 33.015625  L 54.890625 0  L 45.90625 0  L 45.90625 32.71875  Q 45.90625 40.484375 42.875 44.328125  Q 39.84375 48.1875 33.796875 48.1875  Q 26.515625 48.1875 22.3125 43.546875  Q 18.109375 38.921875 18.109375 30.90625  L 18.109375 0  L 9.078125 0  L 9.078125 54.6875  L 18.109375 54.6875  L 18.109375 46.1875  Q 21.34375 51.125 25.703125 53.5625  Q 30.078125 56 35.796875 56  Q 45.21875 56 50.046875 50.171875  Q 54.890625 44.34375 54.890625 33.015625  z \" id=\"DejaVuSans-110\" />\n      <path d=\"M 45.40625 46.390625  L 45.40625 75.984375  L 54.390625 75.984375  L 54.390625 0  L 45.40625 0  L 45.40625 8.203125  Q 42.578125 3.328125 38.25 0.953125  Q 33.9375 -1.421875 27.875 -1.421875  Q 17.96875 -1.421875 11.734375 6.484375  Q 5.515625 14.40625 5.515625 27.296875  Q 5.515625 40.1875 11.734375 48.09375  Q 17.96875 56 27.875 56  Q 33.9375 56 38.25 53.625  Q 42.578125 51.265625 45.40625 46.390625  z M 14.796875 27.296875  Q 14.796875 17.390625 18.875 11.75  Q 22.953125 6.109375 30.078125 6.109375  Q 37.203125 6.109375 41.296875 11.75  Q 45.40625 17.390625 45.40625 27.296875  Q 45.40625 37.203125 41.296875 42.84375  Q 37.203125 48.484375 30.078125 48.484375  Q 22.953125 48.484375 18.875 42.84375  Q 14.796875 37.203125 14.796875 27.296875  z \" id=\"DejaVuSans-100\" />\n      <path d=\"M 50.984375 -16.609375  L 50.984375 -23.578125  L -0.984375 -23.578125  L -0.984375 -16.609375  z \" id=\"DejaVuSans-95\" />\n      <path d=\"M 30.609375 48.390625  Q 23.390625 48.390625 19.1875 42.75  Q 14.984375 37.109375 14.984375 27.296875  Q 14.984375 17.484375 19.15625 11.84375  Q 23.34375 6.203125 30.609375 6.203125  Q 37.796875 6.203125 41.984375 11.859375  Q 46.1875 17.53125 46.1875 27.296875  Q 46.1875 37.015625 41.984375 42.703125  Q 37.796875 48.390625 30.609375 48.390625  z M 30.609375 56  Q 42.328125 56 49.015625 48.375  Q 55.71875 40.765625 55.71875 27.296875  Q 55.71875 13.875 49.015625 6.21875  Q 42.328125 -1.421875 30.609375 -1.421875  Q 18.84375 -1.421875 12.171875 6.21875  Q 5.515625 13.875 5.515625 27.296875  Q 5.515625 40.765625 12.171875 48.375  Q 18.84375 56 30.609375 56  z \" id=\"DejaVuSans-111\" />\n      <path d=\"M 52 44.1875  Q 55.375 50.25 60.0625 53.125  Q 64.75 56 71.09375 56  Q 79.640625 56 84.28125 50.015625  Q 88.921875 44.046875 88.921875 33.015625  L 88.921875 0  L 79.890625 0  L 79.890625 32.71875  Q 79.890625 40.578125 77.09375 44.375  Q 74.3125 48.1875 68.609375 48.1875  Q 61.625 48.1875 57.5625 43.546875  Q 53.515625 38.921875 53.515625 30.90625  L 53.515625 0  L 44.484375 0  L 44.484375 32.71875  Q 44.484375 40.625 41.703125 44.40625  Q 38.921875 48.1875 33.109375 48.1875  Q 26.21875 48.1875 22.15625 43.53125  Q 18.109375 38.875 18.109375 30.90625  L 18.109375 0  L 9.078125 0  L 9.078125 54.6875  L 18.109375 54.6875  L 18.109375 46.1875  Q 21.1875 51.21875 25.484375 53.609375  Q 29.78125 56 35.6875 56  Q 41.65625 56 45.828125 52.96875  Q 50 49.953125 52 44.1875  z \" id=\"DejaVuSans-109\" />\n      <path d=\"M 18.109375 8.203125  L 18.109375 -20.796875  L 9.078125 -20.796875  L 9.078125 54.6875  L 18.109375 54.6875  L 18.109375 46.390625  Q 20.953125 51.265625 25.265625 53.625  Q 29.59375 56 35.59375 56  Q 45.5625 56 51.78125 48.09375  Q 58.015625 40.1875 58.015625 27.296875  Q 58.015625 14.40625 51.78125 6.484375  Q 45.5625 -1.421875 35.59375 -1.421875  Q 29.59375 -1.421875 25.265625 0.953125  Q 20.953125 3.328125 18.109375 8.203125  z M 48.6875 27.296875  Q 48.6875 37.203125 44.609375 42.84375  Q 40.53125 48.484375 33.40625 48.484375  Q 26.265625 48.484375 22.1875 42.84375  Q 18.109375 37.203125 18.109375 27.296875  Q 18.109375 17.390625 22.1875 11.75  Q 26.265625 6.109375 33.40625 6.109375  Q 40.53125 6.109375 44.609375 11.75  Q 48.6875 17.390625 48.6875 27.296875  z \" id=\"DejaVuSans-112\" />\n      <path d=\"M 56.203125 29.59375  L 56.203125 25.203125  L 14.890625 25.203125  Q 15.484375 15.921875 20.484375 11.0625  Q 25.484375 6.203125 34.421875 6.203125  Q 39.59375 6.203125 44.453125 7.46875  Q 49.3125 8.734375 54.109375 11.28125  L 54.109375 2.78125  Q 49.265625 0.734375 44.1875 -0.34375  Q 39.109375 -1.421875 33.890625 -1.421875  Q 20.796875 -1.421875 13.15625 6.1875  Q 5.515625 13.8125 5.515625 26.8125  Q 5.515625 40.234375 12.765625 48.109375  Q 20.015625 56 32.328125 56  Q 43.359375 56 49.78125 48.890625  Q 56.203125 41.796875 56.203125 29.59375  z M 47.21875 32.234375  Q 47.125 39.59375 43.09375 43.984375  Q 39.0625 48.390625 32.421875 48.390625  Q 24.90625 48.390625 20.390625 44.140625  Q 15.875 39.890625 15.1875 32.171875  z \" id=\"DejaVuSans-101\" />\n      <path d=\"M 44.28125 53.078125  L 44.28125 44.578125  Q 40.484375 46.53125 36.375 47.5  Q 32.28125 48.484375 27.875 48.484375  Q 21.1875 48.484375 17.84375 46.4375  Q 14.5 44.390625 14.5 40.28125  Q 14.5 37.15625 16.890625 35.375  Q 19.28125 33.59375 26.515625 31.984375  L 29.59375 31.296875  Q 39.15625 29.25 43.1875 25.515625  Q 47.21875 21.78125 47.21875 15.09375  Q 47.21875 7.46875 41.1875 3.015625  Q 35.15625 -1.421875 24.609375 -1.421875  Q 20.21875 -1.421875 15.453125 -0.5625  Q 10.6875 0.296875 5.421875 2  L 5.421875 11.28125  Q 10.40625 8.6875 15.234375 7.390625  Q 20.0625 6.109375 24.8125 6.109375  Q 31.15625 6.109375 34.5625 8.28125  Q 37.984375 10.453125 37.984375 14.40625  Q 37.984375 18.0625 35.515625 20.015625  Q 33.0625 21.96875 24.703125 23.78125  L 21.578125 24.515625  Q 13.234375 26.265625 9.515625 29.90625  Q 5.8125 33.546875 5.8125 39.890625  Q 5.8125 47.609375 11.28125 51.796875  Q 16.75 56 26.8125 56  Q 31.78125 56 36.171875 55.265625  Q 40.578125 54.546875 44.28125 53.078125  z \" id=\"DejaVuSans-115\" />\n      <path d=\"M 8.5 21.578125  L 8.5 54.6875  L 17.484375 54.6875  L 17.484375 21.921875  Q 17.484375 14.15625 20.5 10.265625  Q 23.53125 6.390625 29.59375 6.390625  Q 36.859375 6.390625 41.078125 11.03125  Q 45.3125 15.671875 45.3125 23.6875  L 45.3125 54.6875  L 54.296875 54.6875  L 54.296875 0  L 45.3125 0  L 45.3125 8.40625  Q 42.046875 3.421875 37.71875 1  Q 33.40625 -1.421875 27.6875 -1.421875  Q 18.265625 -1.421875 13.375 4.4375  Q 8.5 10.296875 8.5 21.578125  z M 31.109375 56  z \" id=\"DejaVuSans-117\" />\n      <path d=\"M 9.421875 75.984375  L 18.40625 75.984375  L 18.40625 0  L 9.421875 0  z \" id=\"DejaVuSans-108\" />\n      <path d=\"M 18.3125 70.21875  L 18.3125 54.6875  L 36.8125 54.6875  L 36.8125 47.703125  L 18.3125 47.703125  L 18.3125 18.015625  Q 18.3125 11.328125 20.140625 9.421875  Q 21.96875 7.515625 27.59375 7.515625  L 36.8125 7.515625  L 36.8125 0  L 27.59375 0  Q 17.1875 0 13.234375 3.875  Q 9.28125 7.765625 9.28125 18.015625  L 9.28125 47.703125  L 2.6875 47.703125  L 2.6875 54.6875  L 9.28125 54.6875  L 9.28125 70.21875  z \" id=\"DejaVuSans-116\" />\n     </defs>\n     <g style=\"fill:#444443;\" transform=\"translate(71.945313 104.433262)scale(0.12 -0.12)\">\n      <use xlink:href=\"#DejaVuSans-105\" />\n      <use x=\"27.783203\" xlink:href=\"#DejaVuSans-110\" />\n      <use x=\"91.162109\" xlink:href=\"#DejaVuSans-100\" />\n      <use x=\"154.638672\" xlink:href=\"#DejaVuSans-95\" />\n      <use x=\"204.638672\" xlink:href=\"#DejaVuSans-110\" />\n      <use x=\"268.017578\" xlink:href=\"#DejaVuSans-111\" />\n      <use x=\"329.199219\" xlink:href=\"#DejaVuSans-109\" />\n      <use x=\"426.611328\" xlink:href=\"#DejaVuSans-95\" />\n      <use x=\"476.611328\" xlink:href=\"#DejaVuSans-112\" />\n      <use x=\"540.087891\" xlink:href=\"#DejaVuSans-101\" />\n      <use x=\"601.611328\" xlink:href=\"#DejaVuSans-110\" />\n      <use x=\"664.990234\" xlink:href=\"#DejaVuSans-115\" />\n      <use x=\"717.089844\" xlink:href=\"#DejaVuSans-95\" />\n      <use x=\"767.089844\" xlink:href=\"#DejaVuSans-117\" />\n      <use x=\"830.46875\" xlink:href=\"#DejaVuSans-108\" />\n      <use x=\"858.251953\" xlink:href=\"#DejaVuSans-116\" />\n      <use x=\"897.460938\" xlink:href=\"#DejaVuSans-49\" />\n     </g>\n    </g>\n   </g>\n   <g id=\"matplotlib.axis_2\">\n    <g id=\"ytick_1\">\n     <g id=\"line2d_3\">\n      <defs>\n       <path d=\"M 0 0  L -3.5 0  \" id=\"m54678a3158\" style=\"stroke:#000000;stroke-width:0.3;\" />\n      </defs>\n      <g>\n       <use style=\"stroke:#000000;stroke-width:0.3;\" x=\"37.54\" y=\"76.572637\" xlink:href=\"#m54678a3158\" />\n      </g>\n     </g>\n     <g id=\"text_4\">\n      \n      <g style=\"fill:#444443;\" transform=\"translate(25.45 79.612012)scale(0.08 -0.08)\">\n       <use xlink:href=\"#DejaVuSans-48\" />\n      </g>\n     </g>\n    </g>\n    <g id=\"ytick_2\">\n     <g id=\"line2d_4\">\n      <g>\n       <use style=\"stroke:#000000;stroke-width:0.3;\" x=\"37.54\" y=\"3.039375\" xlink:href=\"#m54678a3158\" />\n      </g>\n     </g>\n     <g id=\"text_5\">\n      \n      <defs>\n       <path d=\"M 40.578125 39.3125  Q 47.65625 37.796875 51.625 33  Q 55.609375 28.21875 55.609375 21.1875  Q 55.609375 10.40625 48.1875 4.484375  Q 40.765625 -1.421875 27.09375 -1.421875  Q 22.515625 -1.421875 17.65625 -0.515625  Q 12.796875 0.390625 7.625 2.203125  L 7.625 11.71875  Q 11.71875 9.328125 16.59375 8.109375  Q 21.484375 6.890625 26.8125 6.890625  Q 36.078125 6.890625 40.9375 10.546875  Q 45.796875 14.203125 45.796875 21.1875  Q 45.796875 27.640625 41.28125 31.265625  Q 36.765625 34.90625 28.71875 34.90625  L 20.21875 34.90625  L 20.21875 43.015625  L 29.109375 43.015625  Q 36.375 43.015625 40.234375 45.921875  Q 44.09375 48.828125 44.09375 54.296875  Q 44.09375 59.90625 40.109375 62.90625  Q 36.140625 65.921875 28.71875 65.921875  Q 24.65625 65.921875 20.015625 65.03125  Q 15.375 64.15625 9.8125 62.3125  L 9.8125 71.09375  Q 15.4375 72.65625 20.34375 73.4375  Q 25.25 74.21875 29.59375 74.21875  Q 40.828125 74.21875 47.359375 69.109375  Q 53.90625 64.015625 53.90625 55.328125  Q 53.90625 49.265625 50.4375 45.09375  Q 46.96875 40.921875 40.578125 39.3125  z \" id=\"DejaVuSans-51\" />\n       <path d=\"M 33.015625 40.375  Q 26.375 40.375 22.484375 35.828125  Q 18.609375 31.296875 18.609375 23.390625  Q 18.609375 15.53125 22.484375 10.953125  Q 26.375 6.390625 33.015625 6.390625  Q 39.65625 6.390625 43.53125 10.953125  Q 47.40625 15.53125 47.40625 23.390625  Q 47.40625 31.296875 43.53125 35.828125  Q 39.65625 40.375 33.015625 40.375  z M 52.59375 71.296875  L 52.59375 62.3125  Q 48.875 64.0625 45.09375 64.984375  Q 41.3125 65.921875 37.59375 65.921875  Q 27.828125 65.921875 22.671875 59.328125  Q 17.53125 52.734375 16.796875 39.40625  Q 19.671875 43.65625 24.015625 45.921875  Q 28.375 48.1875 33.59375 48.1875  Q 44.578125 48.1875 50.953125 41.515625  Q 57.328125 34.859375 57.328125 23.390625  Q 57.328125 12.15625 50.6875 5.359375  Q 44.046875 -1.421875 33.015625 -1.421875  Q 20.359375 -1.421875 13.671875 8.265625  Q 6.984375 17.96875 6.984375 36.375  Q 6.984375 53.65625 15.1875 63.9375  Q 23.390625 74.21875 37.203125 74.21875  Q 40.921875 74.21875 44.703125 73.484375  Q 48.484375 72.75 52.59375 71.296875  z \" id=\"DejaVuSans-54\" />\n       <path d=\"M 10.796875 72.90625  L 49.515625 72.90625  L 49.515625 64.59375  L 19.828125 64.59375  L 19.828125 46.734375  Q 21.96875 47.46875 24.109375 47.828125  Q 26.265625 48.1875 28.421875 48.1875  Q 40.625 48.1875 47.75 41.5  Q 54.890625 34.8125 54.890625 23.390625  Q 54.890625 11.625 47.5625 5.09375  Q 40.234375 -1.421875 26.90625 -1.421875  Q 22.3125 -1.421875 17.546875 -0.640625  Q 12.796875 0.140625 7.71875 1.703125  L 7.71875 11.625  Q 12.109375 9.234375 16.796875 8.0625  Q 21.484375 6.890625 26.703125 6.890625  Q 35.15625 6.890625 40.078125 11.328125  Q 45.015625 15.765625 45.015625 23.390625  Q 45.015625 31 40.078125 35.4375  Q 35.15625 39.890625 26.703125 39.890625  Q 22.75 39.890625 18.8125 39.015625  Q 14.890625 38.140625 10.796875 36.28125  z \" id=\"DejaVuSans-53\" />\n      </defs>\n      <g style=\"fill:#444443;\" transform=\"translate(0 6.07875)scale(0.08 -0.08)\">\n       <use xlink:href=\"#DejaVuSans-51\" />\n       <use x=\"63.623047\" xlink:href=\"#DejaVuSans-54\" />\n       <use x=\"127.246094\" xlink:href=\"#DejaVuSans-49\" />\n       <use x=\"190.869141\" xlink:href=\"#DejaVuSans-53\" />\n       <use x=\"254.492188\" xlink:href=\"#DejaVuSans-48\" />\n       <use x=\"318.115234\" xlink:href=\"#DejaVuSans-54\" />\n      </g>\n     </g>\n    </g>\n   </g>\n   <g id=\"patch_64\">\n    <path d=\"M 37.54 76.572637  L 37.54 3.039375  \" style=\"fill:none;stroke:#000000;stroke-linecap:square;stroke-linejoin:miter;stroke-width:0.3;\" />\n   </g>\n   <g id=\"patch_65\">\n    <path d=\"M 37.54 76.572637  L 221.68 76.572637  \" style=\"fill:none;stroke:#000000;stroke-linecap:square;stroke-linejoin:miter;stroke-width:0.3;\" />\n   </g>\n   <g id=\"text_6\">\n    \n    <defs>\n     <path d=\"M 10.6875 12.40625  L 21 12.40625  L 21 0  L 10.6875 0  z \" id=\"DejaVuSans-46\" />\n    </defs>\n    <g style=\"fill:#444443;\" transform=\"translate(116.319464 92.880637)scale(0.08 -0.08)\">\n     <use xlink:href=\"#DejaVuSans-48\" />\n     <use x=\"63.623047\" xlink:href=\"#DejaVuSans-46\" />\n     <use x=\"95.410156\" xlink:href=\"#DejaVuSans-53\" />\n     <use x=\"159.033203\" xlink:href=\"#DejaVuSans-48\" />\n    </g>\n   </g>\n  </g>\n </g>\n <defs>\n  <clipPath id=\"pb2ad2c6515\">\n   <rect height=\"73.533262\" width=\"184.14\" x=\"37.54\" y=\"3.039375\" />\n  </clipPath>\n </defs>\n</svg></g>\n\n<g class=\"edge\" id=\"edge16\">\n<title>node3-&gt;node7</title>\n<path d=\"M502.1305,-206.8537C501.8166,-202.695 501.4974,-198.466 501.1809,-194.2725\" fill=\"none\" stroke=\"#444443\" stroke-width=\".3\" />\n<polygon fill=\"#444443\" points=\"502.5628,-193.978 500.8656,-190.0947 499.7707,-194.1888 502.5628,-193.978\" stroke=\"#444443\" stroke-width=\".3\" />\n</g>\n\n<g class=\"node\" id=\"node7\">\n<title>node4</title>\n<svg height=\"49px\" preserveAspectRatio=\"xMinYMin meet\" version=\"1.1\" viewBox=\"0 0 216.59 65.411282\" width=\"162px\" x=\"621.5\" y=\"-275.5\">\n <defs>\n  <style type=\"text/css\">\n*{stroke-linecap:butt;stroke-linejoin:round;}\n  </style>\n </defs>\n <g id=\"figure_1\">\n  <g id=\"patch_1\">\n   <path d=\"M 0 65.411282  L 216.59 65.411282  L 216.59 0  L 0 0  z \" style=\"fill:#ffffff;\" />\n  </g>\n  <g id=\"axes_1\">\n   <g id=\"patch_2\">\n    <path d=\"M 32.45 34.721282  L 216.59 34.721282  L 216.59 1.45528  L 32.45 1.45528  z \" style=\"fill:#ffffff;\" />\n   </g>\n   <g id=\"patch_3\">\n    <path clip-path=\"url(#pff0ebcb82f)\" d=\"M 32.45 34.721282  L 44.141429 34.721282  L 44.141429 34.721282  L 32.45 34.721282  z \" style=\"fill:#fefebb;stroke:#444443;stroke-linejoin:miter;stroke-width:0.5;\" />\n   </g>\n   <g id=\"patch_4\">\n    <path clip-path=\"url(#pff0ebcb82f)\" d=\"M 44.141429 34.721282  L 55.832857 34.721282  L 55.832857 34.721282  L 44.141429 34.721282  z \" style=\"fill:#fefebb;stroke:#444443;stroke-linejoin:miter;stroke-width:0.5;\" />\n   </g>\n   <g id=\"patch_5\">\n    <path clip-path=\"url(#pff0ebcb82f)\" d=\"M 55.832857 34.721282  L 67.524286 34.721282  L 67.524286 34.721282  L 55.832857 34.721282  z \" style=\"fill:#fefebb;stroke:#444443;stroke-linejoin:miter;stroke-width:0.5;\" />\n   </g>\n   <g id=\"patch_6\">\n    <path clip-path=\"url(#pff0ebcb82f)\" d=\"M 67.524286 34.721282  L 79.215714 34.721282  L 79.215714 34.721282  L 67.524286 34.721282  z \" style=\"fill:#fefebb;stroke:#444443;stroke-linejoin:miter;stroke-width:0.5;\" />\n   </g>\n   <g id=\"patch_7\">\n    <path clip-path=\"url(#pff0ebcb82f)\" d=\"M 79.215714 34.721282  L 90.907143 34.721282  L 90.907143 34.721282  L 79.215714 34.721282  z \" style=\"fill:#fefebb;stroke:#444443;stroke-linejoin:miter;stroke-width:0.5;\" />\n   </g>\n   <g id=\"patch_8\">\n    <path clip-path=\"url(#pff0ebcb82f)\" d=\"M 90.907143 34.721282  L 102.598571 34.721282  L 102.598571 34.721282  L 90.907143 34.721282  z \" style=\"fill:#fefebb;stroke:#444443;stroke-linejoin:miter;stroke-width:0.5;\" />\n   </g>\n   <g id=\"patch_9\">\n    <path clip-path=\"url(#pff0ebcb82f)\" d=\"M 102.598571 34.721282  L 114.29 34.721282  L 114.29 34.721282  L 102.598571 34.721282  z \" style=\"fill:#fefebb;stroke:#444443;stroke-linejoin:miter;stroke-width:0.5;\" />\n   </g>\n   <g id=\"patch_10\">\n    <path clip-path=\"url(#pff0ebcb82f)\" d=\"M 114.29 34.721282  L 125.981429 34.721282  L 125.981429 34.721282  L 114.29 34.721282  z \" style=\"fill:#fefebb;stroke:#444443;stroke-linejoin:miter;stroke-width:0.5;\" />\n   </g>\n   <g id=\"patch_11\">\n    <path clip-path=\"url(#pff0ebcb82f)\" d=\"M 125.981429 34.721282  L 137.672857 34.721282  L 137.672857 34.721282  L 125.981429 34.721282  z \" style=\"fill:#fefebb;stroke:#444443;stroke-linejoin:miter;stroke-width:0.5;\" />\n   </g>\n   <g id=\"patch_12\">\n    <path clip-path=\"url(#pff0ebcb82f)\" d=\"M 137.672857 34.721282  L 149.364286 34.721282  L 149.364286 34.721282  L 137.672857 34.721282  z \" style=\"fill:#fefebb;stroke:#444443;stroke-linejoin:miter;stroke-width:0.5;\" />\n   </g>\n   <g id=\"patch_13\">\n    <path clip-path=\"url(#pff0ebcb82f)\" d=\"M 149.364286 34.721282  L 161.055714 34.721282  L 161.055714 34.721282  L 149.364286 34.721282  z \" style=\"fill:#fefebb;stroke:#444443;stroke-linejoin:miter;stroke-width:0.5;\" />\n   </g>\n   <g id=\"patch_14\">\n    <path clip-path=\"url(#pff0ebcb82f)\" d=\"M 161.055714 34.721282  L 172.747143 34.721282  L 172.747143 34.721282  L 161.055714 34.721282  z \" style=\"fill:#fefebb;stroke:#444443;stroke-linejoin:miter;stroke-width:0.5;\" />\n   </g>\n   <g id=\"patch_15\">\n    <path clip-path=\"url(#pff0ebcb82f)\" d=\"M 172.747143 34.721282  L 184.438571 34.721282  L 184.438571 34.721282  L 172.747143 34.721282  z \" style=\"fill:#fefebb;stroke:#444443;stroke-linejoin:miter;stroke-width:0.5;\" />\n   </g>\n   <g id=\"patch_16\">\n    <path clip-path=\"url(#pff0ebcb82f)\" d=\"M 184.438571 34.721282  L 196.13 34.721282  L 196.13 34.721282  L 184.438571 34.721282  z \" style=\"fill:#fefebb;stroke:#444443;stroke-linejoin:miter;stroke-width:0.5;\" />\n   </g>\n   <g id=\"patch_17\">\n    <path clip-path=\"url(#pff0ebcb82f)\" d=\"M 196.13 34.721282  L 207.821429 34.721282  L 207.821429 34.721282  L 196.13 34.721282  z \" style=\"fill:#fefebb;stroke:#444443;stroke-linejoin:miter;stroke-width:0.5;\" />\n   </g>\n   <g id=\"patch_18\">\n    <path clip-path=\"url(#pff0ebcb82f)\" d=\"M 32.45 34.721282  L 44.141429 34.721282  L 44.141429 34.721282  L 32.45 34.721282  z \" style=\"fill:#d9e6f5;stroke:#444443;stroke-linejoin:miter;stroke-width:0.5;\" />\n   </g>\n   <g id=\"patch_19\">\n    <path clip-path=\"url(#pff0ebcb82f)\" d=\"M 44.141429 34.721282  L 55.832857 34.721282  L 55.832857 34.721282  L 44.141429 34.721282  z \" style=\"fill:#d9e6f5;stroke:#444443;stroke-linejoin:miter;stroke-width:0.5;\" />\n   </g>\n   <g id=\"patch_20\">\n    <path clip-path=\"url(#pff0ebcb82f)\" d=\"M 55.832857 34.721282  L 67.524286 34.721282  L 67.524286 34.721282  L 55.832857 34.721282  z \" style=\"fill:#d9e6f5;stroke:#444443;stroke-linejoin:miter;stroke-width:0.5;\" />\n   </g>\n   <g id=\"patch_21\">\n    <path clip-path=\"url(#pff0ebcb82f)\" d=\"M 67.524286 34.721282  L 79.215714 34.721282  L 79.215714 34.721282  L 67.524286 34.721282  z \" style=\"fill:#d9e6f5;stroke:#444443;stroke-linejoin:miter;stroke-width:0.5;\" />\n   </g>\n   <g id=\"patch_22\">\n    <path clip-path=\"url(#pff0ebcb82f)\" d=\"M 79.215714 34.721282  L 90.907143 34.721282  L 90.907143 34.721282  L 79.215714 34.721282  z \" style=\"fill:#d9e6f5;stroke:#444443;stroke-linejoin:miter;stroke-width:0.5;\" />\n   </g>\n   <g id=\"patch_23\">\n    <path clip-path=\"url(#pff0ebcb82f)\" d=\"M 90.907143 34.721282  L 102.598571 34.721282  L 102.598571 34.721282  L 90.907143 34.721282  z \" style=\"fill:#d9e6f5;stroke:#444443;stroke-linejoin:miter;stroke-width:0.5;\" />\n   </g>\n   <g id=\"patch_24\">\n    <path clip-path=\"url(#pff0ebcb82f)\" d=\"M 102.598571 34.721282  L 114.29 34.721282  L 114.29 34.721282  L 102.598571 34.721282  z \" style=\"fill:#d9e6f5;stroke:#444443;stroke-linejoin:miter;stroke-width:0.5;\" />\n   </g>\n   <g id=\"patch_25\">\n    <path clip-path=\"url(#pff0ebcb82f)\" d=\"M 114.29 34.721282  L 125.981429 34.721282  L 125.981429 34.721282  L 114.29 34.721282  z \" style=\"fill:#d9e6f5;stroke:#444443;stroke-linejoin:miter;stroke-width:0.5;\" />\n   </g>\n   <g id=\"patch_26\">\n    <path clip-path=\"url(#pff0ebcb82f)\" d=\"M 125.981429 34.721282  L 137.672857 34.721282  L 137.672857 34.721282  L 125.981429 34.721282  z \" style=\"fill:#d9e6f5;stroke:#444443;stroke-linejoin:miter;stroke-width:0.5;\" />\n   </g>\n   <g id=\"patch_27\">\n    <path clip-path=\"url(#pff0ebcb82f)\" d=\"M 137.672857 34.721282  L 149.364286 34.721282  L 149.364286 34.721282  L 137.672857 34.721282  z \" style=\"fill:#d9e6f5;stroke:#444443;stroke-linejoin:miter;stroke-width:0.5;\" />\n   </g>\n   <g id=\"patch_28\">\n    <path clip-path=\"url(#pff0ebcb82f)\" d=\"M 149.364286 34.721282  L 161.055714 34.721282  L 161.055714 34.721282  L 149.364286 34.721282  z \" style=\"fill:#d9e6f5;stroke:#444443;stroke-linejoin:miter;stroke-width:0.5;\" />\n   </g>\n   <g id=\"patch_29\">\n    <path clip-path=\"url(#pff0ebcb82f)\" d=\"M 161.055714 34.721282  L 172.747143 34.721282  L 172.747143 34.721282  L 161.055714 34.721282  z \" style=\"fill:#d9e6f5;stroke:#444443;stroke-linejoin:miter;stroke-width:0.5;\" />\n   </g>\n   <g id=\"patch_30\">\n    <path clip-path=\"url(#pff0ebcb82f)\" d=\"M 172.747143 34.721282  L 184.438571 34.721282  L 184.438571 34.721282  L 172.747143 34.721282  z \" style=\"fill:#d9e6f5;stroke:#444443;stroke-linejoin:miter;stroke-width:0.5;\" />\n   </g>\n   <g id=\"patch_31\">\n    <path clip-path=\"url(#pff0ebcb82f)\" d=\"M 184.438571 34.721282  L 196.13 34.721282  L 196.13 34.721282  L 184.438571 34.721282  z \" style=\"fill:#d9e6f5;stroke:#444443;stroke-linejoin:miter;stroke-width:0.5;\" />\n   </g>\n   <g id=\"patch_32\">\n    <path clip-path=\"url(#pff0ebcb82f)\" d=\"M 196.13 34.721282  L 207.821429 34.721282  L 207.821429 34.721282  L 196.13 34.721282  z \" style=\"fill:#d9e6f5;stroke:#444443;stroke-linejoin:miter;stroke-width:0.5;\" />\n   </g>\n   <g id=\"patch_33\">\n    <path clip-path=\"url(#pff0ebcb82f)\" d=\"M 32.45 34.721282  L 44.141429 34.721282  L 44.141429 34.698594  L 32.45 34.698594  z \" style=\"fill:#a1dab4;stroke:#444443;stroke-linejoin:miter;stroke-width:0.5;\" />\n   </g>\n   <g id=\"patch_34\">\n    <path clip-path=\"url(#pff0ebcb82f)\" d=\"M 44.141429 34.721282  L 55.832857 34.721282  L 55.832857 34.721282  L 44.141429 34.721282  z \" style=\"fill:#a1dab4;stroke:#444443;stroke-linejoin:miter;stroke-width:0.5;\" />\n   </g>\n   <g id=\"patch_35\">\n    <path clip-path=\"url(#pff0ebcb82f)\" d=\"M 55.832857 34.721282  L 67.524286 34.721282  L 67.524286 34.721282  L 55.832857 34.721282  z \" style=\"fill:#a1dab4;stroke:#444443;stroke-linejoin:miter;stroke-width:0.5;\" />\n   </g>\n   <g id=\"patch_36\">\n    <path clip-path=\"url(#pff0ebcb82f)\" d=\"M 67.524286 34.721282  L 79.215714 34.721282  L 79.215714 34.721282  L 67.524286 34.721282  z \" style=\"fill:#a1dab4;stroke:#444443;stroke-linejoin:miter;stroke-width:0.5;\" />\n   </g>\n   <g id=\"patch_37\">\n    <path clip-path=\"url(#pff0ebcb82f)\" d=\"M 79.215714 34.721282  L 90.907143 34.721282  L 90.907143 34.721282  L 79.215714 34.721282  z \" style=\"fill:#a1dab4;stroke:#444443;stroke-linejoin:miter;stroke-width:0.5;\" />\n   </g>\n   <g id=\"patch_38\">\n    <path clip-path=\"url(#pff0ebcb82f)\" d=\"M 90.907143 34.721282  L 102.598571 34.721282  L 102.598571 34.721282  L 90.907143 34.721282  z \" style=\"fill:#a1dab4;stroke:#444443;stroke-linejoin:miter;stroke-width:0.5;\" />\n   </g>\n   <g id=\"patch_39\">\n    <path clip-path=\"url(#pff0ebcb82f)\" d=\"M 102.598571 34.721282  L 114.29 34.721282  L 114.29 34.721282  L 102.598571 34.721282  z \" style=\"fill:#a1dab4;stroke:#444443;stroke-linejoin:miter;stroke-width:0.5;\" />\n   </g>\n   <g id=\"patch_40\">\n    <path clip-path=\"url(#pff0ebcb82f)\" d=\"M 114.29 34.721282  L 125.981429 34.721282  L 125.981429 34.721282  L 114.29 34.721282  z \" style=\"fill:#a1dab4;stroke:#444443;stroke-linejoin:miter;stroke-width:0.5;\" />\n   </g>\n   <g id=\"patch_41\">\n    <path clip-path=\"url(#pff0ebcb82f)\" d=\"M 125.981429 34.721282  L 137.672857 34.721282  L 137.672857 34.721282  L 125.981429 34.721282  z \" style=\"fill:#a1dab4;stroke:#444443;stroke-linejoin:miter;stroke-width:0.5;\" />\n   </g>\n   <g id=\"patch_42\">\n    <path clip-path=\"url(#pff0ebcb82f)\" d=\"M 137.672857 34.721282  L 149.364286 34.721282  L 149.364286 34.721282  L 137.672857 34.721282  z \" style=\"fill:#a1dab4;stroke:#444443;stroke-linejoin:miter;stroke-width:0.5;\" />\n   </g>\n   <g id=\"patch_43\">\n    <path clip-path=\"url(#pff0ebcb82f)\" d=\"M 149.364286 34.721282  L 161.055714 34.721282  L 161.055714 34.721282  L 149.364286 34.721282  z \" style=\"fill:#a1dab4;stroke:#444443;stroke-linejoin:miter;stroke-width:0.5;\" />\n   </g>\n   <g id=\"patch_44\">\n    <path clip-path=\"url(#pff0ebcb82f)\" d=\"M 161.055714 34.721282  L 172.747143 34.721282  L 172.747143 34.721282  L 161.055714 34.721282  z \" style=\"fill:#a1dab4;stroke:#444443;stroke-linejoin:miter;stroke-width:0.5;\" />\n   </g>\n   <g id=\"patch_45\">\n    <path clip-path=\"url(#pff0ebcb82f)\" d=\"M 172.747143 34.721282  L 184.438571 34.721282  L 184.438571 34.721282  L 172.747143 34.721282  z \" style=\"fill:#a1dab4;stroke:#444443;stroke-linejoin:miter;stroke-width:0.5;\" />\n   </g>\n   <g id=\"patch_46\">\n    <path clip-path=\"url(#pff0ebcb82f)\" d=\"M 184.438571 34.721282  L 196.13 34.721282  L 196.13 34.721282  L 184.438571 34.721282  z \" style=\"fill:#a1dab4;stroke:#444443;stroke-linejoin:miter;stroke-width:0.5;\" />\n   </g>\n   <g id=\"patch_47\">\n    <path clip-path=\"url(#pff0ebcb82f)\" d=\"M 196.13 34.721282  L 207.821429 34.721282  L 207.821429 33.943487  L 196.13 33.943487  z \" style=\"fill:#a1dab4;stroke:#444443;stroke-linejoin:miter;stroke-width:0.5;\" />\n   </g>\n   <g id=\"patch_48\">\n    <path clip-path=\"url(#pff0ebcb82f)\" d=\"M 32.45 34.698594  L 44.141429 34.698594  L 44.141429 3.039375  L 32.45 3.039375  z \" style=\"fill:#fee090;stroke:#444443;stroke-linejoin:miter;stroke-width:0.5;\" />\n   </g>\n   <g id=\"patch_49\">\n    <path clip-path=\"url(#pff0ebcb82f)\" d=\"M 44.141429 34.721282  L 55.832857 34.721282  L 55.832857 34.721282  L 44.141429 34.721282  z \" style=\"fill:#fee090;stroke:#444443;stroke-linejoin:miter;stroke-width:0.5;\" />\n   </g>\n   <g id=\"patch_50\">\n    <path clip-path=\"url(#pff0ebcb82f)\" d=\"M 55.832857 34.721282  L 67.524286 34.721282  L 67.524286 34.721282  L 55.832857 34.721282  z \" style=\"fill:#fee090;stroke:#444443;stroke-linejoin:miter;stroke-width:0.5;\" />\n   </g>\n   <g id=\"patch_51\">\n    <path clip-path=\"url(#pff0ebcb82f)\" d=\"M 67.524286 34.721282  L 79.215714 34.721282  L 79.215714 34.721282  L 67.524286 34.721282  z \" style=\"fill:#fee090;stroke:#444443;stroke-linejoin:miter;stroke-width:0.5;\" />\n   </g>\n   <g id=\"patch_52\">\n    <path clip-path=\"url(#pff0ebcb82f)\" d=\"M 79.215714 34.721282  L 90.907143 34.721282  L 90.907143 34.721282  L 79.215714 34.721282  z \" style=\"fill:#fee090;stroke:#444443;stroke-linejoin:miter;stroke-width:0.5;\" />\n   </g>\n   <g id=\"patch_53\">\n    <path clip-path=\"url(#pff0ebcb82f)\" d=\"M 90.907143 34.721282  L 102.598571 34.721282  L 102.598571 34.721282  L 90.907143 34.721282  z \" style=\"fill:#fee090;stroke:#444443;stroke-linejoin:miter;stroke-width:0.5;\" />\n   </g>\n   <g id=\"patch_54\">\n    <path clip-path=\"url(#pff0ebcb82f)\" d=\"M 102.598571 34.721282  L 114.29 34.721282  L 114.29 34.721282  L 102.598571 34.721282  z \" style=\"fill:#fee090;stroke:#444443;stroke-linejoin:miter;stroke-width:0.5;\" />\n   </g>\n   <g id=\"patch_55\">\n    <path clip-path=\"url(#pff0ebcb82f)\" d=\"M 114.29 34.721282  L 125.981429 34.721282  L 125.981429 34.721282  L 114.29 34.721282  z \" style=\"fill:#fee090;stroke:#444443;stroke-linejoin:miter;stroke-width:0.5;\" />\n   </g>\n   <g id=\"patch_56\">\n    <path clip-path=\"url(#pff0ebcb82f)\" d=\"M 125.981429 34.721282  L 137.672857 34.721282  L 137.672857 34.721282  L 125.981429 34.721282  z \" style=\"fill:#fee090;stroke:#444443;stroke-linejoin:miter;stroke-width:0.5;\" />\n   </g>\n   <g id=\"patch_57\">\n    <path clip-path=\"url(#pff0ebcb82f)\" d=\"M 137.672857 34.721282  L 149.364286 34.721282  L 149.364286 34.721282  L 137.672857 34.721282  z \" style=\"fill:#fee090;stroke:#444443;stroke-linejoin:miter;stroke-width:0.5;\" />\n   </g>\n   <g id=\"patch_58\">\n    <path clip-path=\"url(#pff0ebcb82f)\" d=\"M 149.364286 34.721282  L 161.055714 34.721282  L 161.055714 34.721282  L 149.364286 34.721282  z \" style=\"fill:#fee090;stroke:#444443;stroke-linejoin:miter;stroke-width:0.5;\" />\n   </g>\n   <g id=\"patch_59\">\n    <path clip-path=\"url(#pff0ebcb82f)\" d=\"M 161.055714 34.721282  L 172.747143 34.721282  L 172.747143 34.721282  L 161.055714 34.721282  z \" style=\"fill:#fee090;stroke:#444443;stroke-linejoin:miter;stroke-width:0.5;\" />\n   </g>\n   <g id=\"patch_60\">\n    <path clip-path=\"url(#pff0ebcb82f)\" d=\"M 172.747143 34.721282  L 184.438571 34.721282  L 184.438571 34.721282  L 172.747143 34.721282  z \" style=\"fill:#fee090;stroke:#444443;stroke-linejoin:miter;stroke-width:0.5;\" />\n   </g>\n   <g id=\"patch_61\">\n    <path clip-path=\"url(#pff0ebcb82f)\" d=\"M 184.438571 34.721282  L 196.13 34.721282  L 196.13 34.721282  L 184.438571 34.721282  z \" style=\"fill:#fee090;stroke:#444443;stroke-linejoin:miter;stroke-width:0.5;\" />\n   </g>\n   <g id=\"patch_62\">\n    <path clip-path=\"url(#pff0ebcb82f)\" d=\"M 196.13 33.943487  L 207.821429 33.943487  L 207.821429 33.770709  L 196.13 33.770709  z \" style=\"fill:#fee090;stroke:#444443;stroke-linejoin:miter;stroke-width:0.5;\" />\n   </g>\n   <g id=\"patch_63\">\n    <path d=\"M 120.135714 35.536682  L 116.821194 42.875282  L 123.450234 42.875282  z \" style=\"fill:#444443;\" />\n   </g>\n   <g id=\"matplotlib.axis_1\">\n    <g id=\"xtick_1\">\n     <g id=\"line2d_1\">\n      <defs>\n       <path d=\"M 0 0  L 0 3.5  \" id=\"md93a5014e3\" style=\"stroke:#000000;stroke-width:0.3;\" />\n      </defs>\n      <g>\n       <use style=\"stroke:#000000;stroke-width:0.3;\" x=\"32.45\" y=\"34.721282\" xlink:href=\"#md93a5014e3\" />\n      </g>\n     </g>\n     <g id=\"text_1\">\n      \n      <defs>\n       <path d=\"M 31.78125 66.40625  Q 24.171875 66.40625 20.328125 58.90625  Q 16.5 51.421875 16.5 36.375  Q 16.5 21.390625 20.328125 13.890625  Q 24.171875 6.390625 31.78125 6.390625  Q 39.453125 6.390625 43.28125 13.890625  Q 47.125 21.390625 47.125 36.375  Q 47.125 51.421875 43.28125 58.90625  Q 39.453125 66.40625 31.78125 66.40625  z M 31.78125 74.21875  Q 44.046875 74.21875 50.515625 64.515625  Q 56.984375 54.828125 56.984375 36.375  Q 56.984375 17.96875 50.515625 8.265625  Q 44.046875 -1.421875 31.78125 -1.421875  Q 19.53125 -1.421875 13.0625 8.265625  Q 6.59375 17.96875 6.59375 36.375  Q 6.59375 54.828125 13.0625 64.515625  Q 19.53125 74.21875 31.78125 74.21875  z \" id=\"DejaVuSans-48\" />\n      </defs>\n      <g style=\"fill:#444443;\" transform=\"translate(29.905 47.800032)scale(0.08 -0.08)\">\n       <use xlink:href=\"#DejaVuSans-48\" />\n      </g>\n     </g>\n    </g>\n    <g id=\"xtick_2\">\n     <g id=\"line2d_2\">\n      <g>\n       <use style=\"stroke:#000000;stroke-width:0.3;\" x=\"207.821429\" y=\"34.721282\" xlink:href=\"#md93a5014e3\" />\n      </g>\n     </g>\n     <g id=\"text_2\">\n      \n      <defs>\n       <path d=\"M 12.40625 8.296875  L 28.515625 8.296875  L 28.515625 63.921875  L 10.984375 60.40625  L 10.984375 69.390625  L 28.421875 72.90625  L 38.28125 72.90625  L 38.28125 8.296875  L 54.390625 8.296875  L 54.390625 0  L 12.40625 0  z \" id=\"DejaVuSans-49\" />\n      </defs>\n      <g style=\"fill:#444443;\" transform=\"translate(205.276429 47.800032)scale(0.08 -0.08)\">\n       <use xlink:href=\"#DejaVuSans-49\" />\n      </g>\n     </g>\n    </g>\n    <g id=\"text_3\">\n     \n     <defs>\n      <path d=\"M 9.421875 54.6875  L 18.40625 54.6875  L 18.40625 0  L 9.421875 0  z M 9.421875 75.984375  L 18.40625 75.984375  L 18.40625 64.59375  L 9.421875 64.59375  z \" id=\"DejaVuSans-105\" />\n      <path d=\"M 54.890625 33.015625  L 54.890625 0  L 45.90625 0  L 45.90625 32.71875  Q 45.90625 40.484375 42.875 44.328125  Q 39.84375 48.1875 33.796875 48.1875  Q 26.515625 48.1875 22.3125 43.546875  Q 18.109375 38.921875 18.109375 30.90625  L 18.109375 0  L 9.078125 0  L 9.078125 54.6875  L 18.109375 54.6875  L 18.109375 46.1875  Q 21.34375 51.125 25.703125 53.5625  Q 30.078125 56 35.796875 56  Q 45.21875 56 50.046875 50.171875  Q 54.890625 44.34375 54.890625 33.015625  z \" id=\"DejaVuSans-110\" />\n      <path d=\"M 45.40625 46.390625  L 45.40625 75.984375  L 54.390625 75.984375  L 54.390625 0  L 45.40625 0  L 45.40625 8.203125  Q 42.578125 3.328125 38.25 0.953125  Q 33.9375 -1.421875 27.875 -1.421875  Q 17.96875 -1.421875 11.734375 6.484375  Q 5.515625 14.40625 5.515625 27.296875  Q 5.515625 40.1875 11.734375 48.09375  Q 17.96875 56 27.875 56  Q 33.9375 56 38.25 53.625  Q 42.578125 51.265625 45.40625 46.390625  z M 14.796875 27.296875  Q 14.796875 17.390625 18.875 11.75  Q 22.953125 6.109375 30.078125 6.109375  Q 37.203125 6.109375 41.296875 11.75  Q 45.40625 17.390625 45.40625 27.296875  Q 45.40625 37.203125 41.296875 42.84375  Q 37.203125 48.484375 30.078125 48.484375  Q 22.953125 48.484375 18.875 42.84375  Q 14.796875 37.203125 14.796875 27.296875  z \" id=\"DejaVuSans-100\" />\n      <path d=\"M 50.984375 -16.609375  L 50.984375 -23.578125  L -0.984375 -23.578125  L -0.984375 -16.609375  z \" id=\"DejaVuSans-95\" />\n      <path d=\"M 30.609375 48.390625  Q 23.390625 48.390625 19.1875 42.75  Q 14.984375 37.109375 14.984375 27.296875  Q 14.984375 17.484375 19.15625 11.84375  Q 23.34375 6.203125 30.609375 6.203125  Q 37.796875 6.203125 41.984375 11.859375  Q 46.1875 17.53125 46.1875 27.296875  Q 46.1875 37.015625 41.984375 42.703125  Q 37.796875 48.390625 30.609375 48.390625  z M 30.609375 56  Q 42.328125 56 49.015625 48.375  Q 55.71875 40.765625 55.71875 27.296875  Q 55.71875 13.875 49.015625 6.21875  Q 42.328125 -1.421875 30.609375 -1.421875  Q 18.84375 -1.421875 12.171875 6.21875  Q 5.515625 13.875 5.515625 27.296875  Q 5.515625 40.765625 12.171875 48.375  Q 18.84375 56 30.609375 56  z \" id=\"DejaVuSans-111\" />\n      <path d=\"M 52 44.1875  Q 55.375 50.25 60.0625 53.125  Q 64.75 56 71.09375 56  Q 79.640625 56 84.28125 50.015625  Q 88.921875 44.046875 88.921875 33.015625  L 88.921875 0  L 79.890625 0  L 79.890625 32.71875  Q 79.890625 40.578125 77.09375 44.375  Q 74.3125 48.1875 68.609375 48.1875  Q 61.625 48.1875 57.5625 43.546875  Q 53.515625 38.921875 53.515625 30.90625  L 53.515625 0  L 44.484375 0  L 44.484375 32.71875  Q 44.484375 40.625 41.703125 44.40625  Q 38.921875 48.1875 33.109375 48.1875  Q 26.21875 48.1875 22.15625 43.53125  Q 18.109375 38.875 18.109375 30.90625  L 18.109375 0  L 9.078125 0  L 9.078125 54.6875  L 18.109375 54.6875  L 18.109375 46.1875  Q 21.1875 51.21875 25.484375 53.609375  Q 29.78125 56 35.6875 56  Q 41.65625 56 45.828125 52.96875  Q 50 49.953125 52 44.1875  z \" id=\"DejaVuSans-109\" />\n      <path d=\"M 18.109375 8.203125  L 18.109375 -20.796875  L 9.078125 -20.796875  L 9.078125 54.6875  L 18.109375 54.6875  L 18.109375 46.390625  Q 20.953125 51.265625 25.265625 53.625  Q 29.59375 56 35.59375 56  Q 45.5625 56 51.78125 48.09375  Q 58.015625 40.1875 58.015625 27.296875  Q 58.015625 14.40625 51.78125 6.484375  Q 45.5625 -1.421875 35.59375 -1.421875  Q 29.59375 -1.421875 25.265625 0.953125  Q 20.953125 3.328125 18.109375 8.203125  z M 48.6875 27.296875  Q 48.6875 37.203125 44.609375 42.84375  Q 40.53125 48.484375 33.40625 48.484375  Q 26.265625 48.484375 22.1875 42.84375  Q 18.109375 37.203125 18.109375 27.296875  Q 18.109375 17.390625 22.1875 11.75  Q 26.265625 6.109375 33.40625 6.109375  Q 40.53125 6.109375 44.609375 11.75  Q 48.6875 17.390625 48.6875 27.296875  z \" id=\"DejaVuSans-112\" />\n      <path d=\"M 56.203125 29.59375  L 56.203125 25.203125  L 14.890625 25.203125  Q 15.484375 15.921875 20.484375 11.0625  Q 25.484375 6.203125 34.421875 6.203125  Q 39.59375 6.203125 44.453125 7.46875  Q 49.3125 8.734375 54.109375 11.28125  L 54.109375 2.78125  Q 49.265625 0.734375 44.1875 -0.34375  Q 39.109375 -1.421875 33.890625 -1.421875  Q 20.796875 -1.421875 13.15625 6.1875  Q 5.515625 13.8125 5.515625 26.8125  Q 5.515625 40.234375 12.765625 48.109375  Q 20.015625 56 32.328125 56  Q 43.359375 56 49.78125 48.890625  Q 56.203125 41.796875 56.203125 29.59375  z M 47.21875 32.234375  Q 47.125 39.59375 43.09375 43.984375  Q 39.0625 48.390625 32.421875 48.390625  Q 24.90625 48.390625 20.390625 44.140625  Q 15.875 39.890625 15.1875 32.171875  z \" id=\"DejaVuSans-101\" />\n      <path d=\"M 44.28125 53.078125  L 44.28125 44.578125  Q 40.484375 46.53125 36.375 47.5  Q 32.28125 48.484375 27.875 48.484375  Q 21.1875 48.484375 17.84375 46.4375  Q 14.5 44.390625 14.5 40.28125  Q 14.5 37.15625 16.890625 35.375  Q 19.28125 33.59375 26.515625 31.984375  L 29.59375 31.296875  Q 39.15625 29.25 43.1875 25.515625  Q 47.21875 21.78125 47.21875 15.09375  Q 47.21875 7.46875 41.1875 3.015625  Q 35.15625 -1.421875 24.609375 -1.421875  Q 20.21875 -1.421875 15.453125 -0.5625  Q 10.6875 0.296875 5.421875 2  L 5.421875 11.28125  Q 10.40625 8.6875 15.234375 7.390625  Q 20.0625 6.109375 24.8125 6.109375  Q 31.15625 6.109375 34.5625 8.28125  Q 37.984375 10.453125 37.984375 14.40625  Q 37.984375 18.0625 35.515625 20.015625  Q 33.0625 21.96875 24.703125 23.78125  L 21.578125 24.515625  Q 13.234375 26.265625 9.515625 29.90625  Q 5.8125 33.546875 5.8125 39.890625  Q 5.8125 47.609375 11.28125 51.796875  Q 16.75 56 26.8125 56  Q 31.78125 56 36.171875 55.265625  Q 40.578125 54.546875 44.28125 53.078125  z \" id=\"DejaVuSans-115\" />\n      <path d=\"M 8.5 21.578125  L 8.5 54.6875  L 17.484375 54.6875  L 17.484375 21.921875  Q 17.484375 14.15625 20.5 10.265625  Q 23.53125 6.390625 29.59375 6.390625  Q 36.859375 6.390625 41.078125 11.03125  Q 45.3125 15.671875 45.3125 23.6875  L 45.3125 54.6875  L 54.296875 54.6875  L 54.296875 0  L 45.3125 0  L 45.3125 8.40625  Q 42.046875 3.421875 37.71875 1  Q 33.40625 -1.421875 27.6875 -1.421875  Q 18.265625 -1.421875 13.375 4.4375  Q 8.5 10.296875 8.5 21.578125  z M 31.109375 56  z \" id=\"DejaVuSans-117\" />\n      <path d=\"M 9.421875 75.984375  L 18.40625 75.984375  L 18.40625 0  L 9.421875 0  z \" id=\"DejaVuSans-108\" />\n      <path d=\"M 18.3125 70.21875  L 18.3125 54.6875  L 36.8125 54.6875  L 36.8125 47.703125  L 18.3125 47.703125  L 18.3125 18.015625  Q 18.3125 11.328125 20.140625 9.421875  Q 21.96875 7.515625 27.59375 7.515625  L 36.8125 7.515625  L 36.8125 0  L 27.59375 0  Q 17.1875 0 13.234375 3.875  Q 9.28125 7.765625 9.28125 18.015625  L 9.28125 47.703125  L 2.6875 47.703125  L 2.6875 54.6875  L 9.28125 54.6875  L 9.28125 70.21875  z \" id=\"DejaVuSans-116\" />\n     </defs>\n     <g style=\"fill:#444443;\" transform=\"translate(66.855313 62.581907)scale(0.12 -0.12)\">\n      <use xlink:href=\"#DejaVuSans-105\" />\n      <use x=\"27.783203\" xlink:href=\"#DejaVuSans-110\" />\n      <use x=\"91.162109\" xlink:href=\"#DejaVuSans-100\" />\n      <use x=\"154.638672\" xlink:href=\"#DejaVuSans-95\" />\n      <use x=\"204.638672\" xlink:href=\"#DejaVuSans-110\" />\n      <use x=\"268.017578\" xlink:href=\"#DejaVuSans-111\" />\n      <use x=\"329.199219\" xlink:href=\"#DejaVuSans-109\" />\n      <use x=\"426.611328\" xlink:href=\"#DejaVuSans-95\" />\n      <use x=\"476.611328\" xlink:href=\"#DejaVuSans-112\" />\n      <use x=\"540.087891\" xlink:href=\"#DejaVuSans-101\" />\n      <use x=\"601.611328\" xlink:href=\"#DejaVuSans-110\" />\n      <use x=\"664.990234\" xlink:href=\"#DejaVuSans-115\" />\n      <use x=\"717.089844\" xlink:href=\"#DejaVuSans-95\" />\n      <use x=\"767.089844\" xlink:href=\"#DejaVuSans-117\" />\n      <use x=\"830.46875\" xlink:href=\"#DejaVuSans-108\" />\n      <use x=\"858.251953\" xlink:href=\"#DejaVuSans-116\" />\n      <use x=\"897.460938\" xlink:href=\"#DejaVuSans-49\" />\n     </g>\n    </g>\n   </g>\n   <g id=\"matplotlib.axis_2\">\n    <g id=\"ytick_1\">\n     <g id=\"line2d_3\">\n      <defs>\n       <path d=\"M 0 0  L -3.5 0  \" id=\"mee247b9422\" style=\"stroke:#000000;stroke-width:0.3;\" />\n      </defs>\n      <g>\n       <use style=\"stroke:#000000;stroke-width:0.3;\" x=\"32.45\" y=\"34.721282\" xlink:href=\"#mee247b9422\" />\n      </g>\n     </g>\n     <g id=\"text_4\">\n      \n      <g style=\"fill:#444443;\" transform=\"translate(20.36 37.760657)scale(0.08 -0.08)\">\n       <use xlink:href=\"#DejaVuSans-48\" />\n      </g>\n     </g>\n    </g>\n    <g id=\"ytick_2\">\n     <g id=\"line2d_4\">\n      <g>\n       <use style=\"stroke:#000000;stroke-width:0.3;\" x=\"32.45\" y=\"3.039375\" xlink:href=\"#mee247b9422\" />\n      </g>\n     </g>\n     <g id=\"text_5\">\n      \n      <defs>\n       <path d=\"M 10.796875 72.90625  L 49.515625 72.90625  L 49.515625 64.59375  L 19.828125 64.59375  L 19.828125 46.734375  Q 21.96875 47.46875 24.109375 47.828125  Q 26.265625 48.1875 28.421875 48.1875  Q 40.625 48.1875 47.75 41.5  Q 54.890625 34.8125 54.890625 23.390625  Q 54.890625 11.625 47.5625 5.09375  Q 40.234375 -1.421875 26.90625 -1.421875  Q 22.3125 -1.421875 17.546875 -0.640625  Q 12.796875 0.140625 7.71875 1.703125  L 7.71875 11.625  Q 12.109375 9.234375 16.796875 8.0625  Q 21.484375 6.890625 26.703125 6.890625  Q 35.15625 6.890625 40.078125 11.328125  Q 45.015625 15.765625 45.015625 23.390625  Q 45.015625 31 40.078125 35.4375  Q 35.15625 39.890625 26.703125 39.890625  Q 22.75 39.890625 18.8125 39.015625  Q 14.890625 38.140625 10.796875 36.28125  z \" id=\"DejaVuSans-53\" />\n       <path d=\"M 37.796875 64.3125  L 12.890625 25.390625  L 37.796875 25.390625  z M 35.203125 72.90625  L 47.609375 72.90625  L 47.609375 25.390625  L 58.015625 25.390625  L 58.015625 17.1875  L 47.609375 17.1875  L 47.609375 0  L 37.796875 0  L 37.796875 17.1875  L 4.890625 17.1875  L 4.890625 26.703125  z \" id=\"DejaVuSans-52\" />\n       <path d=\"M 33.015625 40.375  Q 26.375 40.375 22.484375 35.828125  Q 18.609375 31.296875 18.609375 23.390625  Q 18.609375 15.53125 22.484375 10.953125  Q 26.375 6.390625 33.015625 6.390625  Q 39.65625 6.390625 43.53125 10.953125  Q 47.40625 15.53125 47.40625 23.390625  Q 47.40625 31.296875 43.53125 35.828125  Q 39.65625 40.375 33.015625 40.375  z M 52.59375 71.296875  L 52.59375 62.3125  Q 48.875 64.0625 45.09375 64.984375  Q 41.3125 65.921875 37.59375 65.921875  Q 27.828125 65.921875 22.671875 59.328125  Q 17.53125 52.734375 16.796875 39.40625  Q 19.671875 43.65625 24.015625 45.921875  Q 28.375 48.1875 33.59375 48.1875  Q 44.578125 48.1875 50.953125 41.515625  Q 57.328125 34.859375 57.328125 23.390625  Q 57.328125 12.15625 50.6875 5.359375  Q 44.046875 -1.421875 33.015625 -1.421875  Q 20.359375 -1.421875 13.671875 8.265625  Q 6.984375 17.96875 6.984375 36.375  Q 6.984375 53.65625 15.1875 63.9375  Q 23.390625 74.21875 37.203125 74.21875  Q 40.921875 74.21875 44.703125 73.484375  Q 48.484375 72.75 52.59375 71.296875  z \" id=\"DejaVuSans-54\" />\n      </defs>\n      <g style=\"fill:#444443;\" transform=\"translate(-0 6.07875)scale(0.08 -0.08)\">\n       <use xlink:href=\"#DejaVuSans-53\" />\n       <use x=\"63.623047\" xlink:href=\"#DejaVuSans-52\" />\n       <use x=\"127.246094\" xlink:href=\"#DejaVuSans-52\" />\n       <use x=\"190.869141\" xlink:href=\"#DejaVuSans-54\" />\n       <use x=\"254.492188\" xlink:href=\"#DejaVuSans-48\" />\n      </g>\n     </g>\n    </g>\n   </g>\n   <g id=\"patch_64\">\n    <path d=\"M 32.45 34.721282  L 32.45 1.45528  \" style=\"fill:none;stroke:#000000;stroke-linecap:square;stroke-linejoin:miter;stroke-width:0.3;\" />\n   </g>\n   <g id=\"patch_65\">\n    <path d=\"M 32.45 34.721282  L 216.59 34.721282  \" style=\"fill:none;stroke:#000000;stroke-linecap:square;stroke-linejoin:miter;stroke-width:0.3;\" />\n   </g>\n   <g id=\"text_6\">\n    \n    <defs>\n     <path d=\"M 10.6875 12.40625  L 21 12.40625  L 21 0  L 10.6875 0  z \" id=\"DejaVuSans-46\" />\n    </defs>\n    <g style=\"fill:#444443;\" transform=\"translate(111.229464 51.029282)scale(0.08 -0.08)\">\n     <use xlink:href=\"#DejaVuSans-48\" />\n     <use x=\"63.623047\" xlink:href=\"#DejaVuSans-46\" />\n     <use x=\"95.410156\" xlink:href=\"#DejaVuSans-53\" />\n     <use x=\"159.033203\" xlink:href=\"#DejaVuSans-48\" />\n    </g>\n   </g>\n  </g>\n </g>\n <defs>\n  <clipPath id=\"pff0ebcb82f\">\n   <rect height=\"33.266002\" width=\"184.14\" x=\"32.45\" y=\"1.45528\" />\n  </clipPath>\n </defs>\n</svg></g>\n\n\n<g class=\"edge\" id=\"edge17\">\n<title>node3-&gt;leaf8</title>\n<path d=\"M558.5702,-206.8537C570.7424,-196.6135 583.4219,-185.9466 594.7292,-176.4342\" fill=\"none\" stroke=\"#444443\" stroke-width=\".3\" />\n<polygon fill=\"#444443\" points=\"595.7208,-177.4295 597.8804,-173.7831 593.9182,-175.2869 595.7208,-177.4295\" stroke=\"#444443\" stroke-width=\".3\" />\n</g>\n\n<g class=\"node\" id=\"node18\">\n<title>leaf13</title>\n<polygon fill=\"none\" points=\"739,-187 672,-187 672,-104 739,-104 739,-187\" stroke=\"#444443\" stroke-width=\"0\" />\n<svg height=\"75px\" preserveAspectRatio=\"xMinYMin meet\" version=\"1.1\" viewBox=\"0 0 78.531491 100.466306\" width=\"59px\" x=\"676.5\" y=\"-182.5\">\n <defs>\n  <style type=\"text/css\">\n*{stroke-linecap:butt;stroke-linejoin:round;}\n  </style>\n </defs>\n <g id=\"figure_1\">\n  <g id=\"patch_1\">\n   <path d=\"M 0 100.466306  L 78.531491 100.466306  L 78.531491 0  L 0 0  z \" style=\"fill:#ffffff;\" />\n  </g>\n  <g id=\"axes_1\">\n   <g id=\"patch_2\">\n    <path d=\"M 78.531491 39.277162  C 78.531491 39.277162 78.531491 39.277162 78.531491 39.277162  L 39.271491 39.277162  L 78.531491 39.277162  z \" style=\"fill:#fefebb;stroke:#444443;stroke-linejoin:miter;stroke-width:0.5;\" />\n   </g>\n   <g id=\"patch_3\">\n    <path d=\"M 78.531491 39.277162  C 78.531491 39.277162 78.531491 39.277162 78.531491 39.277162  L 39.271491 39.277162  L 78.531491 39.277162  z \" style=\"fill:#d9e6f5;stroke:#444443;stroke-linejoin:miter;stroke-width:0.5;\" />\n   </g>\n   <g id=\"patch_4\">\n    <path d=\"M 78.531491 39.277162  C 78.531491 39.24772 78.531458 39.218278 78.531391 39.188836  C 78.531325 39.159394 78.531226 39.129953 78.531093 39.100511  L 39.271491 39.277162  L 78.531491 39.277162  z \" style=\"fill:#a1dab4;stroke:#444443;stroke-linejoin:miter;stroke-width:0.5;\" />\n   </g>\n   <g id=\"patch_5\">\n    <path d=\"M 78.531093 39.100511  C 78.507912 33.948703 77.470894 28.85148 75.479302 24.100141  C 73.48771 19.348801 70.580221 15.035613 66.922991 11.407068  C 63.265762 7.778523 58.929814 4.905086 54.16294 2.950968  C 49.396065 0.99685 44.290835 0 39.139004 0.017385  C 33.987173 0.034771 28.888787 1.066055 24.13521 3.0523  C 19.381633 5.038546 15.065177 7.941182 11.43252 11.594327  C 7.799864 15.247472 4.921551 19.580185 2.962072 24.344858  C 1.002593 29.109531 -0 34.213637 0.01159 39.365484  C 0.02318 44.517331 1.048728 49.616874 3.029625 54.372683  C 5.010522 59.128491 7.9083 63.44821 11.557357 67.084973  C 15.206413 70.721737 19.535885 73.604923 24.298351 75.56976  C 29.060817 77.534598 34.163791 78.542932 39.315648 78.537137  C 44.467505 78.531343 49.568199 77.511532 54.326233 75.535986  C 59.084266 73.56044 63.407242 70.667523 67.048108 67.02256  C 70.688975 63.377597 73.577029 59.051371 75.547222 54.291119  C 77.517416 49.530866 78.53149 44.429029 78.531491 39.277169  L 39.271491 39.277162  L 78.531093 39.100511  z \" style=\"fill:#fee090;stroke:#444443;stroke-linejoin:miter;stroke-width:0.5;\" />\n   </g>\n   <g id=\"text_1\">\n    \n    <defs>\n     <path d=\"M 54.890625 33.015625  L 54.890625 0  L 45.90625 0  L 45.90625 32.71875  Q 45.90625 40.484375 42.875 44.328125  Q 39.84375 48.1875 33.796875 48.1875  Q 26.515625 48.1875 22.3125 43.546875  Q 18.109375 38.921875 18.109375 30.90625  L 18.109375 0  L 9.078125 0  L 9.078125 54.6875  L 18.109375 54.6875  L 18.109375 46.1875  Q 21.34375 51.125 25.703125 53.5625  Q 30.078125 56 35.796875 56  Q 45.21875 56 50.046875 50.171875  Q 54.890625 44.34375 54.890625 33.015625  z \" id=\"DejaVuSans-110\" />\n     <path d=\"M 10.59375 45.40625  L 73.1875 45.40625  L 73.1875 37.203125  L 10.59375 37.203125  z M 10.59375 25.484375  L 73.1875 25.484375  L 73.1875 17.1875  L 10.59375 17.1875  z \" id=\"DejaVuSans-61\" />\n     <path d=\"M 10.796875 72.90625  L 49.515625 72.90625  L 49.515625 64.59375  L 19.828125 64.59375  L 19.828125 46.734375  Q 21.96875 47.46875 24.109375 47.828125  Q 26.265625 48.1875 28.421875 48.1875  Q 40.625 48.1875 47.75 41.5  Q 54.890625 34.8125 54.890625 23.390625  Q 54.890625 11.625 47.5625 5.09375  Q 40.234375 -1.421875 26.90625 -1.421875  Q 22.3125 -1.421875 17.546875 -0.640625  Q 12.796875 0.140625 7.71875 1.703125  L 7.71875 11.625  Q 12.109375 9.234375 16.796875 8.0625  Q 21.484375 6.890625 26.703125 6.890625  Q 35.15625 6.890625 40.078125 11.328125  Q 45.015625 15.765625 45.015625 23.390625  Q 45.015625 31 40.078125 35.4375  Q 35.15625 39.890625 26.703125 39.890625  Q 22.75 39.890625 18.8125 39.015625  Q 14.890625 38.140625 10.796875 36.28125  z \" id=\"DejaVuSans-53\" />\n     <path d=\"M 37.796875 64.3125  L 12.890625 25.390625  L 37.796875 25.390625  z M 35.203125 72.90625  L 47.609375 72.90625  L 47.609375 25.390625  L 58.015625 25.390625  L 58.015625 17.1875  L 47.609375 17.1875  L 47.609375 0  L 37.796875 0  L 37.796875 17.1875  L 4.890625 17.1875  L 4.890625 26.703125  z \" id=\"DejaVuSans-52\" />\n     <path d=\"M 33.015625 40.375  Q 26.375 40.375 22.484375 35.828125  Q 18.609375 31.296875 18.609375 23.390625  Q 18.609375 15.53125 22.484375 10.953125  Q 26.375 6.390625 33.015625 6.390625  Q 39.65625 6.390625 43.53125 10.953125  Q 47.40625 15.53125 47.40625 23.390625  Q 47.40625 31.296875 43.53125 35.828125  Q 39.65625 40.375 33.015625 40.375  z M 52.59375 71.296875  L 52.59375 62.3125  Q 48.875 64.0625 45.09375 64.984375  Q 41.3125 65.921875 37.59375 65.921875  Q 27.828125 65.921875 22.671875 59.328125  Q 17.53125 52.734375 16.796875 39.40625  Q 19.671875 43.65625 24.015625 45.921875  Q 28.375 48.1875 33.59375 48.1875  Q 44.578125 48.1875 50.953125 41.515625  Q 57.328125 34.859375 57.328125 23.390625  Q 57.328125 12.15625 50.6875 5.359375  Q 44.046875 -1.421875 33.015625 -1.421875  Q 20.359375 -1.421875 13.671875 8.265625  Q 6.984375 17.96875 6.984375 36.375  Q 6.984375 53.65625 15.1875 63.9375  Q 23.390625 74.21875 37.203125 74.21875  Q 40.921875 74.21875 44.703125 73.484375  Q 48.484375 72.75 52.59375 71.296875  z \" id=\"DejaVuSans-54\" />\n     <path d=\"M 31.78125 66.40625  Q 24.171875 66.40625 20.328125 58.90625  Q 16.5 51.421875 16.5 36.375  Q 16.5 21.390625 20.328125 13.890625  Q 24.171875 6.390625 31.78125 6.390625  Q 39.453125 6.390625 43.28125 13.890625  Q 47.125 21.390625 47.125 36.375  Q 47.125 51.421875 43.28125 58.90625  Q 39.453125 66.40625 31.78125 66.40625  z M 31.78125 74.21875  Q 44.046875 74.21875 50.515625 64.515625  Q 56.984375 54.828125 56.984375 36.375  Q 56.984375 17.96875 50.515625 8.265625  Q 44.046875 -1.421875 31.78125 -1.421875  Q 19.53125 -1.421875 13.0625 8.265625  Q 6.59375 17.96875 6.59375 36.375  Q 6.59375 54.828125 13.0625 64.515625  Q 19.53125 74.21875 31.78125 74.21875  z \" id=\"DejaVuSans-48\" />\n    </defs>\n    <g style=\"fill:#444443;\" transform=\"translate(18.333131 88.516556)scale(0.09 -0.09)\">\n     <use xlink:href=\"#DejaVuSans-110\" />\n     <use x=\"63.378906\" xlink:href=\"#DejaVuSans-61\" />\n     <use x=\"147.167969\" xlink:href=\"#DejaVuSans-53\" />\n     <use x=\"210.791016\" xlink:href=\"#DejaVuSans-52\" />\n     <use x=\"274.414062\" xlink:href=\"#DejaVuSans-52\" />\n     <use x=\"338.037109\" xlink:href=\"#DejaVuSans-54\" />\n     <use x=\"401.660156\" xlink:href=\"#DejaVuSans-48\" />\n    </g>\n    \n    <defs>\n     <path d=\"M 48.78125 52.59375  L 48.78125 44.1875  Q 44.96875 46.296875 41.140625 47.34375  Q 37.3125 48.390625 33.40625 48.390625  Q 24.65625 48.390625 19.8125 42.84375  Q 14.984375 37.3125 14.984375 27.296875  Q 14.984375 17.28125 19.8125 11.734375  Q 24.65625 6.203125 33.40625 6.203125  Q 37.3125 6.203125 41.140625 7.25  Q 44.96875 8.296875 48.78125 10.40625  L 48.78125 2.09375  Q 45.015625 0.34375 40.984375 -0.53125  Q 36.96875 -1.421875 32.421875 -1.421875  Q 20.0625 -1.421875 12.78125 6.34375  Q 5.515625 14.109375 5.515625 27.296875  Q 5.515625 40.671875 12.859375 48.328125  Q 20.21875 56 33.015625 56  Q 37.15625 56 41.109375 55.140625  Q 45.0625 54.296875 48.78125 52.59375  z \" id=\"DejaVuSans-99\" />\n     <path d=\"M 9.421875 75.984375  L 18.40625 75.984375  L 18.40625 0  L 9.421875 0  z \" id=\"DejaVuSans-108\" />\n     <path d=\"M 34.28125 27.484375  Q 23.390625 27.484375 19.1875 25  Q 14.984375 22.515625 14.984375 16.5  Q 14.984375 11.71875 18.140625 8.90625  Q 21.296875 6.109375 26.703125 6.109375  Q 34.1875 6.109375 38.703125 11.40625  Q 43.21875 16.703125 43.21875 25.484375  L 43.21875 27.484375  z M 52.203125 31.203125  L 52.203125 0  L 43.21875 0  L 43.21875 8.296875  Q 40.140625 3.328125 35.546875 0.953125  Q 30.953125 -1.421875 24.3125 -1.421875  Q 15.921875 -1.421875 10.953125 3.296875  Q 6 8.015625 6 15.921875  Q 6 25.140625 12.171875 29.828125  Q 18.359375 34.515625 30.609375 34.515625  L 43.21875 34.515625  L 43.21875 35.40625  Q 43.21875 41.609375 39.140625 45  Q 35.0625 48.390625 27.6875 48.390625  Q 23 48.390625 18.546875 47.265625  Q 14.109375 46.140625 10.015625 43.890625  L 10.015625 52.203125  Q 14.9375 54.109375 19.578125 55.046875  Q 24.21875 56 28.609375 56  Q 40.484375 56 46.34375 49.84375  Q 52.203125 43.703125 52.203125 31.203125  z \" id=\"DejaVuSans-97\" />\n     <path d=\"M 44.28125 53.078125  L 44.28125 44.578125  Q 40.484375 46.53125 36.375 47.5  Q 32.28125 48.484375 27.875 48.484375  Q 21.1875 48.484375 17.84375 46.4375  Q 14.5 44.390625 14.5 40.28125  Q 14.5 37.15625 16.890625 35.375  Q 19.28125 33.59375 26.515625 31.984375  L 29.59375 31.296875  Q 39.15625 29.25 43.1875 25.515625  Q 47.21875 21.78125 47.21875 15.09375  Q 47.21875 7.46875 41.1875 3.015625  Q 35.15625 -1.421875 24.609375 -1.421875  Q 20.21875 -1.421875 15.453125 -0.5625  Q 10.6875 0.296875 5.421875 2  L 5.421875 11.28125  Q 10.40625 8.6875 15.234375 7.390625  Q 20.0625 6.109375 24.8125 6.109375  Q 31.15625 6.109375 34.5625 8.28125  Q 37.984375 10.453125 37.984375 14.40625  Q 37.984375 18.0625 35.515625 20.015625  Q 33.0625 21.96875 24.703125 23.78125  L 21.578125 24.515625  Q 13.234375 26.265625 9.515625 29.90625  Q 5.8125 33.546875 5.8125 39.890625  Q 5.8125 47.609375 11.28125 51.796875  Q 16.75 56 26.8125 56  Q 31.78125 56 36.171875 55.265625  Q 40.578125 54.546875 44.28125 53.078125  z \" id=\"DejaVuSans-115\" />\n     <path id=\"DejaVuSans-32\" />\n     <path d=\"M 40.578125 39.3125  Q 47.65625 37.796875 51.625 33  Q 55.609375 28.21875 55.609375 21.1875  Q 55.609375 10.40625 48.1875 4.484375  Q 40.765625 -1.421875 27.09375 -1.421875  Q 22.515625 -1.421875 17.65625 -0.515625  Q 12.796875 0.390625 7.625 2.203125  L 7.625 11.71875  Q 11.71875 9.328125 16.59375 8.109375  Q 21.484375 6.890625 26.8125 6.890625  Q 36.078125 6.890625 40.9375 10.546875  Q 45.796875 14.203125 45.796875 21.1875  Q 45.796875 27.640625 41.28125 31.265625  Q 36.765625 34.90625 28.71875 34.90625  L 20.21875 34.90625  L 20.21875 43.015625  L 29.109375 43.015625  Q 36.375 43.015625 40.234375 45.921875  Q 44.09375 48.828125 44.09375 54.296875  Q 44.09375 59.90625 40.109375 62.90625  Q 36.140625 65.921875 28.71875 65.921875  Q 24.65625 65.921875 20.015625 65.03125  Q 15.375 64.15625 9.8125 62.3125  L 9.8125 71.09375  Q 15.4375 72.65625 20.34375 73.4375  Q 25.25 74.21875 29.59375 74.21875  Q 40.828125 74.21875 47.359375 69.109375  Q 53.90625 64.015625 53.90625 55.328125  Q 53.90625 49.265625 50.4375 45.09375  Q 46.96875 40.921875 40.578125 39.3125  z \" id=\"DejaVuSans-51\" />\n    </defs>\n    <g style=\"fill:#444443;\" transform=\"translate(23.807663 98.594587)scale(0.09 -0.09)\">\n     <use xlink:href=\"#DejaVuSans-99\" />\n     <use x=\"54.980469\" xlink:href=\"#DejaVuSans-108\" />\n     <use x=\"82.763672\" xlink:href=\"#DejaVuSans-97\" />\n     <use x=\"144.042969\" xlink:href=\"#DejaVuSans-115\" />\n     <use x=\"196.142578\" xlink:href=\"#DejaVuSans-115\" />\n     <use x=\"248.242188\" xlink:href=\"#DejaVuSans-32\" />\n     <use x=\"280.029297\" xlink:href=\"#DejaVuSans-51\" />\n    </g>\n   </g>\n  </g>\n </g>\n</svg></g>\n\n<g class=\"edge\" id=\"edge19\">\n<title>node4-&gt;leaf13</title>\n<path d=\"M703.3118,-222.8149C703.5845,-213.1801 703.8959,-202.1766 704.1966,-191.5521\" fill=\"none\" stroke=\"#444443\" stroke-width=\".3\" />\n<polygon fill=\"#444443\" points=\"705.6019,-191.3833 704.3157,-187.3453 702.803,-191.304 705.6019,-191.3833\" stroke=\"#444443\" stroke-width=\".3\" />\n</g>\n\n<g class=\"node\" id=\"node19\">\n<title>leaf14</title>\n<polygon fill=\"none\" points=\"820,-187 753,-187 753,-104 820,-104 820,-187\" stroke=\"#444443\" stroke-width=\"0\" />\n<svg height=\"75px\" preserveAspectRatio=\"xMinYMin meet\" version=\"1.1\" viewBox=\"0 0 78.720904 100.574844\" width=\"59px\" x=\"757.5\" y=\"-182.5\">\n <defs>\n  <style type=\"text/css\">\n*{stroke-linecap:butt;stroke-linejoin:round;}\n  </style>\n </defs>\n <g id=\"figure_1\">\n  <g id=\"patch_1\">\n   <path d=\"M 0 100.574844  L 78.720904 100.574844  L 78.720904 0  L 0 0  z \" style=\"fill:#ffffff;\" />\n  </g>\n  <g id=\"axes_1\">\n   <g id=\"patch_2\">\n    <path d=\"M 78.720902 39.385701  C 78.720902 39.385701 78.720902 39.385701 78.720902 39.385701  L 39.460902 39.385701  L 78.720902 39.385701  z \" style=\"fill:#fefebb;stroke:#444443;stroke-linejoin:miter;stroke-width:0.5;\" />\n   </g>\n   <g id=\"patch_3\">\n    <path d=\"M 78.720902 39.385701  C 78.720902 39.385701 78.720902 39.385701 78.720902 39.385701  L 39.460902 39.385701  L 78.720902 39.385701  z \" style=\"fill:#d9e6f5;stroke:#444443;stroke-linejoin:miter;stroke-width:0.5;\" />\n   </g>\n   <g id=\"patch_4\">\n    <path d=\"M 78.720902 39.385701  C 78.720902 35.171654 78.042418 30.984962 76.711537 26.986594  C 75.380655 22.988227 73.414654 19.230093 70.889123 15.856685  C 68.363591 12.483278 65.311317 9.538392 61.849654 7.135253  C 58.387991 4.732114 54.56188 2.90192 50.518429 1.715039  C 46.474977 0.528159 42.266678 0 38.055333 0.150869  C 33.843988 0.301739 29.684271 1.129678 25.736114 2.602854  C 21.787958 4.07603 18.102619 6.175318 14.821792 8.820004  C 11.540965 11.464689 8.707243 14.620438 6.429577 18.165918  C 4.151912 21.711398 2.459872 25.60058 1.418514 29.683932  C 0.377157 33.767283 0 37.991793 0.301545 42.195037  C 0.603091 46.398281 1.579424 50.52569 3.193006 54.418573  C 4.806587 58.311457 7.03647 61.919275 9.796919 65.103315  C 12.557368 68.287355 15.812546 71.00628 19.437297 73.155551  C 23.062047 75.304823 27.009314 76.856539 31.12733 77.751039  C 35.245346 78.645539 39.480651 78.871209 43.670404 78.419374  C 47.860157 77.96754 51.949966 76.844065 55.782585 75.092146  L 39.460902 39.385701  L 78.720902 39.385701  z \" style=\"fill:#a1dab4;stroke:#444443;stroke-linejoin:miter;stroke-width:0.5;\" />\n   </g>\n   <g id=\"patch_5\">\n    <path d=\"M 55.782585 75.092146  C 62.624822 71.964509 68.425996 66.935098 72.492229 60.60548  C 76.558463 54.275862 78.720904 46.908879 78.720902 39.385693  L 39.460902 39.385701  L 55.782585 75.092146  z \" style=\"fill:#fee090;stroke:#444443;stroke-linejoin:miter;stroke-width:0.5;\" />\n   </g>\n   <g id=\"text_1\">\n    \n    <defs>\n     <path d=\"M 54.890625 33.015625  L 54.890625 0  L 45.90625 0  L 45.90625 32.71875  Q 45.90625 40.484375 42.875 44.328125  Q 39.84375 48.1875 33.796875 48.1875  Q 26.515625 48.1875 22.3125 43.546875  Q 18.109375 38.921875 18.109375 30.90625  L 18.109375 0  L 9.078125 0  L 9.078125 54.6875  L 18.109375 54.6875  L 18.109375 46.1875  Q 21.34375 51.125 25.703125 53.5625  Q 30.078125 56 35.796875 56  Q 45.21875 56 50.046875 50.171875  Q 54.890625 44.34375 54.890625 33.015625  z \" id=\"DejaVuSans-110\" />\n     <path d=\"M 10.59375 45.40625  L 73.1875 45.40625  L 73.1875 37.203125  L 10.59375 37.203125  z M 10.59375 25.484375  L 73.1875 25.484375  L 73.1875 17.1875  L 10.59375 17.1875  z \" id=\"DejaVuSans-61\" />\n     <path d=\"M 12.40625 8.296875  L 28.515625 8.296875  L 28.515625 63.921875  L 10.984375 60.40625  L 10.984375 69.390625  L 28.421875 72.90625  L 38.28125 72.90625  L 38.28125 8.296875  L 54.390625 8.296875  L 54.390625 0  L 12.40625 0  z \" id=\"DejaVuSans-49\" />\n     <path d=\"M 33.015625 40.375  Q 26.375 40.375 22.484375 35.828125  Q 18.609375 31.296875 18.609375 23.390625  Q 18.609375 15.53125 22.484375 10.953125  Q 26.375 6.390625 33.015625 6.390625  Q 39.65625 6.390625 43.53125 10.953125  Q 47.40625 15.53125 47.40625 23.390625  Q 47.40625 31.296875 43.53125 35.828125  Q 39.65625 40.375 33.015625 40.375  z M 52.59375 71.296875  L 52.59375 62.3125  Q 48.875 64.0625 45.09375 64.984375  Q 41.3125 65.921875 37.59375 65.921875  Q 27.828125 65.921875 22.671875 59.328125  Q 17.53125 52.734375 16.796875 39.40625  Q 19.671875 43.65625 24.015625 45.921875  Q 28.375 48.1875 33.59375 48.1875  Q 44.578125 48.1875 50.953125 41.515625  Q 57.328125 34.859375 57.328125 23.390625  Q 57.328125 12.15625 50.6875 5.359375  Q 44.046875 -1.421875 33.015625 -1.421875  Q 20.359375 -1.421875 13.671875 8.265625  Q 6.984375 17.96875 6.984375 36.375  Q 6.984375 53.65625 15.1875 63.9375  Q 23.390625 74.21875 37.203125 74.21875  Q 40.921875 74.21875 44.703125 73.484375  Q 48.484375 72.75 52.59375 71.296875  z \" id=\"DejaVuSans-54\" />\n     <path d=\"M 40.578125 39.3125  Q 47.65625 37.796875 51.625 33  Q 55.609375 28.21875 55.609375 21.1875  Q 55.609375 10.40625 48.1875 4.484375  Q 40.765625 -1.421875 27.09375 -1.421875  Q 22.515625 -1.421875 17.65625 -0.515625  Q 12.796875 0.390625 7.625 2.203125  L 7.625 11.71875  Q 11.71875 9.328125 16.59375 8.109375  Q 21.484375 6.890625 26.8125 6.890625  Q 36.078125 6.890625 40.9375 10.546875  Q 45.796875 14.203125 45.796875 21.1875  Q 45.796875 27.640625 41.28125 31.265625  Q 36.765625 34.90625 28.71875 34.90625  L 20.21875 34.90625  L 20.21875 43.015625  L 29.109375 43.015625  Q 36.375 43.015625 40.234375 45.921875  Q 44.09375 48.828125 44.09375 54.296875  Q 44.09375 59.90625 40.109375 62.90625  Q 36.140625 65.921875 28.71875 65.921875  Q 24.65625 65.921875 20.015625 65.03125  Q 15.375 64.15625 9.8125 62.3125  L 9.8125 71.09375  Q 15.4375 72.65625 20.34375 73.4375  Q 25.25 74.21875 29.59375 74.21875  Q 40.828125 74.21875 47.359375 69.109375  Q 53.90625 64.015625 53.90625 55.328125  Q 53.90625 49.265625 50.4375 45.09375  Q 46.96875 40.921875 40.578125 39.3125  z \" id=\"DejaVuSans-51\" />\n     <path d=\"M 37.796875 64.3125  L 12.890625 25.390625  L 37.796875 25.390625  z M 35.203125 72.90625  L 47.609375 72.90625  L 47.609375 25.390625  L 58.015625 25.390625  L 58.015625 17.1875  L 47.609375 17.1875  L 47.609375 0  L 37.796875 0  L 37.796875 17.1875  L 4.890625 17.1875  L 4.890625 26.703125  z \" id=\"DejaVuSans-52\" />\n    </defs>\n    <g style=\"fill:#444443;\" transform=\"translate(21.385668 88.625094)scale(0.09 -0.09)\">\n     <use xlink:href=\"#DejaVuSans-110\" />\n     <use x=\"63.378906\" xlink:href=\"#DejaVuSans-61\" />\n     <use x=\"147.167969\" xlink:href=\"#DejaVuSans-49\" />\n     <use x=\"210.791016\" xlink:href=\"#DejaVuSans-54\" />\n     <use x=\"274.414062\" xlink:href=\"#DejaVuSans-51\" />\n     <use x=\"338.037109\" xlink:href=\"#DejaVuSans-52\" />\n    </g>\n    \n    <defs>\n     <path d=\"M 48.78125 52.59375  L 48.78125 44.1875  Q 44.96875 46.296875 41.140625 47.34375  Q 37.3125 48.390625 33.40625 48.390625  Q 24.65625 48.390625 19.8125 42.84375  Q 14.984375 37.3125 14.984375 27.296875  Q 14.984375 17.28125 19.8125 11.734375  Q 24.65625 6.203125 33.40625 6.203125  Q 37.3125 6.203125 41.140625 7.25  Q 44.96875 8.296875 48.78125 10.40625  L 48.78125 2.09375  Q 45.015625 0.34375 40.984375 -0.53125  Q 36.96875 -1.421875 32.421875 -1.421875  Q 20.0625 -1.421875 12.78125 6.34375  Q 5.515625 14.109375 5.515625 27.296875  Q 5.515625 40.671875 12.859375 48.328125  Q 20.21875 56 33.015625 56  Q 37.15625 56 41.109375 55.140625  Q 45.0625 54.296875 48.78125 52.59375  z \" id=\"DejaVuSans-99\" />\n     <path d=\"M 9.421875 75.984375  L 18.40625 75.984375  L 18.40625 0  L 9.421875 0  z \" id=\"DejaVuSans-108\" />\n     <path d=\"M 34.28125 27.484375  Q 23.390625 27.484375 19.1875 25  Q 14.984375 22.515625 14.984375 16.5  Q 14.984375 11.71875 18.140625 8.90625  Q 21.296875 6.109375 26.703125 6.109375  Q 34.1875 6.109375 38.703125 11.40625  Q 43.21875 16.703125 43.21875 25.484375  L 43.21875 27.484375  z M 52.203125 31.203125  L 52.203125 0  L 43.21875 0  L 43.21875 8.296875  Q 40.140625 3.328125 35.546875 0.953125  Q 30.953125 -1.421875 24.3125 -1.421875  Q 15.921875 -1.421875 10.953125 3.296875  Q 6 8.015625 6 15.921875  Q 6 25.140625 12.171875 29.828125  Q 18.359375 34.515625 30.609375 34.515625  L 43.21875 34.515625  L 43.21875 35.40625  Q 43.21875 41.609375 39.140625 45  Q 35.0625 48.390625 27.6875 48.390625  Q 23 48.390625 18.546875 47.265625  Q 14.109375 46.140625 10.015625 43.890625  L 10.015625 52.203125  Q 14.9375 54.109375 19.578125 55.046875  Q 24.21875 56 28.609375 56  Q 40.484375 56 46.34375 49.84375  Q 52.203125 43.703125 52.203125 31.203125  z \" id=\"DejaVuSans-97\" />\n     <path d=\"M 44.28125 53.078125  L 44.28125 44.578125  Q 40.484375 46.53125 36.375 47.5  Q 32.28125 48.484375 27.875 48.484375  Q 21.1875 48.484375 17.84375 46.4375  Q 14.5 44.390625 14.5 40.28125  Q 14.5 37.15625 16.890625 35.375  Q 19.28125 33.59375 26.515625 31.984375  L 29.59375 31.296875  Q 39.15625 29.25 43.1875 25.515625  Q 47.21875 21.78125 47.21875 15.09375  Q 47.21875 7.46875 41.1875 3.015625  Q 35.15625 -1.421875 24.609375 -1.421875  Q 20.21875 -1.421875 15.453125 -0.5625  Q 10.6875 0.296875 5.421875 2  L 5.421875 11.28125  Q 10.40625 8.6875 15.234375 7.390625  Q 20.0625 6.109375 24.8125 6.109375  Q 31.15625 6.109375 34.5625 8.28125  Q 37.984375 10.453125 37.984375 14.40625  Q 37.984375 18.0625 35.515625 20.015625  Q 33.0625 21.96875 24.703125 23.78125  L 21.578125 24.515625  Q 13.234375 26.265625 9.515625 29.90625  Q 5.8125 33.546875 5.8125 39.890625  Q 5.8125 47.609375 11.28125 51.796875  Q 16.75 56 26.8125 56  Q 31.78125 56 36.171875 55.265625  Q 40.578125 54.546875 44.28125 53.078125  z \" id=\"DejaVuSans-115\" />\n     <path id=\"DejaVuSans-32\" />\n     <path d=\"M 19.1875 8.296875  L 53.609375 8.296875  L 53.609375 0  L 7.328125 0  L 7.328125 8.296875  Q 12.9375 14.109375 22.625 23.890625  Q 32.328125 33.6875 34.8125 36.53125  Q 39.546875 41.84375 41.421875 45.53125  Q 43.3125 49.21875 43.3125 52.78125  Q 43.3125 58.59375 39.234375 62.25  Q 35.15625 65.921875 28.609375 65.921875  Q 23.96875 65.921875 18.8125 64.3125  Q 13.671875 62.703125 7.8125 59.421875  L 7.8125 69.390625  Q 13.765625 71.78125 18.9375 73  Q 24.125 74.21875 28.421875 74.21875  Q 39.75 74.21875 46.484375 68.546875  Q 53.21875 62.890625 53.21875 53.421875  Q 53.21875 48.921875 51.53125 44.890625  Q 49.859375 40.875 45.40625 35.40625  Q 44.1875 33.984375 37.640625 27.21875  Q 31.109375 20.453125 19.1875 8.296875  z \" id=\"DejaVuSans-50\" />\n    </defs>\n    <g style=\"fill:#444443;\" transform=\"translate(23.997074 98.703126)scale(0.09 -0.09)\">\n     <use xlink:href=\"#DejaVuSans-99\" />\n     <use x=\"54.980469\" xlink:href=\"#DejaVuSans-108\" />\n     <use x=\"82.763672\" xlink:href=\"#DejaVuSans-97\" />\n     <use x=\"144.042969\" xlink:href=\"#DejaVuSans-115\" />\n     <use x=\"196.142578\" xlink:href=\"#DejaVuSans-115\" />\n     <use x=\"248.242188\" xlink:href=\"#DejaVuSans-32\" />\n     <use x=\"280.029297\" xlink:href=\"#DejaVuSans-50\" />\n    </g>\n   </g>\n  </g>\n </g>\n</svg></g>\n\n<g class=\"edge\" id=\"edge20\">\n<title>node4-&gt;leaf14</title>\n<path d=\"M725.2316,-222.8149C733.0694,-212.9243 742.0502,-201.5914 750.6758,-190.7068\" fill=\"none\" stroke=\"#444443\" stroke-width=\".3\" />\n<polygon fill=\"#444443\" points=\"751.9525,-191.3498 753.3396,-187.3453 749.758,-189.6107 751.9525,-191.3498\" stroke=\"#444443\" stroke-width=\".3\" />\n</g>\n\n<g class=\"edge\" id=\"edge22\">\n<title>node2-&gt;node3</title>\n<path d=\"M505.5,-312.8537C505.5,-308.695 505.5,-304.466 505.5,-300.2725\" fill=\"none\" stroke=\"#444443\" stroke-width=\".3\" />\n<polygon fill=\"#444443\" points=\"506.9001,-300.0947 505.5,-296.0947 504.1001,-300.0948 506.9001,-300.0947\" stroke=\"#444443\" stroke-width=\".3\" />\n</g>\n\n<g class=\"edge\" id=\"edge23\">\n<title>node2-&gt;node4</title>\n<path d=\"M588.4748,-312.8537C607.7968,-302.4571 627.9364,-291.6205 645.818,-281.9989\" fill=\"none\" stroke=\"#444443\" stroke-width=\".3\" />\n<polygon fill=\"#444443\" points=\"646.5043,-283.2195 649.3634,-280.0913 645.1775,-280.7538 646.5043,-283.2195\" stroke=\"#444443\" stroke-width=\".3\" />\n</g>\n\n<g class=\"node\" id=\"node9\">\n<title>node0</title>\n<svg height=\"84px\" preserveAspectRatio=\"xMinYMin meet\" version=\"1.1\" viewBox=\"0 0 221.68 112.23\" width=\"166px\" x=\"327.5\" y=\"-521\">\n <defs>\n  <style type=\"text/css\">\n*{stroke-linecap:butt;stroke-linejoin:round;}\n  </style>\n </defs>\n <g id=\"figure_1\">\n  <g id=\"patch_1\">\n   <path d=\"M 0 112.23  L 221.68 112.23  L 221.68 -0  L 0 -0  z \" style=\"fill:#ffffff;\" />\n  </g>\n  <g id=\"axes_1\">\n   <g id=\"patch_2\">\n    <path d=\"M 37.54 81.54  L 221.68 81.54  L 221.68 0  L 37.54 0  z \" style=\"fill:#ffffff;\" />\n   </g>\n   <g id=\"patch_3\">\n    <path clip-path=\"url(#p6e66e1a655)\" d=\"M 37.54 81.54  L 49.231429 81.54  L 49.231429 81.54  L 37.54 81.54  z \" style=\"fill:#fefebb;stroke:#444443;stroke-linejoin:miter;stroke-width:0.5;\" />\n   </g>\n   <g id=\"patch_4\">\n    <path clip-path=\"url(#p6e66e1a655)\" d=\"M 49.231429 81.54  L 60.922857 81.54  L 60.922857 81.54  L 49.231429 81.54  z \" style=\"fill:#fefebb;stroke:#444443;stroke-linejoin:miter;stroke-width:0.5;\" />\n   </g>\n   <g id=\"patch_5\">\n    <path clip-path=\"url(#p6e66e1a655)\" d=\"M 60.922857 81.54  L 72.614286 81.54  L 72.614286 81.54  L 60.922857 81.54  z \" style=\"fill:#fefebb;stroke:#444443;stroke-linejoin:miter;stroke-width:0.5;\" />\n   </g>\n   <g id=\"patch_6\">\n    <path clip-path=\"url(#p6e66e1a655)\" d=\"M 72.614286 81.54  L 84.305714 81.54  L 84.305714 81.54  L 72.614286 81.54  z \" style=\"fill:#fefebb;stroke:#444443;stroke-linejoin:miter;stroke-width:0.5;\" />\n   </g>\n   <g id=\"patch_7\">\n    <path clip-path=\"url(#p6e66e1a655)\" d=\"M 84.305714 81.54  L 95.997143 81.54  L 95.997143 81.54  L 84.305714 81.54  z \" style=\"fill:#fefebb;stroke:#444443;stroke-linejoin:miter;stroke-width:0.5;\" />\n   </g>\n   <g id=\"patch_8\">\n    <path clip-path=\"url(#p6e66e1a655)\" d=\"M 95.997143 81.54  L 107.688571 81.54  L 107.688571 81.54  L 95.997143 81.54  z \" style=\"fill:#fefebb;stroke:#444443;stroke-linejoin:miter;stroke-width:0.5;\" />\n   </g>\n   <g id=\"patch_9\">\n    <path clip-path=\"url(#p6e66e1a655)\" d=\"M 107.688571 81.54  L 119.38 81.54  L 119.38 81.54  L 107.688571 81.54  z \" style=\"fill:#fefebb;stroke:#444443;stroke-linejoin:miter;stroke-width:0.5;\" />\n   </g>\n   <g id=\"patch_10\">\n    <path clip-path=\"url(#p6e66e1a655)\" d=\"M 119.38 81.54  L 131.071429 81.54  L 131.071429 81.54  L 119.38 81.54  z \" style=\"fill:#fefebb;stroke:#444443;stroke-linejoin:miter;stroke-width:0.5;\" />\n   </g>\n   <g id=\"patch_11\">\n    <path clip-path=\"url(#p6e66e1a655)\" d=\"M 131.071429 81.54  L 142.762857 81.54  L 142.762857 81.54  L 131.071429 81.54  z \" style=\"fill:#fefebb;stroke:#444443;stroke-linejoin:miter;stroke-width:0.5;\" />\n   </g>\n   <g id=\"patch_12\">\n    <path clip-path=\"url(#p6e66e1a655)\" d=\"M 142.762857 81.54  L 154.454286 81.54  L 154.454286 81.54  L 142.762857 81.54  z \" style=\"fill:#fefebb;stroke:#444443;stroke-linejoin:miter;stroke-width:0.5;\" />\n   </g>\n   <g id=\"patch_13\">\n    <path clip-path=\"url(#p6e66e1a655)\" d=\"M 154.454286 81.54  L 166.145714 81.54  L 166.145714 81.54  L 154.454286 81.54  z \" style=\"fill:#fefebb;stroke:#444443;stroke-linejoin:miter;stroke-width:0.5;\" />\n   </g>\n   <g id=\"patch_14\">\n    <path clip-path=\"url(#p6e66e1a655)\" d=\"M 166.145714 81.54  L 177.837143 81.54  L 177.837143 81.54  L 166.145714 81.54  z \" style=\"fill:#fefebb;stroke:#444443;stroke-linejoin:miter;stroke-width:0.5;\" />\n   </g>\n   <g id=\"patch_15\">\n    <path clip-path=\"url(#p6e66e1a655)\" d=\"M 177.837143 81.54  L 189.528571 81.54  L 189.528571 81.54  L 177.837143 81.54  z \" style=\"fill:#fefebb;stroke:#444443;stroke-linejoin:miter;stroke-width:0.5;\" />\n   </g>\n   <g id=\"patch_16\">\n    <path clip-path=\"url(#p6e66e1a655)\" d=\"M 189.528571 81.54  L 201.22 81.54  L 201.22 81.54  L 189.528571 81.54  z \" style=\"fill:#fefebb;stroke:#444443;stroke-linejoin:miter;stroke-width:0.5;\" />\n   </g>\n   <g id=\"patch_17\">\n    <path clip-path=\"url(#p6e66e1a655)\" d=\"M 201.22 81.54  L 212.911429 81.54  L 212.911429 15.184483  L 201.22 15.184483  z \" style=\"fill:#fefebb;stroke:#444443;stroke-linejoin:miter;stroke-width:0.5;\" />\n   </g>\n   <g id=\"patch_18\">\n    <path clip-path=\"url(#p6e66e1a655)\" d=\"M 37.54 81.54  L 49.231429 81.54  L 49.231429 38.923484  L 37.54 38.923484  z \" style=\"fill:#d9e6f5;stroke:#444443;stroke-linejoin:miter;stroke-width:0.5;\" />\n   </g>\n   <g id=\"patch_19\">\n    <path clip-path=\"url(#p6e66e1a655)\" d=\"M 49.231429 81.54  L 60.922857 81.54  L 60.922857 81.54  L 49.231429 81.54  z \" style=\"fill:#d9e6f5;stroke:#444443;stroke-linejoin:miter;stroke-width:0.5;\" />\n   </g>\n   <g id=\"patch_20\">\n    <path clip-path=\"url(#p6e66e1a655)\" d=\"M 60.922857 81.54  L 72.614286 81.54  L 72.614286 81.54  L 60.922857 81.54  z \" style=\"fill:#d9e6f5;stroke:#444443;stroke-linejoin:miter;stroke-width:0.5;\" />\n   </g>\n   <g id=\"patch_21\">\n    <path clip-path=\"url(#p6e66e1a655)\" d=\"M 72.614286 81.54  L 84.305714 81.54  L 84.305714 81.54  L 72.614286 81.54  z \" style=\"fill:#d9e6f5;stroke:#444443;stroke-linejoin:miter;stroke-width:0.5;\" />\n   </g>\n   <g id=\"patch_22\">\n    <path clip-path=\"url(#p6e66e1a655)\" d=\"M 84.305714 81.54  L 95.997143 81.54  L 95.997143 81.54  L 84.305714 81.54  z \" style=\"fill:#d9e6f5;stroke:#444443;stroke-linejoin:miter;stroke-width:0.5;\" />\n   </g>\n   <g id=\"patch_23\">\n    <path clip-path=\"url(#p6e66e1a655)\" d=\"M 95.997143 81.54  L 107.688571 81.54  L 107.688571 81.54  L 95.997143 81.54  z \" style=\"fill:#d9e6f5;stroke:#444443;stroke-linejoin:miter;stroke-width:0.5;\" />\n   </g>\n   <g id=\"patch_24\">\n    <path clip-path=\"url(#p6e66e1a655)\" d=\"M 107.688571 81.54  L 119.38 81.54  L 119.38 81.54  L 107.688571 81.54  z \" style=\"fill:#d9e6f5;stroke:#444443;stroke-linejoin:miter;stroke-width:0.5;\" />\n   </g>\n   <g id=\"patch_25\">\n    <path clip-path=\"url(#p6e66e1a655)\" d=\"M 119.38 81.54  L 131.071429 81.54  L 131.071429 81.54  L 119.38 81.54  z \" style=\"fill:#d9e6f5;stroke:#444443;stroke-linejoin:miter;stroke-width:0.5;\" />\n   </g>\n   <g id=\"patch_26\">\n    <path clip-path=\"url(#p6e66e1a655)\" d=\"M 131.071429 81.54  L 142.762857 81.54  L 142.762857 81.54  L 131.071429 81.54  z \" style=\"fill:#d9e6f5;stroke:#444443;stroke-linejoin:miter;stroke-width:0.5;\" />\n   </g>\n   <g id=\"patch_27\">\n    <path clip-path=\"url(#p6e66e1a655)\" d=\"M 142.762857 81.54  L 154.454286 81.54  L 154.454286 81.54  L 142.762857 81.54  z \" style=\"fill:#d9e6f5;stroke:#444443;stroke-linejoin:miter;stroke-width:0.5;\" />\n   </g>\n   <g id=\"patch_28\">\n    <path clip-path=\"url(#p6e66e1a655)\" d=\"M 154.454286 81.54  L 166.145714 81.54  L 166.145714 81.54  L 154.454286 81.54  z \" style=\"fill:#d9e6f5;stroke:#444443;stroke-linejoin:miter;stroke-width:0.5;\" />\n   </g>\n   <g id=\"patch_29\">\n    <path clip-path=\"url(#p6e66e1a655)\" d=\"M 166.145714 81.54  L 177.837143 81.54  L 177.837143 81.54  L 166.145714 81.54  z \" style=\"fill:#d9e6f5;stroke:#444443;stroke-linejoin:miter;stroke-width:0.5;\" />\n   </g>\n   <g id=\"patch_30\">\n    <path clip-path=\"url(#p6e66e1a655)\" d=\"M 177.837143 81.54  L 189.528571 81.54  L 189.528571 81.54  L 177.837143 81.54  z \" style=\"fill:#d9e6f5;stroke:#444443;stroke-linejoin:miter;stroke-width:0.5;\" />\n   </g>\n   <g id=\"patch_31\">\n    <path clip-path=\"url(#p6e66e1a655)\" d=\"M 189.528571 81.54  L 201.22 81.54  L 201.22 81.54  L 189.528571 81.54  z \" style=\"fill:#d9e6f5;stroke:#444443;stroke-linejoin:miter;stroke-width:0.5;\" />\n   </g>\n   <g id=\"patch_32\">\n    <path clip-path=\"url(#p6e66e1a655)\" d=\"M 201.22 15.184483  L 212.911429 15.184483  L 212.911429 15.184483  L 201.22 15.184483  z \" style=\"fill:#d9e6f5;stroke:#444443;stroke-linejoin:miter;stroke-width:0.5;\" />\n   </g>\n   <g id=\"patch_33\">\n    <path clip-path=\"url(#p6e66e1a655)\" d=\"M 37.54 38.923484  L 49.231429 38.923484  L 49.231429 30.188505  L 37.54 30.188505  z \" style=\"fill:#a1dab4;stroke:#444443;stroke-linejoin:miter;stroke-width:0.5;\" />\n   </g>\n   <g id=\"patch_34\">\n    <path clip-path=\"url(#p6e66e1a655)\" d=\"M 49.231429 81.54  L 60.922857 81.54  L 60.922857 81.54  L 49.231429 81.54  z \" style=\"fill:#a1dab4;stroke:#444443;stroke-linejoin:miter;stroke-width:0.5;\" />\n   </g>\n   <g id=\"patch_35\">\n    <path clip-path=\"url(#p6e66e1a655)\" d=\"M 60.922857 81.54  L 72.614286 81.54  L 72.614286 81.54  L 60.922857 81.54  z \" style=\"fill:#a1dab4;stroke:#444443;stroke-linejoin:miter;stroke-width:0.5;\" />\n   </g>\n   <g id=\"patch_36\">\n    <path clip-path=\"url(#p6e66e1a655)\" d=\"M 72.614286 81.54  L 84.305714 81.54  L 84.305714 81.54  L 72.614286 81.54  z \" style=\"fill:#a1dab4;stroke:#444443;stroke-linejoin:miter;stroke-width:0.5;\" />\n   </g>\n   <g id=\"patch_37\">\n    <path clip-path=\"url(#p6e66e1a655)\" d=\"M 84.305714 81.54  L 95.997143 81.54  L 95.997143 81.54  L 84.305714 81.54  z \" style=\"fill:#a1dab4;stroke:#444443;stroke-linejoin:miter;stroke-width:0.5;\" />\n   </g>\n   <g id=\"patch_38\">\n    <path clip-path=\"url(#p6e66e1a655)\" d=\"M 95.997143 81.54  L 107.688571 81.54  L 107.688571 81.54  L 95.997143 81.54  z \" style=\"fill:#a1dab4;stroke:#444443;stroke-linejoin:miter;stroke-width:0.5;\" />\n   </g>\n   <g id=\"patch_39\">\n    <path clip-path=\"url(#p6e66e1a655)\" d=\"M 107.688571 81.54  L 119.38 81.54  L 119.38 81.54  L 107.688571 81.54  z \" style=\"fill:#a1dab4;stroke:#444443;stroke-linejoin:miter;stroke-width:0.5;\" />\n   </g>\n   <g id=\"patch_40\">\n    <path clip-path=\"url(#p6e66e1a655)\" d=\"M 119.38 81.54  L 131.071429 81.54  L 131.071429 81.54  L 119.38 81.54  z \" style=\"fill:#a1dab4;stroke:#444443;stroke-linejoin:miter;stroke-width:0.5;\" />\n   </g>\n   <g id=\"patch_41\">\n    <path clip-path=\"url(#p6e66e1a655)\" d=\"M 131.071429 81.54  L 142.762857 81.54  L 142.762857 81.54  L 131.071429 81.54  z \" style=\"fill:#a1dab4;stroke:#444443;stroke-linejoin:miter;stroke-width:0.5;\" />\n   </g>\n   <g id=\"patch_42\">\n    <path clip-path=\"url(#p6e66e1a655)\" d=\"M 142.762857 81.54  L 154.454286 81.54  L 154.454286 81.54  L 142.762857 81.54  z \" style=\"fill:#a1dab4;stroke:#444443;stroke-linejoin:miter;stroke-width:0.5;\" />\n   </g>\n   <g id=\"patch_43\">\n    <path clip-path=\"url(#p6e66e1a655)\" d=\"M 154.454286 81.54  L 166.145714 81.54  L 166.145714 81.54  L 154.454286 81.54  z \" style=\"fill:#a1dab4;stroke:#444443;stroke-linejoin:miter;stroke-width:0.5;\" />\n   </g>\n   <g id=\"patch_44\">\n    <path clip-path=\"url(#p6e66e1a655)\" d=\"M 166.145714 81.54  L 177.837143 81.54  L 177.837143 81.54  L 166.145714 81.54  z \" style=\"fill:#a1dab4;stroke:#444443;stroke-linejoin:miter;stroke-width:0.5;\" />\n   </g>\n   <g id=\"patch_45\">\n    <path clip-path=\"url(#p6e66e1a655)\" d=\"M 177.837143 81.54  L 189.528571 81.54  L 189.528571 81.54  L 177.837143 81.54  z \" style=\"fill:#a1dab4;stroke:#444443;stroke-linejoin:miter;stroke-width:0.5;\" />\n   </g>\n   <g id=\"patch_46\">\n    <path clip-path=\"url(#p6e66e1a655)\" d=\"M 189.528571 81.54  L 201.22 81.54  L 201.22 81.54  L 189.528571 81.54  z \" style=\"fill:#a1dab4;stroke:#444443;stroke-linejoin:miter;stroke-width:0.5;\" />\n   </g>\n   <g id=\"patch_47\">\n    <path clip-path=\"url(#p6e66e1a655)\" d=\"M 201.22 15.184483  L 212.911429 15.184483  L 212.911429 13.938834  L 201.22 13.938834  z \" style=\"fill:#a1dab4;stroke:#444443;stroke-linejoin:miter;stroke-width:0.5;\" />\n   </g>\n   <g id=\"patch_48\">\n    <path clip-path=\"url(#p6e66e1a655)\" d=\"M 37.54 30.188505  L 49.231429 30.188505  L 49.231429 30.112972  L 37.54 30.112972  z \" style=\"fill:#fee090;stroke:#444443;stroke-linejoin:miter;stroke-width:0.5;\" />\n   </g>\n   <g id=\"patch_49\">\n    <path clip-path=\"url(#p6e66e1a655)\" d=\"M 49.231429 81.54  L 60.922857 81.54  L 60.922857 81.54  L 49.231429 81.54  z \" style=\"fill:#fee090;stroke:#444443;stroke-linejoin:miter;stroke-width:0.5;\" />\n   </g>\n   <g id=\"patch_50\">\n    <path clip-path=\"url(#p6e66e1a655)\" d=\"M 60.922857 81.54  L 72.614286 81.54  L 72.614286 81.54  L 60.922857 81.54  z \" style=\"fill:#fee090;stroke:#444443;stroke-linejoin:miter;stroke-width:0.5;\" />\n   </g>\n   <g id=\"patch_51\">\n    <path clip-path=\"url(#p6e66e1a655)\" d=\"M 72.614286 81.54  L 84.305714 81.54  L 84.305714 81.54  L 72.614286 81.54  z \" style=\"fill:#fee090;stroke:#444443;stroke-linejoin:miter;stroke-width:0.5;\" />\n   </g>\n   <g id=\"patch_52\">\n    <path clip-path=\"url(#p6e66e1a655)\" d=\"M 84.305714 81.54  L 95.997143 81.54  L 95.997143 81.54  L 84.305714 81.54  z \" style=\"fill:#fee090;stroke:#444443;stroke-linejoin:miter;stroke-width:0.5;\" />\n   </g>\n   <g id=\"patch_53\">\n    <path clip-path=\"url(#p6e66e1a655)\" d=\"M 95.997143 81.54  L 107.688571 81.54  L 107.688571 81.54  L 95.997143 81.54  z \" style=\"fill:#fee090;stroke:#444443;stroke-linejoin:miter;stroke-width:0.5;\" />\n   </g>\n   <g id=\"patch_54\">\n    <path clip-path=\"url(#p6e66e1a655)\" d=\"M 107.688571 81.54  L 119.38 81.54  L 119.38 81.54  L 107.688571 81.54  z \" style=\"fill:#fee090;stroke:#444443;stroke-linejoin:miter;stroke-width:0.5;\" />\n   </g>\n   <g id=\"patch_55\">\n    <path clip-path=\"url(#p6e66e1a655)\" d=\"M 119.38 81.54  L 131.071429 81.54  L 131.071429 81.54  L 119.38 81.54  z \" style=\"fill:#fee090;stroke:#444443;stroke-linejoin:miter;stroke-width:0.5;\" />\n   </g>\n   <g id=\"patch_56\">\n    <path clip-path=\"url(#p6e66e1a655)\" d=\"M 131.071429 81.54  L 142.762857 81.54  L 142.762857 81.54  L 131.071429 81.54  z \" style=\"fill:#fee090;stroke:#444443;stroke-linejoin:miter;stroke-width:0.5;\" />\n   </g>\n   <g id=\"patch_57\">\n    <path clip-path=\"url(#p6e66e1a655)\" d=\"M 142.762857 81.54  L 154.454286 81.54  L 154.454286 81.54  L 142.762857 81.54  z \" style=\"fill:#fee090;stroke:#444443;stroke-linejoin:miter;stroke-width:0.5;\" />\n   </g>\n   <g id=\"patch_58\">\n    <path clip-path=\"url(#p6e66e1a655)\" d=\"M 154.454286 81.54  L 166.145714 81.54  L 166.145714 81.54  L 154.454286 81.54  z \" style=\"fill:#fee090;stroke:#444443;stroke-linejoin:miter;stroke-width:0.5;\" />\n   </g>\n   <g id=\"patch_59\">\n    <path clip-path=\"url(#p6e66e1a655)\" d=\"M 166.145714 81.54  L 177.837143 81.54  L 177.837143 81.54  L 166.145714 81.54  z \" style=\"fill:#fee090;stroke:#444443;stroke-linejoin:miter;stroke-width:0.5;\" />\n   </g>\n   <g id=\"patch_60\">\n    <path clip-path=\"url(#p6e66e1a655)\" d=\"M 177.837143 81.54  L 189.528571 81.54  L 189.528571 81.54  L 177.837143 81.54  z \" style=\"fill:#fee090;stroke:#444443;stroke-linejoin:miter;stroke-width:0.5;\" />\n   </g>\n   <g id=\"patch_61\">\n    <path clip-path=\"url(#p6e66e1a655)\" d=\"M 189.528571 81.54  L 201.22 81.54  L 201.22 81.54  L 189.528571 81.54  z \" style=\"fill:#fee090;stroke:#444443;stroke-linejoin:miter;stroke-width:0.5;\" />\n   </g>\n   <g id=\"patch_62\">\n    <path clip-path=\"url(#p6e66e1a655)\" d=\"M 201.22 13.938834  L 212.911429 13.938834  L 212.911429 3.882857  L 201.22 3.882857  z \" style=\"fill:#fee090;stroke:#444443;stroke-linejoin:miter;stroke-width:0.5;\" />\n   </g>\n   <g id=\"patch_63\">\n    <path d=\"M 125.225714 82.3554  L 121.911194 89.694  L 128.540234 89.694  z \" style=\"fill:#444443;\" />\n   </g>\n   <g id=\"matplotlib.axis_1\">\n    <g id=\"xtick_1\">\n     <g id=\"line2d_1\">\n      <defs>\n       <path d=\"M 0 0  L 0 3.5  \" id=\"m44f3c485ab\" style=\"stroke:#000000;stroke-width:0.3;\" />\n      </defs>\n      <g>\n       <use style=\"stroke:#000000;stroke-width:0.3;\" x=\"37.54\" y=\"81.54\" xlink:href=\"#m44f3c485ab\" />\n      </g>\n     </g>\n     <g id=\"text_1\">\n      \n      <defs>\n       <path d=\"M 31.78125 66.40625  Q 24.171875 66.40625 20.328125 58.90625  Q 16.5 51.421875 16.5 36.375  Q 16.5 21.390625 20.328125 13.890625  Q 24.171875 6.390625 31.78125 6.390625  Q 39.453125 6.390625 43.28125 13.890625  Q 47.125 21.390625 47.125 36.375  Q 47.125 51.421875 43.28125 58.90625  Q 39.453125 66.40625 31.78125 66.40625  z M 31.78125 74.21875  Q 44.046875 74.21875 50.515625 64.515625  Q 56.984375 54.828125 56.984375 36.375  Q 56.984375 17.96875 50.515625 8.265625  Q 44.046875 -1.421875 31.78125 -1.421875  Q 19.53125 -1.421875 13.0625 8.265625  Q 6.59375 17.96875 6.59375 36.375  Q 6.59375 54.828125 13.0625 64.515625  Q 19.53125 74.21875 31.78125 74.21875  z \" id=\"DejaVuSans-48\" />\n      </defs>\n      <g style=\"fill:#444443;\" transform=\"translate(34.995 94.61875)scale(0.08 -0.08)\">\n       <use xlink:href=\"#DejaVuSans-48\" />\n      </g>\n     </g>\n    </g>\n    <g id=\"xtick_2\">\n     <g id=\"line2d_2\">\n      <g>\n       <use style=\"stroke:#000000;stroke-width:0.3;\" x=\"212.911429\" y=\"81.54\" xlink:href=\"#m44f3c485ab\" />\n      </g>\n     </g>\n     <g id=\"text_2\">\n      \n      <defs>\n       <path d=\"M 12.40625 8.296875  L 28.515625 8.296875  L 28.515625 63.921875  L 10.984375 60.40625  L 10.984375 69.390625  L 28.421875 72.90625  L 38.28125 72.90625  L 38.28125 8.296875  L 54.390625 8.296875  L 54.390625 0  L 12.40625 0  z \" id=\"DejaVuSans-49\" />\n      </defs>\n      <g style=\"fill:#444443;\" transform=\"translate(210.366429 94.61875)scale(0.08 -0.08)\">\n       <use xlink:href=\"#DejaVuSans-49\" />\n      </g>\n     </g>\n    </g>\n    <g id=\"text_3\">\n     \n     <defs>\n      <path d=\"M 9.421875 54.6875  L 18.40625 54.6875  L 18.40625 0  L 9.421875 0  z M 9.421875 75.984375  L 18.40625 75.984375  L 18.40625 64.59375  L 9.421875 64.59375  z \" id=\"DejaVuSans-105\" />\n      <path d=\"M 54.890625 33.015625  L 54.890625 0  L 45.90625 0  L 45.90625 32.71875  Q 45.90625 40.484375 42.875 44.328125  Q 39.84375 48.1875 33.796875 48.1875  Q 26.515625 48.1875 22.3125 43.546875  Q 18.109375 38.921875 18.109375 30.90625  L 18.109375 0  L 9.078125 0  L 9.078125 54.6875  L 18.109375 54.6875  L 18.109375 46.1875  Q 21.34375 51.125 25.703125 53.5625  Q 30.078125 56 35.796875 56  Q 45.21875 56 50.046875 50.171875  Q 54.890625 44.34375 54.890625 33.015625  z \" id=\"DejaVuSans-110\" />\n      <path d=\"M 45.40625 46.390625  L 45.40625 75.984375  L 54.390625 75.984375  L 54.390625 0  L 45.40625 0  L 45.40625 8.203125  Q 42.578125 3.328125 38.25 0.953125  Q 33.9375 -1.421875 27.875 -1.421875  Q 17.96875 -1.421875 11.734375 6.484375  Q 5.515625 14.40625 5.515625 27.296875  Q 5.515625 40.1875 11.734375 48.09375  Q 17.96875 56 27.875 56  Q 33.9375 56 38.25 53.625  Q 42.578125 51.265625 45.40625 46.390625  z M 14.796875 27.296875  Q 14.796875 17.390625 18.875 11.75  Q 22.953125 6.109375 30.078125 6.109375  Q 37.203125 6.109375 41.296875 11.75  Q 45.40625 17.390625 45.40625 27.296875  Q 45.40625 37.203125 41.296875 42.84375  Q 37.203125 48.484375 30.078125 48.484375  Q 22.953125 48.484375 18.875 42.84375  Q 14.796875 37.203125 14.796875 27.296875  z \" id=\"DejaVuSans-100\" />\n      <path d=\"M 50.984375 -16.609375  L 50.984375 -23.578125  L -0.984375 -23.578125  L -0.984375 -16.609375  z \" id=\"DejaVuSans-95\" />\n      <path d=\"M 48.78125 52.59375  L 48.78125 44.1875  Q 44.96875 46.296875 41.140625 47.34375  Q 37.3125 48.390625 33.40625 48.390625  Q 24.65625 48.390625 19.8125 42.84375  Q 14.984375 37.3125 14.984375 27.296875  Q 14.984375 17.28125 19.8125 11.734375  Q 24.65625 6.203125 33.40625 6.203125  Q 37.3125 6.203125 41.140625 7.25  Q 44.96875 8.296875 48.78125 10.40625  L 48.78125 2.09375  Q 45.015625 0.34375 40.984375 -0.53125  Q 36.96875 -1.421875 32.421875 -1.421875  Q 20.0625 -1.421875 12.78125 6.34375  Q 5.515625 14.109375 5.515625 27.296875  Q 5.515625 40.671875 12.859375 48.328125  Q 20.21875 56 33.015625 56  Q 37.15625 56 41.109375 55.140625  Q 45.0625 54.296875 48.78125 52.59375  z \" id=\"DejaVuSans-99\" />\n      <path d=\"M 30.609375 48.390625  Q 23.390625 48.390625 19.1875 42.75  Q 14.984375 37.109375 14.984375 27.296875  Q 14.984375 17.484375 19.15625 11.84375  Q 23.34375 6.203125 30.609375 6.203125  Q 37.796875 6.203125 41.984375 11.859375  Q 46.1875 17.53125 46.1875 27.296875  Q 46.1875 37.015625 41.984375 42.703125  Q 37.796875 48.390625 30.609375 48.390625  z M 30.609375 56  Q 42.328125 56 49.015625 48.375  Q 55.71875 40.765625 55.71875 27.296875  Q 55.71875 13.875 49.015625 6.21875  Q 42.328125 -1.421875 30.609375 -1.421875  Q 18.84375 -1.421875 12.171875 6.21875  Q 5.515625 13.875 5.515625 27.296875  Q 5.515625 40.765625 12.171875 48.375  Q 18.84375 56 30.609375 56  z \" id=\"DejaVuSans-111\" />\n      <path d=\"M 37.109375 75.984375  L 37.109375 68.5  L 28.515625 68.5  Q 23.6875 68.5 21.796875 66.546875  Q 19.921875 64.59375 19.921875 59.515625  L 19.921875 54.6875  L 34.71875 54.6875  L 34.71875 47.703125  L 19.921875 47.703125  L 19.921875 0  L 10.890625 0  L 10.890625 47.703125  L 2.296875 47.703125  L 2.296875 54.6875  L 10.890625 54.6875  L 10.890625 58.5  Q 10.890625 67.625 15.140625 71.796875  Q 19.390625 75.984375 28.609375 75.984375  z \" id=\"DejaVuSans-102\" />\n      <path d=\"M 8.5 21.578125  L 8.5 54.6875  L 17.484375 54.6875  L 17.484375 21.921875  Q 17.484375 14.15625 20.5 10.265625  Q 23.53125 6.390625 29.59375 6.390625  Q 36.859375 6.390625 41.078125 11.03125  Q 45.3125 15.671875 45.3125 23.6875  L 45.3125 54.6875  L 54.296875 54.6875  L 54.296875 0  L 45.3125 0  L 45.3125 8.40625  Q 42.046875 3.421875 37.71875 1  Q 33.40625 -1.421875 27.6875 -1.421875  Q 18.265625 -1.421875 13.375 4.4375  Q 8.5 10.296875 8.5 21.578125  z M 31.109375 56  z \" id=\"DejaVuSans-117\" />\n      <path d=\"M 9.421875 75.984375  L 18.40625 75.984375  L 18.40625 0  L 9.421875 0  z \" id=\"DejaVuSans-108\" />\n      <path d=\"M 18.3125 70.21875  L 18.3125 54.6875  L 36.8125 54.6875  L 36.8125 47.703125  L 18.3125 47.703125  L 18.3125 18.015625  Q 18.3125 11.328125 20.140625 9.421875  Q 21.96875 7.515625 27.59375 7.515625  L 36.8125 7.515625  L 36.8125 0  L 27.59375 0  Q 17.1875 0 13.234375 3.875  Q 9.28125 7.765625 9.28125 18.015625  L 9.28125 47.703125  L 2.6875 47.703125  L 2.6875 54.6875  L 9.28125 54.6875  L 9.28125 70.21875  z \" id=\"DejaVuSans-116\" />\n     </defs>\n     <g style=\"fill:#444443;\" transform=\"translate(81.841563 109.400625)scale(0.12 -0.12)\">\n      <use xlink:href=\"#DejaVuSans-105\" />\n      <use x=\"27.783203\" xlink:href=\"#DejaVuSans-110\" />\n      <use x=\"91.162109\" xlink:href=\"#DejaVuSans-100\" />\n      <use x=\"154.638672\" xlink:href=\"#DejaVuSans-95\" />\n      <use x=\"204.638672\" xlink:href=\"#DejaVuSans-99\" />\n      <use x=\"259.619141\" xlink:href=\"#DejaVuSans-99\" />\n      <use x=\"314.599609\" xlink:href=\"#DejaVuSans-111\" />\n      <use x=\"375.78125\" xlink:href=\"#DejaVuSans-95\" />\n      <use x=\"425.78125\" xlink:href=\"#DejaVuSans-102\" />\n      <use x=\"460.986328\" xlink:href=\"#DejaVuSans-105\" />\n      <use x=\"488.769531\" xlink:href=\"#DejaVuSans-110\" />\n      <use x=\"552.148438\" xlink:href=\"#DejaVuSans-95\" />\n      <use x=\"602.148438\" xlink:href=\"#DejaVuSans-117\" />\n      <use x=\"665.527344\" xlink:href=\"#DejaVuSans-108\" />\n      <use x=\"693.310547\" xlink:href=\"#DejaVuSans-116\" />\n      <use x=\"732.519531\" xlink:href=\"#DejaVuSans-49\" />\n     </g>\n    </g>\n   </g>\n   <g id=\"matplotlib.axis_2\">\n    <g id=\"ytick_1\">\n     <g id=\"line2d_3\">\n      <defs>\n       <path d=\"M 0 0  L -3.5 0  \" id=\"m994d68146e\" style=\"stroke:#000000;stroke-width:0.3;\" />\n      </defs>\n      <g>\n       <use style=\"stroke:#000000;stroke-width:0.3;\" x=\"37.54\" y=\"81.54\" xlink:href=\"#m994d68146e\" />\n      </g>\n     </g>\n     <g id=\"text_4\">\n      \n      <g style=\"fill:#444443;\" transform=\"translate(25.45 84.579375)scale(0.08 -0.08)\">\n       <use xlink:href=\"#DejaVuSans-48\" />\n      </g>\n     </g>\n    </g>\n    <g id=\"ytick_2\">\n     <g id=\"line2d_4\">\n      <g>\n       <use style=\"stroke:#000000;stroke-width:0.3;\" x=\"37.54\" y=\"3.882857\" xlink:href=\"#m994d68146e\" />\n      </g>\n     </g>\n     <g id=\"text_5\">\n      \n      <defs>\n       <path d=\"M 37.796875 64.3125  L 12.890625 25.390625  L 37.796875 25.390625  z M 35.203125 72.90625  L 47.609375 72.90625  L 47.609375 25.390625  L 58.015625 25.390625  L 58.015625 17.1875  L 47.609375 17.1875  L 47.609375 0  L 37.796875 0  L 37.796875 17.1875  L 4.890625 17.1875  L 4.890625 26.703125  z \" id=\"DejaVuSans-52\" />\n       <path d=\"M 19.1875 8.296875  L 53.609375 8.296875  L 53.609375 0  L 7.328125 0  L 7.328125 8.296875  Q 12.9375 14.109375 22.625 23.890625  Q 32.328125 33.6875 34.8125 36.53125  Q 39.546875 41.84375 41.421875 45.53125  Q 43.3125 49.21875 43.3125 52.78125  Q 43.3125 58.59375 39.234375 62.25  Q 35.15625 65.921875 28.609375 65.921875  Q 23.96875 65.921875 18.8125 64.3125  Q 13.671875 62.703125 7.8125 59.421875  L 7.8125 69.390625  Q 13.765625 71.78125 18.9375 73  Q 24.125 74.21875 28.421875 74.21875  Q 39.75 74.21875 46.484375 68.546875  Q 53.21875 62.890625 53.21875 53.421875  Q 53.21875 48.921875 51.53125 44.890625  Q 49.859375 40.875 45.40625 35.40625  Q 44.1875 33.984375 37.640625 27.21875  Q 31.109375 20.453125 19.1875 8.296875  z \" id=\"DejaVuSans-50\" />\n       <path d=\"M 10.796875 72.90625  L 49.515625 72.90625  L 49.515625 64.59375  L 19.828125 64.59375  L 19.828125 46.734375  Q 21.96875 47.46875 24.109375 47.828125  Q 26.265625 48.1875 28.421875 48.1875  Q 40.625 48.1875 47.75 41.5  Q 54.890625 34.8125 54.890625 23.390625  Q 54.890625 11.625 47.5625 5.09375  Q 40.234375 -1.421875 26.90625 -1.421875  Q 22.3125 -1.421875 17.546875 -0.640625  Q 12.796875 0.140625 7.71875 1.703125  L 7.71875 11.625  Q 12.109375 9.234375 16.796875 8.0625  Q 21.484375 6.890625 26.703125 6.890625  Q 35.15625 6.890625 40.078125 11.328125  Q 45.015625 15.765625 45.015625 23.390625  Q 45.015625 31 40.078125 35.4375  Q 35.15625 39.890625 26.703125 39.890625  Q 22.75 39.890625 18.8125 39.015625  Q 14.890625 38.140625 10.796875 36.28125  z \" id=\"DejaVuSans-53\" />\n       <path d=\"M 10.984375 1.515625  L 10.984375 10.5  Q 14.703125 8.734375 18.5 7.8125  Q 22.3125 6.890625 25.984375 6.890625  Q 35.75 6.890625 40.890625 13.453125  Q 46.046875 20.015625 46.78125 33.40625  Q 43.953125 29.203125 39.59375 26.953125  Q 35.25 24.703125 29.984375 24.703125  Q 19.046875 24.703125 12.671875 31.3125  Q 6.296875 37.9375 6.296875 49.421875  Q 6.296875 60.640625 12.9375 67.421875  Q 19.578125 74.21875 30.609375 74.21875  Q 43.265625 74.21875 49.921875 64.515625  Q 56.59375 54.828125 56.59375 36.375  Q 56.59375 19.140625 48.40625 8.859375  Q 40.234375 -1.421875 26.421875 -1.421875  Q 22.703125 -1.421875 18.890625 -0.6875  Q 15.09375 0.046875 10.984375 1.515625  z M 30.609375 32.421875  Q 37.25 32.421875 41.125 36.953125  Q 45.015625 41.5 45.015625 49.421875  Q 45.015625 57.28125 41.125 61.84375  Q 37.25 66.40625 30.609375 66.40625  Q 23.96875 66.40625 20.09375 61.84375  Q 16.21875 57.28125 16.21875 49.421875  Q 16.21875 41.5 20.09375 36.953125  Q 23.96875 32.421875 30.609375 32.421875  z \" id=\"DejaVuSans-57\" />\n      </defs>\n      <g style=\"fill:#444443;\" transform=\"translate(0 6.922232)scale(0.08 -0.08)\">\n       <use xlink:href=\"#DejaVuSans-52\" />\n       <use x=\"63.623047\" xlink:href=\"#DejaVuSans-50\" />\n       <use x=\"127.246094\" xlink:href=\"#DejaVuSans-50\" />\n       <use x=\"190.869141\" xlink:href=\"#DejaVuSans-53\" />\n       <use x=\"254.492188\" xlink:href=\"#DejaVuSans-53\" />\n       <use x=\"318.115234\" xlink:href=\"#DejaVuSans-57\" />\n      </g>\n     </g>\n    </g>\n   </g>\n   <g id=\"patch_64\">\n    <path d=\"M 37.54 81.54  L 37.54 0  \" style=\"fill:none;stroke:#000000;stroke-linecap:square;stroke-linejoin:miter;stroke-width:0.3;\" />\n   </g>\n   <g id=\"patch_65\">\n    <path d=\"M 37.54 81.54  L 221.68 81.54  \" style=\"fill:none;stroke:#000000;stroke-linecap:square;stroke-linejoin:miter;stroke-width:0.3;\" />\n   </g>\n   <g id=\"text_6\">\n    \n    <defs>\n     <path d=\"M 10.6875 12.40625  L 21 12.40625  L 21 0  L 10.6875 0  z \" id=\"DejaVuSans-46\" />\n    </defs>\n    <g style=\"fill:#444443;\" transform=\"translate(116.319464 97.848)scale(0.08 -0.08)\">\n     <use xlink:href=\"#DejaVuSans-48\" />\n     <use x=\"63.623047\" xlink:href=\"#DejaVuSans-46\" />\n     <use x=\"95.410156\" xlink:href=\"#DejaVuSans-53\" />\n     <use x=\"159.033203\" xlink:href=\"#DejaVuSans-48\" />\n    </g>\n   </g>\n  </g>\n </g>\n <defs>\n  <clipPath id=\"p6e66e1a655\">\n   <rect height=\"81.54\" width=\"184.14\" x=\"37.54\" y=\"0\" />\n  </clipPath>\n </defs>\n</svg></g>\n\n<g class=\"edge\" id=\"edge25\">\n<title>node0-&gt;node1</title>\n<path d=\"M374.6945,-432.7195C365.7608,-421.1722 356.2542,-408.8844 347.5704,-397.6601\" fill=\"none\" stroke=\"#444443\" stroke-width=\".3\" />\n<polygon fill=\"#444443\" points=\"348.4583,-396.5199 344.9033,-394.2128 346.2437,-398.2332 348.4583,-396.5199\" stroke=\"#444443\" stroke-width=\".3\" />\n<text fill=\"#000000\" font-family=\"Times,serif\" font-size=\"14.00\" text-anchor=\"start\" x=\"366.5\" y=\"-413.8\">&#8804;</text>\n</g>\n\n<g class=\"edge\" id=\"edge26\">\n<title>node0-&gt;node2</title>\n<path d=\"M446.6864,-432.7195C453.6915,-423.7604 461.0451,-414.3555 468.0884,-405.3474\" fill=\"none\" stroke=\"#444443\" stroke-width=\".3\" />\n<polygon fill=\"#444443\" points=\"469.3071,-406.0617 470.6681,-402.0482 467.1013,-404.3369 469.3071,-406.0617\" stroke=\"#444443\" stroke-width=\".3\" />\n<text fill=\"#000000\" font-family=\"Times,serif\" font-size=\"14.00\" text-anchor=\"start\" x=\"464.5\" y=\"-413.8\">&gt;</text>\n</g>\n\n\n\n\n\n<g class=\"node\" id=\"node20\">\n<title>legend</title>\n<polygon fill=\"none\" points=\"564,-507 505,-507 505,-451 564,-451 564,-507\" stroke=\"#000000\" stroke-width=\"0\" />\n<svg height=\"52px\" preserveAspectRatio=\"xMinYMin meet\" version=\"1.1\" viewBox=\"0 0 73.864062 69.7125\" width=\"55px\" x=\"507.5\" y=\"-505\">\n <defs>\n  <style type=\"text/css\">\n*{stroke-linecap:butt;stroke-linejoin:round;}\n  </style>\n </defs>\n <g id=\"figure_1\">\n  <g id=\"patch_1\">\n   <path d=\"M 0 69.7125  L 73.864062 69.7125  L 73.864062 0  L 0 0  z \" style=\"fill:#ffffff;\" />\n  </g>\n  <g id=\"axes_1\">\n   <g id=\"legend_1\">\n    <g id=\"patch_2\">\n     <path d=\"M 2 69.7125  L 71.864063 69.7125  Q 73.864063 69.7125 73.864063 67.7125  L 73.864063 2  Q 73.864063 -0 71.864063 -0  L 2 -0  Q 0 -0 0 2  L 0 67.7125  Q 0 69.7125 2 69.7125  z \" style=\"fill:#ffffff;opacity:0.8;stroke:#444443;stroke-linejoin:miter;stroke-width:0.5;\" />\n    </g>\n    <g id=\"patch_3\">\n     <path d=\"M 8 15.598437  L 28 15.598437  L 28 8.598437  L 8 8.598437  z \" style=\"fill:#fefebb;stroke:#444443;stroke-linejoin:miter;stroke-width:0.4;\" />\n    </g>\n    <g id=\"text_1\">\n     \n     <defs>\n      <path d=\"M 48.78125 52.59375  L 48.78125 44.1875  Q 44.96875 46.296875 41.140625 47.34375  Q 37.3125 48.390625 33.40625 48.390625  Q 24.65625 48.390625 19.8125 42.84375  Q 14.984375 37.3125 14.984375 27.296875  Q 14.984375 17.28125 19.8125 11.734375  Q 24.65625 6.203125 33.40625 6.203125  Q 37.3125 6.203125 41.140625 7.25  Q 44.96875 8.296875 48.78125 10.40625  L 48.78125 2.09375  Q 45.015625 0.34375 40.984375 -0.53125  Q 36.96875 -1.421875 32.421875 -1.421875  Q 20.0625 -1.421875 12.78125 6.34375  Q 5.515625 14.109375 5.515625 27.296875  Q 5.515625 40.671875 12.859375 48.328125  Q 20.21875 56 33.015625 56  Q 37.15625 56 41.109375 55.140625  Q 45.0625 54.296875 48.78125 52.59375  z \" id=\"DejaVuSans-99\" />\n      <path d=\"M 9.421875 75.984375  L 18.40625 75.984375  L 18.40625 0  L 9.421875 0  z \" id=\"DejaVuSans-108\" />\n      <path d=\"M 34.28125 27.484375  Q 23.390625 27.484375 19.1875 25  Q 14.984375 22.515625 14.984375 16.5  Q 14.984375 11.71875 18.140625 8.90625  Q 21.296875 6.109375 26.703125 6.109375  Q 34.1875 6.109375 38.703125 11.40625  Q 43.21875 16.703125 43.21875 25.484375  L 43.21875 27.484375  z M 52.203125 31.203125  L 52.203125 0  L 43.21875 0  L 43.21875 8.296875  Q 40.140625 3.328125 35.546875 0.953125  Q 30.953125 -1.421875 24.3125 -1.421875  Q 15.921875 -1.421875 10.953125 3.296875  Q 6 8.015625 6 15.921875  Q 6 25.140625 12.171875 29.828125  Q 18.359375 34.515625 30.609375 34.515625  L 43.21875 34.515625  L 43.21875 35.40625  Q 43.21875 41.609375 39.140625 45  Q 35.0625 48.390625 27.6875 48.390625  Q 23 48.390625 18.546875 47.265625  Q 14.109375 46.140625 10.015625 43.890625  L 10.015625 52.203125  Q 14.9375 54.109375 19.578125 55.046875  Q 24.21875 56 28.609375 56  Q 40.484375 56 46.34375 49.84375  Q 52.203125 43.703125 52.203125 31.203125  z \" id=\"DejaVuSans-97\" />\n      <path d=\"M 44.28125 53.078125  L 44.28125 44.578125  Q 40.484375 46.53125 36.375 47.5  Q 32.28125 48.484375 27.875 48.484375  Q 21.1875 48.484375 17.84375 46.4375  Q 14.5 44.390625 14.5 40.28125  Q 14.5 37.15625 16.890625 35.375  Q 19.28125 33.59375 26.515625 31.984375  L 29.59375 31.296875  Q 39.15625 29.25 43.1875 25.515625  Q 47.21875 21.78125 47.21875 15.09375  Q 47.21875 7.46875 41.1875 3.015625  Q 35.15625 -1.421875 24.609375 -1.421875  Q 20.21875 -1.421875 15.453125 -0.5625  Q 10.6875 0.296875 5.421875 2  L 5.421875 11.28125  Q 10.40625 8.6875 15.234375 7.390625  Q 20.0625 6.109375 24.8125 6.109375  Q 31.15625 6.109375 34.5625 8.28125  Q 37.984375 10.453125 37.984375 14.40625  Q 37.984375 18.0625 35.515625 20.015625  Q 33.0625 21.96875 24.703125 23.78125  L 21.578125 24.515625  Q 13.234375 26.265625 9.515625 29.90625  Q 5.8125 33.546875 5.8125 39.890625  Q 5.8125 47.609375 11.28125 51.796875  Q 16.75 56 26.8125 56  Q 31.78125 56 36.171875 55.265625  Q 40.578125 54.546875 44.28125 53.078125  z \" id=\"DejaVuSans-115\" />\n      <path id=\"DejaVuSans-32\" />\n      <path d=\"M 31.78125 66.40625  Q 24.171875 66.40625 20.328125 58.90625  Q 16.5 51.421875 16.5 36.375  Q 16.5 21.390625 20.328125 13.890625  Q 24.171875 6.390625 31.78125 6.390625  Q 39.453125 6.390625 43.28125 13.890625  Q 47.125 21.390625 47.125 36.375  Q 47.125 51.421875 43.28125 58.90625  Q 39.453125 66.40625 31.78125 66.40625  z M 31.78125 74.21875  Q 44.046875 74.21875 50.515625 64.515625  Q 56.984375 54.828125 56.984375 36.375  Q 56.984375 17.96875 50.515625 8.265625  Q 44.046875 -1.421875 31.78125 -1.421875  Q 19.53125 -1.421875 13.0625 8.265625  Q 6.59375 17.96875 6.59375 36.375  Q 6.59375 54.828125 13.0625 64.515625  Q 19.53125 74.21875 31.78125 74.21875  z \" id=\"DejaVuSans-48\" />\n     </defs>\n     <g style=\"fill:#444443;\" transform=\"translate(31.5 15.598437)scale(0.1 -0.1)\">\n      <use xlink:href=\"#DejaVuSans-99\" />\n      <use x=\"54.980469\" xlink:href=\"#DejaVuSans-108\" />\n      <use x=\"82.763672\" xlink:href=\"#DejaVuSans-97\" />\n      <use x=\"144.042969\" xlink:href=\"#DejaVuSans-115\" />\n      <use x=\"196.142578\" xlink:href=\"#DejaVuSans-115\" />\n      <use x=\"248.242188\" xlink:href=\"#DejaVuSans-32\" />\n      <use x=\"280.029297\" xlink:href=\"#DejaVuSans-48\" />\n     </g>\n    </g>\n    <g id=\"patch_4\">\n     <path d=\"M 8 30.276562  L 28 30.276562  L 28 23.276562  L 8 23.276562  z \" style=\"fill:#d9e6f5;stroke:#444443;stroke-linejoin:miter;stroke-width:0.4;\" />\n    </g>\n    <g id=\"text_2\">\n     \n     <defs>\n      <path d=\"M 12.40625 8.296875  L 28.515625 8.296875  L 28.515625 63.921875  L 10.984375 60.40625  L 10.984375 69.390625  L 28.421875 72.90625  L 38.28125 72.90625  L 38.28125 8.296875  L 54.390625 8.296875  L 54.390625 0  L 12.40625 0  z \" id=\"DejaVuSans-49\" />\n     </defs>\n     <g style=\"fill:#444443;\" transform=\"translate(31.5 30.276562)scale(0.1 -0.1)\">\n      <use xlink:href=\"#DejaVuSans-99\" />\n      <use x=\"54.980469\" xlink:href=\"#DejaVuSans-108\" />\n      <use x=\"82.763672\" xlink:href=\"#DejaVuSans-97\" />\n      <use x=\"144.042969\" xlink:href=\"#DejaVuSans-115\" />\n      <use x=\"196.142578\" xlink:href=\"#DejaVuSans-115\" />\n      <use x=\"248.242188\" xlink:href=\"#DejaVuSans-32\" />\n      <use x=\"280.029297\" xlink:href=\"#DejaVuSans-49\" />\n     </g>\n    </g>\n    <g id=\"patch_5\">\n     <path d=\"M 8 44.954687  L 28 44.954687  L 28 37.954687  L 8 37.954687  z \" style=\"fill:#a1dab4;stroke:#444443;stroke-linejoin:miter;stroke-width:0.4;\" />\n    </g>\n    <g id=\"text_3\">\n     \n     <defs>\n      <path d=\"M 19.1875 8.296875  L 53.609375 8.296875  L 53.609375 0  L 7.328125 0  L 7.328125 8.296875  Q 12.9375 14.109375 22.625 23.890625  Q 32.328125 33.6875 34.8125 36.53125  Q 39.546875 41.84375 41.421875 45.53125  Q 43.3125 49.21875 43.3125 52.78125  Q 43.3125 58.59375 39.234375 62.25  Q 35.15625 65.921875 28.609375 65.921875  Q 23.96875 65.921875 18.8125 64.3125  Q 13.671875 62.703125 7.8125 59.421875  L 7.8125 69.390625  Q 13.765625 71.78125 18.9375 73  Q 24.125 74.21875 28.421875 74.21875  Q 39.75 74.21875 46.484375 68.546875  Q 53.21875 62.890625 53.21875 53.421875  Q 53.21875 48.921875 51.53125 44.890625  Q 49.859375 40.875 45.40625 35.40625  Q 44.1875 33.984375 37.640625 27.21875  Q 31.109375 20.453125 19.1875 8.296875  z \" id=\"DejaVuSans-50\" />\n     </defs>\n     <g style=\"fill:#444443;\" transform=\"translate(31.5 44.954687)scale(0.1 -0.1)\">\n      <use xlink:href=\"#DejaVuSans-99\" />\n      <use x=\"54.980469\" xlink:href=\"#DejaVuSans-108\" />\n      <use x=\"82.763672\" xlink:href=\"#DejaVuSans-97\" />\n      <use x=\"144.042969\" xlink:href=\"#DejaVuSans-115\" />\n      <use x=\"196.142578\" xlink:href=\"#DejaVuSans-115\" />\n      <use x=\"248.242188\" xlink:href=\"#DejaVuSans-32\" />\n      <use x=\"280.029297\" xlink:href=\"#DejaVuSans-50\" />\n     </g>\n    </g>\n    <g id=\"patch_6\">\n     <path d=\"M 8 59.632812  L 28 59.632812  L 28 52.632812  L 8 52.632812  z \" style=\"fill:#fee090;stroke:#444443;stroke-linejoin:miter;stroke-width:0.4;\" />\n    </g>\n    <g id=\"text_4\">\n     \n     <defs>\n      <path d=\"M 40.578125 39.3125  Q 47.65625 37.796875 51.625 33  Q 55.609375 28.21875 55.609375 21.1875  Q 55.609375 10.40625 48.1875 4.484375  Q 40.765625 -1.421875 27.09375 -1.421875  Q 22.515625 -1.421875 17.65625 -0.515625  Q 12.796875 0.390625 7.625 2.203125  L 7.625 11.71875  Q 11.71875 9.328125 16.59375 8.109375  Q 21.484375 6.890625 26.8125 6.890625  Q 36.078125 6.890625 40.9375 10.546875  Q 45.796875 14.203125 45.796875 21.1875  Q 45.796875 27.640625 41.28125 31.265625  Q 36.765625 34.90625 28.71875 34.90625  L 20.21875 34.90625  L 20.21875 43.015625  L 29.109375 43.015625  Q 36.375 43.015625 40.234375 45.921875  Q 44.09375 48.828125 44.09375 54.296875  Q 44.09375 59.90625 40.109375 62.90625  Q 36.140625 65.921875 28.71875 65.921875  Q 24.65625 65.921875 20.015625 65.03125  Q 15.375 64.15625 9.8125 62.3125  L 9.8125 71.09375  Q 15.4375 72.65625 20.34375 73.4375  Q 25.25 74.21875 29.59375 74.21875  Q 40.828125 74.21875 47.359375 69.109375  Q 53.90625 64.015625 53.90625 55.328125  Q 53.90625 49.265625 50.4375 45.09375  Q 46.96875 40.921875 40.578125 39.3125  z \" id=\"DejaVuSans-51\" />\n     </defs>\n     <g style=\"fill:#444443;\" transform=\"translate(31.5 59.632812)scale(0.1 -0.1)\">\n      <use xlink:href=\"#DejaVuSans-99\" />\n      <use x=\"54.980469\" xlink:href=\"#DejaVuSans-108\" />\n      <use x=\"82.763672\" xlink:href=\"#DejaVuSans-97\" />\n      <use x=\"144.042969\" xlink:href=\"#DejaVuSans-115\" />\n      <use x=\"196.142578\" xlink:href=\"#DejaVuSans-115\" />\n      <use x=\"248.242188\" xlink:href=\"#DejaVuSans-32\" />\n      <use x=\"280.029297\" xlink:href=\"#DejaVuSans-51\" />\n     </g>\n    </g>\n   </g>\n  </g>\n </g>\n</svg></g>\n</g>\n</svg>"
          },
          "metadata": {},
          "execution_count": 61
        }
      ]
    },
    {
      "cell_type": "markdown",
      "metadata": {
        "id": "o5dspcXC85I3"
      },
      "source": [
        "Esse fluxo permite identificar mais facilmente o padrao de compra de cada um desses seguimentos."
      ]
    },
    {
      "cell_type": "markdown",
      "metadata": {
        "id": "Etco6Tpg_Xe1"
      },
      "source": [
        "Por exemplo, \n",
        "- quem so contratou uma conta corrente sera classificado como **0**.\n",
        "- quem contratou uma conta corrente e um *particular account* sera classificado como **3**.\n",
        "- quem nao contratou nenhum produto sera classificado **1**.\n",
        "- podemos perceber tambem que o grupo **2** tem padroes de compra mais diversos. Ele aparece em mais folhas. Esse grupo parece ter mais conhecimentos sobre os produtos do banco. Ficou coherente com as interpretaçoes anteriores. Pois os funcionarios ativos do banco e os donos de empresa costumam ter mais interaçoes com o banco, e receber mais anuncios, informaçoes de produtos."
      ]
    },
    {
      "cell_type": "code",
      "metadata": {
        "id": "Htjm534A_V-D"
      },
      "source": [
        ""
      ],
      "execution_count": null,
      "outputs": []
    }
  ]
}
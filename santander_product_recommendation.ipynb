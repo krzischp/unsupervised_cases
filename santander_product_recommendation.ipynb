{
  "nbformat": 4,
  "nbformat_minor": 0,
  "metadata": {
    "colab": {
      "name": "MBA - ITI IML 2 - Atividade 2",
      "provenance": [],
      "collapsed_sections": []
    },
    "kernelspec": {
      "name": "python3",
      "display_name": "Python 3"
    },
    "language_info": {
      "name": "python"
    }
  },
  "cells": [
    {
      "cell_type": "markdown",
      "metadata": {
        "id": "njabNdS74K3I"
      },
      "source": [
        "Certifique-se de ter feito o upload do arquivo kaggle.json antes de continuar"
      ]
    },
    {
      "cell_type": "code",
      "metadata": {
        "colab": {
          "base_uri": "https://localhost:8080/"
        },
        "id": "AfgjdUyMVlok",
        "outputId": "9f758769-5487-4615-b3bc-963cce59f77c"
      },
      "source": [
        "!pip install kaggle"
      ],
      "execution_count": 1,
      "outputs": [
        {
          "output_type": "stream",
          "name": "stdout",
          "text": [
            "Requirement already satisfied: kaggle in /usr/local/lib/python3.7/dist-packages (1.5.12)\n",
            "Requirement already satisfied: urllib3 in /usr/local/lib/python3.7/dist-packages (from kaggle) (1.24.3)\n",
            "Requirement already satisfied: tqdm in /usr/local/lib/python3.7/dist-packages (from kaggle) (4.62.3)\n",
            "Requirement already satisfied: python-slugify in /usr/local/lib/python3.7/dist-packages (from kaggle) (5.0.2)\n",
            "Requirement already satisfied: six>=1.10 in /usr/local/lib/python3.7/dist-packages (from kaggle) (1.15.0)\n",
            "Requirement already satisfied: python-dateutil in /usr/local/lib/python3.7/dist-packages (from kaggle) (2.8.2)\n",
            "Requirement already satisfied: requests in /usr/local/lib/python3.7/dist-packages (from kaggle) (2.23.0)\n",
            "Requirement already satisfied: certifi in /usr/local/lib/python3.7/dist-packages (from kaggle) (2021.5.30)\n",
            "Requirement already satisfied: text-unidecode>=1.3 in /usr/local/lib/python3.7/dist-packages (from python-slugify->kaggle) (1.3)\n",
            "Requirement already satisfied: chardet<4,>=3.0.2 in /usr/local/lib/python3.7/dist-packages (from requests->kaggle) (3.0.4)\n",
            "Requirement already satisfied: idna<3,>=2.5 in /usr/local/lib/python3.7/dist-packages (from requests->kaggle) (2.10)\n"
          ]
        }
      ]
    },
    {
      "cell_type": "code",
      "metadata": {
        "id": "wTaNY4xFV_ED"
      },
      "source": [
        "!chmod 600 ./kaggle.json"
      ],
      "execution_count": 2,
      "outputs": []
    },
    {
      "cell_type": "code",
      "metadata": {
        "id": "JOKKkKVsx7jq",
        "colab": {
          "base_uri": "https://localhost:8080/"
        },
        "outputId": "8b0c3675-d2af-4670-9c34-b5502f4e27a7"
      },
      "source": [
        "%env KAGGLE_CONFIG_DIR=.\n",
        "!kaggle competitions download -c santander-product-recommendation"
      ],
      "execution_count": 3,
      "outputs": [
        {
          "output_type": "stream",
          "name": "stdout",
          "text": [
            "env: KAGGLE_CONFIG_DIR=.\n"
          ]
        }
      ]
    },
    {
      "cell_type": "code",
      "metadata": {
        "id": "vcoMvhtkyERb"
      },
      "source": [
        "!unzip train_ver2.csv.zip"
      ],
      "execution_count": 4,
      "outputs": []
    },
    {
      "cell_type": "code",
      "metadata": {
        "id": "mVm0qBaQyQVs"
      },
      "source": [
        "import pandas as pd"
      ],
      "execution_count": 5,
      "outputs": []
    },
    {
      "cell_type": "code",
      "metadata": {
        "id": "glMP1TsXyhfZ",
        "colab": {
          "base_uri": "https://localhost:8080/"
        },
        "outputId": "85cb56d5-9bd5-4e77-e843-a6b462b6890b"
      },
      "source": [
        "df = pd.read_csv(\"train_ver2.csv\")"
      ],
      "execution_count": 6,
      "outputs": [
        {
          "output_type": "stream",
          "name": "stderr",
          "text": [
            "/usr/local/lib/python3.7/dist-packages/IPython/core/interactiveshell.py:2718: DtypeWarning: Columns (5,8,11,15) have mixed types.Specify dtype option on import or set low_memory=False.\n",
            "  interactivity=interactivity, compiler=compiler, result=result)\n"
          ]
        }
      ]
    },
    {
      "cell_type": "code",
      "metadata": {
        "id": "FjHwv2vUyjWD",
        "colab": {
          "base_uri": "https://localhost:8080/"
        },
        "outputId": "dc7b7175-e8b4-46f3-ac57-7b02277cde94"
      },
      "source": [
        "df['fecha_dato'].value_counts()"
      ],
      "execution_count": 7,
      "outputs": [
        {
          "output_type": "execute_result",
          "data": {
            "text/plain": [
              "2016-05-28    931453\n",
              "2016-04-28    928274\n",
              "2016-03-28    925076\n",
              "2016-02-28    920904\n",
              "2016-01-28    916269\n",
              "2015-12-28    912021\n",
              "2015-11-28    906109\n",
              "2015-10-28    892251\n",
              "2015-09-28    865440\n",
              "2015-08-28    843201\n",
              "2015-07-28    829817\n",
              "2015-06-28    632110\n",
              "2015-05-28    631957\n",
              "2015-04-28    630367\n",
              "2015-03-28    629209\n",
              "2015-02-28    627394\n",
              "2015-01-28    625457\n",
              "Name: fecha_dato, dtype: int64"
            ]
          },
          "metadata": {},
          "execution_count": 7
        }
      ]
    },
    {
      "cell_type": "code",
      "metadata": {
        "id": "9vGMuoUI2U2f",
        "colab": {
          "base_uri": "https://localhost:8080/"
        },
        "outputId": "9c59a0d5-fcce-4c56-fa21-3152c9543475"
      },
      "source": [
        "import gc\n",
        "\n",
        "subset = df[df[\"fecha_dato\"] == \"2016-05-28\"]\n",
        "del df\n",
        "gc.collect()\n",
        "subset.shape"
      ],
      "execution_count": 8,
      "outputs": [
        {
          "output_type": "execute_result",
          "data": {
            "text/plain": [
              "(931453, 48)"
            ]
          },
          "metadata": {},
          "execution_count": 8
        }
      ]
    },
    {
      "cell_type": "code",
      "metadata": {
        "id": "Yt6o8Q2p2bUC"
      },
      "source": [
        "# subset.to_csv(\"data_05-2016.csv\", index=False)"
      ],
      "execution_count": 9,
      "outputs": []
    },
    {
      "cell_type": "markdown",
      "metadata": {
        "id": "Mt6Gzu3-XCo7"
      },
      "source": [
        "# Ler e analisar os dados"
      ]
    },
    {
      "cell_type": "code",
      "metadata": {
        "colab": {
          "base_uri": "https://localhost:8080/",
          "height": 290
        },
        "id": "2HFvdooEWf9b",
        "outputId": "fcac557f-3f1c-495c-c2c3-6599e4df2705"
      },
      "source": [
        "subset.head()"
      ],
      "execution_count": 10,
      "outputs": [
        {
          "output_type": "execute_result",
          "data": {
            "text/html": [
              "<div>\n",
              "<style scoped>\n",
              "    .dataframe tbody tr th:only-of-type {\n",
              "        vertical-align: middle;\n",
              "    }\n",
              "\n",
              "    .dataframe tbody tr th {\n",
              "        vertical-align: top;\n",
              "    }\n",
              "\n",
              "    .dataframe thead th {\n",
              "        text-align: right;\n",
              "    }\n",
              "</style>\n",
              "<table border=\"1\" class=\"dataframe\">\n",
              "  <thead>\n",
              "    <tr style=\"text-align: right;\">\n",
              "      <th></th>\n",
              "      <th>fecha_dato</th>\n",
              "      <th>ncodpers</th>\n",
              "      <th>ind_empleado</th>\n",
              "      <th>pais_residencia</th>\n",
              "      <th>sexo</th>\n",
              "      <th>age</th>\n",
              "      <th>fecha_alta</th>\n",
              "      <th>ind_nuevo</th>\n",
              "      <th>antiguedad</th>\n",
              "      <th>indrel</th>\n",
              "      <th>ult_fec_cli_1t</th>\n",
              "      <th>indrel_1mes</th>\n",
              "      <th>tiprel_1mes</th>\n",
              "      <th>indresi</th>\n",
              "      <th>indext</th>\n",
              "      <th>conyuemp</th>\n",
              "      <th>canal_entrada</th>\n",
              "      <th>indfall</th>\n",
              "      <th>tipodom</th>\n",
              "      <th>cod_prov</th>\n",
              "      <th>nomprov</th>\n",
              "      <th>ind_actividad_cliente</th>\n",
              "      <th>renta</th>\n",
              "      <th>segmento</th>\n",
              "      <th>ind_ahor_fin_ult1</th>\n",
              "      <th>ind_aval_fin_ult1</th>\n",
              "      <th>ind_cco_fin_ult1</th>\n",
              "      <th>ind_cder_fin_ult1</th>\n",
              "      <th>ind_cno_fin_ult1</th>\n",
              "      <th>ind_ctju_fin_ult1</th>\n",
              "      <th>ind_ctma_fin_ult1</th>\n",
              "      <th>ind_ctop_fin_ult1</th>\n",
              "      <th>ind_ctpp_fin_ult1</th>\n",
              "      <th>ind_deco_fin_ult1</th>\n",
              "      <th>ind_deme_fin_ult1</th>\n",
              "      <th>ind_dela_fin_ult1</th>\n",
              "      <th>ind_ecue_fin_ult1</th>\n",
              "      <th>ind_fond_fin_ult1</th>\n",
              "      <th>ind_hip_fin_ult1</th>\n",
              "      <th>ind_plan_fin_ult1</th>\n",
              "      <th>ind_pres_fin_ult1</th>\n",
              "      <th>ind_reca_fin_ult1</th>\n",
              "      <th>ind_tjcr_fin_ult1</th>\n",
              "      <th>ind_valo_fin_ult1</th>\n",
              "      <th>ind_viv_fin_ult1</th>\n",
              "      <th>ind_nomina_ult1</th>\n",
              "      <th>ind_nom_pens_ult1</th>\n",
              "      <th>ind_recibo_ult1</th>\n",
              "    </tr>\n",
              "  </thead>\n",
              "  <tbody>\n",
              "    <tr>\n",
              "      <th>12715856</th>\n",
              "      <td>2016-05-28</td>\n",
              "      <td>657640</td>\n",
              "      <td>N</td>\n",
              "      <td>ES</td>\n",
              "      <td>H</td>\n",
              "      <td>68</td>\n",
              "      <td>2006-11-17</td>\n",
              "      <td>0.0</td>\n",
              "      <td>114</td>\n",
              "      <td>1.0</td>\n",
              "      <td>NaN</td>\n",
              "      <td>1</td>\n",
              "      <td>I</td>\n",
              "      <td>S</td>\n",
              "      <td>N</td>\n",
              "      <td>NaN</td>\n",
              "      <td>KAQ</td>\n",
              "      <td>N</td>\n",
              "      <td>1.0</td>\n",
              "      <td>28.0</td>\n",
              "      <td>MADRID</td>\n",
              "      <td>0.0</td>\n",
              "      <td>147347.97</td>\n",
              "      <td>02 - PARTICULARES</td>\n",
              "      <td>0</td>\n",
              "      <td>0</td>\n",
              "      <td>0</td>\n",
              "      <td>0</td>\n",
              "      <td>0</td>\n",
              "      <td>0</td>\n",
              "      <td>0</td>\n",
              "      <td>0</td>\n",
              "      <td>0</td>\n",
              "      <td>0</td>\n",
              "      <td>0</td>\n",
              "      <td>0</td>\n",
              "      <td>0</td>\n",
              "      <td>0</td>\n",
              "      <td>0</td>\n",
              "      <td>0</td>\n",
              "      <td>0</td>\n",
              "      <td>0</td>\n",
              "      <td>0</td>\n",
              "      <td>0</td>\n",
              "      <td>0</td>\n",
              "      <td>0.0</td>\n",
              "      <td>0.0</td>\n",
              "      <td>0</td>\n",
              "    </tr>\n",
              "    <tr>\n",
              "      <th>12715857</th>\n",
              "      <td>2016-05-28</td>\n",
              "      <td>657788</td>\n",
              "      <td>N</td>\n",
              "      <td>ES</td>\n",
              "      <td>H</td>\n",
              "      <td>42</td>\n",
              "      <td>2006-11-18</td>\n",
              "      <td>0.0</td>\n",
              "      <td>114</td>\n",
              "      <td>1.0</td>\n",
              "      <td>NaN</td>\n",
              "      <td>1</td>\n",
              "      <td>A</td>\n",
              "      <td>S</td>\n",
              "      <td>N</td>\n",
              "      <td>NaN</td>\n",
              "      <td>KBF</td>\n",
              "      <td>N</td>\n",
              "      <td>1.0</td>\n",
              "      <td>28.0</td>\n",
              "      <td>MADRID</td>\n",
              "      <td>1.0</td>\n",
              "      <td>132559.35</td>\n",
              "      <td>02 - PARTICULARES</td>\n",
              "      <td>0</td>\n",
              "      <td>0</td>\n",
              "      <td>1</td>\n",
              "      <td>0</td>\n",
              "      <td>0</td>\n",
              "      <td>0</td>\n",
              "      <td>0</td>\n",
              "      <td>0</td>\n",
              "      <td>0</td>\n",
              "      <td>0</td>\n",
              "      <td>0</td>\n",
              "      <td>0</td>\n",
              "      <td>0</td>\n",
              "      <td>0</td>\n",
              "      <td>0</td>\n",
              "      <td>0</td>\n",
              "      <td>0</td>\n",
              "      <td>0</td>\n",
              "      <td>0</td>\n",
              "      <td>0</td>\n",
              "      <td>0</td>\n",
              "      <td>0.0</td>\n",
              "      <td>0.0</td>\n",
              "      <td>0</td>\n",
              "    </tr>\n",
              "    <tr>\n",
              "      <th>12715858</th>\n",
              "      <td>2016-05-28</td>\n",
              "      <td>657795</td>\n",
              "      <td>N</td>\n",
              "      <td>ES</td>\n",
              "      <td>V</td>\n",
              "      <td>44</td>\n",
              "      <td>2006-11-18</td>\n",
              "      <td>0.0</td>\n",
              "      <td>114</td>\n",
              "      <td>1.0</td>\n",
              "      <td>NaN</td>\n",
              "      <td>1</td>\n",
              "      <td>A</td>\n",
              "      <td>S</td>\n",
              "      <td>N</td>\n",
              "      <td>NaN</td>\n",
              "      <td>KAP</td>\n",
              "      <td>N</td>\n",
              "      <td>1.0</td>\n",
              "      <td>26.0</td>\n",
              "      <td>RIOJA, LA</td>\n",
              "      <td>1.0</td>\n",
              "      <td>81399.57</td>\n",
              "      <td>02 - PARTICULARES</td>\n",
              "      <td>0</td>\n",
              "      <td>0</td>\n",
              "      <td>1</td>\n",
              "      <td>0</td>\n",
              "      <td>0</td>\n",
              "      <td>0</td>\n",
              "      <td>0</td>\n",
              "      <td>0</td>\n",
              "      <td>0</td>\n",
              "      <td>0</td>\n",
              "      <td>0</td>\n",
              "      <td>0</td>\n",
              "      <td>0</td>\n",
              "      <td>0</td>\n",
              "      <td>0</td>\n",
              "      <td>0</td>\n",
              "      <td>0</td>\n",
              "      <td>0</td>\n",
              "      <td>0</td>\n",
              "      <td>0</td>\n",
              "      <td>0</td>\n",
              "      <td>0.0</td>\n",
              "      <td>0.0</td>\n",
              "      <td>0</td>\n",
              "    </tr>\n",
              "    <tr>\n",
              "      <th>12715859</th>\n",
              "      <td>2016-05-28</td>\n",
              "      <td>657790</td>\n",
              "      <td>N</td>\n",
              "      <td>ES</td>\n",
              "      <td>V</td>\n",
              "      <td>42</td>\n",
              "      <td>2006-11-18</td>\n",
              "      <td>0.0</td>\n",
              "      <td>114</td>\n",
              "      <td>1.0</td>\n",
              "      <td>NaN</td>\n",
              "      <td>1</td>\n",
              "      <td>A</td>\n",
              "      <td>S</td>\n",
              "      <td>N</td>\n",
              "      <td>NaN</td>\n",
              "      <td>KBF</td>\n",
              "      <td>N</td>\n",
              "      <td>1.0</td>\n",
              "      <td>48.0</td>\n",
              "      <td>BIZKAIA</td>\n",
              "      <td>1.0</td>\n",
              "      <td>NaN</td>\n",
              "      <td>02 - PARTICULARES</td>\n",
              "      <td>0</td>\n",
              "      <td>0</td>\n",
              "      <td>0</td>\n",
              "      <td>0</td>\n",
              "      <td>1</td>\n",
              "      <td>0</td>\n",
              "      <td>0</td>\n",
              "      <td>0</td>\n",
              "      <td>0</td>\n",
              "      <td>0</td>\n",
              "      <td>0</td>\n",
              "      <td>0</td>\n",
              "      <td>1</td>\n",
              "      <td>0</td>\n",
              "      <td>0</td>\n",
              "      <td>0</td>\n",
              "      <td>0</td>\n",
              "      <td>0</td>\n",
              "      <td>1</td>\n",
              "      <td>0</td>\n",
              "      <td>0</td>\n",
              "      <td>1.0</td>\n",
              "      <td>1.0</td>\n",
              "      <td>1</td>\n",
              "    </tr>\n",
              "    <tr>\n",
              "      <th>12715860</th>\n",
              "      <td>2016-05-28</td>\n",
              "      <td>657794</td>\n",
              "      <td>N</td>\n",
              "      <td>ES</td>\n",
              "      <td>H</td>\n",
              "      <td>49</td>\n",
              "      <td>2006-11-18</td>\n",
              "      <td>0.0</td>\n",
              "      <td>114</td>\n",
              "      <td>1.0</td>\n",
              "      <td>NaN</td>\n",
              "      <td>1</td>\n",
              "      <td>A</td>\n",
              "      <td>S</td>\n",
              "      <td>N</td>\n",
              "      <td>NaN</td>\n",
              "      <td>KAT</td>\n",
              "      <td>N</td>\n",
              "      <td>1.0</td>\n",
              "      <td>8.0</td>\n",
              "      <td>BARCELONA</td>\n",
              "      <td>1.0</td>\n",
              "      <td>102189.00</td>\n",
              "      <td>01 - TOP</td>\n",
              "      <td>0</td>\n",
              "      <td>0</td>\n",
              "      <td>1</td>\n",
              "      <td>0</td>\n",
              "      <td>0</td>\n",
              "      <td>0</td>\n",
              "      <td>0</td>\n",
              "      <td>0</td>\n",
              "      <td>0</td>\n",
              "      <td>0</td>\n",
              "      <td>0</td>\n",
              "      <td>1</td>\n",
              "      <td>0</td>\n",
              "      <td>0</td>\n",
              "      <td>0</td>\n",
              "      <td>0</td>\n",
              "      <td>0</td>\n",
              "      <td>0</td>\n",
              "      <td>0</td>\n",
              "      <td>0</td>\n",
              "      <td>0</td>\n",
              "      <td>0.0</td>\n",
              "      <td>0.0</td>\n",
              "      <td>0</td>\n",
              "    </tr>\n",
              "  </tbody>\n",
              "</table>\n",
              "</div>"
            ],
            "text/plain": [
              "          fecha_dato  ncodpers  ... ind_nom_pens_ult1 ind_recibo_ult1\n",
              "12715856  2016-05-28    657640  ...               0.0               0\n",
              "12715857  2016-05-28    657788  ...               0.0               0\n",
              "12715858  2016-05-28    657795  ...               0.0               0\n",
              "12715859  2016-05-28    657790  ...               1.0               1\n",
              "12715860  2016-05-28    657794  ...               0.0               0\n",
              "\n",
              "[5 rows x 48 columns]"
            ]
          },
          "metadata": {},
          "execution_count": 10
        }
      ]
    },
    {
      "cell_type": "markdown",
      "metadata": {
        "id": "9Ggz4jE6Bw8b"
      },
      "source": [
        "\"These products are the columns named: ind_(xyz)_ult1, which are the columns #25 - #48 in the training data. \""
      ]
    },
    {
      "cell_type": "markdown",
      "metadata": {
        "id": "MkUwIhnECPGD"
      },
      "source": [
        "- `ind_ahor_fin_ult1`\tSaving Account\n",
        "- `ind_aval_fin_ult1`\tGuarantees\n",
        "- `ind_cco_fin_ult1`\tCurrent Accounts\n",
        "- `ind_cder_fin_ult1`\tDerivada Account\n",
        "- `ind_cno_fin_ult1`\tPayroll Account\n",
        "- `ind_ctju_fin_ult1`\tJunior Account\n",
        "- `ind_ctma_fin_ult1`\tMás particular Account\n",
        "- `ind_ctop_fin_ult1`\tparticular Account\n",
        "- `ind_ctpp_fin_ult1`\tparticular Plus Account\n",
        "- `ind_deco_fin_ult1`\tShort-term deposits\n",
        "- `ind_deme_fin_ult1`\tMedium-term deposits\n",
        "- `ind_dela_fin_ult1`\tLong-term deposits\n",
        "- `ind_ecue_fin_ult1`\te-account\n",
        "- `ind_fond_fin_ult1`\tFunds\n",
        "- `ind_hip_fin_ult1`\tMortgage\n",
        "- `ind_plan_fin_ult1`\tPensions\n",
        "- `ind_pres_fin_ult1`\tLoans\n",
        "- `ind_reca_fin_ult1`\tTaxes\n",
        "- `ind_tjcr_fin_ult1`\tCredit Card\n",
        "- `ind_valo_fin_ult1`\tSecurities\n",
        "- `ind_viv_fin_ult1`\tHome Account\n",
        "- `ind_nomina_ult1`\tPayroll\n",
        "- `ind_nom_pens_ult1`\tPensions\n",
        "- `ind_recibo_ult1`\tDirect Debit"
      ]
    },
    {
      "cell_type": "code",
      "metadata": {
        "id": "e3pgNG4tWoF1"
      },
      "source": [
        "# products columns\n",
        "prods = ['ind_ahor_fin_ult1', 'ind_aval_fin_ult1', 'ind_cco_fin_ult1', \n",
        "        'ind_cder_fin_ult1', 'ind_cno_fin_ult1', 'ind_ctju_fin_ult1', \n",
        "        'ind_ctma_fin_ult1', 'ind_ctop_fin_ult1', 'ind_ctpp_fin_ult1', \n",
        "        'ind_deco_fin_ult1', 'ind_deme_fin_ult1', 'ind_dela_fin_ult1', \n",
        "        'ind_ecue_fin_ult1', 'ind_fond_fin_ult1', 'ind_hip_fin_ult1',\n",
        "        'ind_plan_fin_ult1', 'ind_pres_fin_ult1', 'ind_reca_fin_ult1',\n",
        "        'ind_tjcr_fin_ult1', 'ind_valo_fin_ult1', 'ind_viv_fin_ult1',\n",
        "        'ind_nomina_ult1', 'ind_nom_pens_ult1',  'ind_recibo_ult1']"
      ],
      "execution_count": 11,
      "outputs": []
    },
    {
      "cell_type": "code",
      "metadata": {
        "colab": {
          "base_uri": "https://localhost:8080/"
        },
        "id": "6YovAFr2eb7C",
        "outputId": "fd80df9a-9c23-4575-a56a-0af8614bfd61"
      },
      "source": [
        "subset[\"segmento\"].value_counts()"
      ],
      "execution_count": 12,
      "outputs": [
        {
          "output_type": "execute_result",
          "data": {
            "text/plain": [
              "02 - PARTICULARES     542596\n",
              "03 - UNIVERSITARIO    346417\n",
              "01 - TOP               35415\n",
              "Name: segmento, dtype: int64"
            ]
          },
          "metadata": {},
          "execution_count": 12
        }
      ]
    },
    {
      "cell_type": "markdown",
      "metadata": {
        "id": "tchb1t8oDKj9"
      },
      "source": [
        "`segmento`  segmentation: 01 - VIP, 02 - Individuals 03 - college graduated"
      ]
    },
    {
      "cell_type": "markdown",
      "metadata": {
        "id": "FSMwBcJjm9ad"
      },
      "source": [
        "Uma das colunas se chama `segmento` e representa 3 seguimentos de clientes.  \n",
        "Poderiamos testar um agrupamento com 3 *clusters* e utilizar um criterio de **validaçao externo** baseado nessa coluna. Porem, o enunciado da tarefa menciona para utilizar um criterio de **validaçao interno**."
      ]
    },
    {
      "cell_type": "code",
      "metadata": {
        "colab": {
          "base_uri": "https://localhost:8080/"
        },
        "id": "4L4YiCy1lEsB",
        "outputId": "76d45130-7841-4422-ea30-ed4474377ddc"
      },
      "source": [
        "subset.shape"
      ],
      "execution_count": 13,
      "outputs": [
        {
          "output_type": "execute_result",
          "data": {
            "text/plain": [
              "(931453, 48)"
            ]
          },
          "metadata": {},
          "execution_count": 13
        }
      ]
    },
    {
      "cell_type": "code",
      "metadata": {
        "colab": {
          "base_uri": "https://localhost:8080/"
        },
        "id": "oSju8fFBk7ub",
        "outputId": "1a5e1054-e1d8-4da9-8995-cb7f8e2455a4"
      },
      "source": [
        "subset[\"pais_residencia\"].value_counts()"
      ],
      "execution_count": 14,
      "outputs": [
        {
          "output_type": "execute_result",
          "data": {
            "text/plain": [
              "ES    927461\n",
              "FR       312\n",
              "AR       289\n",
              "GB       283\n",
              "DE       280\n",
              "       ...  \n",
              "LY         1\n",
              "GI         1\n",
              "JM         1\n",
              "LV         1\n",
              "IS         1\n",
              "Name: pais_residencia, Length: 118, dtype: int64"
            ]
          },
          "metadata": {},
          "execution_count": 14
        }
      ]
    },
    {
      "cell_type": "markdown",
      "metadata": {
        "id": "W2rARuh3nAvS"
      },
      "source": [
        "A maior parte dos clientes sao da Espanha.  \n",
        "Os clientes da França devem ser da comunidade espanhola, pois a Santander nao existe na França. Depois vem principalmente clientes dos paises onde a Santander existe: Argentina, Inglaterra, Alemanha, etc. Porem, eles sao bem menos representados do que na Espanha.  \n",
        "Como os clientes da **Espanha** correspondem a mais de 99 porcentos dos clientes, vamos desconsiderar os clientes morando fora.  \n",
        "Assim poderemos depois remover a coluna `pais_residencia` sem medo de perder mais informaçoes e minimizando o risco de gerar ruido."
      ]
    },
    {
      "cell_type": "code",
      "metadata": {
        "colab": {
          "base_uri": "https://localhost:8080/"
        },
        "id": "MPMc8G7iuCdM",
        "outputId": "f8db391e-c079-49b6-9653-1aecb8508b47"
      },
      "source": [
        "subset[\"renta\"].describe()"
      ],
      "execution_count": 15,
      "outputs": [
        {
          "output_type": "execute_result",
          "data": {
            "text/plain": [
              "count    7.024350e+05\n",
              "mean     1.340896e+05\n",
              "std      2.322205e+05\n",
              "min      1.202730e+03\n",
              "25%      6.849379e+04\n",
              "50%      1.014934e+05\n",
              "75%      1.555464e+05\n",
              "max      2.889440e+07\n",
              "Name: renta, dtype: float64"
            ]
          },
          "metadata": {},
          "execution_count": 15
        }
      ]
    },
    {
      "cell_type": "code",
      "metadata": {
        "colab": {
          "base_uri": "https://localhost:8080/"
        },
        "id": "FedUpLYxzV9q",
        "outputId": "21a8c7a5-60fa-4059-f5a6-6d4160ca23d4"
      },
      "source": [
        "Q95 = subset.loc[:, \"renta\"].quantile(0.95)\n",
        "Q95"
      ],
      "execution_count": 16,
      "outputs": [
        {
          "output_type": "execute_result",
          "data": {
            "text/plain": [
              "310008.39"
            ]
          },
          "metadata": {},
          "execution_count": 16
        }
      ]
    },
    {
      "cell_type": "markdown",
      "metadata": {
        "id": "a3D5jH8kxh5v"
      },
      "source": [
        "A distribuiçao de renda é muito *skewed*.  \n",
        "Porem temos conhecimento que esse banco costuma ter uma oferta mais focada em pessoas da classe media, media-alta.  \n",
        "O produto o mais \"elite\" que podemos imaginar seria o cartao black. Mas esse tipo de produto muito exclusivo nao é oferecido via um sistema de recomendaçao automatizado.  \n",
        "Para deixar a distribuiçao de renda mais normal e remover os outliers, ou seja os clientes muito ricos, vamos alterar a renda dos 5 porcentos das pessoas as mais ricas para um maximo de **3.1e+05**. Na etapa de preprocessamento, consideremos que os clientes ganhando mais que isso fazem parte da mesma categoria.  \n",
        "Dessa forma, poderemos utilizar essa variavel no algoritmo de agrupamento, ou mesmo no caso contrario, facilitaremos a interpretaçao da relaçao dessa variavel ao resultado do nosso agrupamento. "
      ]
    },
    {
      "cell_type": "code",
      "metadata": {
        "colab": {
          "base_uri": "https://localhost:8080/",
          "height": 265
        },
        "id": "Fsdq4Zq7vR-C",
        "outputId": "a7e8fdb2-c5ec-4e62-af85-9683785c01f3"
      },
      "source": [
        "import matplotlib.pyplot as plt\n",
        "\n",
        "renta_filter_up = (subset.loc[:,\"renta\"] > Q95)\n",
        "subset.loc[~renta_filter_up, \"renta\"].plot.box()\n",
        "plt.show()"
      ],
      "execution_count": 17,
      "outputs": [
        {
          "output_type": "display_data",
          "data": {
            "image/png": "[encoded data removed]",
            "text/plain": [
              "<Figure size 432x288 with 1 Axes>"
            ]
          },
          "metadata": {
            "needs_background": "light"
          }
        }
      ]
    },
    {
      "cell_type": "code",
      "metadata": {
        "colab": {
          "base_uri": "https://localhost:8080/",
          "height": 265
        },
        "id": "0Xh2O1xdreEt",
        "outputId": "ede8b29c-e615-4f66-ba8c-ff296de259d6"
      },
      "source": [
        "subset.loc[~renta_filter_up, \"renta\"].hist(bins=50)\n",
        "plt.show()"
      ],
      "execution_count": 18,
      "outputs": [
        {
          "output_type": "display_data",
          "data": {
            "image/png": "[encoded data removed]",
            "text/plain": [
              "<Figure size 432x288 with 1 Axes>"
            ]
          },
          "metadata": {
            "needs_background": "light"
          }
        }
      ]
    },
    {
      "cell_type": "markdown",
      "metadata": {
        "id": "udGz7-jf8D88"
      },
      "source": [
        "A variavel age é continua. Vamos visualizar a distribuiçao dela, para entender como simplifica-la com binarizaçao mais pra frente."
      ]
    },
    {
      "cell_type": "code",
      "metadata": {
        "colab": {
          "base_uri": "https://localhost:8080/"
        },
        "id": "ejVKEsOi5kTc",
        "outputId": "dc9fc44d-7da8-4dce-a5f6-702338521d1c"
      },
      "source": [
        "subset[\"age\"].astype(int).describe()"
      ],
      "execution_count": 19,
      "outputs": [
        {
          "output_type": "execute_result",
          "data": {
            "text/plain": [
              "count    931453.000000\n",
              "mean         40.168298\n",
              "std          17.185403\n",
              "min           2.000000\n",
              "25%          25.000000\n",
              "50%          38.000000\n",
              "75%          50.000000\n",
              "max         164.000000\n",
              "Name: age, dtype: float64"
            ]
          },
          "metadata": {},
          "execution_count": 19
        }
      ]
    },
    {
      "cell_type": "markdown",
      "metadata": {
        "id": "9Zlqzq_4-SIK"
      },
      "source": [
        "Uma intuiçao é que depois de 70 anos, a maior preocupaçao é a aposentadoria. Ou seja, as recomendaçoes de produto automatizadas devem ser bem similares para essa classe da populaçao. "
      ]
    },
    {
      "cell_type": "code",
      "metadata": {
        "id": "cTTF6PsW94cE"
      },
      "source": [
        "age_filter_up = (subset.loc[:,\"age\"] > 70)"
      ],
      "execution_count": 20,
      "outputs": []
    },
    {
      "cell_type": "code",
      "metadata": {
        "colab": {
          "base_uri": "https://localhost:8080/",
          "height": 265
        },
        "id": "LJEy7bWw70EG",
        "outputId": "8082e700-979d-481b-d6ae-c080a2abbcb3"
      },
      "source": [
        "subset.loc[~age_filter_up, \"age\"].astype(int).hist(bins=100)\n",
        "plt.show()"
      ],
      "execution_count": 21,
      "outputs": [
        {
          "output_type": "display_data",
          "data": {
            "image/png": "[encoded data removed]",
            "text/plain": [
              "<Figure size 432x288 with 1 Axes>"
            ]
          },
          "metadata": {
            "needs_background": "light"
          }
        }
      ]
    },
    {
      "cell_type": "code",
      "metadata": {
        "id": "I51gIpoE8wyy"
      },
      "source": [
        "import numpy as np\n",
        "\n",
        "bins = [0, 20, 30, 40, 70, np.inf]"
      ],
      "execution_count": 22,
      "outputs": []
    },
    {
      "cell_type": "markdown",
      "metadata": {
        "id": "l1cratSsAKY6"
      },
      "source": [
        "Essa separaçao em classes de idade, parece alinhada com o que costuma ser os interesses bancarios da populaçao.  \n",
        "Decidi incluir o intervalo 30-40 anos, pois costuma ser um périodo dedicado a uma maior estabilidade profissional, e mais tempo para planejar a compra de um imovel, começar a investir dinheiro, etc. "
      ]
    },
    {
      "cell_type": "code",
      "metadata": {
        "colab": {
          "base_uri": "https://localhost:8080/"
        },
        "id": "O_y96e-iLRj-",
        "outputId": "9fe2fc7b-0cdc-436c-b12f-f50e04fdd3cf"
      },
      "source": [
        "subset[\"conyuemp\"].unique()"
      ],
      "execution_count": 23,
      "outputs": [
        {
          "output_type": "execute_result",
          "data": {
            "text/plain": [
              "array([nan, 'N', 'S'], dtype=object)"
            ]
          },
          "metadata": {},
          "execution_count": 23
        }
      ]
    },
    {
      "cell_type": "markdown",
      "metadata": {
        "id": "DYWlOlVlFaoW"
      },
      "source": [
        "## Definiçao do objetivo"
      ]
    },
    {
      "cell_type": "markdown",
      "metadata": {
        "id": "73dW60XZFeZH"
      },
      "source": [
        "Vamos realizar um agrupamento nas variaveis de produto, considerando apenas os clientes morando na Espanha, a fim de extrair um seguimento representativo dos comportamentos de consumo dos clientes. Depois disso, interpreteramos as relaçoes entre esse novos seguimentos e outras variaveis do `dataset`.  \n",
        "As variaveis que vamos considerar na etapa de interpretaçao:"
      ]
    },
    {
      "cell_type": "code",
      "metadata": {
        "id": "fScgSCKEGbab"
      },
      "source": [
        "interp_features = [\"segmento\", \"renta\", \"age\", \"ind_nuevo\", \"antiguedad\", \"conyuemp\", \"ind_empleado\"]"
      ],
      "execution_count": 24,
      "outputs": []
    },
    {
      "cell_type": "markdown",
      "metadata": {
        "id": "Vie50mFLHILe"
      },
      "source": [
        "- `segmento`  segmentation: 01 - VIP, 02 - Individuals 03 - college graduated\n",
        "- `renta`\tGross income of the household\n",
        "- `age`   Age\n",
        "- `ind_nuevo`\tNew customer Index. 1 if the customer registered in the last 6 months\n",
        "- `antiguedad`\tCustomer seniority (in months)\n",
        "- `conyuemp`\tSpouse index. 1 if the customer is spouse of an employee\n",
        "- `ind_empleado`\tEmployee index: A active, B ex employed, F filial, N not employee, P pasive"
      ]
    },
    {
      "cell_type": "markdown",
      "metadata": {
        "id": "s4uQS5OQplXO"
      },
      "source": [
        "# Preprocessamento dos dados"
      ]
    },
    {
      "cell_type": "markdown",
      "metadata": {
        "id": "oI10_V8cKPNw"
      },
      "source": [
        "As variaveis que vamos utilizar no agrupamento ja estao no formato adequado. Cada uma representa a quantidade do produto no mes **2016-05**. Porem, vamos processar as outras variaveis para serem interpretadas, a fim de facilitar o entendimento e a visualizaçao."
      ]
    },
    {
      "cell_type": "markdown",
      "metadata": {
        "id": "-WSeDUKw6RZK"
      },
      "source": [
        "## Seleçao de variaveis"
      ]
    },
    {
      "cell_type": "markdown",
      "metadata": {
        "id": "O-wUDFDzqBpT"
      },
      "source": [
        "Selecionamos os atributos de acordo com as nossas consideraçoes anteriores."
      ]
    },
    {
      "cell_type": "code",
      "metadata": {
        "id": "cT1yEsWoF-7e"
      },
      "source": [
        "sel_features = [\"pais_residencia\"] + interp_features + prods"
      ],
      "execution_count": 25,
      "outputs": []
    },
    {
      "cell_type": "code",
      "metadata": {
        "colab": {
          "base_uri": "https://localhost:8080/",
          "height": 290
        },
        "id": "mo2R1Bw1qLK4",
        "outputId": "c812b321-594e-4377-b9e3-f9717faa5d99"
      },
      "source": [
        "transformed_subset = subset[sel_features]\n",
        "del subset\n",
        "gc.collect()\n",
        "\n",
        "transformed_subset.head()"
      ],
      "execution_count": 26,
      "outputs": [
        {
          "output_type": "execute_result",
          "data": {
            "text/html": [
              "<div>\n",
              "<style scoped>\n",
              "    .dataframe tbody tr th:only-of-type {\n",
              "        vertical-align: middle;\n",
              "    }\n",
              "\n",
              "    .dataframe tbody tr th {\n",
              "        vertical-align: top;\n",
              "    }\n",
              "\n",
              "    .dataframe thead th {\n",
              "        text-align: right;\n",
              "    }\n",
              "</style>\n",
              "<table border=\"1\" class=\"dataframe\">\n",
              "  <thead>\n",
              "    <tr style=\"text-align: right;\">\n",
              "      <th></th>\n",
              "      <th>pais_residencia</th>\n",
              "      <th>segmento</th>\n",
              "      <th>renta</th>\n",
              "      <th>age</th>\n",
              "      <th>ind_nuevo</th>\n",
              "      <th>antiguedad</th>\n",
              "      <th>conyuemp</th>\n",
              "      <th>ind_empleado</th>\n",
              "      <th>ind_ahor_fin_ult1</th>\n",
              "      <th>ind_aval_fin_ult1</th>\n",
              "      <th>ind_cco_fin_ult1</th>\n",
              "      <th>ind_cder_fin_ult1</th>\n",
              "      <th>ind_cno_fin_ult1</th>\n",
              "      <th>ind_ctju_fin_ult1</th>\n",
              "      <th>ind_ctma_fin_ult1</th>\n",
              "      <th>ind_ctop_fin_ult1</th>\n",
              "      <th>ind_ctpp_fin_ult1</th>\n",
              "      <th>ind_deco_fin_ult1</th>\n",
              "      <th>ind_deme_fin_ult1</th>\n",
              "      <th>ind_dela_fin_ult1</th>\n",
              "      <th>ind_ecue_fin_ult1</th>\n",
              "      <th>ind_fond_fin_ult1</th>\n",
              "      <th>ind_hip_fin_ult1</th>\n",
              "      <th>ind_plan_fin_ult1</th>\n",
              "      <th>ind_pres_fin_ult1</th>\n",
              "      <th>ind_reca_fin_ult1</th>\n",
              "      <th>ind_tjcr_fin_ult1</th>\n",
              "      <th>ind_valo_fin_ult1</th>\n",
              "      <th>ind_viv_fin_ult1</th>\n",
              "      <th>ind_nomina_ult1</th>\n",
              "      <th>ind_nom_pens_ult1</th>\n",
              "      <th>ind_recibo_ult1</th>\n",
              "    </tr>\n",
              "  </thead>\n",
              "  <tbody>\n",
              "    <tr>\n",
              "      <th>12715856</th>\n",
              "      <td>ES</td>\n",
              "      <td>02 - PARTICULARES</td>\n",
              "      <td>147347.97</td>\n",
              "      <td>68</td>\n",
              "      <td>0.0</td>\n",
              "      <td>114</td>\n",
              "      <td>NaN</td>\n",
              "      <td>N</td>\n",
              "      <td>0</td>\n",
              "      <td>0</td>\n",
              "      <td>0</td>\n",
              "      <td>0</td>\n",
              "      <td>0</td>\n",
              "      <td>0</td>\n",
              "      <td>0</td>\n",
              "      <td>0</td>\n",
              "      <td>0</td>\n",
              "      <td>0</td>\n",
              "      <td>0</td>\n",
              "      <td>0</td>\n",
              "      <td>0</td>\n",
              "      <td>0</td>\n",
              "      <td>0</td>\n",
              "      <td>0</td>\n",
              "      <td>0</td>\n",
              "      <td>0</td>\n",
              "      <td>0</td>\n",
              "      <td>0</td>\n",
              "      <td>0</td>\n",
              "      <td>0.0</td>\n",
              "      <td>0.0</td>\n",
              "      <td>0</td>\n",
              "    </tr>\n",
              "    <tr>\n",
              "      <th>12715857</th>\n",
              "      <td>ES</td>\n",
              "      <td>02 - PARTICULARES</td>\n",
              "      <td>132559.35</td>\n",
              "      <td>42</td>\n",
              "      <td>0.0</td>\n",
              "      <td>114</td>\n",
              "      <td>NaN</td>\n",
              "      <td>N</td>\n",
              "      <td>0</td>\n",
              "      <td>0</td>\n",
              "      <td>1</td>\n",
              "      <td>0</td>\n",
              "      <td>0</td>\n",
              "      <td>0</td>\n",
              "      <td>0</td>\n",
              "      <td>0</td>\n",
              "      <td>0</td>\n",
              "      <td>0</td>\n",
              "      <td>0</td>\n",
              "      <td>0</td>\n",
              "      <td>0</td>\n",
              "      <td>0</td>\n",
              "      <td>0</td>\n",
              "      <td>0</td>\n",
              "      <td>0</td>\n",
              "      <td>0</td>\n",
              "      <td>0</td>\n",
              "      <td>0</td>\n",
              "      <td>0</td>\n",
              "      <td>0.0</td>\n",
              "      <td>0.0</td>\n",
              "      <td>0</td>\n",
              "    </tr>\n",
              "    <tr>\n",
              "      <th>12715858</th>\n",
              "      <td>ES</td>\n",
              "      <td>02 - PARTICULARES</td>\n",
              "      <td>81399.57</td>\n",
              "      <td>44</td>\n",
              "      <td>0.0</td>\n",
              "      <td>114</td>\n",
              "      <td>NaN</td>\n",
              "      <td>N</td>\n",
              "      <td>0</td>\n",
              "      <td>0</td>\n",
              "      <td>1</td>\n",
              "      <td>0</td>\n",
              "      <td>0</td>\n",
              "      <td>0</td>\n",
              "      <td>0</td>\n",
              "      <td>0</td>\n",
              "      <td>0</td>\n",
              "      <td>0</td>\n",
              "      <td>0</td>\n",
              "      <td>0</td>\n",
              "      <td>0</td>\n",
              "      <td>0</td>\n",
              "      <td>0</td>\n",
              "      <td>0</td>\n",
              "      <td>0</td>\n",
              "      <td>0</td>\n",
              "      <td>0</td>\n",
              "      <td>0</td>\n",
              "      <td>0</td>\n",
              "      <td>0.0</td>\n",
              "      <td>0.0</td>\n",
              "      <td>0</td>\n",
              "    </tr>\n",
              "    <tr>\n",
              "      <th>12715859</th>\n",
              "      <td>ES</td>\n",
              "      <td>02 - PARTICULARES</td>\n",
              "      <td>NaN</td>\n",
              "      <td>42</td>\n",
              "      <td>0.0</td>\n",
              "      <td>114</td>\n",
              "      <td>NaN</td>\n",
              "      <td>N</td>\n",
              "      <td>0</td>\n",
              "      <td>0</td>\n",
              "      <td>0</td>\n",
              "      <td>0</td>\n",
              "      <td>1</td>\n",
              "      <td>0</td>\n",
              "      <td>0</td>\n",
              "      <td>0</td>\n",
              "      <td>0</td>\n",
              "      <td>0</td>\n",
              "      <td>0</td>\n",
              "      <td>0</td>\n",
              "      <td>1</td>\n",
              "      <td>0</td>\n",
              "      <td>0</td>\n",
              "      <td>0</td>\n",
              "      <td>0</td>\n",
              "      <td>0</td>\n",
              "      <td>1</td>\n",
              "      <td>0</td>\n",
              "      <td>0</td>\n",
              "      <td>1.0</td>\n",
              "      <td>1.0</td>\n",
              "      <td>1</td>\n",
              "    </tr>\n",
              "    <tr>\n",
              "      <th>12715860</th>\n",
              "      <td>ES</td>\n",
              "      <td>01 - TOP</td>\n",
              "      <td>102189.00</td>\n",
              "      <td>49</td>\n",
              "      <td>0.0</td>\n",
              "      <td>114</td>\n",
              "      <td>NaN</td>\n",
              "      <td>N</td>\n",
              "      <td>0</td>\n",
              "      <td>0</td>\n",
              "      <td>1</td>\n",
              "      <td>0</td>\n",
              "      <td>0</td>\n",
              "      <td>0</td>\n",
              "      <td>0</td>\n",
              "      <td>0</td>\n",
              "      <td>0</td>\n",
              "      <td>0</td>\n",
              "      <td>0</td>\n",
              "      <td>1</td>\n",
              "      <td>0</td>\n",
              "      <td>0</td>\n",
              "      <td>0</td>\n",
              "      <td>0</td>\n",
              "      <td>0</td>\n",
              "      <td>0</td>\n",
              "      <td>0</td>\n",
              "      <td>0</td>\n",
              "      <td>0</td>\n",
              "      <td>0.0</td>\n",
              "      <td>0.0</td>\n",
              "      <td>0</td>\n",
              "    </tr>\n",
              "  </tbody>\n",
              "</table>\n",
              "</div>"
            ],
            "text/plain": [
              "         pais_residencia           segmento  ...  ind_nom_pens_ult1 ind_recibo_ult1\n",
              "12715856              ES  02 - PARTICULARES  ...                0.0               0\n",
              "12715857              ES  02 - PARTICULARES  ...                0.0               0\n",
              "12715858              ES  02 - PARTICULARES  ...                0.0               0\n",
              "12715859              ES  02 - PARTICULARES  ...                1.0               1\n",
              "12715860              ES           01 - TOP  ...                0.0               0\n",
              "\n",
              "[5 rows x 32 columns]"
            ]
          },
          "metadata": {},
          "execution_count": 26
        }
      ]
    },
    {
      "cell_type": "markdown",
      "metadata": {
        "id": "h_Sj1jgRpqwR"
      },
      "source": [
        "Podemos remover os clientes que nao moram na Espanha."
      ]
    },
    {
      "cell_type": "code",
      "metadata": {
        "id": "Rf8eHAI-p6Zr"
      },
      "source": [
        "transformed_subset = transformed_subset[transformed_subset[\"pais_residencia\"] == \"ES\"]\n",
        "transformed_subset.drop([\"pais_residencia\"], axis=1, inplace=True)"
      ],
      "execution_count": 27,
      "outputs": []
    },
    {
      "cell_type": "code",
      "metadata": {
        "colab": {
          "base_uri": "https://localhost:8080/"
        },
        "id": "vryhSMIZfKeI",
        "outputId": "32896288-4cd5-4549-8fef-6ddddd847b21"
      },
      "source": [
        "transformed_subset.columns"
      ],
      "execution_count": 28,
      "outputs": [
        {
          "output_type": "execute_result",
          "data": {
            "text/plain": [
              "Index(['segmento', 'renta', 'age', 'ind_nuevo', 'antiguedad', 'conyuemp',\n",
              "       'ind_empleado', 'ind_ahor_fin_ult1', 'ind_aval_fin_ult1',\n",
              "       'ind_cco_fin_ult1', 'ind_cder_fin_ult1', 'ind_cno_fin_ult1',\n",
              "       'ind_ctju_fin_ult1', 'ind_ctma_fin_ult1', 'ind_ctop_fin_ult1',\n",
              "       'ind_ctpp_fin_ult1', 'ind_deco_fin_ult1', 'ind_deme_fin_ult1',\n",
              "       'ind_dela_fin_ult1', 'ind_ecue_fin_ult1', 'ind_fond_fin_ult1',\n",
              "       'ind_hip_fin_ult1', 'ind_plan_fin_ult1', 'ind_pres_fin_ult1',\n",
              "       'ind_reca_fin_ult1', 'ind_tjcr_fin_ult1', 'ind_valo_fin_ult1',\n",
              "       'ind_viv_fin_ult1', 'ind_nomina_ult1', 'ind_nom_pens_ult1',\n",
              "       'ind_recibo_ult1'],\n",
              "      dtype='object')"
            ]
          },
          "metadata": {},
          "execution_count": 28
        }
      ]
    },
    {
      "cell_type": "markdown",
      "metadata": {
        "id": "xJdjOU_b6Vpz"
      },
      "source": [
        "## Impute dos valores null"
      ]
    },
    {
      "cell_type": "code",
      "metadata": {
        "colab": {
          "base_uri": "https://localhost:8080/"
        },
        "id": "BlnXdVRc6b5X",
        "outputId": "30ac98cf-ad9a-4361-a2a5-a12cf8500dda"
      },
      "source": [
        "transformed_subset.shape"
      ],
      "execution_count": 29,
      "outputs": [
        {
          "output_type": "execute_result",
          "data": {
            "text/plain": [
              "(927461, 31)"
            ]
          },
          "metadata": {},
          "execution_count": 29
        }
      ]
    },
    {
      "cell_type": "code",
      "metadata": {
        "colab": {
          "base_uri": "https://localhost:8080/"
        },
        "id": "1mMOGNTZ6Yoy",
        "outputId": "296c8709-f46b-466d-8f01-178aaa10b95b"
      },
      "source": [
        "transformed_subset.info()"
      ],
      "execution_count": 30,
      "outputs": [
        {
          "output_type": "stream",
          "name": "stdout",
          "text": [
            "<class 'pandas.core.frame.DataFrame'>\n",
            "Int64Index: 927461 entries, 12715856 to 13647308\n",
            "Data columns (total 31 columns):\n",
            " #   Column             Non-Null Count   Dtype  \n",
            "---  ------             --------------   -----  \n",
            " 0   segmento           920457 non-null  object \n",
            " 1   renta              702391 non-null  float64\n",
            " 2   age                927461 non-null  object \n",
            " 3   ind_nuevo          927461 non-null  float64\n",
            " 4   antiguedad         927461 non-null  object \n",
            " 5   conyuemp           114 non-null     object \n",
            " 6   ind_empleado       927461 non-null  object \n",
            " 7   ind_ahor_fin_ult1  927461 non-null  int64  \n",
            " 8   ind_aval_fin_ult1  927461 non-null  int64  \n",
            " 9   ind_cco_fin_ult1   927461 non-null  int64  \n",
            " 10  ind_cder_fin_ult1  927461 non-null  int64  \n",
            " 11  ind_cno_fin_ult1   927461 non-null  int64  \n",
            " 12  ind_ctju_fin_ult1  927461 non-null  int64  \n",
            " 13  ind_ctma_fin_ult1  927461 non-null  int64  \n",
            " 14  ind_ctop_fin_ult1  927461 non-null  int64  \n",
            " 15  ind_ctpp_fin_ult1  927461 non-null  int64  \n",
            " 16  ind_deco_fin_ult1  927461 non-null  int64  \n",
            " 17  ind_deme_fin_ult1  927461 non-null  int64  \n",
            " 18  ind_dela_fin_ult1  927461 non-null  int64  \n",
            " 19  ind_ecue_fin_ult1  927461 non-null  int64  \n",
            " 20  ind_fond_fin_ult1  927461 non-null  int64  \n",
            " 21  ind_hip_fin_ult1   927461 non-null  int64  \n",
            " 22  ind_plan_fin_ult1  927461 non-null  int64  \n",
            " 23  ind_pres_fin_ult1  927461 non-null  int64  \n",
            " 24  ind_reca_fin_ult1  927461 non-null  int64  \n",
            " 25  ind_tjcr_fin_ult1  927461 non-null  int64  \n",
            " 26  ind_valo_fin_ult1  927461 non-null  int64  \n",
            " 27  ind_viv_fin_ult1   927461 non-null  int64  \n",
            " 28  ind_nomina_ult1    927461 non-null  float64\n",
            " 29  ind_nom_pens_ult1  927461 non-null  float64\n",
            " 30  ind_recibo_ult1    927461 non-null  int64  \n",
            "dtypes: float64(4), int64(22), object(5)\n",
            "memory usage: 226.4+ MB\n"
          ]
        }
      ]
    },
    {
      "cell_type": "markdown",
      "metadata": {
        "id": "53JttAPmLmBl"
      },
      "source": [
        "Nenhuma das variaveis de produto contem o valor *null*.  \n",
        "Das variaveis de interpretaçao, so vamos tratar os valores *null* da coluna `conyuemp`.  \n",
        "De fato, podemos assumir que quando a informaçao nao foi preenchida, entao o cliente nao é cônjuge de um funcionário."
      ]
    },
    {
      "cell_type": "code",
      "metadata": {
        "colab": {
          "base_uri": "https://localhost:8080/"
        },
        "id": "_lHJNiUn67Bh",
        "outputId": "85e54b78-5d44-4802-d993-49ab10c7f7cb"
      },
      "source": [
        "transformed_subset.loc[:, \"conyuemp\"] = transformed_subset[\"conyuemp\"].fillna('N')\n",
        "transformed_subset.shape"
      ],
      "execution_count": 31,
      "outputs": [
        {
          "output_type": "execute_result",
          "data": {
            "text/plain": [
              "(927461, 31)"
            ]
          },
          "metadata": {},
          "execution_count": 31
        }
      ]
    },
    {
      "cell_type": "markdown",
      "metadata": {
        "id": "doVITryY7bmr"
      },
      "source": [
        "## Simplificaçao dos dados"
      ]
    },
    {
      "cell_type": "markdown",
      "metadata": {
        "id": "bdTIIrIk4hPn"
      },
      "source": [
        "Alteramos a renda dos 5 porcentos dos clientes os mais ricos, conforme a nossa consideraçao da etapa anterior."
      ]
    },
    {
      "cell_type": "code",
      "metadata": {
        "id": "hC-VWaxcq9vG"
      },
      "source": [
        "transformed_subset.loc[renta_filter_up, \"renta\"] = Q95"
      ],
      "execution_count": 32,
      "outputs": []
    },
    {
      "cell_type": "code",
      "metadata": {
        "id": "cMFQM_n34uUS"
      },
      "source": [
        "transformed_subset[\"binned_age\"] = pd.cut(\n",
        "    transformed_subset[\"age\"], \n",
        "    bins=bins,\n",
        "    labels=[\"0-20\", \"20-30\", \"30-40\", \"40-70\", \"70+\"])\n",
        "transformed_subset.drop([\"age\"], axis=1, inplace=True)"
      ],
      "execution_count": 33,
      "outputs": []
    },
    {
      "cell_type": "markdown",
      "metadata": {
        "id": "beCfz1MONxlH"
      },
      "source": [
        "# Agrupamento"
      ]
    },
    {
      "cell_type": "markdown",
      "metadata": {
        "id": "UxtMo0FqQVDg"
      },
      "source": [
        "## K-means"
      ]
    },
    {
      "cell_type": "code",
      "metadata": {
        "colab": {
          "base_uri": "https://localhost:8080/",
          "height": 298
        },
        "id": "4Zc36uWzGz9H",
        "outputId": "f467f36e-bac9-4760-ae57-869199e56cae"
      },
      "source": [
        "from sklearn.cluster import KMeans\n",
        "import seaborn as sns\n",
        "\n",
        "def find_optimal_k_elbow(df_norm_scaled, chart_name):\n",
        "    # Create empty sse dictionary\n",
        "    sse = {}\n",
        "    \n",
        "    # Fit KMeans algorithm on k values between 1 and 11\n",
        "    for k in range(1, 11):\n",
        "        kmeans = KMeans(n_clusters=k, random_state=333)\n",
        "        kmeans.fit(df_norm_scaled)\n",
        "        sse[k] = kmeans.inertia_\n",
        "    \n",
        "    # Add the title to the plot\n",
        "    plt.title('Elbow criterion ' + chart_name + ' data chart')\n",
        "    \n",
        "    # Create and display a scatter plot\n",
        "    xx = list(sse.keys())\n",
        "    yy = list(sse.values())\n",
        "    sns.pointplot(x=xx, y=yy)\n",
        "    plt.show()\n",
        "    return xx,yy\n",
        "\n",
        "def optimal_number_of_clusters(x1, x2, y1, y2, wcss):\n",
        "    distances = []\n",
        "    for i in range(len(wcss)):\n",
        "        x0 = i+2\n",
        "        y0 = wcss[i]\n",
        "        numerator = abs((y2-y1)*x0 - (x2-x1)*y0 + x2*y1 - y2*x1)\n",
        "        denominator = np.sqrt((y2 - y1)**2 + (x2 - x1)**2)\n",
        "        distances.append(numerator/denominator)\n",
        "    \n",
        "    return distances.index(max(distances)) + 2\n",
        "\n",
        "\n",
        "def get_optimal_number_of_clusters(df_norm_scaled, chart_name):\n",
        "    xx, yy = find_optimal_k_elbow(df_norm_scaled, chart_name)\n",
        "    # calculating the within clusters sum-of-squares for 19 cluster amounts\n",
        "    x1 = xx[0]\n",
        "    y1 = yy[0]\n",
        "    x2 = xx[len(xx)-1]\n",
        "    y2 = yy[len(yy)-1]\n",
        "    \n",
        "    # calculating the optimal number of clusters\n",
        "    n = optimal_number_of_clusters(x1, x2, y1, y2, yy)\n",
        "    return n\n",
        "\n",
        "n = get_optimal_number_of_clusters(transformed_subset[prods], chart_name=\"scaled\")\n",
        "print(\"Quantidade de clusters otimal: \", n)"
      ],
      "execution_count": 34,
      "outputs": [
        {
          "output_type": "display_data",
          "data": {
            "image/png": "[encoded data removed]",
            "text/plain": [
              "<Figure size 432x288 with 1 Axes>"
            ]
          },
          "metadata": {
            "needs_background": "light"
          }
        },
        {
          "output_type": "stream",
          "name": "stdout",
          "text": [
            "Quantidade de clusters otimal:  4\n"
          ]
        }
      ]
    },
    {
      "cell_type": "markdown",
      "metadata": {
        "id": "PGjvyBgKQSle"
      },
      "source": [
        "## Avaliaçao com medidas internas"
      ]
    },
    {
      "cell_type": "markdown",
      "metadata": {
        "id": "Hj2EyuHJ2DGR"
      },
      "source": [
        "A complexidade dos algoritmos de validaçao interna poder ser muito alta. O nosso dataset tem quase um milhao de registros. Vamos considerar um sample de 200k linhas para podermos proseguir."
      ]
    },
    {
      "cell_type": "markdown",
      "metadata": {
        "id": "DjBv1Aa7R3zA"
      },
      "source": [
        "### Coeficiente de silhueta"
      ]
    },
    {
      "cell_type": "code",
      "metadata": {
        "colab": {
          "base_uri": "https://localhost:8080/"
        },
        "id": "aL0f0W8T1tZc",
        "outputId": "7f225951-66f7-456d-ad4b-421292eb69f8"
      },
      "source": [
        "sampled_transformed_subset = transformed_subset.sample(200000)\n",
        "sampled_transformed_subset.shape"
      ],
      "execution_count": 92,
      "outputs": [
        {
          "output_type": "execute_result",
          "data": {
            "text/plain": [
              "(200000, 31)"
            ]
          },
          "metadata": {},
          "execution_count": 92
        }
      ]
    },
    {
      "cell_type": "code",
      "metadata": {
        "id": "dD9ylfuowT4S"
      },
      "source": [
        "from yellowbrick.cluster import SilhouetteVisualizer\n",
        "\n",
        "visualizer = SilhouetteVisualizer(KMeans(4, random_state=42), colors='yellowbrick')\n",
        "\n",
        "visualizer.fit(sampled_transformed_subset[prods])\n",
        "visualizer.show()"
      ],
      "execution_count": 118,
      "outputs": []
    },
    {
      "cell_type": "markdown",
      "metadata": {
        "id": "DA1Rej3KoBcM"
      },
      "source": [
        "![silhueta.png](data:image/png;base64,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)"
      ]
    },
    {
      "cell_type": "markdown",
      "metadata": {
        "id": "KDsjmVaTp7Jl"
      },
      "source": [
        "A estrutura de agrupamento parece razoavel."
      ]
    },
    {
      "cell_type": "markdown",
      "metadata": {
        "id": "iDko3kLMR8eq"
      },
      "source": [
        "### Outras medidas"
      ]
    },
    {
      "cell_type": "code",
      "metadata": {
        "id": "plATijZNqv6q"
      },
      "source": [
        "model = KMeans(4, random_state=42).fit(sampled_transformed_subset[prods])"
      ],
      "execution_count": null,
      "outputs": []
    },
    {
      "cell_type": "code",
      "metadata": {
        "colab": {
          "base_uri": "https://localhost:8080/"
        },
        "id": "ROA2U7QuSHr1",
        "outputId": "18a9333f-2518-4a8b-8a33-28eaf1665da0"
      },
      "source": [
        "from sklearn.metrics import davies_bouldin_score, calinski_harabaz_score\n",
        "\n",
        "dbs = davies_bouldin_score(sampled_transformed_subset[prods], model.labels_)\n",
        "print(\"David Bouldin: %0.3f\" % dbs)\n",
        "\n",
        "ch = calinski_harabaz_score(sampled_transformed_subset[prods], model.labels_)\n",
        "print(\"Calinski Harabaz: %0.3f\" % ch)"
      ],
      "execution_count": 100,
      "outputs": [
        {
          "output_type": "stream",
          "name": "stdout",
          "text": [
            "David Bouldin: 1.178\n",
            "Calinski Harabaz: 75036.209\n"
          ]
        },
        {
          "output_type": "stream",
          "name": "stderr",
          "text": [
            "/usr/local/lib/python3.7/dist-packages/sklearn/utils/deprecation.py:87: FutureWarning: Function calinski_harabaz_score is deprecated; Function 'calinski_harabaz_score' has been renamed to 'calinski_harabasz_score' and will be removed in version 0.23.\n",
            "  warnings.warn(msg, category=FutureWarning)\n"
          ]
        }
      ]
    },
    {
      "cell_type": "code",
      "metadata": {
        "id": "sEBJwB7Gq7Kd"
      },
      "source": [
        "del sampled_transformed_subset\n",
        "gc.collect()"
      ],
      "execution_count": 38,
      "outputs": []
    },
    {
      "cell_type": "markdown",
      "metadata": {
        "id": "tJw0UXp7PvpW"
      },
      "source": [
        "# Interpretaçao dos resultados"
      ]
    },
    {
      "cell_type": "code",
      "metadata": {
        "id": "P2r7MdyRZg_B"
      },
      "source": [
        "model = KMeans(4, random_state=42).fit(transformed_subset[prods])"
      ],
      "execution_count": 35,
      "outputs": []
    },
    {
      "cell_type": "markdown",
      "metadata": {
        "id": "yA_tdwMQ8cUd"
      },
      "source": [
        "## Interpretaçao das variaveis"
      ]
    },
    {
      "cell_type": "code",
      "metadata": {
        "id": "HGkYZf0N8k1s"
      },
      "source": [
        "transformed_subset = transformed_subset.assign(cluster = model.labels_)"
      ],
      "execution_count": 36,
      "outputs": []
    },
    {
      "cell_type": "code",
      "metadata": {
        "colab": {
          "base_uri": "https://localhost:8080/",
          "height": 203
        },
        "id": "QEdhPY-W8-Vu",
        "outputId": "a192e8b8-4096-46cd-a48c-0d411d1d56b8"
      },
      "source": [
        "transformed_subset[[\"cluster\", \"renta\"]].groupby(\"cluster\").mean().sort_values(\"renta\", ascending=False)"
      ],
      "execution_count": 37,
      "outputs": [
        {
          "output_type": "execute_result",
          "data": {
            "text/html": [
              "<div>\n",
              "<style scoped>\n",
              "    .dataframe tbody tr th:only-of-type {\n",
              "        vertical-align: middle;\n",
              "    }\n",
              "\n",
              "    .dataframe tbody tr th {\n",
              "        vertical-align: top;\n",
              "    }\n",
              "\n",
              "    .dataframe thead th {\n",
              "        text-align: right;\n",
              "    }\n",
              "</style>\n",
              "<table border=\"1\" class=\"dataframe\">\n",
              "  <thead>\n",
              "    <tr style=\"text-align: right;\">\n",
              "      <th></th>\n",
              "      <th>renta</th>\n",
              "    </tr>\n",
              "    <tr>\n",
              "      <th>cluster</th>\n",
              "      <th></th>\n",
              "    </tr>\n",
              "  </thead>\n",
              "  <tbody>\n",
              "    <tr>\n",
              "      <th>3</th>\n",
              "      <td>142462.379870</td>\n",
              "    </tr>\n",
              "    <tr>\n",
              "      <th>2</th>\n",
              "      <td>132474.691221</td>\n",
              "    </tr>\n",
              "    <tr>\n",
              "      <th>1</th>\n",
              "      <td>126756.549440</td>\n",
              "    </tr>\n",
              "    <tr>\n",
              "      <th>0</th>\n",
              "      <td>114404.596270</td>\n",
              "    </tr>\n",
              "  </tbody>\n",
              "</table>\n",
              "</div>"
            ],
            "text/plain": [
              "                 renta\n",
              "cluster               \n",
              "3        142462.379870\n",
              "2        132474.691221\n",
              "1        126756.549440\n",
              "0        114404.596270"
            ]
          },
          "metadata": {},
          "execution_count": 37
        }
      ]
    },
    {
      "cell_type": "code",
      "metadata": {
        "colab": {
          "base_uri": "https://localhost:8080/"
        },
        "id": "Kf1aa2zH-Inm",
        "outputId": "95898ed4-b244-4936-d849-0e33edd06488"
      },
      "source": [
        "transformed_subset[[\"cluster\", \"segmento\"]].groupby(\"cluster\")[\"segmento\"].value_counts()"
      ],
      "execution_count": 39,
      "outputs": [
        {
          "output_type": "execute_result",
          "data": {
            "text/plain": [
              "cluster  segmento          \n",
              "0        03 - UNIVERSITARIO    263783\n",
              "         02 - PARTICULARES     208049\n",
              "         01 - TOP               13730\n",
              "1        02 - PARTICULARES     228650\n",
              "         03 - UNIVERSITARIO     71883\n",
              "         01 - TOP                5255\n",
              "2        02 - PARTICULARES      44637\n",
              "         01 - TOP               10689\n",
              "         03 - UNIVERSITARIO      9556\n",
              "3        02 - PARTICULARES      57789\n",
              "         01 - TOP                5529\n",
              "         03 - UNIVERSITARIO       907\n",
              "Name: segmento, dtype: int64"
            ]
          },
          "metadata": {},
          "execution_count": 39
        }
      ]
    },
    {
      "cell_type": "code",
      "metadata": {
        "colab": {
          "base_uri": "https://localhost:8080/"
        },
        "id": "JbOW5N1qWr14",
        "outputId": "6e3e0212-034b-4f03-a636-3e6420f8c0a4"
      },
      "source": [
        "transformed_subset[[\"cluster\", \"binned_age\"]].groupby(\"cluster\")[\"binned_age\"].value_counts()"
      ],
      "execution_count": 40,
      "outputs": [
        {
          "output_type": "execute_result",
          "data": {
            "text/plain": [
              "cluster  binned_age\n",
              "0        20-30         245916\n",
              "         40-70         139166\n",
              "         30-40          68301\n",
              "         70+            18466\n",
              "         0-20           15361\n",
              "1        40-70         141745\n",
              "         20-30          72394\n",
              "         30-40          49375\n",
              "         70+            28934\n",
              "         0-20           18685\n",
              "2        40-70          38569\n",
              "         30-40          15471\n",
              "         20-30           8547\n",
              "         70+             2192\n",
              "         0-20             114\n",
              "3        40-70          47013\n",
              "         70+            10215\n",
              "         30-40           6061\n",
              "         20-30            936\n",
              "Name: binned_age, dtype: int64"
            ]
          },
          "metadata": {},
          "execution_count": 40
        }
      ]
    },
    {
      "cell_type": "markdown",
      "metadata": {
        "id": "EgrZPyR5VgbD"
      },
      "source": [
        "- O grupo **3** esta com a maior renda. Percebemos que ele corresponde a um seguimento mais exclusivo, com uma maior proporsao de clientes VIPs e mais velhos.  \n",
        "- O grupo **0** esta com a renda a mais baixa. Ele corresponde a uma populaçao menos exclusiva, mais universitaria e mais nova.\n",
        "- Os grupos **1** e **2** nao estao tao diferenciados nestes criterios. O grupo **2** parece um pouco mais exclusivo e mais velho que o grupo **1**. Ele tambem tem uma renda um pouco mais alta.\n",
        "- O grupo **1** é o mais populado. Pode corresponder aos comportamentos de compra mais *mainstream*."
      ]
    },
    {
      "cell_type": "code",
      "metadata": {
        "id": "SJ1fhtwXYIl8"
      },
      "source": [
        "transformed_subset.loc[:, \"antiguedad\"] = transformed_subset[\"antiguedad\"].astype(int)"
      ],
      "execution_count": 41,
      "outputs": []
    },
    {
      "cell_type": "code",
      "metadata": {
        "colab": {
          "base_uri": "https://localhost:8080/",
          "height": 203
        },
        "id": "wQ2iOOTJX6vF",
        "outputId": "0655fb9d-0487-415d-afeb-a3a798e9d7ae"
      },
      "source": [
        "transformed_subset[[\"cluster\", \"antiguedad\"]].groupby(\"cluster\").mean().sort_values(\"antiguedad\", ascending=False)"
      ],
      "execution_count": 42,
      "outputs": [
        {
          "output_type": "execute_result",
          "data": {
            "text/html": [
              "<div>\n",
              "<style scoped>\n",
              "    .dataframe tbody tr th:only-of-type {\n",
              "        vertical-align: middle;\n",
              "    }\n",
              "\n",
              "    .dataframe tbody tr th {\n",
              "        vertical-align: top;\n",
              "    }\n",
              "\n",
              "    .dataframe thead th {\n",
              "        text-align: right;\n",
              "    }\n",
              "</style>\n",
              "<table border=\"1\" class=\"dataframe\">\n",
              "  <thead>\n",
              "    <tr style=\"text-align: right;\">\n",
              "      <th></th>\n",
              "      <th>antiguedad</th>\n",
              "    </tr>\n",
              "    <tr>\n",
              "      <th>cluster</th>\n",
              "      <th></th>\n",
              "    </tr>\n",
              "  </thead>\n",
              "  <tbody>\n",
              "    <tr>\n",
              "      <th>3</th>\n",
              "      <td>167.055430</td>\n",
              "    </tr>\n",
              "    <tr>\n",
              "      <th>1</th>\n",
              "      <td>84.990078</td>\n",
              "    </tr>\n",
              "    <tr>\n",
              "      <th>2</th>\n",
              "      <td>80.051962</td>\n",
              "    </tr>\n",
              "    <tr>\n",
              "      <th>0</th>\n",
              "      <td>58.519476</td>\n",
              "    </tr>\n",
              "  </tbody>\n",
              "</table>\n",
              "</div>"
            ],
            "text/plain": [
              "         antiguedad\n",
              "cluster            \n",
              "3        167.055430\n",
              "1         84.990078\n",
              "2         80.051962\n",
              "0         58.519476"
            ]
          },
          "metadata": {},
          "execution_count": 42
        }
      ]
    },
    {
      "cell_type": "markdown",
      "metadata": {
        "id": "P6Ff_yvww5RQ"
      },
      "source": [
        "A relaçao da `antiguedad` com os clusters faz sentido de acordo com as interpretaçoes anteriores.  \n",
        "- Os clientes mais recente (cluster **0**) sao tambem os mais novos, eles tem entre 20 e 30 anos, ou seja, eles tem poucos anos de experiença no mercado de trabalho e uma renda menor por consequencia.\n",
        "- O cluster **3** corresponde ao clientes os mais antigos, que sao tambem os mais velhos, com mais anos de experiencia e uma renda maior.\n",
        "- O cluster **2**, mais exclusivo que o **1** tem poucos meses a mais de `antiguedad` que o cluster **1**."
      ]
    },
    {
      "cell_type": "code",
      "metadata": {
        "colab": {
          "base_uri": "https://localhost:8080/"
        },
        "id": "TjT16tT3YyEb",
        "outputId": "c87626e1-ab21-4ee3-fdde-e0e68ecf1ecc"
      },
      "source": [
        "transformed_subset[[\"cluster\", \"conyuemp\"]].groupby(\"cluster\")[\"conyuemp\"].value_counts()"
      ],
      "execution_count": 44,
      "outputs": [
        {
          "output_type": "execute_result",
          "data": {
            "text/plain": [
              "cluster  conyuemp\n",
              "0        N           487210\n",
              "1        N           311133\n",
              "2        N            64892\n",
              "         S                1\n",
              "3        N            64225\n",
              "Name: conyuemp, dtype: int64"
            ]
          },
          "metadata": {},
          "execution_count": 44
        }
      ]
    },
    {
      "cell_type": "markdown",
      "metadata": {
        "id": "RFOf5-4GsZSS"
      },
      "source": [
        "`conyuemp` nao serve aqui. Poderiamos ter desconsiderado ela mais cedo."
      ]
    },
    {
      "cell_type": "code",
      "metadata": {
        "colab": {
          "base_uri": "https://localhost:8080/"
        },
        "id": "-YXN7yPjsuJ1",
        "outputId": "26f81eb2-cc71-41ea-d426-13e1ba16750b"
      },
      "source": [
        "transformed_subset[[\"cluster\", \"ind_empleado\"]].groupby(\"cluster\")[\"ind_empleado\"].value_counts()"
      ],
      "execution_count": 45,
      "outputs": [
        {
          "output_type": "execute_result",
          "data": {
            "text/plain": [
              "cluster  ind_empleado\n",
              "0        N               487040\n",
              "         B                   68\n",
              "         F                   55\n",
              "         A                   47\n",
              "1        N               311048\n",
              "         B                   52\n",
              "         F                   17\n",
              "         A                   16\n",
              "2        N                64735\n",
              "         A                   78\n",
              "         B                   56\n",
              "         F                   23\n",
              "         S                    1\n",
              "3        N                64120\n",
              "         F                   57\n",
              "         B                   42\n",
              "         A                    6\n",
              "Name: ind_empleado, dtype: int64"
            ]
          },
          "metadata": {},
          "execution_count": 45
        }
      ]
    },
    {
      "cell_type": "markdown",
      "metadata": {
        "id": "sM2Alr7utTEM"
      },
      "source": [
        "Obvio que os **not employee** sao os mais presentes em cada grupo.\n",
        "- No grupo **0** tem mais ex-funcionarios, quem nem no grupo **1**. Esse label é menos raro que os tres outros **active**, **filial**, e **pasive**.\n",
        "- No grupo **3**, tem mais **filial**. Talvez representa os clientes que trabalham numa filial do banco.\n",
        "- No grupo **2**, mais exclusivo que o grupo **1**, tem mais **active**. Isso talvez representa os funcionarios ativos.  \n",
        "Essa variavel `ind_empleado` permite um boa interpretaçao dos comportamentos de compras dos produtos do banco. Pois é intuitivo que cada um desses tipos de empregados tem conhecimentos sobre os produtos e beneficios especificos.  \n",
        "So nao podemos chegar a nenhuma conclusao aqui por causa da presencia bem mais alta de clientes que nunca foram empregados no banco. Um proximo passo poderia ser de pedir pra area de coleta de dados ir atras de mais informaçoes desses outros tipos de **Employee index** com alguma relaçao especifica de trabalho com o banco."
      ]
    },
    {
      "cell_type": "markdown",
      "metadata": {
        "id": "YUKxVY5c3nln"
      },
      "source": [
        "Agora, vamos ver quais sao os produtos os mais comprados por cada um dos seguimentos do nosso agrupamento."
      ]
    },
    {
      "cell_type": "code",
      "metadata": {
        "colab": {
          "base_uri": "https://localhost:8080/",
          "height": 223
        },
        "id": "5KJoNs_C3w8K",
        "outputId": "d50998ae-c72d-41c8-e065-44847427cd42"
      },
      "source": [
        "agg_df = transformed_subset[[\"cluster\"] + prods].groupby(\"cluster\").sum()\n",
        "agg_df"
      ],
      "execution_count": 64,
      "outputs": [
        {
          "output_type": "execute_result",
          "data": {
            "text/html": [
              "<div>\n",
              "<style scoped>\n",
              "    .dataframe tbody tr th:only-of-type {\n",
              "        vertical-align: middle;\n",
              "    }\n",
              "\n",
              "    .dataframe tbody tr th {\n",
              "        vertical-align: top;\n",
              "    }\n",
              "\n",
              "    .dataframe thead th {\n",
              "        text-align: right;\n",
              "    }\n",
              "</style>\n",
              "<table border=\"1\" class=\"dataframe\">\n",
              "  <thead>\n",
              "    <tr style=\"text-align: right;\">\n",
              "      <th></th>\n",
              "      <th>ind_ahor_fin_ult1</th>\n",
              "      <th>ind_aval_fin_ult1</th>\n",
              "      <th>ind_cco_fin_ult1</th>\n",
              "      <th>ind_cder_fin_ult1</th>\n",
              "      <th>ind_cno_fin_ult1</th>\n",
              "      <th>ind_ctju_fin_ult1</th>\n",
              "      <th>ind_ctma_fin_ult1</th>\n",
              "      <th>ind_ctop_fin_ult1</th>\n",
              "      <th>ind_ctpp_fin_ult1</th>\n",
              "      <th>ind_deco_fin_ult1</th>\n",
              "      <th>ind_deme_fin_ult1</th>\n",
              "      <th>ind_dela_fin_ult1</th>\n",
              "      <th>ind_ecue_fin_ult1</th>\n",
              "      <th>ind_fond_fin_ult1</th>\n",
              "      <th>ind_hip_fin_ult1</th>\n",
              "      <th>ind_plan_fin_ult1</th>\n",
              "      <th>ind_pres_fin_ult1</th>\n",
              "      <th>ind_reca_fin_ult1</th>\n",
              "      <th>ind_tjcr_fin_ult1</th>\n",
              "      <th>ind_valo_fin_ult1</th>\n",
              "      <th>ind_viv_fin_ult1</th>\n",
              "      <th>ind_nomina_ult1</th>\n",
              "      <th>ind_nom_pens_ult1</th>\n",
              "      <th>ind_recibo_ult1</th>\n",
              "    </tr>\n",
              "    <tr>\n",
              "      <th>cluster</th>\n",
              "      <th></th>\n",
              "      <th></th>\n",
              "      <th></th>\n",
              "      <th></th>\n",
              "      <th></th>\n",
              "      <th></th>\n",
              "      <th></th>\n",
              "      <th></th>\n",
              "      <th></th>\n",
              "      <th></th>\n",
              "      <th></th>\n",
              "      <th></th>\n",
              "      <th></th>\n",
              "      <th></th>\n",
              "      <th></th>\n",
              "      <th></th>\n",
              "      <th></th>\n",
              "      <th></th>\n",
              "      <th></th>\n",
              "      <th></th>\n",
              "      <th></th>\n",
              "      <th></th>\n",
              "      <th></th>\n",
              "      <th></th>\n",
              "    </tr>\n",
              "  </thead>\n",
              "  <tbody>\n",
              "    <tr>\n",
              "      <th>0</th>\n",
              "      <td>17</td>\n",
              "      <td>3</td>\n",
              "      <td>487210</td>\n",
              "      <td>131</td>\n",
              "      <td>655</td>\n",
              "      <td>2</td>\n",
              "      <td>4220</td>\n",
              "      <td>0</td>\n",
              "      <td>13144</td>\n",
              "      <td>107</td>\n",
              "      <td>375</td>\n",
              "      <td>14588</td>\n",
              "      <td>31642</td>\n",
              "      <td>5699</td>\n",
              "      <td>821</td>\n",
              "      <td>1734</td>\n",
              "      <td>672</td>\n",
              "      <td>13497</td>\n",
              "      <td>8519</td>\n",
              "      <td>8168</td>\n",
              "      <td>785</td>\n",
              "      <td>442.0</td>\n",
              "      <td>535.0</td>\n",
              "      <td>48616</td>\n",
              "    </tr>\n",
              "    <tr>\n",
              "      <th>1</th>\n",
              "      <td>29</td>\n",
              "      <td>0</td>\n",
              "      <td>0</td>\n",
              "      <td>49</td>\n",
              "      <td>9654</td>\n",
              "      <td>7577</td>\n",
              "      <td>2888</td>\n",
              "      <td>26428</td>\n",
              "      <td>6580</td>\n",
              "      <td>9</td>\n",
              "      <td>37</td>\n",
              "      <td>4885</td>\n",
              "      <td>13507</td>\n",
              "      <td>1493</td>\n",
              "      <td>436</td>\n",
              "      <td>1422</td>\n",
              "      <td>1030</td>\n",
              "      <td>6883</td>\n",
              "      <td>2218</td>\n",
              "      <td>1535</td>\n",
              "      <td>644</td>\n",
              "      <td>129.0</td>\n",
              "      <td>259.0</td>\n",
              "      <td>2059</td>\n",
              "    </tr>\n",
              "    <tr>\n",
              "      <th>2</th>\n",
              "      <td>7</td>\n",
              "      <td>11</td>\n",
              "      <td>7755</td>\n",
              "      <td>56</td>\n",
              "      <td>62299</td>\n",
              "      <td>1</td>\n",
              "      <td>955</td>\n",
              "      <td>9078</td>\n",
              "      <td>10324</td>\n",
              "      <td>60</td>\n",
              "      <td>174</td>\n",
              "      <td>5749</td>\n",
              "      <td>25586</td>\n",
              "      <td>3626</td>\n",
              "      <td>2954</td>\n",
              "      <td>2816</td>\n",
              "      <td>204</td>\n",
              "      <td>20260</td>\n",
              "      <td>20368</td>\n",
              "      <td>6425</td>\n",
              "      <td>603</td>\n",
              "      <td>47448.0</td>\n",
              "      <td>51678.0</td>\n",
              "      <td>53442</td>\n",
              "    </tr>\n",
              "    <tr>\n",
              "      <th>3</th>\n",
              "      <td>25</td>\n",
              "      <td>1</td>\n",
              "      <td>63768</td>\n",
              "      <td>79</td>\n",
              "      <td>384</td>\n",
              "      <td>0</td>\n",
              "      <td>15</td>\n",
              "      <td>64225</td>\n",
              "      <td>3103</td>\n",
              "      <td>138</td>\n",
              "      <td>421</td>\n",
              "      <td>5868</td>\n",
              "      <td>4826</td>\n",
              "      <td>3742</td>\n",
              "      <td>307</td>\n",
              "      <td>1343</td>\n",
              "      <td>81</td>\n",
              "      <td>4775</td>\n",
              "      <td>3585</td>\n",
              "      <td>5036</td>\n",
              "      <td>923</td>\n",
              "      <td>266.0</td>\n",
              "      <td>338.0</td>\n",
              "      <td>8651</td>\n",
              "    </tr>\n",
              "  </tbody>\n",
              "</table>\n",
              "</div>"
            ],
            "text/plain": [
              "         ind_ahor_fin_ult1  ...  ind_recibo_ult1\n",
              "cluster                     ...                 \n",
              "0                       17  ...            48616\n",
              "1                       29  ...             2059\n",
              "2                        7  ...            53442\n",
              "3                       25  ...             8651\n",
              "\n",
              "[4 rows x 24 columns]"
            ]
          },
          "metadata": {},
          "execution_count": 64
        }
      ]
    },
    {
      "cell_type": "code",
      "metadata": {
        "colab": {
          "base_uri": "https://localhost:8080/"
        },
        "id": "_wJO3R-W4Ism",
        "outputId": "2848e845-9151-49f5-d402-f10ecd17acb3"
      },
      "source": [
        "agg_df.max(axis=1)"
      ],
      "execution_count": 66,
      "outputs": [
        {
          "output_type": "execute_result",
          "data": {
            "text/plain": [
              "cluster\n",
              "0    487210.0\n",
              "1     26428.0\n",
              "2     62299.0\n",
              "3     64225.0\n",
              "dtype: float64"
            ]
          },
          "metadata": {},
          "execution_count": 66
        }
      ]
    },
    {
      "cell_type": "markdown",
      "metadata": {
        "id": "AtoVf3Lh4mXu"
      },
      "source": [
        "- cluster **0**: `ind_cco_fin_ult1` - **Current Accounts**\n",
        "- cluster **1**: `ind_ctop_fin_ult1` - **particular Account**\n",
        "- cluster **2**: `ind_cno_fin_ult1` - **Payroll Account**\n",
        "- cluster **3**: `ind_ctop_fin_ult1` - **particular Account**"
      ]
    },
    {
      "cell_type": "markdown",
      "metadata": {
        "id": "UCrFl1B76HNF"
      },
      "source": [
        "- seguimento **0** é representado por pessoas mais novas e clientes recentes. O primeiro produto bancario para ser contratado costuma ser uma conta corrente.\n",
        "- **particular account** pode ser uma poupança mas tambem pode representar outros tipos de contas. Neste caso, o dominio desta variavel nao é muito explicito e nao permite interpretar alem.\n",
        "- O seguimento **2** é mais exclusivo, mais velho que o seguimento **1** e parecia ser composto de mais funcionarios ativos. **Payroll Account** costuma ser contratado para remunerar os funcionarios de um negocio. Talvez o nosso agrupamento colocou juntos os clientes donos de empresa. Isso ajudaria a diferenciar melhor esse seguimento **2** dos outros."
      ]
    },
    {
      "cell_type": "markdown",
      "metadata": {
        "id": "7rn7wZR4QOYH"
      },
      "source": [
        "## Aprendizado supervisionado"
      ]
    },
    {
      "cell_type": "code",
      "metadata": {
        "colab": {
          "base_uri": "https://localhost:8080/"
        },
        "id": "FPs1ku9UgM_P",
        "outputId": "f1340195-6fc1-4249-a326-7771d0adfef5"
      },
      "source": [
        "!pip install dtreeviz"
      ],
      "execution_count": 43,
      "outputs": [
        {
          "output_type": "stream",
          "name": "stdout",
          "text": [
            "Collecting dtreeviz\n",
            "  Downloading dtreeviz-1.3.1.tar.gz (61 kB)\n",
            "\u001b[?25l\r\u001b[K     |█████▎                          | 10 kB 18.4 MB/s eta 0:00:01\r\u001b[K     |██████████▋                     | 20 kB 22.8 MB/s eta 0:00:01\r\u001b[K     |███████████████▉                | 30 kB 26.0 MB/s eta 0:00:01\r\u001b[K     |█████████████████████▏          | 40 kB 23.6 MB/s eta 0:00:01\r\u001b[K     |██████████████████████████▍     | 51 kB 25.2 MB/s eta 0:00:01\r\u001b[K     |███████████████████████████████▊| 61 kB 26.6 MB/s eta 0:00:01\r\u001b[K     |████████████████████████████████| 61 kB 506 kB/s \n",
            "\u001b[?25hRequirement already satisfied: graphviz>=0.9 in /usr/local/lib/python3.7/dist-packages (from dtreeviz) (0.10.1)\n",
            "Requirement already satisfied: pandas in /usr/local/lib/python3.7/dist-packages (from dtreeviz) (1.1.5)\n",
            "Requirement already satisfied: numpy in /usr/local/lib/python3.7/dist-packages (from dtreeviz) (1.19.5)\n",
            "Requirement already satisfied: scikit-learn in /usr/local/lib/python3.7/dist-packages (from dtreeviz) (0.22.2.post1)\n",
            "Requirement already satisfied: matplotlib in /usr/local/lib/python3.7/dist-packages (from dtreeviz) (3.2.2)\n",
            "Collecting colour\n",
            "  Downloading colour-0.1.5-py2.py3-none-any.whl (23 kB)\n",
            "Requirement already satisfied: pytest in /usr/local/lib/python3.7/dist-packages (from dtreeviz) (3.6.4)\n",
            "Requirement already satisfied: python-dateutil>=2.1 in /usr/local/lib/python3.7/dist-packages (from matplotlib->dtreeviz) (2.8.2)\n",
            "Requirement already satisfied: kiwisolver>=1.0.1 in /usr/local/lib/python3.7/dist-packages (from matplotlib->dtreeviz) (1.3.2)\n",
            "Requirement already satisfied: pyparsing!=2.0.4,!=2.1.2,!=2.1.6,>=2.0.1 in /usr/local/lib/python3.7/dist-packages (from matplotlib->dtreeviz) (2.4.7)\n",
            "Requirement already satisfied: cycler>=0.10 in /usr/local/lib/python3.7/dist-packages (from matplotlib->dtreeviz) (0.10.0)\n",
            "Requirement already satisfied: six in /usr/local/lib/python3.7/dist-packages (from cycler>=0.10->matplotlib->dtreeviz) (1.15.0)\n",
            "Requirement already satisfied: pytz>=2017.2 in /usr/local/lib/python3.7/dist-packages (from pandas->dtreeviz) (2018.9)\n",
            "Requirement already satisfied: pluggy<0.8,>=0.5 in /usr/local/lib/python3.7/dist-packages (from pytest->dtreeviz) (0.7.1)\n",
            "Requirement already satisfied: py>=1.5.0 in /usr/local/lib/python3.7/dist-packages (from pytest->dtreeviz) (1.10.0)\n",
            "Requirement already satisfied: atomicwrites>=1.0 in /usr/local/lib/python3.7/dist-packages (from pytest->dtreeviz) (1.4.0)\n",
            "Requirement already satisfied: setuptools in /usr/local/lib/python3.7/dist-packages (from pytest->dtreeviz) (57.4.0)\n",
            "Requirement already satisfied: more-itertools>=4.0.0 in /usr/local/lib/python3.7/dist-packages (from pytest->dtreeviz) (8.10.0)\n",
            "Requirement already satisfied: attrs>=17.4.0 in /usr/local/lib/python3.7/dist-packages (from pytest->dtreeviz) (21.2.0)\n",
            "Requirement already satisfied: joblib>=0.11 in /usr/local/lib/python3.7/dist-packages (from scikit-learn->dtreeviz) (1.0.1)\n",
            "Requirement already satisfied: scipy>=0.17.0 in /usr/local/lib/python3.7/dist-packages (from scikit-learn->dtreeviz) (1.4.1)\n",
            "Building wheels for collected packages: dtreeviz\n",
            "  Building wheel for dtreeviz (setup.py) ... \u001b[?25l\u001b[?25hdone\n",
            "  Created wheel for dtreeviz: filename=dtreeviz-1.3.1-py3-none-any.whl size=67694 sha256=9546197f5cd613b29f3f6fa5bc78bef8fb1dec854409191feb9cca15abb6120c\n",
            "  Stored in directory: /root/.cache/pip/wheels/f4/e0/4c/26144f03fd05b7c3d82e5cf2679c2d6bd9d9b730548264674d\n",
            "Successfully built dtreeviz\n",
            "Installing collected packages: colour, dtreeviz\n",
            "Successfully installed colour-0.1.5 dtreeviz-1.3.1\n"
          ]
        }
      ]
    },
    {
      "cell_type": "code",
      "metadata": {
        "id": "R7TE6_8OPalJ"
      },
      "source": [
        "from dtreeviz.trees import dtreeviz\n",
        "from dtreeviz.classifiers import clfviz"
      ],
      "execution_count": 46,
      "outputs": []
    },
    {
      "cell_type": "code",
      "metadata": {
        "id": "nQCHlyLxP-3U"
      },
      "source": [
        "y = transformed_subset[\"cluster\"]\n",
        "X = transformed_subset.drop([\"cluster\", \"conyuemp\"], axis=1)"
      ],
      "execution_count": 50,
      "outputs": []
    },
    {
      "cell_type": "markdown",
      "metadata": {
        "id": "NZqWajeAz3i9"
      },
      "source": [
        "### Encoding das variaveis de categoria"
      ]
    },
    {
      "cell_type": "code",
      "metadata": {
        "colab": {
          "base_uri": "https://localhost:8080/",
          "height": 257
        },
        "id": "Ji3teomOz8tj",
        "outputId": "33c6fb83-9355-4f69-9a65-14c995cf156b"
      },
      "source": [
        "to_encode = [\"ind_empleado\", \"segmento\", \"binned_age\"]\n",
        "# drop_first=False for interpretation\n",
        "X_encoded = pd.get_dummies(data=X, columns=to_encode, drop_first=False)\n",
        "X_encoded.head()"
      ],
      "execution_count": 52,
      "outputs": [
        {
          "output_type": "execute_result",
          "data": {
            "text/html": [
              "<div>\n",
              "<style scoped>\n",
              "    .dataframe tbody tr th:only-of-type {\n",
              "        vertical-align: middle;\n",
              "    }\n",
              "\n",
              "    .dataframe tbody tr th {\n",
              "        vertical-align: top;\n",
              "    }\n",
              "\n",
              "    .dataframe thead th {\n",
              "        text-align: right;\n",
              "    }\n",
              "</style>\n",
              "<table border=\"1\" class=\"dataframe\">\n",
              "  <thead>\n",
              "    <tr style=\"text-align: right;\">\n",
              "      <th></th>\n",
              "      <th>renta</th>\n",
              "      <th>ind_nuevo</th>\n",
              "      <th>antiguedad</th>\n",
              "      <th>ind_ahor_fin_ult1</th>\n",
              "      <th>ind_aval_fin_ult1</th>\n",
              "      <th>ind_cco_fin_ult1</th>\n",
              "      <th>ind_cder_fin_ult1</th>\n",
              "      <th>ind_cno_fin_ult1</th>\n",
              "      <th>ind_ctju_fin_ult1</th>\n",
              "      <th>ind_ctma_fin_ult1</th>\n",
              "      <th>ind_ctop_fin_ult1</th>\n",
              "      <th>ind_ctpp_fin_ult1</th>\n",
              "      <th>ind_deco_fin_ult1</th>\n",
              "      <th>ind_deme_fin_ult1</th>\n",
              "      <th>ind_dela_fin_ult1</th>\n",
              "      <th>ind_ecue_fin_ult1</th>\n",
              "      <th>ind_fond_fin_ult1</th>\n",
              "      <th>ind_hip_fin_ult1</th>\n",
              "      <th>ind_plan_fin_ult1</th>\n",
              "      <th>ind_pres_fin_ult1</th>\n",
              "      <th>ind_reca_fin_ult1</th>\n",
              "      <th>ind_tjcr_fin_ult1</th>\n",
              "      <th>ind_valo_fin_ult1</th>\n",
              "      <th>ind_viv_fin_ult1</th>\n",
              "      <th>ind_nomina_ult1</th>\n",
              "      <th>ind_nom_pens_ult1</th>\n",
              "      <th>ind_recibo_ult1</th>\n",
              "      <th>ind_empleado_A</th>\n",
              "      <th>ind_empleado_B</th>\n",
              "      <th>ind_empleado_F</th>\n",
              "      <th>ind_empleado_N</th>\n",
              "      <th>ind_empleado_S</th>\n",
              "      <th>segmento_01 - TOP</th>\n",
              "      <th>segmento_02 - PARTICULARES</th>\n",
              "      <th>segmento_03 - UNIVERSITARIO</th>\n",
              "      <th>binned_age_0-20</th>\n",
              "      <th>binned_age_20-30</th>\n",
              "      <th>binned_age_30-40</th>\n",
              "      <th>binned_age_40-70</th>\n",
              "      <th>binned_age_70+</th>\n",
              "    </tr>\n",
              "  </thead>\n",
              "  <tbody>\n",
              "    <tr>\n",
              "      <th>12715856</th>\n",
              "      <td>147347.97</td>\n",
              "      <td>0.0</td>\n",
              "      <td>114</td>\n",
              "      <td>0</td>\n",
              "      <td>0</td>\n",
              "      <td>0</td>\n",
              "      <td>0</td>\n",
              "      <td>0</td>\n",
              "      <td>0</td>\n",
              "      <td>0</td>\n",
              "      <td>0</td>\n",
              "      <td>0</td>\n",
              "      <td>0</td>\n",
              "      <td>0</td>\n",
              "      <td>0</td>\n",
              "      <td>0</td>\n",
              "      <td>0</td>\n",
              "      <td>0</td>\n",
              "      <td>0</td>\n",
              "      <td>0</td>\n",
              "      <td>0</td>\n",
              "      <td>0</td>\n",
              "      <td>0</td>\n",
              "      <td>0</td>\n",
              "      <td>0.0</td>\n",
              "      <td>0.0</td>\n",
              "      <td>0</td>\n",
              "      <td>0</td>\n",
              "      <td>0</td>\n",
              "      <td>0</td>\n",
              "      <td>1</td>\n",
              "      <td>0</td>\n",
              "      <td>0</td>\n",
              "      <td>1</td>\n",
              "      <td>0</td>\n",
              "      <td>0</td>\n",
              "      <td>0</td>\n",
              "      <td>0</td>\n",
              "      <td>1</td>\n",
              "      <td>0</td>\n",
              "    </tr>\n",
              "    <tr>\n",
              "      <th>12715857</th>\n",
              "      <td>132559.35</td>\n",
              "      <td>0.0</td>\n",
              "      <td>114</td>\n",
              "      <td>0</td>\n",
              "      <td>0</td>\n",
              "      <td>1</td>\n",
              "      <td>0</td>\n",
              "      <td>0</td>\n",
              "      <td>0</td>\n",
              "      <td>0</td>\n",
              "      <td>0</td>\n",
              "      <td>0</td>\n",
              "      <td>0</td>\n",
              "      <td>0</td>\n",
              "      <td>0</td>\n",
              "      <td>0</td>\n",
              "      <td>0</td>\n",
              "      <td>0</td>\n",
              "      <td>0</td>\n",
              "      <td>0</td>\n",
              "      <td>0</td>\n",
              "      <td>0</td>\n",
              "      <td>0</td>\n",
              "      <td>0</td>\n",
              "      <td>0.0</td>\n",
              "      <td>0.0</td>\n",
              "      <td>0</td>\n",
              "      <td>0</td>\n",
              "      <td>0</td>\n",
              "      <td>0</td>\n",
              "      <td>1</td>\n",
              "      <td>0</td>\n",
              "      <td>0</td>\n",
              "      <td>1</td>\n",
              "      <td>0</td>\n",
              "      <td>0</td>\n",
              "      <td>0</td>\n",
              "      <td>0</td>\n",
              "      <td>1</td>\n",
              "      <td>0</td>\n",
              "    </tr>\n",
              "    <tr>\n",
              "      <th>12715858</th>\n",
              "      <td>81399.57</td>\n",
              "      <td>0.0</td>\n",
              "      <td>114</td>\n",
              "      <td>0</td>\n",
              "      <td>0</td>\n",
              "      <td>1</td>\n",
              "      <td>0</td>\n",
              "      <td>0</td>\n",
              "      <td>0</td>\n",
              "      <td>0</td>\n",
              "      <td>0</td>\n",
              "      <td>0</td>\n",
              "      <td>0</td>\n",
              "      <td>0</td>\n",
              "      <td>0</td>\n",
              "      <td>0</td>\n",
              "      <td>0</td>\n",
              "      <td>0</td>\n",
              "      <td>0</td>\n",
              "      <td>0</td>\n",
              "      <td>0</td>\n",
              "      <td>0</td>\n",
              "      <td>0</td>\n",
              "      <td>0</td>\n",
              "      <td>0.0</td>\n",
              "      <td>0.0</td>\n",
              "      <td>0</td>\n",
              "      <td>0</td>\n",
              "      <td>0</td>\n",
              "      <td>0</td>\n",
              "      <td>1</td>\n",
              "      <td>0</td>\n",
              "      <td>0</td>\n",
              "      <td>1</td>\n",
              "      <td>0</td>\n",
              "      <td>0</td>\n",
              "      <td>0</td>\n",
              "      <td>0</td>\n",
              "      <td>1</td>\n",
              "      <td>0</td>\n",
              "    </tr>\n",
              "    <tr>\n",
              "      <th>12715859</th>\n",
              "      <td>NaN</td>\n",
              "      <td>0.0</td>\n",
              "      <td>114</td>\n",
              "      <td>0</td>\n",
              "      <td>0</td>\n",
              "      <td>0</td>\n",
              "      <td>0</td>\n",
              "      <td>1</td>\n",
              "      <td>0</td>\n",
              "      <td>0</td>\n",
              "      <td>0</td>\n",
              "      <td>0</td>\n",
              "      <td>0</td>\n",
              "      <td>0</td>\n",
              "      <td>0</td>\n",
              "      <td>1</td>\n",
              "      <td>0</td>\n",
              "      <td>0</td>\n",
              "      <td>0</td>\n",
              "      <td>0</td>\n",
              "      <td>0</td>\n",
              "      <td>1</td>\n",
              "      <td>0</td>\n",
              "      <td>0</td>\n",
              "      <td>1.0</td>\n",
              "      <td>1.0</td>\n",
              "      <td>1</td>\n",
              "      <td>0</td>\n",
              "      <td>0</td>\n",
              "      <td>0</td>\n",
              "      <td>1</td>\n",
              "      <td>0</td>\n",
              "      <td>0</td>\n",
              "      <td>1</td>\n",
              "      <td>0</td>\n",
              "      <td>0</td>\n",
              "      <td>0</td>\n",
              "      <td>0</td>\n",
              "      <td>1</td>\n",
              "      <td>0</td>\n",
              "    </tr>\n",
              "    <tr>\n",
              "      <th>12715860</th>\n",
              "      <td>102189.00</td>\n",
              "      <td>0.0</td>\n",
              "      <td>114</td>\n",
              "      <td>0</td>\n",
              "      <td>0</td>\n",
              "      <td>1</td>\n",
              "      <td>0</td>\n",
              "      <td>0</td>\n",
              "      <td>0</td>\n",
              "      <td>0</td>\n",
              "      <td>0</td>\n",
              "      <td>0</td>\n",
              "      <td>0</td>\n",
              "      <td>0</td>\n",
              "      <td>1</td>\n",
              "      <td>0</td>\n",
              "      <td>0</td>\n",
              "      <td>0</td>\n",
              "      <td>0</td>\n",
              "      <td>0</td>\n",
              "      <td>0</td>\n",
              "      <td>0</td>\n",
              "      <td>0</td>\n",
              "      <td>0</td>\n",
              "      <td>0.0</td>\n",
              "      <td>0.0</td>\n",
              "      <td>0</td>\n",
              "      <td>0</td>\n",
              "      <td>0</td>\n",
              "      <td>0</td>\n",
              "      <td>1</td>\n",
              "      <td>0</td>\n",
              "      <td>1</td>\n",
              "      <td>0</td>\n",
              "      <td>0</td>\n",
              "      <td>0</td>\n",
              "      <td>0</td>\n",
              "      <td>0</td>\n",
              "      <td>1</td>\n",
              "      <td>0</td>\n",
              "    </tr>\n",
              "  </tbody>\n",
              "</table>\n",
              "</div>"
            ],
            "text/plain": [
              "              renta  ind_nuevo  ...  binned_age_40-70  binned_age_70+\n",
              "12715856  147347.97        0.0  ...                 1               0\n",
              "12715857  132559.35        0.0  ...                 1               0\n",
              "12715858   81399.57        0.0  ...                 1               0\n",
              "12715859        NaN        0.0  ...                 1               0\n",
              "12715860  102189.00        0.0  ...                 1               0\n",
              "\n",
              "[5 rows x 40 columns]"
            ]
          },
          "metadata": {},
          "execution_count": 52
        }
      ]
    },
    {
      "cell_type": "markdown",
      "metadata": {
        "id": "7sXyBbBA1FA7"
      },
      "source": [
        "### Impute dos valores null"
      ]
    },
    {
      "cell_type": "code",
      "metadata": {
        "colab": {
          "base_uri": "https://localhost:8080/"
        },
        "id": "FVirwX8z1H2H",
        "outputId": "7295f82d-027e-40be-c190-71433239ac43"
      },
      "source": [
        "# listwise deletion\n",
        "X_encoded.dropna(how=\"any\", inplace=True)\n",
        "X_encoded.shape"
      ],
      "execution_count": 55,
      "outputs": [
        {
          "output_type": "execute_result",
          "data": {
            "text/plain": [
              "(702391, 40)"
            ]
          },
          "metadata": {},
          "execution_count": 55
        }
      ]
    },
    {
      "cell_type": "code",
      "metadata": {
        "id": "w8k4RcFK2GCA"
      },
      "source": [
        "y = y.reindex_like(X_encoded)"
      ],
      "execution_count": 59,
      "outputs": []
    },
    {
      "cell_type": "markdown",
      "metadata": {
        "id": "tfNjXdRS1qm9"
      },
      "source": [
        "### Modelagem e interpretaçao"
      ]
    },
    {
      "cell_type": "code",
      "metadata": {
        "colab": {
          "base_uri": "https://localhost:8080/"
        },
        "id": "rTchIQskTsSI",
        "outputId": "3cc46774-e528-4bdf-9951-1ee06b9545e0"
      },
      "source": [
        "from sklearn.tree import DecisionTreeClassifier\n",
        "\n",
        "clf = DecisionTreeClassifier(random_state=22, max_leaf_nodes=10)\n",
        "clf.fit(X_encoded, y)"
      ],
      "execution_count": 60,
      "outputs": [
        {
          "output_type": "execute_result",
          "data": {
            "text/plain": [
              "DecisionTreeClassifier(ccp_alpha=0.0, class_weight=None, criterion='gini',\n",
              "                       max_depth=None, max_features=None, max_leaf_nodes=10,\n",
              "                       min_impurity_decrease=0.0, min_impurity_split=None,\n",
              "                       min_samples_leaf=1, min_samples_split=2,\n",
              "                       min_weight_fraction_leaf=0.0, presort='deprecated',\n",
              "                       random_state=22, splitter='best')"
            ]
          },
          "metadata": {},
          "execution_count": 60
        }
      ]
    },
    {
      "cell_type": "code",
      "metadata": {
        "id": "EbCChCNxT0Sy"
      },
      "source": [
        "viz = dtreeviz(\n",
        "    clf,\n",
        "    X_encoded,\n",
        "    y,\n",
        "    feature_names=X_encoded.columns\n",
        ")\n",
        "viz"
      ],
      "execution_count": 67,
      "outputs": []
    },
    {
      "cell_type": "markdown",
      "metadata": {
        "id": "zCC7KJIkCpzK"
      },
      "source": [
        "![image.png](data:image/png;base64,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)"
      ]
    },
    {
      "cell_type": "markdown",
      "metadata": {
        "id": "ZZ63YC6yCK8-"
      },
      "source": [
        ""
      ]
    },
    {
      "cell_type": "markdown",
      "metadata": {
        "id": "o5dspcXC85I3"
      },
      "source": [
        "Esse fluxo permite identificar mais facilmente o padrao de compra de cada um desses seguimentos."
      ]
    },
    {
      "cell_type": "markdown",
      "metadata": {
        "id": "Etco6Tpg_Xe1"
      },
      "source": [
        "Por exemplo, \n",
        "- quem so contratou uma conta corrente sera classificado como **0**.\n",
        "- quem contratou uma conta corrente e um *particular account* sera classificado como **3**.\n",
        "- quem nao contratou nenhum produto sera classificado **1**.\n",
        "- podemos perceber tambem que o grupo **2** tem padroes de compra mais diversos. Ele aparece em mais folhas. Esse grupo parece ter mais conhecimentos sobre os produtos do banco. Ficou coherente com as interpretaçoes anteriores. Pois os funcionarios ativos do banco e os donos de empresa costumam ter mais interaçoes com o banco, e receber mais anuncios, informaçoes de produtos."
      ]
    },
    {
      "cell_type": "code",
      "metadata": {
        "id": "Htjm534A_V-D"
      },
      "source": [
        ""
      ],
      "execution_count": null,
      "outputs": []
    }
  ]
}